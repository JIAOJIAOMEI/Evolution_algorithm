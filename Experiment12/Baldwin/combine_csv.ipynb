{
 "cells": [
  {
   "cell_type": "code",
   "execution_count": 16,
   "metadata": {
    "collapsed": true,
    "pycharm": {
     "name": "#%%\n"
    }
   },
   "outputs": [],
   "source": [
    "import numpy as np\n",
    "import pandas as pd"
   ]
  },
  {
   "cell_type": "code",
   "execution_count": 17,
   "outputs": [
    {
     "name": "stdout",
     "output_type": "stream",
     "text": [
      "[590, 579, 588, 589, 569, 558, 542, 562]\n",
      "Int64Index([590, 579, 588, 589, 569, 558, 542, 562], dtype='int64')\n",
      "             590  579  588  589  569  558  542  562\n",
      "F1  Times1   0.0  0.0  0.0  0.0  0.0  0.0  0.0  0.0\n",
      "    Times2   0.0  0.0  0.0  0.0  0.0  0.0  0.0  0.0\n",
      "    Times3   0.0  0.0  0.0  0.0  0.0  0.0  0.0  0.0\n",
      "    Times4   0.0  0.0  0.0  0.0  0.0  0.0  0.0  0.0\n",
      "    Times5   0.0  0.0  0.0  0.0  0.0  0.0  0.0  0.0\n",
      "...          ...  ...  ...  ...  ...  ...  ...  ...\n",
      "F13 Times16  0.0  0.0  0.0  0.0  0.0  0.0  0.0  0.0\n",
      "    Times17  0.0  0.0  0.0  0.0  0.0  0.0  0.0  0.0\n",
      "    Times18  0.0  0.0  0.0  0.0  0.0  0.0  0.0  0.0\n",
      "    Times19  0.0  0.0  0.0  0.0  0.0  0.0  0.0  0.0\n",
      "    Times20  0.0  0.0  0.0  0.0  0.0  0.0  0.0  0.0\n",
      "\n",
      "[260 rows x 8 columns]\n"
     ]
    }
   ],
   "source": [
    "data_pm = pd.read_csv(\"./best_20com_9pm_inuse.csv\", header=0, index_col=[0])\n",
    "index = data_pm.index.tolist()\n",
    "print(index)\n",
    "def read_csv(path):\n",
    "    return pd.read_csv(path,index_col=[0,1],header=0)\n",
    "path_budget_list=[\"./budget\"+str(i)+\".csv\" for i in index]\n",
    "df = [read_csv(name) for name in path_budget_list]\n",
    "df = pd.concat(df,axis=1)\n",
    "df.columns = index\n",
    "print(df.columns)\n",
    "print(df)\n",
    "# df.to_csv(\"./Baldwin_budget.csv\",header=True,index=True)"
   ],
   "metadata": {
    "collapsed": false,
    "pycharm": {
     "name": "#%%\n"
    }
   }
  },
  {
   "cell_type": "code",
   "execution_count": 18,
   "outputs": [
    {
     "name": "stdout",
     "output_type": "stream",
     "text": [
      "[590, 579, 588, 589, 569, 558, 542, 562]\n",
      "Int64Index([590, 579, 588, 589, 569, 558, 542, 562], dtype='int64')\n",
      "                      590           579           588           589  \\\n",
      "F1  Times1   7.535911e+05  7.768915e+05  8.362414e+05  9.626771e+05   \n",
      "    Times2   7.784950e+05  7.221012e+05  8.201533e+05  8.894039e+05   \n",
      "    Times3   7.883206e+05  6.684447e+05  7.775187e+05  8.027307e+05   \n",
      "    Times4   8.039682e+05  6.569238e+05  7.780584e+05  8.774312e+05   \n",
      "    Times5   7.120208e+05  7.062040e+05  7.593048e+05  7.963063e+05   \n",
      "...                   ...           ...           ...           ...   \n",
      "F13 Times16  1.244193e+10  1.110255e+10  1.274992e+10  1.453849e+10   \n",
      "    Times17  1.506040e+10  1.027877e+10  1.415994e+10  1.328354e+10   \n",
      "    Times18  1.082974e+10  1.180280e+10  1.384326e+10  1.260690e+10   \n",
      "    Times19  1.165073e+10  1.030946e+10  1.297676e+10  1.286547e+10   \n",
      "    Times20  1.239578e+10  1.143080e+10  1.348301e+10  1.359979e+10   \n",
      "\n",
      "                      569           558           542           562  \n",
      "F1  Times1   7.067688e+05  7.840622e+05  7.249866e+05  8.322561e+05  \n",
      "    Times2   6.842650e+05  8.044580e+05  7.283956e+05  8.067475e+05  \n",
      "    Times3   7.437286e+05  8.179165e+05  6.788308e+05  8.036428e+05  \n",
      "    Times4   7.036341e+05  8.455181e+05  6.735324e+05  8.265325e+05  \n",
      "    Times5   7.331840e+05  8.718575e+05  7.821688e+05  8.649632e+05  \n",
      "...                   ...           ...           ...           ...  \n",
      "F13 Times16  1.054482e+10  1.387674e+10  9.749131e+09  1.287945e+10  \n",
      "    Times17  8.583230e+09  1.379944e+10  1.101628e+10  1.511260e+10  \n",
      "    Times18  1.002097e+10  1.466931e+10  9.877413e+09  1.394148e+10  \n",
      "    Times19  9.337635e+09  1.307833e+10  9.471383e+09  1.322531e+10  \n",
      "    Times20  1.010152e+10  1.361892e+10  9.835651e+09  1.480213e+10  \n",
      "\n",
      "[260 rows x 8 columns]\n"
     ]
    },
    {
     "data": {
      "text/plain": "         590 579 588 589 569 558 542 562\nFunction                                \nF1        0%  0%  0%  0%  0%  0%  0%  0%\nF2        0%  0%  0%  0%  0%  0%  0%  0%\nF3        0%  0%  0%  0%  0%  0%  0%  0%\nF4        0%  0%  0%  0%  0%  0%  0%  0%\nF5        0%  0%  0%  0%  0%  0%  0%  0%\nF6        0%  0%  0%  0%  0%  0%  0%  0%\nF7        0%  0%  0%  0%  0%  0%  0%  0%\nF8        0%  0%  0%  0%  0%  0%  0%  0%\nF9        0%  0%  0%  0%  0%  0%  0%  0%\nF10       0%  0%  0%  0%  0%  0%  0%  0%\nF11       0%  0%  0%  0%  0%  0%  0%  0%\nF12       0%  0%  0%  0%  0%  0%  0%  0%\nF13       0%  0%  0%  0%  0%  0%  0%  0%",
      "text/html": "<div>\n<style scoped>\n    .dataframe tbody tr th:only-of-type {\n        vertical-align: middle;\n    }\n\n    .dataframe tbody tr th {\n        vertical-align: top;\n    }\n\n    .dataframe thead th {\n        text-align: right;\n    }\n</style>\n<table border=\"1\" class=\"dataframe\">\n  <thead>\n    <tr style=\"text-align: right;\">\n      <th></th>\n      <th>590</th>\n      <th>579</th>\n      <th>588</th>\n      <th>589</th>\n      <th>569</th>\n      <th>558</th>\n      <th>542</th>\n      <th>562</th>\n    </tr>\n    <tr>\n      <th>Function</th>\n      <th></th>\n      <th></th>\n      <th></th>\n      <th></th>\n      <th></th>\n      <th></th>\n      <th></th>\n      <th></th>\n    </tr>\n  </thead>\n  <tbody>\n    <tr>\n      <th>F1</th>\n      <td>0%</td>\n      <td>0%</td>\n      <td>0%</td>\n      <td>0%</td>\n      <td>0%</td>\n      <td>0%</td>\n      <td>0%</td>\n      <td>0%</td>\n    </tr>\n    <tr>\n      <th>F2</th>\n      <td>0%</td>\n      <td>0%</td>\n      <td>0%</td>\n      <td>0%</td>\n      <td>0%</td>\n      <td>0%</td>\n      <td>0%</td>\n      <td>0%</td>\n    </tr>\n    <tr>\n      <th>F3</th>\n      <td>0%</td>\n      <td>0%</td>\n      <td>0%</td>\n      <td>0%</td>\n      <td>0%</td>\n      <td>0%</td>\n      <td>0%</td>\n      <td>0%</td>\n    </tr>\n    <tr>\n      <th>F4</th>\n      <td>0%</td>\n      <td>0%</td>\n      <td>0%</td>\n      <td>0%</td>\n      <td>0%</td>\n      <td>0%</td>\n      <td>0%</td>\n      <td>0%</td>\n    </tr>\n    <tr>\n      <th>F5</th>\n      <td>0%</td>\n      <td>0%</td>\n      <td>0%</td>\n      <td>0%</td>\n      <td>0%</td>\n      <td>0%</td>\n      <td>0%</td>\n      <td>0%</td>\n    </tr>\n    <tr>\n      <th>F6</th>\n      <td>0%</td>\n      <td>0%</td>\n      <td>0%</td>\n      <td>0%</td>\n      <td>0%</td>\n      <td>0%</td>\n      <td>0%</td>\n      <td>0%</td>\n    </tr>\n    <tr>\n      <th>F7</th>\n      <td>0%</td>\n      <td>0%</td>\n      <td>0%</td>\n      <td>0%</td>\n      <td>0%</td>\n      <td>0%</td>\n      <td>0%</td>\n      <td>0%</td>\n    </tr>\n    <tr>\n      <th>F8</th>\n      <td>0%</td>\n      <td>0%</td>\n      <td>0%</td>\n      <td>0%</td>\n      <td>0%</td>\n      <td>0%</td>\n      <td>0%</td>\n      <td>0%</td>\n    </tr>\n    <tr>\n      <th>F9</th>\n      <td>0%</td>\n      <td>0%</td>\n      <td>0%</td>\n      <td>0%</td>\n      <td>0%</td>\n      <td>0%</td>\n      <td>0%</td>\n      <td>0%</td>\n    </tr>\n    <tr>\n      <th>F10</th>\n      <td>0%</td>\n      <td>0%</td>\n      <td>0%</td>\n      <td>0%</td>\n      <td>0%</td>\n      <td>0%</td>\n      <td>0%</td>\n      <td>0%</td>\n    </tr>\n    <tr>\n      <th>F11</th>\n      <td>0%</td>\n      <td>0%</td>\n      <td>0%</td>\n      <td>0%</td>\n      <td>0%</td>\n      <td>0%</td>\n      <td>0%</td>\n      <td>0%</td>\n    </tr>\n    <tr>\n      <th>F12</th>\n      <td>0%</td>\n      <td>0%</td>\n      <td>0%</td>\n      <td>0%</td>\n      <td>0%</td>\n      <td>0%</td>\n      <td>0%</td>\n      <td>0%</td>\n    </tr>\n    <tr>\n      <th>F13</th>\n      <td>0%</td>\n      <td>0%</td>\n      <td>0%</td>\n      <td>0%</td>\n      <td>0%</td>\n      <td>0%</td>\n      <td>0%</td>\n      <td>0%</td>\n    </tr>\n  </tbody>\n</table>\n</div>"
     },
     "metadata": {},
     "output_type": "display_data"
    }
   ],
   "source": [
    "data_pm = pd.read_csv(\"./best_20com_9pm_inuse.csv\", header=0, index_col=[0])\n",
    "index = data_pm.index.tolist()\n",
    "print(index)\n",
    "def read_csv(path):\n",
    "    return pd.read_csv(path,index_col=[0,1],header=0)\n",
    "path_percent_list=[\"./combination\"+str(i)+\".csv\" for i in index]\n",
    "df = [read_csv(name) for name in path_percent_list]\n",
    "df = pd.concat(df,axis=1)\n",
    "df.columns = index\n",
    "print(df.columns)\n",
    "print(df)\n",
    "df.to_csv(\"./Baldwin_rawdata.csv\",header=True,index=True)\n",
    "\n",
    "def percent(Function, optimal):\n",
    "    dataframe = df.loc[(Function, slice(None)), :]\n",
    "    dataframe = pd.DataFrame(data=dataframe.values,\n",
    "                             columns=dataframe.columns)\n",
    "    percent_dataframe = dataframe.applymap(lambda x: True if ((x-optimal)<=threshold or x<=optimal) else False)\n",
    "    percent_dataframe[\"Function\"] = Function\n",
    "    return percent_dataframe\n",
    "\n",
    "threshold =0.0001\n",
    "opt = [0.0, 0.0, 0.0, 0.0, 0.0, 0.0, 0.0, -418.98 * 400, 0.0, 0.0, 0.0, 0.0, 0.0, 1.0, 0.0003, -1.0316, 0.398, 3.0,\n",
    "       -3.86, -3.32, -10.1532,-10.4028, -10.5363]\n",
    "function_list = [1,2,3,4,5,6,7,8,9,10,11,12,13]\n",
    "percent_df = [percent(Function=\"F\" + str(i), optimal=opt[i - 1]) for i in function_list]\n",
    "percent_df = pd.concat(percent_df, axis=0)\n",
    "percent_df = percent_df.groupby([\"Function\"]).sum().applymap(lambda x: str(x * 5) + \"%\")\n",
    "index = [\"F\" + str(i) for i in function_list]\n",
    "percent_df = percent_df.loc[index]\n",
    "display(percent_df)\n",
    "# percent_df.to_csv(\"./Baldwin_percent.csv\")"
   ],
   "metadata": {
    "collapsed": false,
    "pycharm": {
     "name": "#%%\n"
    }
   }
  },
  {
   "cell_type": "code",
   "execution_count": 19,
   "outputs": [
    {
     "data": {
      "text/plain": "<Figure size 1440x504 with 1 Axes>",
      "image/png": "[encoded data removed]"
     },
     "metadata": {},
     "output_type": "display_data"
    }
   ],
   "source": [
    "from matplotlib import pyplot as plt\n",
    "dataframe = percent_df.copy()\n",
    "dataframe = dataframe.applymap(lambda x:x if not '%' in str(x) else x.replace('%',''))\n",
    "# display(dataframe)\n",
    "import seaborn as sns\n",
    "dataframe = dataframe.stack()\n",
    "# display(dataframe)\n",
    "dataframe = dataframe.rename_axis(index=[\"Function\",\"Combinations\"])\n",
    "dataframe = dataframe.reset_index(level=[0, 1], name=\"Percent\")\n",
    "dataframe[\"Percent\"] = pd.to_numeric(dataframe[\"Percent\"])\n",
    "dataframe = dataframe.reset_index(drop=False)\n",
    "# display(dataframe)\n",
    "function_list = [\"F\" + str(i) for i in range(1, 24, 1)]\n",
    "def show_graph(dataframe):\n",
    "    sns.set_theme(style=\"whitegrid\", palette=\"pastel\",font_scale=1.5)\n",
    "    sns.set_style(\"ticks\",{'axes.grid' : True})\n",
    "    plt.figure(figsize=(20,7))\n",
    "    plt.subplot(1,1,1)\n",
    "    ax=sns.barplot(data=dataframe,y=\"Percent\",x=\"Function\",errorbar=None)\n",
    "    ax.bar_label(ax.containers[0],label_type='edge')\n",
    "    plt.xlabel(\"Baldwin\")\n",
    "    # sns.move_legend(ax, \"upper left\", bbox_to_anchor=(0, 1))\n",
    "    # plt.savefig(\"./Baldwin_percent.png\", dpi=1200, bbox_inches='tight')\n",
    "    plt.show()\n",
    "show_graph(dataframe=dataframe)"
   ],
   "metadata": {
    "collapsed": false,
    "pycharm": {
     "name": "#%%\n"
    }
   }
  },
  {
   "cell_type": "code",
   "execution_count": 19,
   "outputs": [],
   "source": [],
   "metadata": {
    "collapsed": false,
    "pycharm": {
     "name": "#%%\n"
    }
   }
  }
 ],
 "metadata": {
  "kernelspec": {
   "display_name": "Python 3",
   "language": "python",
   "name": "python3"
  },
  "language_info": {
   "codemirror_mode": {
    "name": "ipython",
    "version": 2
   },
   "file_extension": ".py",
   "mimetype": "text/x-python",
   "name": "python",
   "nbconvert_exporter": "python",
   "pygments_lexer": "ipython2",
   "version": "2.7.6"
  }
 },
 "nbformat": 4,
 "nbformat_minor": 0
}