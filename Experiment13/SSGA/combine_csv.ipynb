{
 "cells": [
  {
   "cell_type": "code",
   "execution_count": 5,
   "metadata": {
    "collapsed": true,
    "pycharm": {
     "name": "#%%\n"
    }
   },
   "outputs": [],
   "source": [
    "import numpy as np\n",
    "import pandas as pd"
   ]
  },
  {
   "cell_type": "code",
   "execution_count": 6,
   "outputs": [
    {
     "name": "stdout",
     "output_type": "stream",
     "text": [
      "[590, 579, 588, 589, 569, 558, 542, 562]\n",
      "Int64Index([590, 579, 588, 589, 569, 558, 542, 562], dtype='int64')\n",
      "             590  579  588  589  569  558  542  562\n",
      "F1  Times1   0.0  0.0  0.0  0.0  0.0  0.0  0.0  0.0\n",
      "    Times2   0.0  0.0  0.0  0.0  0.0  0.0  0.0  0.0\n",
      "    Times3   0.0  0.0  0.0  0.0  0.0  0.0  0.0  0.0\n",
      "    Times4   0.0  0.0  0.0  0.0  0.0  0.0  0.0  0.0\n",
      "    Times5   0.0  0.0  0.0  0.0  0.0  0.0  0.0  0.0\n",
      "...          ...  ...  ...  ...  ...  ...  ...  ...\n",
      "F13 Times6   0.0  0.0  0.0  0.0  0.0  0.0  0.0  0.0\n",
      "    Times7   0.0  0.0  0.0  0.0  0.0  0.0  0.0  0.0\n",
      "    Times8   0.0  0.0  0.0  0.0  0.0  0.0  0.0  0.0\n",
      "    Times9   0.0  0.0  0.0  0.0  0.0  0.0  0.0  0.0\n",
      "    Times10  0.0  0.0  0.0  0.0  0.0  0.0  0.0  0.0\n",
      "\n",
      "[130 rows x 8 columns]\n"
     ]
    }
   ],
   "source": [
    "data_pm = pd.read_csv(\"./best_20com_9pm_inuse.csv\", header=0, index_col=[0])\n",
    "index = data_pm.index.tolist()\n",
    "print(index)\n",
    "def read_csv(path):\n",
    "    return pd.read_csv(path,index_col=[0,1],header=0)\n",
    "path_budget_list=[\"./budget\"+str(i)+\".csv\" for i in index]\n",
    "df = [read_csv(name) for name in path_budget_list]\n",
    "df = pd.concat(df,axis=1)\n",
    "df.columns = index\n",
    "print(df.columns)\n",
    "print(df)\n",
    "# df.to_csv(\"./SSGA_budget.csv\",header=True,index=True)"
   ],
   "metadata": {
    "collapsed": false,
    "pycharm": {
     "name": "#%%\n"
    }
   }
  },
  {
   "cell_type": "code",
   "execution_count": 7,
   "outputs": [
    {
     "name": "stdout",
     "output_type": "stream",
     "text": [
      "[590, 579, 588, 589, 569, 558, 542, 562]\n",
      "Int64Index([590, 579, 588, 589, 569, 558, 542, 562], dtype='int64')\n",
      "                      590           579           588           589  \\\n",
      "F1  Times1   4.069372e+05  4.692221e+05  3.269596e+05  2.437956e+05   \n",
      "    Times2   3.337822e+05  4.201503e+05  2.923734e+05  2.533285e+05   \n",
      "    Times3   3.800694e+05  4.501224e+05  3.275945e+05  2.810151e+05   \n",
      "    Times4   3.569590e+05  4.391931e+05  3.398964e+05  2.181720e+05   \n",
      "    Times5   3.932051e+05  4.859032e+05  2.794725e+05  2.232951e+05   \n",
      "...                   ...           ...           ...           ...   \n",
      "F13 Times6   1.525829e+09  3.883639e+09  1.076472e+09  3.302205e+08   \n",
      "    Times7   1.413037e+09  2.573000e+09  9.631211e+08  2.441526e+08   \n",
      "    Times8   2.030858e+09  2.573545e+09  7.521749e+08  4.093998e+08   \n",
      "    Times9   1.570957e+09  2.829086e+09  1.119591e+09  3.989334e+08   \n",
      "    Times10  1.757159e+09  3.307706e+09  1.146070e+09  5.042996e+08   \n",
      "\n",
      "                      569           558           542           562  \n",
      "F1  Times1   4.662140e+05  4.510893e+05  5.575809e+05  3.991534e+05  \n",
      "    Times2   4.638445e+05  4.367195e+05  5.622804e+05  4.535210e+05  \n",
      "    Times3   5.132690e+05  4.637330e+05  5.918595e+05  4.069580e+05  \n",
      "    Times4   5.070604e+05  4.312771e+05  5.489228e+05  3.957386e+05  \n",
      "    Times5   5.161574e+05  4.449900e+05  5.237132e+05  3.610584e+05  \n",
      "...                   ...           ...           ...           ...  \n",
      "F13 Times6   3.974941e+09  2.631666e+09  4.662844e+09  1.428036e+09  \n",
      "    Times7   3.256937e+09  3.492664e+09  4.753918e+09  2.154322e+09  \n",
      "    Times8   4.238621e+09  2.479408e+09  4.715255e+09  1.930790e+09  \n",
      "    Times9   4.308665e+09  2.723085e+09  5.626570e+09  2.168646e+09  \n",
      "    Times10  3.081954e+09  2.728881e+09  4.456464e+09  1.973579e+09  \n",
      "\n",
      "[130 rows x 8 columns]\n"
     ]
    },
    {
     "data": {
      "text/plain": "         590 579 588 589 569 558 542 562\nFunction                                \nF1        0%  0%  0%  0%  0%  0%  0%  0%\nF2        0%  0%  0%  0%  0%  0%  0%  0%\nF3        0%  0%  0%  0%  0%  0%  0%  0%\nF4        0%  0%  0%  0%  0%  0%  0%  0%\nF5        0%  0%  0%  0%  0%  0%  0%  0%\nF6        0%  0%  0%  0%  0%  0%  0%  0%\nF7        0%  0%  0%  0%  0%  0%  0%  0%\nF8        0%  0%  0%  0%  0%  0%  0%  0%\nF9        0%  0%  0%  0%  0%  0%  0%  0%\nF10       0%  0%  0%  0%  0%  0%  0%  0%\nF11       0%  0%  0%  0%  0%  0%  0%  0%\nF12       0%  0%  0%  0%  0%  0%  0%  0%\nF13       0%  0%  0%  0%  0%  0%  0%  0%",
      "text/html": "<div>\n<style scoped>\n    .dataframe tbody tr th:only-of-type {\n        vertical-align: middle;\n    }\n\n    .dataframe tbody tr th {\n        vertical-align: top;\n    }\n\n    .dataframe thead th {\n        text-align: right;\n    }\n</style>\n<table border=\"1\" class=\"dataframe\">\n  <thead>\n    <tr style=\"text-align: right;\">\n      <th></th>\n      <th>590</th>\n      <th>579</th>\n      <th>588</th>\n      <th>589</th>\n      <th>569</th>\n      <th>558</th>\n      <th>542</th>\n      <th>562</th>\n    </tr>\n    <tr>\n      <th>Function</th>\n      <th></th>\n      <th></th>\n      <th></th>\n      <th></th>\n      <th></th>\n      <th></th>\n      <th></th>\n      <th></th>\n    </tr>\n  </thead>\n  <tbody>\n    <tr>\n      <th>F1</th>\n      <td>0%</td>\n      <td>0%</td>\n      <td>0%</td>\n      <td>0%</td>\n      <td>0%</td>\n      <td>0%</td>\n      <td>0%</td>\n      <td>0%</td>\n    </tr>\n    <tr>\n      <th>F2</th>\n      <td>0%</td>\n      <td>0%</td>\n      <td>0%</td>\n      <td>0%</td>\n      <td>0%</td>\n      <td>0%</td>\n      <td>0%</td>\n      <td>0%</td>\n    </tr>\n    <tr>\n      <th>F3</th>\n      <td>0%</td>\n      <td>0%</td>\n      <td>0%</td>\n      <td>0%</td>\n      <td>0%</td>\n      <td>0%</td>\n      <td>0%</td>\n      <td>0%</td>\n    </tr>\n    <tr>\n      <th>F4</th>\n      <td>0%</td>\n      <td>0%</td>\n      <td>0%</td>\n      <td>0%</td>\n      <td>0%</td>\n      <td>0%</td>\n      <td>0%</td>\n      <td>0%</td>\n    </tr>\n    <tr>\n      <th>F5</th>\n      <td>0%</td>\n      <td>0%</td>\n      <td>0%</td>\n      <td>0%</td>\n      <td>0%</td>\n      <td>0%</td>\n      <td>0%</td>\n      <td>0%</td>\n    </tr>\n    <tr>\n      <th>F6</th>\n      <td>0%</td>\n      <td>0%</td>\n      <td>0%</td>\n      <td>0%</td>\n      <td>0%</td>\n      <td>0%</td>\n      <td>0%</td>\n      <td>0%</td>\n    </tr>\n    <tr>\n      <th>F7</th>\n      <td>0%</td>\n      <td>0%</td>\n      <td>0%</td>\n      <td>0%</td>\n      <td>0%</td>\n      <td>0%</td>\n      <td>0%</td>\n      <td>0%</td>\n    </tr>\n    <tr>\n      <th>F8</th>\n      <td>0%</td>\n      <td>0%</td>\n      <td>0%</td>\n      <td>0%</td>\n      <td>0%</td>\n      <td>0%</td>\n      <td>0%</td>\n      <td>0%</td>\n    </tr>\n    <tr>\n      <th>F9</th>\n      <td>0%</td>\n      <td>0%</td>\n      <td>0%</td>\n      <td>0%</td>\n      <td>0%</td>\n      <td>0%</td>\n      <td>0%</td>\n      <td>0%</td>\n    </tr>\n    <tr>\n      <th>F10</th>\n      <td>0%</td>\n      <td>0%</td>\n      <td>0%</td>\n      <td>0%</td>\n      <td>0%</td>\n      <td>0%</td>\n      <td>0%</td>\n      <td>0%</td>\n    </tr>\n    <tr>\n      <th>F11</th>\n      <td>0%</td>\n      <td>0%</td>\n      <td>0%</td>\n      <td>0%</td>\n      <td>0%</td>\n      <td>0%</td>\n      <td>0%</td>\n      <td>0%</td>\n    </tr>\n    <tr>\n      <th>F12</th>\n      <td>0%</td>\n      <td>0%</td>\n      <td>0%</td>\n      <td>0%</td>\n      <td>0%</td>\n      <td>0%</td>\n      <td>0%</td>\n      <td>0%</td>\n    </tr>\n    <tr>\n      <th>F13</th>\n      <td>0%</td>\n      <td>0%</td>\n      <td>0%</td>\n      <td>0%</td>\n      <td>0%</td>\n      <td>0%</td>\n      <td>0%</td>\n      <td>0%</td>\n    </tr>\n  </tbody>\n</table>\n</div>"
     },
     "metadata": {},
     "output_type": "display_data"
    }
   ],
   "source": [
    "data_pm = pd.read_csv(\"./best_20com_9pm_inuse.csv\", header=0, index_col=[0])\n",
    "index = data_pm.index.tolist()\n",
    "print(index)\n",
    "def read_csv(path):\n",
    "    return pd.read_csv(path,index_col=[0,1],header=0)\n",
    "path_percent_list=[\"./combination\"+str(i)+\".csv\" for i in index]\n",
    "df = [read_csv(name) for name in path_percent_list]\n",
    "df = pd.concat(df,axis=1)\n",
    "df.columns = index\n",
    "print(df.columns)\n",
    "print(df)\n",
    "df.to_csv(\"./SSGA_rawdata.csv\",header=True,index=True)\n",
    "\n",
    "def percent(Function, optimal):\n",
    "    dataframe = df.loc[(Function, slice(None)), :]\n",
    "    dataframe = pd.DataFrame(data=dataframe.values,\n",
    "                             columns=dataframe.columns)\n",
    "    percent_dataframe = dataframe.applymap(lambda x: True if ((x-optimal)<=threshold or x<=optimal) else False)\n",
    "    percent_dataframe[\"Function\"] = Function\n",
    "    return percent_dataframe\n",
    "\n",
    "threshold =0.0001\n",
    "opt = [0.0, 0.0, 0.0, 0.0, 0.0, 0.0, 0.0, -418.98 * 400, 0.0, 0.0, 0.0, 0.0, 0.0, 1.0, 0.0003, -1.0316, 0.398, 3.0,\n",
    "       -3.86, -3.32, -10.1532,-10.4028, -10.5363]\n",
    "function_list = [1,2,3,4,5,6,7,8,9,10,11,12,13]\n",
    "percent_df = [percent(Function=\"F\" + str(i), optimal=opt[i - 1]) for i in function_list]\n",
    "percent_df = pd.concat(percent_df, axis=0)\n",
    "percent_df = percent_df.groupby([\"Function\"]).sum().applymap(lambda x: str(x * 5) + \"%\")\n",
    "index = [\"F\" + str(i) for i in function_list]\n",
    "percent_df = percent_df.loc[index]\n",
    "display(percent_df)\n",
    "# percent_df.to_csv(\"./SSGA_percent.csv\")"
   ],
   "metadata": {
    "collapsed": false,
    "pycharm": {
     "name": "#%%\n"
    }
   }
  },
  {
   "cell_type": "code",
   "execution_count": 8,
   "outputs": [
    {
     "data": {
      "text/plain": "<Figure size 1440x504 with 1 Axes>",
      "image/png": "[encoded data removed]"
     },
     "metadata": {},
     "output_type": "display_data"
    }
   ],
   "source": [
    "from matplotlib import pyplot as plt\n",
    "dataframe = percent_df.copy()\n",
    "dataframe = dataframe.applymap(lambda x:x if not '%' in str(x) else x.replace('%',''))\n",
    "# display(dataframe)\n",
    "import seaborn as sns\n",
    "dataframe = dataframe.stack()\n",
    "# display(dataframe)\n",
    "dataframe = dataframe.rename_axis(index=[\"Function\",\"Combinations\"])\n",
    "dataframe = dataframe.reset_index(level=[0, 1], name=\"Percent\")\n",
    "dataframe[\"Percent\"] = pd.to_numeric(dataframe[\"Percent\"])\n",
    "dataframe = dataframe.reset_index(drop=False)\n",
    "# display(dataframe)\n",
    "function_list = [\"F\" + str(i) for i in range(1, 24, 1)]\n",
    "def show_graph(dataframe):\n",
    "    sns.set_theme(style=\"whitegrid\", palette=\"pastel\",font_scale=1.5)\n",
    "    sns.set_style(\"ticks\",{'axes.grid' : True})\n",
    "    plt.figure(figsize=(20,7))\n",
    "    plt.subplot(1,1,1)\n",
    "    ax=sns.barplot(data=dataframe,y=\"Percent\",x=\"Function\",errorbar=None)\n",
    "    ax.bar_label(ax.containers[0],label_type='edge')\n",
    "    plt.xlabel(\"SSGA\")\n",
    "    # sns.move_legend(ax, \"upper left\", bbox_to_anchor=(0, 1))\n",
    "    # plt.savefig(\"./SSGA_percent.png\", dpi=1200, bbox_inches='tight')\n",
    "    plt.show()\n",
    "show_graph(dataframe=dataframe)"
   ],
   "metadata": {
    "collapsed": false,
    "pycharm": {
     "name": "#%%\n"
    }
   }
  },
  {
   "cell_type": "code",
   "execution_count": 8,
   "outputs": [],
   "source": [],
   "metadata": {
    "collapsed": false,
    "pycharm": {
     "name": "#%%\n"
    }
   }
  }
 ],
 "metadata": {
  "kernelspec": {
   "display_name": "Python 3",
   "language": "python",
   "name": "python3"
  },
  "language_info": {
   "codemirror_mode": {
    "name": "ipython",
    "version": 2
   },
   "file_extension": ".py",
   "mimetype": "text/x-python",
   "name": "python",
   "nbconvert_exporter": "python",
   "pygments_lexer": "ipython2",
   "version": "2.7.6"
  }
 },
 "nbformat": 4,
 "nbformat_minor": 0
}