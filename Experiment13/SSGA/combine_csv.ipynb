{
 "cells": [
  {
   "cell_type": "code",
   "execution_count": 1,
   "metadata": {
    "collapsed": true
   },
   "outputs": [],
   "source": [
    "import numpy as np\n",
    "import pandas as pd"
   ]
  },
  {
   "cell_type": "code",
   "execution_count": 2,
   "outputs": [
    {
     "name": "stdout",
     "output_type": "stream",
     "text": [
      "[590, 579, 588, 589, 569, 558, 542, 562]\n",
      "Int64Index([590, 579, 588, 589, 569, 558, 542, 562], dtype='int64')\n",
      "             590  579  588  589  569  558  542  562\n",
      "F1  Times1   0.0  0.0  0.0  0.0  0.0  0.0  0.0  0.0\n",
      "    Times2   0.0  0.0  0.0  0.0  0.0  0.0  0.0  0.0\n",
      "    Times3   0.0  0.0  0.0  0.0  0.0  0.0  0.0  0.0\n",
      "    Times4   0.0  0.0  0.0  0.0  0.0  0.0  0.0  0.0\n",
      "    Times5   0.0  0.0  0.0  0.0  0.0  0.0  0.0  0.0\n",
      "...          ...  ...  ...  ...  ...  ...  ...  ...\n",
      "F13 Times6   0.0  0.0  0.0  0.0  0.0  0.0  0.0  0.0\n",
      "    Times7   0.0  0.0  0.0  0.0  0.0  0.0  0.0  0.0\n",
      "    Times8   0.0  0.0  0.0  0.0  0.0  0.0  0.0  0.0\n",
      "    Times9   0.0  0.0  0.0  0.0  0.0  0.0  0.0  0.0\n",
      "    Times10  0.0  0.0  0.0  0.0  0.0  0.0  0.0  0.0\n",
      "\n",
      "[130 rows x 8 columns]\n"
     ]
    }
   ],
   "source": [
    "data_pm = pd.read_csv(\"./best_20com_9pm_inuse.csv\", header=0, index_col=[0])\n",
    "index = data_pm.index.tolist()\n",
    "print(index)\n",
    "def read_csv(path):\n",
    "    return pd.read_csv(path,index_col=[0,1],header=0)\n",
    "path_budget_list=[\"./budget\"+str(i)+\".csv\" for i in index]\n",
    "df = [read_csv(name) for name in path_budget_list]\n",
    "df = pd.concat(df,axis=1)\n",
    "df.columns = index\n",
    "print(df.columns)\n",
    "print(df)\n",
    "# df.to_csv(\"./SSGA_budget.csv\",header=True,index=True)"
   ],
   "metadata": {
    "collapsed": false
   }
  },
  {
   "cell_type": "code",
   "execution_count": 3,
   "outputs": [
    {
     "name": "stdout",
     "output_type": "stream",
     "text": [
      "[590, 579, 588, 589, 569, 558, 542, 562]\n",
      "Int64Index([590, 579, 588, 589, 569, 558, 542, 562], dtype='int64')\n",
      "                    590        579         588         589        569  \\\n",
      "F1  Times1   186.446883  73.723681  213.645891  211.496921  70.310640   \n",
      "    Times2   207.118213  69.048900  211.459300  225.099647  65.524816   \n",
      "    Times3   191.655370  73.113014  209.431364  218.023687  65.015399   \n",
      "    Times4   207.427454  68.133237  232.919663  223.761256  65.950448   \n",
      "    Times5   192.304923  55.546082  193.137160  212.371640  71.383842   \n",
      "...                 ...        ...         ...         ...        ...   \n",
      "F13 Times6    12.451914   3.999812   12.460255   14.296953   5.121052   \n",
      "    Times7    13.425403   3.531171   13.274855   14.733948   4.507080   \n",
      "    Times8    11.948851   4.088098   13.218801   13.986751   4.635284   \n",
      "    Times9    15.108061   3.981583   15.694660   13.249237   4.566070   \n",
      "    Times10   12.854629   4.136740   13.801793   13.655903   4.692786   \n",
      "\n",
      "                   558        542        562  \n",
      "F1  Times1   59.602760  12.339305  55.644567  \n",
      "    Times2   54.740252  12.400573  59.288819  \n",
      "    Times3   60.905434  13.558184  52.585848  \n",
      "    Times4   62.827697  12.371402  58.601005  \n",
      "    Times5   63.002577  12.097937  56.505316  \n",
      "...                ...        ...        ...  \n",
      "F13 Times6    3.553883   0.631498   3.216633  \n",
      "    Times7    3.413489   0.760062   3.352108  \n",
      "    Times8    3.200429   0.684940   3.101376  \n",
      "    Times9    3.598906   0.719538   3.423610  \n",
      "    Times10   3.699430   0.781290   3.386734  \n",
      "\n",
      "[130 rows x 8 columns]\n"
     ]
    },
    {
     "data": {
      "text/plain": "         590 579 588 589 569 558  542 562\nFunction                                 \nF1        0%  0%  0%  0%  0%  0%   0%  0%\nF2        0%  0%  0%  0%  0%  0%   0%  0%\nF3        0%  0%  0%  0%  0%  0%   0%  0%\nF4        0%  0%  0%  0%  0%  0%   0%  0%\nF5        0%  0%  0%  0%  0%  0%   0%  0%\nF6        0%  0%  0%  0%  0%  0%   0%  0%\nF7        0%  0%  0%  0%  0%  0%  50%  0%\nF8        0%  0%  0%  0%  0%  0%   0%  0%\nF9        0%  0%  0%  0%  0%  0%   0%  0%\nF10       0%  0%  0%  0%  0%  0%   0%  0%\nF11       0%  0%  0%  0%  0%  0%   0%  0%\nF12       0%  0%  0%  0%  0%  0%   0%  0%\nF13       0%  0%  0%  0%  0%  0%   0%  0%",
      "text/html": "<div>\n<style scoped>\n    .dataframe tbody tr th:only-of-type {\n        vertical-align: middle;\n    }\n\n    .dataframe tbody tr th {\n        vertical-align: top;\n    }\n\n    .dataframe thead th {\n        text-align: right;\n    }\n</style>\n<table border=\"1\" class=\"dataframe\">\n  <thead>\n    <tr style=\"text-align: right;\">\n      <th></th>\n      <th>590</th>\n      <th>579</th>\n      <th>588</th>\n      <th>589</th>\n      <th>569</th>\n      <th>558</th>\n      <th>542</th>\n      <th>562</th>\n    </tr>\n    <tr>\n      <th>Function</th>\n      <th></th>\n      <th></th>\n      <th></th>\n      <th></th>\n      <th></th>\n      <th></th>\n      <th></th>\n      <th></th>\n    </tr>\n  </thead>\n  <tbody>\n    <tr>\n      <th>F1</th>\n      <td>0%</td>\n      <td>0%</td>\n      <td>0%</td>\n      <td>0%</td>\n      <td>0%</td>\n      <td>0%</td>\n      <td>0%</td>\n      <td>0%</td>\n    </tr>\n    <tr>\n      <th>F2</th>\n      <td>0%</td>\n      <td>0%</td>\n      <td>0%</td>\n      <td>0%</td>\n      <td>0%</td>\n      <td>0%</td>\n      <td>0%</td>\n      <td>0%</td>\n    </tr>\n    <tr>\n      <th>F3</th>\n      <td>0%</td>\n      <td>0%</td>\n      <td>0%</td>\n      <td>0%</td>\n      <td>0%</td>\n      <td>0%</td>\n      <td>0%</td>\n      <td>0%</td>\n    </tr>\n    <tr>\n      <th>F4</th>\n      <td>0%</td>\n      <td>0%</td>\n      <td>0%</td>\n      <td>0%</td>\n      <td>0%</td>\n      <td>0%</td>\n      <td>0%</td>\n      <td>0%</td>\n    </tr>\n    <tr>\n      <th>F5</th>\n      <td>0%</td>\n      <td>0%</td>\n      <td>0%</td>\n      <td>0%</td>\n      <td>0%</td>\n      <td>0%</td>\n      <td>0%</td>\n      <td>0%</td>\n    </tr>\n    <tr>\n      <th>F6</th>\n      <td>0%</td>\n      <td>0%</td>\n      <td>0%</td>\n      <td>0%</td>\n      <td>0%</td>\n      <td>0%</td>\n      <td>0%</td>\n      <td>0%</td>\n    </tr>\n    <tr>\n      <th>F7</th>\n      <td>0%</td>\n      <td>0%</td>\n      <td>0%</td>\n      <td>0%</td>\n      <td>0%</td>\n      <td>0%</td>\n      <td>50%</td>\n      <td>0%</td>\n    </tr>\n    <tr>\n      <th>F8</th>\n      <td>0%</td>\n      <td>0%</td>\n      <td>0%</td>\n      <td>0%</td>\n      <td>0%</td>\n      <td>0%</td>\n      <td>0%</td>\n      <td>0%</td>\n    </tr>\n    <tr>\n      <th>F9</th>\n      <td>0%</td>\n      <td>0%</td>\n      <td>0%</td>\n      <td>0%</td>\n      <td>0%</td>\n      <td>0%</td>\n      <td>0%</td>\n      <td>0%</td>\n    </tr>\n    <tr>\n      <th>F10</th>\n      <td>0%</td>\n      <td>0%</td>\n      <td>0%</td>\n      <td>0%</td>\n      <td>0%</td>\n      <td>0%</td>\n      <td>0%</td>\n      <td>0%</td>\n    </tr>\n    <tr>\n      <th>F11</th>\n      <td>0%</td>\n      <td>0%</td>\n      <td>0%</td>\n      <td>0%</td>\n      <td>0%</td>\n      <td>0%</td>\n      <td>0%</td>\n      <td>0%</td>\n    </tr>\n    <tr>\n      <th>F12</th>\n      <td>0%</td>\n      <td>0%</td>\n      <td>0%</td>\n      <td>0%</td>\n      <td>0%</td>\n      <td>0%</td>\n      <td>0%</td>\n      <td>0%</td>\n    </tr>\n    <tr>\n      <th>F13</th>\n      <td>0%</td>\n      <td>0%</td>\n      <td>0%</td>\n      <td>0%</td>\n      <td>0%</td>\n      <td>0%</td>\n      <td>0%</td>\n      <td>0%</td>\n    </tr>\n  </tbody>\n</table>\n</div>"
     },
     "metadata": {},
     "output_type": "display_data"
    }
   ],
   "source": [
    "data_pm = pd.read_csv(\"./best_20com_9pm_inuse.csv\", header=0, index_col=[0])\n",
    "index = data_pm.index.tolist()\n",
    "print(index)\n",
    "def read_csv(path):\n",
    "    return pd.read_csv(path,index_col=[0,1],header=0)\n",
    "path_percent_list=[\"./combination\"+str(i)+\".csv\" for i in index]\n",
    "df = [read_csv(name) for name in path_percent_list]\n",
    "df = pd.concat(df,axis=1)\n",
    "df.columns = index\n",
    "print(df.columns)\n",
    "print(df)\n",
    "df.to_csv(\"./SSGA_rawdata.csv\",header=True,index=True)\n",
    "\n",
    "def percent(Function, optimal):\n",
    "    dataframe = df.loc[(Function, slice(None)), :]\n",
    "    dataframe = pd.DataFrame(data=dataframe.values,\n",
    "                             columns=dataframe.columns)\n",
    "    percent_dataframe = dataframe.applymap(lambda x: True if ((x-optimal)<=threshold or x<=optimal) else False)\n",
    "    percent_dataframe[\"Function\"] = Function\n",
    "    return percent_dataframe\n",
    "\n",
    "threshold =0.0001\n",
    "opt = [0.0, 0.0, 0.0, 0.0, 0.0, 0.0, 0.0, -418.98 * 400, 0.0, 0.0, 0.0, 0.0, 0.0, 1.0, 0.0003, -1.0316, 0.398, 3.0,\n",
    "       -3.86, -3.32, -10.1532,-10.4028, -10.5363]\n",
    "function_list = [1,2,3,4,5,6,7,8,9,10,11,12,13]\n",
    "percent_df = [percent(Function=\"F\" + str(i), optimal=opt[i - 1]) for i in function_list]\n",
    "percent_df = pd.concat(percent_df, axis=0)\n",
    "percent_df = percent_df.groupby([\"Function\"]).sum().applymap(lambda x: str(x * 5) + \"%\")\n",
    "index = [\"F\" + str(i) for i in function_list]\n",
    "percent_df = percent_df.loc[index]\n",
    "display(percent_df)\n",
    "# percent_df.to_csv(\"./SSGA_percent.csv\")"
   ],
   "metadata": {
    "collapsed": false
   }
  },
  {
   "cell_type": "code",
   "execution_count": 4,
   "outputs": [
    {
     "data": {
      "text/plain": "<Figure size 1440x504 with 1 Axes>",
      "image/png": "[encoded data removed]"
     },
     "metadata": {},
     "output_type": "display_data"
    }
   ],
   "source": [
    "from matplotlib import pyplot as plt\n",
    "dataframe = percent_df.copy()\n",
    "dataframe = dataframe.applymap(lambda x:x if not '%' in str(x) else x.replace('%',''))\n",
    "# display(dataframe)\n",
    "import seaborn as sns\n",
    "dataframe = dataframe.stack()\n",
    "# display(dataframe)\n",
    "dataframe = dataframe.rename_axis(index=[\"Function\",\"Combinations\"])\n",
    "dataframe = dataframe.reset_index(level=[0, 1], name=\"Percent\")\n",
    "dataframe[\"Percent\"] = pd.to_numeric(dataframe[\"Percent\"])\n",
    "dataframe = dataframe.reset_index(drop=False)\n",
    "# display(dataframe)\n",
    "function_list = [\"F\" + str(i) for i in range(1, 24, 1)]\n",
    "def show_graph(dataframe):\n",
    "    sns.set_theme(style=\"whitegrid\", palette=\"pastel\",font_scale=1.5)\n",
    "    sns.set_style(\"ticks\",{'axes.grid' : True})\n",
    "    plt.figure(figsize=(20,7))\n",
    "    plt.subplot(1,1,1)\n",
    "    ax=sns.barplot(data=dataframe,y=\"Percent\",x=\"Function\",errorbar=None)\n",
    "    ax.bar_label(ax.containers[0],label_type='edge')\n",
    "    plt.xlabel(\"SSGA\")\n",
    "    # sns.move_legend(ax, \"upper left\", bbox_to_anchor=(0, 1))\n",
    "    # plt.savefig(\"./SSGA_percent.png\", dpi=1200, bbox_inches='tight')\n",
    "    plt.show()\n",
    "show_graph(dataframe=dataframe)"
   ],
   "metadata": {
    "collapsed": false
   }
  },
  {
   "cell_type": "code",
   "execution_count": 4,
   "outputs": [],
   "source": [],
   "metadata": {
    "collapsed": false
   }
  }
 ],
 "metadata": {
  "kernelspec": {
   "display_name": "Python 3",
   "language": "python",
   "name": "python3"
  },
  "language_info": {
   "codemirror_mode": {
    "name": "ipython",
    "version": 2
   },
   "file_extension": ".py",
   "mimetype": "text/x-python",
   "name": "python",
   "nbconvert_exporter": "python",
   "pygments_lexer": "ipython2",
   "version": "2.7.6"
  }
 },
 "nbformat": 4,
 "nbformat_minor": 0
}
