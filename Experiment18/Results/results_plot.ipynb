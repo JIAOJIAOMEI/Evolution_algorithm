{
 "cells": [
  {
   "cell_type": "code",
   "execution_count": 365,
   "id": "initial_id",
   "metadata": {
    "collapsed": true,
    "ExecuteTime": {
     "end_time": "2023-10-05T03:30:27.443395Z",
     "start_time": "2023-10-05T03:30:27.421113Z"
    }
   },
   "outputs": [],
   "source": [
    "import numpy as np\n",
    "import pandas as pd\n",
    "import matplotlib.pyplot as plt\n",
    "import seaborn as sns\n",
    "import os\n",
    "import sys\n",
    "# pd.set_option('display.max_columns', None)\n",
    "# pd.set_option('display.max_rows', None)"
   ]
  },
  {
   "cell_type": "code",
   "execution_count": 366,
   "outputs": [
    {
     "name": "stdout",
     "output_type": "stream",
     "text": [
      "(15, 17)\n",
      "    num_generations  mutation_rate  num_individuals  crossover_rate  \\\n",
      "0           1000000           0.03              200             0.7   \n",
      "1           1000000           0.03              200             0.7   \n",
      "2           1000000           0.03              200             0.7   \n",
      "3           1000000           0.03              100             0.7   \n",
      "4           1000000           0.03              100             0.7   \n",
      "5           1000000           0.03              100             0.7   \n",
      "6           1000000           0.03              200             0.6   \n",
      "7           1000000           0.03              200             0.6   \n",
      "8           1000000           0.03              200             0.6   \n",
      "9           1000000           0.03              100             0.6   \n",
      "10          1000000           0.03              100             0.6   \n",
      "11          1000000           0.03              100             0.6   \n",
      "12          1000000           0.03              200             0.7   \n",
      "13          1000000           0.03              200             0.7   \n",
      "14          1000000           0.03              200             0.7   \n",
      "\n",
      "   mutation_type           crossover_type  local_search_rate  \\\n",
      "0         Normal  Probabilistic_crossover                0.5   \n",
      "1         Normal  Probabilistic_crossover                0.5   \n",
      "2         Normal  Probabilistic_crossover                0.5   \n",
      "3         Normal  Probabilistic_crossover                0.5   \n",
      "4         Normal  Probabilistic_crossover                0.5   \n",
      "5         Normal  Probabilistic_crossover                0.5   \n",
      "6         Normal  Probabilistic_crossover                0.5   \n",
      "7         Normal  Probabilistic_crossover                0.5   \n",
      "8         Normal  Probabilistic_crossover                0.5   \n",
      "9         Normal  Probabilistic_crossover                0.5   \n",
      "10        Normal  Probabilistic_crossover                0.5   \n",
      "11        Normal  Probabilistic_crossover                0.5   \n",
      "12        Normal  Probabilistic_crossover                0.5   \n",
      "13        Normal  Probabilistic_crossover                0.5   \n",
      "14        Normal  Probabilistic_crossover                0.5   \n",
      "\n",
      "   local_search_type  search_radius  threshold  dimensions    gg  \\\n",
      "0            Uniform           0.05     0.0001         100  0.05   \n",
      "1            Uniform           0.05     0.0001         100  0.05   \n",
      "2            Uniform           0.05     0.0001         100  0.05   \n",
      "3            Uniform           0.05     0.0001         100  0.05   \n",
      "4            Uniform           0.05     0.0001         100  0.05   \n",
      "5            Uniform           0.05     0.0001         100  0.05   \n",
      "6            Uniform           0.05     0.0001         100  0.05   \n",
      "7            Uniform           0.05     0.0001         100  0.05   \n",
      "8            Uniform           0.05     0.0001         100  0.05   \n",
      "9            Uniform           0.05     0.0001         100  0.05   \n",
      "10           Uniform           0.05     0.0001         100  0.05   \n",
      "11           Uniform           0.05     0.0001         100  0.05   \n",
      "12           Uniform           0.05     0.0001         100  0.05   \n",
      "13           Uniform           0.05     0.0001         100  0.05   \n",
      "14           Uniform           0.05     0.0001         100  0.05   \n",
      "\n",
      "         selection_method  length_of_local_search  redo_local_search_rate  \\\n",
      "0   sorted_selection_part                       1                       0   \n",
      "1   sorted_selection_part                       1                       0   \n",
      "2   sorted_selection_part                       1                       0   \n",
      "3   sorted_selection_part                       1                       0   \n",
      "4   sorted_selection_part                       1                       0   \n",
      "5   sorted_selection_part                       1                       0   \n",
      "6   sorted_selection_part                       4                       0   \n",
      "7   sorted_selection_part                       4                       0   \n",
      "8   sorted_selection_part                       4                       0   \n",
      "9   sorted_selection_part                       4                       0   \n",
      "10  sorted_selection_part                       4                       0   \n",
      "11  sorted_selection_part                       4                       0   \n",
      "12  sorted_selection_part                       4                       0   \n",
      "13  sorted_selection_part                       4                       0   \n",
      "14  sorted_selection_part                       4                       0   \n",
      "\n",
      "    fitness_function algorithm  \n",
      "0                  5  Baseline  \n",
      "1                  5   Lamarck  \n",
      "2                  5   Baldwin  \n",
      "3                  5  Baseline  \n",
      "4                  5   Lamarck  \n",
      "5                  5   Baldwin  \n",
      "6                  5  Baseline  \n",
      "7                  5   Lamarck  \n",
      "8                  5   Baldwin  \n",
      "9                  5  Baseline  \n",
      "10                 5   Lamarck  \n",
      "11                 5   Baldwin  \n",
      "12                 5  Baseline  \n",
      "13                 5   Lamarck  \n",
      "14                 5   Baldwin  \n"
     ]
    }
   ],
   "source": [
    "# Load data\n",
    "params = pd.read_csv('/Users/meijiaojiao/Desktop/Evolution_algorithm/Experiment18/Experiment_F5/parameter_combinations.csv',\n",
    "                        sep=',', header=0, index_col=0)\n",
    "print(params.shape)\n",
    "print(params)"
   ],
   "metadata": {
    "collapsed": false,
    "ExecuteTime": {
     "end_time": "2023-10-05T03:30:27.500769Z",
     "start_time": "2023-10-05T03:30:27.423151Z"
    }
   },
   "id": "88fe1997a795586f"
  },
  {
   "cell_type": "code",
   "execution_count": 367,
   "outputs": [
    {
     "name": "stdout",
     "output_type": "stream",
     "text": [
      "(23200,)\n",
      "[965039787.2862765, 1715368.0224026295, 45208.42389681584, 9273.442077503812, 4307.827294453517, 2281.1415044767086, 1496.9997713325317, 1273.657267161396, 1108.1645501915068, 964.2894880253799]\n"
     ]
    }
   ],
   "source": [
    "best_fitness_F5 = np.loadtxt('/Users/meijiaojiao/Desktop/Evolution_algorithm/Experiment18/Experiment_F5/best_fitness_F5.txt')\n",
    "print(best_fitness_F5.shape)\n",
    "best_fitness_F5 = best_fitness_F5.tolist()\n",
    "print(best_fitness_F5[0:10])"
   ],
   "metadata": {
    "collapsed": false,
    "ExecuteTime": {
     "end_time": "2023-10-05T03:30:27.517860Z",
     "start_time": "2023-10-05T03:30:27.497116Z"
    }
   },
   "id": "4e1e6e17eba85562"
  },
  {
   "cell_type": "code",
   "execution_count": 368,
   "outputs": [
    {
     "name": "stdout",
     "output_type": "stream",
     "text": [
      "(15, 10)\n"
     ]
    }
   ],
   "source": [
    "solution_F5 = pd.read_csv('/Users/meijiaojiao/Desktop/Evolution_algorithm/Experiment18/Experiment_F5/solutions_dataframe.csv',sep=',', header=0, index_col=0)\n",
    "print(solution_F5.shape)"
   ],
   "metadata": {
    "collapsed": false,
    "ExecuteTime": {
     "end_time": "2023-10-05T03:30:27.537569Z",
     "start_time": "2023-10-05T03:30:27.515101Z"
    }
   },
   "id": "90c2c8044742db2"
  },
  {
   "cell_type": "code",
   "execution_count": 369,
   "outputs": [
    {
     "name": "stdout",
     "output_type": "stream",
     "text": [
      "23200\n"
     ]
    }
   ],
   "source": [
    "with open('/Users/meijiaojiao/Desktop/Evolution_algorithm/Experiment18/Experiment_F5/fitness_F5.txt', 'r') as f:\n",
    "    fitness_F5 = f.readlines()\n",
    "print(len(fitness_F5))"
   ],
   "metadata": {
    "collapsed": false,
    "ExecuteTime": {
     "end_time": "2023-10-05T03:30:27.690910Z",
     "start_time": "2023-10-05T03:30:27.527304Z"
    }
   },
   "id": "45385a96f720b4c1"
  },
  {
   "cell_type": "code",
   "execution_count": 370,
   "outputs": [
    {
     "name": "stdout",
     "output_type": "stream",
     "text": [
      "The index is 200, the value is 965769466.621393, the counter is 1, the gap is 200\n",
      "The index is 400, the value is 1025235974.659917, the counter is 2, the gap is 200\n",
      "The index is 600, the value is 1088985624.451525, the counter is 3, the gap is 200\n",
      "The index is 800, the value is 1126181202.085530, the counter is 4, the gap is 200\n",
      "The index is 1000, the value is 1022049460.139015, the counter is 5, the gap is 200\n",
      "The index is 1200, the value is 1087785406.278253, the counter is 6, the gap is 200\n",
      "The index is 1400, the value is 1081161148.090053, the counter is 7, the gap is 200\n",
      "The index is 1600, the value is 1021864654.059256, the counter is 8, the gap is 200\n",
      "The index is 1800, the value is 1035937191.185589, the counter is 9, the gap is 200\n",
      "The index is 2000, the value is 1012794892.842480, the counter is 10, the gap is 200\n",
      "The index is 2100, the value is 1071497964.917281, the counter is 11, the gap is 100\n",
      "The index is 2200, the value is 1168048898.649669, the counter is 12, the gap is 100\n",
      "The index is 2300, the value is 941746731.587779, the counter is 13, the gap is 100\n",
      "The index is 2400, the value is 909339874.190008, the counter is 14, the gap is 100\n",
      "The index is 2500, the value is 1074826771.654887, the counter is 15, the gap is 100\n",
      "The index is 2600, the value is 1128447656.235812, the counter is 16, the gap is 100\n",
      "The index is 2700, the value is 1125532026.522749, the counter is 17, the gap is 100\n",
      "The index is 2800, the value is 939338536.065295, the counter is 18, the gap is 100\n",
      "The index is 2900, the value is 1023258434.153038, the counter is 19, the gap is 100\n",
      "The index is 3000, the value is 948193374.973874, the counter is 20, the gap is 100\n",
      "The index is 3100, the value is 1086448903.273630, the counter is 21, the gap is 100\n",
      "The index is 3200, the value is 1127790992.108972, the counter is 22, the gap is 100\n",
      "The index is 3300, the value is 1035135468.345900, the counter is 23, the gap is 100\n",
      "The index is 3400, the value is 1061150297.041874, the counter is 24, the gap is 100\n",
      "The index is 3500, the value is 978358303.777973, the counter is 25, the gap is 100\n",
      "The index is 3600, the value is 989090599.802788, the counter is 26, the gap is 100\n",
      "The index is 3700, the value is 960205781.061679, the counter is 27, the gap is 100\n",
      "The index is 3800, the value is 1043671317.358709, the counter is 28, the gap is 100\n",
      "The index is 3900, the value is 946345319.940247, the counter is 29, the gap is 100\n",
      "The index is 4000, the value is 1003889545.406959, the counter is 30, the gap is 100\n",
      "The index is 4400, the value is 1063565453.642674, the counter is 31, the gap is 400\n",
      "The index is 4800, the value is 1162656973.192955, the counter is 32, the gap is 400\n",
      "The index is 5200, the value is 1012640088.502234, the counter is 33, the gap is 400\n",
      "The index is 5600, the value is 991781571.875551, the counter is 34, the gap is 400\n",
      "The index is 6000, the value is 998620391.015240, the counter is 35, the gap is 400\n",
      "The index is 6400, the value is 1164438995.960689, the counter is 36, the gap is 400\n",
      "The index is 6800, the value is 1116516556.562747, the counter is 37, the gap is 400\n",
      "The index is 7200, the value is 992584758.729158, the counter is 38, the gap is 400\n",
      "The index is 7600, the value is 908422217.390738, the counter is 39, the gap is 400\n",
      "The index is 8000, the value is 1071135672.828939, the counter is 40, the gap is 400\n",
      "The index is 8200, the value is 972019194.235639, the counter is 41, the gap is 200\n",
      "The index is 8400, the value is 1031054198.933226, the counter is 42, the gap is 200\n",
      "The index is 8600, the value is 1093422405.898511, the counter is 43, the gap is 200\n",
      "The index is 8800, the value is 1004943431.626529, the counter is 44, the gap is 200\n",
      "The index is 9000, the value is 1072538581.155534, the counter is 45, the gap is 200\n",
      "The index is 9200, the value is 1074004358.069586, the counter is 46, the gap is 200\n",
      "The index is 9400, the value is 1124378136.508185, the counter is 47, the gap is 200\n",
      "The index is 9600, the value is 1071100231.875025, the counter is 48, the gap is 200\n",
      "The index is 9800, the value is 984251958.726239, the counter is 49, the gap is 200\n",
      "The index is 10000, the value is 983813753.985254, the counter is 50, the gap is 200\n",
      "The index is 10200, the value is 1013712770.846592, the counter is 51, the gap is 200\n",
      "The index is 10400, the value is 1000668628.374614, the counter is 52, the gap is 200\n",
      "The index is 10600, the value is 1079350886.420261, the counter is 53, the gap is 200\n",
      "The index is 10800, the value is 1175950295.877270, the counter is 54, the gap is 200\n",
      "The index is 11000, the value is 999239546.219938, the counter is 55, the gap is 200\n",
      "The index is 11200, the value is 952089874.260103, the counter is 56, the gap is 200\n",
      "The index is 11400, the value is 1008155675.950168, the counter is 57, the gap is 200\n",
      "The index is 11600, the value is 1083859942.395749, the counter is 58, the gap is 200\n",
      "The index is 11800, the value is 1197732085.605194, the counter is 59, the gap is 200\n",
      "The index is 12000, the value is 1046613306.843690, the counter is 60, the gap is 200\n",
      "The index is 12200, the value is 1063804969.131055, the counter is 61, the gap is 200\n",
      "The index is 12400, the value is 1143003113.843587, the counter is 62, the gap is 200\n",
      "The index is 12600, the value is 1040304782.852245, the counter is 63, the gap is 200\n",
      "The index is 12800, the value is 983567444.671291, the counter is 64, the gap is 200\n",
      "The index is 13000, the value is 989534628.821459, the counter is 65, the gap is 200\n",
      "The index is 13200, the value is 1030288662.178150, the counter is 66, the gap is 200\n",
      "The index is 13400, the value is 1082656285.069539, the counter is 67, the gap is 200\n",
      "The index is 13600, the value is 1104707744.509370, the counter is 68, the gap is 200\n",
      "The index is 13800, the value is 1070971218.322351, the counter is 69, the gap is 200\n",
      "The index is 14000, the value is 984897939.465855, the counter is 70, the gap is 200\n",
      "The index is 14040, the value is 874492637.331761, the counter is 71, the gap is 40\n",
      "The index is 14080, the value is 1001649354.274394, the counter is 72, the gap is 40\n",
      "The index is 14120, the value is 945949115.345461, the counter is 73, the gap is 40\n",
      "The index is 14160, the value is 1006253523.482896, the counter is 74, the gap is 40\n",
      "The index is 14200, the value is 928507363.096065, the counter is 75, the gap is 40\n",
      "The index is 14240, the value is 919602086.738840, the counter is 76, the gap is 40\n",
      "The index is 14280, the value is 816065081.434247, the counter is 77, the gap is 40\n",
      "The index is 14320, the value is 1045398701.663291, the counter is 78, the gap is 40\n",
      "The index is 14360, the value is 967817226.486174, the counter is 79, the gap is 40\n",
      "The index is 14400, the value is 1028734503.602987, the counter is 80, the gap is 40\n",
      "The index is 14440, the value is 958123646.228089, the counter is 81, the gap is 40\n",
      "The index is 14480, the value is 843545981.392307, the counter is 82, the gap is 40\n",
      "The index is 14520, the value is 982881075.737903, the counter is 83, the gap is 40\n",
      "The index is 14560, the value is 866519186.338139, the counter is 84, the gap is 40\n",
      "The index is 14600, the value is 902636648.632715, the counter is 85, the gap is 40\n",
      "The index is 14640, the value is 962672409.999085, the counter is 86, the gap is 40\n",
      "The index is 14680, the value is 1000446490.747241, the counter is 87, the gap is 40\n",
      "The index is 14720, the value is 990946327.618298, the counter is 88, the gap is 40\n",
      "The index is 14760, the value is 930657189.847593, the counter is 89, the gap is 40\n",
      "The index is 14800, the value is 1319891588.286093, the counter is 90, the gap is 40\n",
      "The index is 15200, the value is 1057269071.749510, the counter is 91, the gap is 400\n",
      "The index is 15600, the value is 894589245.330094, the counter is 92, the gap is 400\n",
      "The index is 16000, the value is 1057308076.508059, the counter is 93, the gap is 400\n",
      "The index is 16400, the value is 1040870486.342516, the counter is 94, the gap is 400\n",
      "The index is 16800, the value is 1056564681.069401, the counter is 95, the gap is 400\n",
      "The index is 17200, the value is 1126639436.538919, the counter is 96, the gap is 400\n",
      "The index is 17600, the value is 1028116446.095685, the counter is 97, the gap is 400\n",
      "The index is 18000, the value is 1109123461.642339, the counter is 98, the gap is 400\n",
      "The index is 18400, the value is 1096210602.106316, the counter is 99, the gap is 400\n",
      "The index is 18800, the value is 1222026848.915326, the counter is 100, the gap is 400\n",
      "The index is 18880, the value is 1136779233.318510, the counter is 101, the gap is 80\n",
      "The index is 18960, the value is 843015510.408148, the counter is 102, the gap is 80\n",
      "The index is 19040, the value is 1078821428.402197, the counter is 103, the gap is 80\n",
      "The index is 19120, the value is 1019598707.429840, the counter is 104, the gap is 80\n",
      "The index is 19200, the value is 957431657.077667, the counter is 105, the gap is 80\n",
      "The index is 19280, the value is 1103022011.004160, the counter is 106, the gap is 80\n",
      "The index is 19360, the value is 921771893.983269, the counter is 107, the gap is 80\n",
      "The index is 19440, the value is 1135715330.231041, the counter is 108, the gap is 80\n",
      "The index is 19520, the value is 1133303075.060479, the counter is 109, the gap is 80\n",
      "The index is 19600, the value is 1101369225.587629, the counter is 110, the gap is 80\n",
      "The index is 19680, the value is 1113321960.798687, the counter is 111, the gap is 80\n",
      "The index is 19760, the value is 1085071494.057795, the counter is 112, the gap is 80\n",
      "The index is 19840, the value is 1028545102.481533, the counter is 113, the gap is 80\n",
      "The index is 19920, the value is 1042463365.609897, the counter is 114, the gap is 80\n",
      "The index is 20000, the value is 1131111355.439087, the counter is 115, the gap is 80\n",
      "The index is 20080, the value is 1044052910.176498, the counter is 116, the gap is 80\n",
      "The index is 20160, the value is 1067884406.923043, the counter is 117, the gap is 80\n",
      "The index is 20240, the value is 991628317.875006, the counter is 118, the gap is 80\n",
      "The index is 20320, the value is 972744451.666866, the counter is 119, the gap is 80\n",
      "The index is 20400, the value is 1110552572.842647, the counter is 120, the gap is 80\n",
      "The index is 20600, the value is 1088305777.718668, the counter is 121, the gap is 200\n",
      "The index is 20800, the value is 920461966.920963, the counter is 122, the gap is 200\n",
      "The index is 21000, the value is 941391323.126376, the counter is 123, the gap is 200\n",
      "The index is 21200, the value is 1086064342.541827, the counter is 124, the gap is 200\n",
      "The index is 21400, the value is 1220553528.606414, the counter is 125, the gap is 200\n",
      "The index is 21600, the value is 925379538.210970, the counter is 126, the gap is 200\n",
      "The index is 21800, the value is 1010980714.292116, the counter is 127, the gap is 200\n",
      "The index is 22000, the value is 938203831.959034, the counter is 128, the gap is 200\n",
      "The index is 22200, the value is 946289710.710111, the counter is 129, the gap is 200\n",
      "The index is 22400, the value is 952521400.252662, the counter is 130, the gap is 200\n",
      "The index is 22440, the value is 1034953474.822568, the counter is 131, the gap is 40\n",
      "The index is 22480, the value is 1013479478.764641, the counter is 132, the gap is 40\n",
      "The index is 22520, the value is 986511867.820248, the counter is 133, the gap is 40\n",
      "The index is 22560, the value is 915109840.944702, the counter is 134, the gap is 40\n",
      "The index is 22600, the value is 1012458734.263121, the counter is 135, the gap is 40\n",
      "The index is 22640, the value is 1003526938.641499, the counter is 136, the gap is 40\n",
      "The index is 22680, the value is 1013665899.731732, the counter is 137, the gap is 40\n",
      "The index is 22720, the value is 1037418001.322697, the counter is 138, the gap is 40\n",
      "The index is 22760, the value is 915297540.803389, the counter is 139, the gap is 40\n",
      "The index is 22800, the value is 1039267633.677962, the counter is 140, the gap is 40\n",
      "The index is 22840, the value is 1123253252.005352, the counter is 141, the gap is 40\n",
      "The index is 22880, the value is 924957501.044823, the counter is 142, the gap is 40\n",
      "The index is 22920, the value is 992851935.077108, the counter is 143, the gap is 40\n",
      "The index is 22960, the value is 1033594480.402860, the counter is 144, the gap is 40\n",
      "The index is 23000, the value is 999891480.154559, the counter is 145, the gap is 40\n",
      "The index is 23040, the value is 942781529.216594, the counter is 146, the gap is 40\n",
      "The index is 23080, the value is 1040062148.198013, the counter is 147, the gap is 40\n",
      "The index is 23120, the value is 1083038051.601914, the counter is 148, the gap is 40\n",
      "The index is 23160, the value is 951346197.704327, the counter is 149, the gap is 40\n",
      "150\n"
     ]
    }
   ],
   "source": [
    "counter = 0\n",
    "index_list = [0]\n",
    "for index,value in enumerate(best_fitness_F5):\n",
    "    if index > 0:\n",
    "        if value > best_fitness_F5[index-1]:\n",
    "            index_list.append(index)\n",
    "            gap = index - index_list[-2]\n",
    "            counter += 1\n",
    "            print(\"The index is %d, the value is %f, the counter is %d, the gap is %d\" % (index, value, counter, gap))\n",
    "best_fitness_F5_sublist = []\n",
    "for i in range(len(index_list)):\n",
    "    if i < len(index_list)-1:\n",
    "        best_fitness_F5_sublist.append(best_fitness_F5[index_list[i]:index_list[i+1]])\n",
    "    else:\n",
    "        best_fitness_F5_sublist.append(best_fitness_F5[index_list[i]:])\n",
    "print(len(best_fitness_F5_sublist))"
   ],
   "metadata": {
    "collapsed": false,
    "ExecuteTime": {
     "end_time": "2023-10-05T03:30:27.721287Z",
     "start_time": "2023-10-05T03:30:27.694758Z"
    }
   },
   "id": "137a13337642d3fe"
  },
  {
   "cell_type": "code",
   "execution_count": 371,
   "outputs": [
    {
     "name": "stdout",
     "output_type": "stream",
     "text": [
      "(23200,)\n",
      "(15, 10)\n",
      "23200\n",
      "The index is 200, the value is -5171.622988, the counter is 1, the gap is 200\n",
      "The index is 400, the value is -5788.189222, the counter is 2, the gap is 200\n",
      "The index is 600, the value is -4330.817360, the counter is 3, the gap is 200\n",
      "The index is 800, the value is -4962.139953, the counter is 4, the gap is 200\n",
      "The index is 1000, the value is -5272.391509, the counter is 5, the gap is 200\n",
      "The index is 1200, the value is -6091.756974, the counter is 6, the gap is 200\n",
      "The index is 1400, the value is -6585.954682, the counter is 7, the gap is 200\n",
      "The index is 1600, the value is -5334.093106, the counter is 8, the gap is 200\n",
      "The index is 1800, the value is -5190.055763, the counter is 9, the gap is 200\n",
      "The index is 2000, the value is -4676.283239, the counter is 10, the gap is 200\n",
      "The index is 2100, the value is -6204.362740, the counter is 11, the gap is 100\n",
      "The index is 2200, the value is -6360.353908, the counter is 12, the gap is 100\n",
      "The index is 2300, the value is -8317.138600, the counter is 13, the gap is 100\n",
      "The index is 2400, the value is -6215.888674, the counter is 14, the gap is 100\n",
      "The index is 2500, the value is -6036.699984, the counter is 15, the gap is 100\n",
      "The index is 2600, the value is -4955.335157, the counter is 16, the gap is 100\n",
      "The index is 2700, the value is -5008.795698, the counter is 17, the gap is 100\n",
      "The index is 2800, the value is -4865.288046, the counter is 18, the gap is 100\n",
      "The index is 2900, the value is -5801.360076, the counter is 19, the gap is 100\n",
      "The index is 3000, the value is -6621.915334, the counter is 20, the gap is 100\n",
      "The index is 3100, the value is -5024.625302, the counter is 21, the gap is 100\n",
      "The index is 3200, the value is -5094.859682, the counter is 22, the gap is 100\n",
      "The index is 3300, the value is -5382.652327, the counter is 23, the gap is 100\n",
      "The index is 3400, the value is -5695.256769, the counter is 24, the gap is 100\n",
      "The index is 3500, the value is -4577.896436, the counter is 25, the gap is 100\n",
      "The index is 3600, the value is -6563.129723, the counter is 26, the gap is 100\n",
      "The index is 3700, the value is -5114.421989, the counter is 27, the gap is 100\n",
      "The index is 3800, the value is -5736.913617, the counter is 28, the gap is 100\n",
      "The index is 3900, the value is -5506.211200, the counter is 29, the gap is 100\n",
      "The index is 4000, the value is -4295.874556, the counter is 30, the gap is 100\n",
      "The index is 4400, the value is -4539.052812, the counter is 31, the gap is 400\n",
      "The index is 4800, the value is -4704.895025, the counter is 32, the gap is 400\n",
      "The index is 5200, the value is -4866.851792, the counter is 33, the gap is 400\n",
      "The index is 5600, the value is -5346.653805, the counter is 34, the gap is 400\n",
      "The index is 6000, the value is -6495.116590, the counter is 35, the gap is 400\n",
      "The index is 6400, the value is -5030.638879, the counter is 36, the gap is 400\n",
      "The index is 6800, the value is -4309.261742, the counter is 37, the gap is 400\n",
      "The index is 7200, the value is -5726.075149, the counter is 38, the gap is 400\n",
      "The index is 7600, the value is -5124.590261, the counter is 39, the gap is 400\n",
      "The index is 8000, the value is -5693.639382, the counter is 40, the gap is 400\n",
      "The index is 8200, the value is -5510.560047, the counter is 41, the gap is 200\n",
      "The index is 8400, the value is -5225.275431, the counter is 42, the gap is 200\n",
      "The index is 8600, the value is -4695.630718, the counter is 43, the gap is 200\n",
      "The index is 8800, the value is -5323.634423, the counter is 44, the gap is 200\n",
      "The index is 9000, the value is -7226.483373, the counter is 45, the gap is 200\n",
      "The index is 9200, the value is -4733.843225, the counter is 46, the gap is 200\n",
      "The index is 9400, the value is -6552.809904, the counter is 47, the gap is 200\n",
      "The index is 9600, the value is -4626.003819, the counter is 48, the gap is 200\n",
      "The index is 9800, the value is -4637.512374, the counter is 49, the gap is 200\n",
      "The index is 10000, the value is -4900.308875, the counter is 50, the gap is 200\n",
      "The index is 10200, the value is -5810.971067, the counter is 51, the gap is 200\n",
      "The index is 10400, the value is -5327.209072, the counter is 52, the gap is 200\n",
      "The index is 10600, the value is -5100.780400, the counter is 53, the gap is 200\n",
      "The index is 10800, the value is -5661.433376, the counter is 54, the gap is 200\n",
      "The index is 11000, the value is -5217.057063, the counter is 55, the gap is 200\n",
      "The index is 11200, the value is -4563.313217, the counter is 56, the gap is 200\n",
      "The index is 11400, the value is -6852.424254, the counter is 57, the gap is 200\n",
      "The index is 11600, the value is -4228.991276, the counter is 58, the gap is 200\n",
      "The index is 11800, the value is -6175.680823, the counter is 59, the gap is 200\n",
      "The index is 12000, the value is -4286.856542, the counter is 60, the gap is 200\n",
      "The index is 12200, the value is -5769.241674, the counter is 61, the gap is 200\n",
      "The index is 12400, the value is -5191.093540, the counter is 62, the gap is 200\n",
      "The index is 12600, the value is -5276.662014, the counter is 63, the gap is 200\n",
      "The index is 12800, the value is -5577.077871, the counter is 64, the gap is 200\n",
      "The index is 13000, the value is -5292.185874, the counter is 65, the gap is 200\n",
      "The index is 13200, the value is -5048.715214, the counter is 66, the gap is 200\n",
      "The index is 13400, the value is -5014.565759, the counter is 67, the gap is 200\n",
      "The index is 13600, the value is -5065.919528, the counter is 68, the gap is 200\n",
      "The index is 13800, the value is -6019.470955, the counter is 69, the gap is 200\n",
      "The index is 14000, the value is -6749.229558, the counter is 70, the gap is 200\n",
      "The index is 14040, the value is -5988.652907, the counter is 71, the gap is 40\n",
      "The index is 14080, the value is -6983.142910, the counter is 72, the gap is 40\n",
      "The index is 14120, the value is -7601.054513, the counter is 73, the gap is 40\n",
      "The index is 14160, the value is -5938.461611, the counter is 74, the gap is 40\n",
      "The index is 14200, the value is -6064.033386, the counter is 75, the gap is 40\n",
      "The index is 14240, the value is -5912.953164, the counter is 76, the gap is 40\n",
      "The index is 14280, the value is -8076.561201, the counter is 77, the gap is 40\n",
      "The index is 14320, the value is -5473.193959, the counter is 78, the gap is 40\n",
      "The index is 14360, the value is -7999.189031, the counter is 79, the gap is 40\n",
      "The index is 14400, the value is -6662.295968, the counter is 80, the gap is 40\n",
      "The index is 14440, the value is -7786.316071, the counter is 81, the gap is 40\n",
      "The index is 14480, the value is -6458.047466, the counter is 82, the gap is 40\n",
      "The index is 14520, the value is -6773.134959, the counter is 83, the gap is 40\n",
      "The index is 14560, the value is -6451.948936, the counter is 84, the gap is 40\n",
      "The index is 14600, the value is -6497.600108, the counter is 85, the gap is 40\n",
      "The index is 14640, the value is -6372.942906, the counter is 86, the gap is 40\n",
      "The index is 14680, the value is -6069.698940, the counter is 87, the gap is 40\n",
      "The index is 14720, the value is -5845.811866, the counter is 88, the gap is 40\n",
      "The index is 14760, the value is -8066.401366, the counter is 89, the gap is 40\n",
      "The index is 14800, the value is -6092.113532, the counter is 90, the gap is 40\n",
      "The index is 15200, the value is -4580.586826, the counter is 91, the gap is 400\n",
      "The index is 15600, the value is -5827.389026, the counter is 92, the gap is 400\n",
      "The index is 16000, the value is -5928.224425, the counter is 93, the gap is 400\n",
      "The index is 16400, the value is -4410.339522, the counter is 94, the gap is 400\n",
      "The index is 16800, the value is -5322.099476, the counter is 95, the gap is 400\n",
      "The index is 17200, the value is -4876.070066, the counter is 96, the gap is 400\n",
      "The index is 17600, the value is -4926.513232, the counter is 97, the gap is 400\n",
      "The index is 18000, the value is -5679.651772, the counter is 98, the gap is 400\n",
      "The index is 18400, the value is -5907.767797, the counter is 99, the gap is 400\n",
      "The index is 18800, the value is -5683.209494, the counter is 100, the gap is 400\n",
      "The index is 18880, the value is -7650.726113, the counter is 101, the gap is 80\n",
      "The index is 18960, the value is -7589.945677, the counter is 102, the gap is 80\n",
      "The index is 19040, the value is -5184.204944, the counter is 103, the gap is 80\n",
      "The index is 19120, the value is -6176.129469, the counter is 104, the gap is 80\n",
      "The index is 19200, the value is -6057.684293, the counter is 105, the gap is 80\n",
      "The index is 19280, the value is -6199.946822, the counter is 106, the gap is 80\n",
      "The index is 19360, the value is -5796.205342, the counter is 107, the gap is 80\n",
      "The index is 19440, the value is -6767.035393, the counter is 108, the gap is 80\n",
      "The index is 19520, the value is -5463.814037, the counter is 109, the gap is 80\n",
      "The index is 19600, the value is -5486.767753, the counter is 110, the gap is 80\n",
      "The index is 19680, the value is -6685.021067, the counter is 111, the gap is 80\n",
      "The index is 19760, the value is -6223.258128, the counter is 112, the gap is 80\n",
      "The index is 19840, the value is -6611.106282, the counter is 113, the gap is 80\n",
      "The index is 19920, the value is -5367.938186, the counter is 114, the gap is 80\n",
      "The index is 20000, the value is -5555.684154, the counter is 115, the gap is 80\n",
      "The index is 20080, the value is -5667.322890, the counter is 116, the gap is 80\n",
      "The index is 20160, the value is -6352.067791, the counter is 117, the gap is 80\n",
      "The index is 20240, the value is -6054.209731, the counter is 118, the gap is 80\n",
      "The index is 20320, the value is -6383.801734, the counter is 119, the gap is 80\n",
      "The index is 20400, the value is -5751.587510, the counter is 120, the gap is 80\n",
      "The index is 20600, the value is -5122.734459, the counter is 121, the gap is 200\n",
      "The index is 20800, the value is -7407.116283, the counter is 122, the gap is 200\n",
      "The index is 21000, the value is -5788.747848, the counter is 123, the gap is 200\n",
      "The index is 21200, the value is -4954.881074, the counter is 124, the gap is 200\n",
      "The index is 21400, the value is -4358.452754, the counter is 125, the gap is 200\n",
      "The index is 21600, the value is -4743.641788, the counter is 126, the gap is 200\n",
      "The index is 21800, the value is -7034.256107, the counter is 127, the gap is 200\n",
      "The index is 22000, the value is -5114.549095, the counter is 128, the gap is 200\n",
      "The index is 22200, the value is -5036.792246, the counter is 129, the gap is 200\n",
      "The index is 22400, the value is -9022.923594, the counter is 130, the gap is 200\n",
      "The index is 22440, the value is -7593.704736, the counter is 131, the gap is 40\n",
      "The index is 22480, the value is -7455.362900, the counter is 132, the gap is 40\n",
      "The index is 22520, the value is -7127.269100, the counter is 133, the gap is 40\n",
      "The index is 22560, the value is -7321.210356, the counter is 134, the gap is 40\n",
      "The index is 22600, the value is -7531.330634, the counter is 135, the gap is 40\n",
      "The index is 22640, the value is -5913.130732, the counter is 136, the gap is 40\n",
      "The index is 22680, the value is -6570.767949, the counter is 137, the gap is 40\n",
      "The index is 22720, the value is -6828.264873, the counter is 138, the gap is 40\n",
      "The index is 22760, the value is -5666.771086, the counter is 139, the gap is 40\n",
      "The index is 22800, the value is -5387.199491, the counter is 140, the gap is 40\n",
      "The index is 22840, the value is -6595.364134, the counter is 141, the gap is 40\n",
      "The index is 22880, the value is -6294.939754, the counter is 142, the gap is 40\n",
      "The index is 22920, the value is -6459.068986, the counter is 143, the gap is 40\n",
      "The index is 22960, the value is -7940.202068, the counter is 144, the gap is 40\n",
      "The index is 23000, the value is -6204.113902, the counter is 145, the gap is 40\n",
      "The index is 23040, the value is -6134.150869, the counter is 146, the gap is 40\n",
      "The index is 23080, the value is -6092.008238, the counter is 147, the gap is 40\n",
      "The index is 23120, the value is -6159.855090, the counter is 148, the gap is 40\n",
      "The index is 23160, the value is -6798.731535, the counter is 149, the gap is 40\n",
      "150\n"
     ]
    }
   ],
   "source": [
    "# load the data for F8\n",
    "best_fitness_F8 = np.loadtxt('/Users/meijiaojiao/Desktop/Evolution_algorithm/Experiment18/Experiment_F8/best_fitness_F8.txt')\n",
    "print(best_fitness_F8.shape)\n",
    "best_fitness_F8 = best_fitness_F8.tolist()\n",
    "solution_F8 = pd.read_csv('/Users/meijiaojiao/Desktop/Evolution_algorithm/Experiment18/Experiment_F8/solutions_dataframe.csv',sep=',', header=0, index_col=0)\n",
    "print(solution_F8.shape)\n",
    "with open('/Users/meijiaojiao/Desktop/Evolution_algorithm/Experiment18/Experiment_F8/fitness_F8.txt', 'r') as f:\n",
    "    fitness_F8 = f.readlines()\n",
    "print(len(fitness_F8[491:]))\n",
    "counter = 0\n",
    "index_list = [0]\n",
    "for index,value in enumerate(best_fitness_F8):\n",
    "    if index > 0:\n",
    "        if value > best_fitness_F8[index-1]:\n",
    "            index_list.append(index)\n",
    "            gap = index - index_list[-2]\n",
    "            counter += 1\n",
    "            print(\"The index is %d, the value is %f, the counter is %d, the gap is %d\" % (index, value, counter, gap))\n",
    "best_fitness_F8_sublist = []\n",
    "for i in range(len(index_list)):\n",
    "    if i < len(index_list)-1:\n",
    "        best_fitness_F8_sublist.append(best_fitness_F8[index_list[i]:index_list[i+1]])\n",
    "    else:\n",
    "        best_fitness_F8_sublist.append(best_fitness_F8[index_list[i]:])\n",
    "print(len(best_fitness_F8_sublist))"
   ],
   "metadata": {
    "collapsed": false,
    "ExecuteTime": {
     "end_time": "2023-10-05T03:30:27.900732Z",
     "start_time": "2023-10-05T03:30:27.780161Z"
    }
   },
   "id": "e4c39ff2458d1f12"
  },
  {
   "cell_type": "code",
   "execution_count": 372,
   "outputs": [
    {
     "name": "stdout",
     "output_type": "stream",
     "text": [
      "(22138,)\n",
      "(15, 10)\n",
      "22138\n",
      "150\n"
     ]
    }
   ],
   "source": [
    "# load the data for F21\n",
    "best_fitness_F21 = np.loadtxt('/Users/meijiaojiao/Desktop/Evolution_algorithm/Experiment18/Experiment_F21/best_fitness_F21.txt')\n",
    "print(best_fitness_F21.shape)\n",
    "best_fitness_F21 = best_fitness_F21.tolist()\n",
    "solution_F21 = pd.read_csv('/Users/meijiaojiao/Desktop/Evolution_algorithm/Experiment18/Experiment_F21/solutions_dataframe.csv',sep=',', header=0, index_col=0)\n",
    "print(solution_F21.shape)\n",
    "with open('/Users/meijiaojiao/Desktop/Evolution_algorithm/Experiment18/Experiment_F21/fitness_F21.txt', 'r') as f:\n",
    "    fitness_F21 = f.readlines()\n",
    "print(len(fitness_F21))\n",
    "counter = 0\n",
    "index_list = [0]\n",
    "for index,value in enumerate(best_fitness_F21):\n",
    "    if index > 0:\n",
    "        if value > best_fitness_F21[index-1]:\n",
    "            index_list.append(index)\n",
    "            gap = index - index_list[-2]\n",
    "            counter += 1\n",
    "            # print(\"The index is %d, the value is %f, the counter is %d, the gap is %d\" % (index, value, counter, gap))\n",
    "index_list.insert(1, 8016)\n",
    "index_list.insert(2, 8816)\n",
    "index_list = sorted(index_list)\n",
    "best_fitness_F21_sublist = []\n",
    "for i in range(len(index_list)):\n",
    "    if i < len(index_list)-1:\n",
    "        best_fitness_F21_sublist.append(best_fitness_F21[index_list[i]:index_list[i+1]])\n",
    "    else:\n",
    "        best_fitness_F21_sublist.append(best_fitness_F21[index_list[i]:])\n",
    "print(len(best_fitness_F21_sublist))"
   ],
   "metadata": {
    "collapsed": false,
    "ExecuteTime": {
     "end_time": "2023-10-05T03:30:28.019494Z",
     "start_time": "2023-10-05T03:30:27.898047Z"
    }
   },
   "id": "767a52ffb0a6b071"
  },
  {
   "cell_type": "code",
   "execution_count": 373,
   "outputs": [],
   "source": [
    "# each sublist, if the len(sublist) < 400, then add zeros to the end of the sublist\n",
    "for index, i in enumerate(best_fitness_F5_sublist):\n",
    "    if len(i) < 400:\n",
    "        for j in range(400-len(i)):\n",
    "            i.append(np.nan)\n",
    "    best_fitness_F5_sublist[index] = i"
   ],
   "metadata": {
    "collapsed": false,
    "ExecuteTime": {
     "end_time": "2023-10-05T03:30:28.032345Z",
     "start_time": "2023-10-05T03:30:28.021276Z"
    }
   },
   "id": "52e382a257b481df"
  },
  {
   "cell_type": "code",
   "execution_count": 374,
   "outputs": [],
   "source": [
    "for index, i in enumerate(best_fitness_F8_sublist):\n",
    "    if len(i) < 400:\n",
    "        for j in range(400-len(i)):\n",
    "            i.append(np.nan)\n",
    "    best_fitness_F8_sublist[index] = i"
   ],
   "metadata": {
    "collapsed": false,
    "ExecuteTime": {
     "end_time": "2023-10-05T03:30:28.050437Z",
     "start_time": "2023-10-05T03:30:28.029210Z"
    }
   },
   "id": "aa929da250a9e6e7"
  },
  {
   "cell_type": "code",
   "execution_count": 375,
   "outputs": [],
   "source": [
    "for index, i in enumerate(best_fitness_F21_sublist):\n",
    "    if len(i) < 400:\n",
    "        for j in range(400-len(i)):\n",
    "            i.append(np.nan)\n",
    "    best_fitness_F21_sublist[index] = i"
   ],
   "metadata": {
    "collapsed": false,
    "ExecuteTime": {
     "end_time": "2023-10-05T03:30:28.051393Z",
     "start_time": "2023-10-05T03:30:28.039224Z"
    }
   },
   "id": "7dc23f300431ca21"
  },
  {
   "cell_type": "code",
   "execution_count": 376,
   "outputs": [
    {
     "name": "stdout",
     "output_type": "stream",
     "text": [
      "(150, 400)\n"
     ]
    }
   ],
   "source": [
    "best_fitness_F5_sublist = np.array(best_fitness_F5_sublist)\n",
    "best_fitness_F8_sublist = np.array(best_fitness_F8_sublist)\n",
    "best_fitness_F21_sublist = np.array(best_fitness_F21_sublist)\n",
    "print(best_fitness_F5_sublist.shape)"
   ],
   "metadata": {
    "collapsed": false,
    "ExecuteTime": {
     "end_time": "2023-10-05T03:30:28.060324Z",
     "start_time": "2023-10-05T03:30:28.052270Z"
    }
   },
   "id": "4a79b42944aadae0"
  },
  {
   "cell_type": "code",
   "execution_count": 377,
   "outputs": [
    {
     "name": "stdout",
     "output_type": "stream",
     "text": [
      "    num_generations  mutation_rate  num_individuals  crossover_rate  \\\n",
      "0           1000000           0.03              200             0.7   \n",
      "1           1000000           0.03              200             0.7   \n",
      "2           1000000           0.03              200             0.7   \n",
      "3           1000000           0.03              100             0.7   \n",
      "4           1000000           0.03              100             0.7   \n",
      "5           1000000           0.03              100             0.7   \n",
      "6           1000000           0.03              200             0.6   \n",
      "7           1000000           0.03              200             0.6   \n",
      "8           1000000           0.03              200             0.6   \n",
      "9           1000000           0.03              100             0.6   \n",
      "10          1000000           0.03              100             0.6   \n",
      "11          1000000           0.03              100             0.6   \n",
      "12          1000000           0.03              200             0.7   \n",
      "13          1000000           0.03              200             0.7   \n",
      "14          1000000           0.03              200             0.7   \n",
      "\n",
      "   mutation_type           crossover_type  local_search_rate  \\\n",
      "0         Normal  Probabilistic_crossover                0.5   \n",
      "1         Normal  Probabilistic_crossover                0.5   \n",
      "2         Normal  Probabilistic_crossover                0.5   \n",
      "3         Normal  Probabilistic_crossover                0.5   \n",
      "4         Normal  Probabilistic_crossover                0.5   \n",
      "5         Normal  Probabilistic_crossover                0.5   \n",
      "6         Normal  Probabilistic_crossover                0.5   \n",
      "7         Normal  Probabilistic_crossover                0.5   \n",
      "8         Normal  Probabilistic_crossover                0.5   \n",
      "9         Normal  Probabilistic_crossover                0.5   \n",
      "10        Normal  Probabilistic_crossover                0.5   \n",
      "11        Normal  Probabilistic_crossover                0.5   \n",
      "12        Normal  Probabilistic_crossover                0.5   \n",
      "13        Normal  Probabilistic_crossover                0.5   \n",
      "14        Normal  Probabilistic_crossover                0.5   \n",
      "\n",
      "   local_search_type  search_radius  threshold  dimensions    gg  \\\n",
      "0            Uniform           0.05     0.0001         100  0.05   \n",
      "1            Uniform           0.05     0.0001         100  0.05   \n",
      "2            Uniform           0.05     0.0001         100  0.05   \n",
      "3            Uniform           0.05     0.0001         100  0.05   \n",
      "4            Uniform           0.05     0.0001         100  0.05   \n",
      "5            Uniform           0.05     0.0001         100  0.05   \n",
      "6            Uniform           0.05     0.0001         100  0.05   \n",
      "7            Uniform           0.05     0.0001         100  0.05   \n",
      "8            Uniform           0.05     0.0001         100  0.05   \n",
      "9            Uniform           0.05     0.0001         100  0.05   \n",
      "10           Uniform           0.05     0.0001         100  0.05   \n",
      "11           Uniform           0.05     0.0001         100  0.05   \n",
      "12           Uniform           0.05     0.0001         100  0.05   \n",
      "13           Uniform           0.05     0.0001         100  0.05   \n",
      "14           Uniform           0.05     0.0001         100  0.05   \n",
      "\n",
      "         selection_method  length_of_local_search  redo_local_search_rate  \\\n",
      "0   sorted_selection_part                       1                       0   \n",
      "1   sorted_selection_part                       1                       0   \n",
      "2   sorted_selection_part                       1                       0   \n",
      "3   sorted_selection_part                       1                       0   \n",
      "4   sorted_selection_part                       1                       0   \n",
      "5   sorted_selection_part                       1                       0   \n",
      "6   sorted_selection_part                       4                       0   \n",
      "7   sorted_selection_part                       4                       0   \n",
      "8   sorted_selection_part                       4                       0   \n",
      "9   sorted_selection_part                       4                       0   \n",
      "10  sorted_selection_part                       4                       0   \n",
      "11  sorted_selection_part                       4                       0   \n",
      "12  sorted_selection_part                       4                       0   \n",
      "13  sorted_selection_part                       4                       0   \n",
      "14  sorted_selection_part                       4                       0   \n",
      "\n",
      "    fitness_function algorithm  \n",
      "0                  5  Baseline  \n",
      "1                  5   Lamarck  \n",
      "2                  5   Baldwin  \n",
      "3                  5  Baseline  \n",
      "4                  5   Lamarck  \n",
      "5                  5   Baldwin  \n",
      "6                  5  Baseline  \n",
      "7                  5   Lamarck  \n",
      "8                  5   Baldwin  \n",
      "9                  5  Baseline  \n",
      "10                 5   Lamarck  \n",
      "11                 5   Baldwin  \n",
      "12                 5  Baseline  \n",
      "13                 5   Lamarck  \n",
      "14                 5   Baldwin  \n"
     ]
    }
   ],
   "source": [
    "print(params)"
   ],
   "metadata": {
    "collapsed": false,
    "ExecuteTime": {
     "end_time": "2023-10-05T03:30:28.069246Z",
     "start_time": "2023-10-05T03:30:28.062296Z"
    }
   },
   "id": "ead0d7859e52db22"
  },
  {
   "cell_type": "code",
   "execution_count": 378,
   "outputs": [
    {
     "name": "stdout",
     "output_type": "stream",
     "text": [
      "['Baseline', 'Baseline', 'Baseline', 'Baseline', 'Baseline', 'Baseline', 'Baseline', 'Baseline', 'Baseline', 'Baseline', 'Lamarck', 'Lamarck', 'Lamarck', 'Lamarck', 'Lamarck', 'Lamarck', 'Lamarck', 'Lamarck', 'Lamarck', 'Lamarck', 'Baldwin', 'Baldwin', 'Baldwin', 'Baldwin', 'Baldwin', 'Baldwin', 'Baldwin', 'Baldwin', 'Baldwin', 'Baldwin', 'Baseline', 'Baseline', 'Baseline', 'Baseline', 'Baseline', 'Baseline', 'Baseline', 'Baseline', 'Baseline', 'Baseline', 'Lamarck', 'Lamarck', 'Lamarck', 'Lamarck', 'Lamarck', 'Lamarck', 'Lamarck', 'Lamarck', 'Lamarck', 'Lamarck', 'Baldwin', 'Baldwin', 'Baldwin', 'Baldwin', 'Baldwin', 'Baldwin', 'Baldwin', 'Baldwin', 'Baldwin', 'Baldwin', 'Baseline', 'Baseline', 'Baseline', 'Baseline', 'Baseline', 'Baseline', 'Baseline', 'Baseline', 'Baseline', 'Baseline', 'Lamarck', 'Lamarck', 'Lamarck', 'Lamarck', 'Lamarck', 'Lamarck', 'Lamarck', 'Lamarck', 'Lamarck', 'Lamarck', 'Baldwin', 'Baldwin', 'Baldwin', 'Baldwin', 'Baldwin', 'Baldwin', 'Baldwin', 'Baldwin', 'Baldwin', 'Baldwin', 'Baseline', 'Baseline', 'Baseline', 'Baseline', 'Baseline', 'Baseline', 'Baseline', 'Baseline', 'Baseline', 'Baseline', 'Lamarck', 'Lamarck', 'Lamarck', 'Lamarck', 'Lamarck', 'Lamarck', 'Lamarck', 'Lamarck', 'Lamarck', 'Lamarck', 'Baldwin', 'Baldwin', 'Baldwin', 'Baldwin', 'Baldwin', 'Baldwin', 'Baldwin', 'Baldwin', 'Baldwin', 'Baldwin', 'Baseline', 'Baseline', 'Baseline', 'Baseline', 'Baseline', 'Baseline', 'Baseline', 'Baseline', 'Baseline', 'Baseline', 'Lamarck', 'Lamarck', 'Lamarck', 'Lamarck', 'Lamarck', 'Lamarck', 'Lamarck', 'Lamarck', 'Lamarck', 'Lamarck', 'Baldwin', 'Baldwin', 'Baldwin', 'Baldwin', 'Baldwin', 'Baldwin', 'Baldwin', 'Baldwin', 'Baldwin', 'Baldwin']\n",
      "400\n"
     ]
    }
   ],
   "source": [
    "# make index, 150 rows\n",
    "df_index = [] # [Baseline*10,Lamarck*10, Baldwin*10] *5\n",
    "for i in range(5):\n",
    "    for j in ['Baseline', 'Lamarck', 'Baldwin']:\n",
    "        for k in range(10):\n",
    "            df_index.append(j)\n",
    "print(df_index)\n",
    "# make column names, iteration 1-400 gaps\n",
    "df_columns = [i for i in range(1,401)]\n",
    "print(len(df_columns))"
   ],
   "metadata": {
    "collapsed": false,
    "ExecuteTime": {
     "end_time": "2023-10-05T03:30:28.094753Z",
     "start_time": "2023-10-05T03:30:28.073344Z"
    }
   },
   "id": "786c60f5eeab30ba"
  },
  {
   "cell_type": "code",
   "execution_count": 379,
   "outputs": [
    {
     "name": "stdout",
     "output_type": "stream",
     "text": [
      "(150, 402)\n",
      "(150, 402)\n",
      "(150, 402)\n"
     ]
    }
   ],
   "source": [
    "# make a dataframe for best_fitness_F5_sublist\n",
    "best_fitness_F5_sublist_df = pd.DataFrame(best_fitness_F5_sublist)\n",
    "best_fitness_F5_sublist_df.columns = df_columns\n",
    "best_fitness_F5_sublist_df['Algorithm'] = df_index\n",
    "best_fitness_F5_sublist_df['Function'] = ['F5' for _ in range(150)]\n",
    "\n",
    "print(best_fitness_F5_sublist_df.shape)\n",
    "best_fitness_F8_sublist_df = pd.DataFrame(best_fitness_F8_sublist)\n",
    "best_fitness_F8_sublist_df.columns = df_columns\n",
    "best_fitness_F8_sublist_df['Algorithm'] = df_index\n",
    "best_fitness_F8_sublist_df['Function'] = ['F8' for _ in range(150)]\n",
    "\n",
    "print(best_fitness_F8_sublist_df.shape)\n",
    "best_fitness_F21_sublist_df = pd.DataFrame(best_fitness_F21_sublist)\n",
    "best_fitness_F21_sublist_df.columns = df_columns\n",
    "best_fitness_F21_sublist_df['Algorithm'] = df_index\n",
    "best_fitness_F21_sublist_df['Function'] = ['F21' for _ in range(150)]\n",
    "print(best_fitness_F21_sublist_df.shape)"
   ],
   "metadata": {
    "collapsed": false,
    "ExecuteTime": {
     "end_time": "2023-10-05T03:30:28.104169Z",
     "start_time": "2023-10-05T03:30:28.085068Z"
    }
   },
   "id": "72a439db4dec1b89"
  },
  {
   "cell_type": "code",
   "execution_count": 380,
   "outputs": [
    {
     "name": "stdout",
     "output_type": "stream",
     "text": [
      "                1             2             3             4            5  \\\n",
      "0    9.650398e+08  1.715368e+06  45208.423897   9273.442078  4307.827294   \n",
      "1    9.657695e+08  1.744649e+06  57560.705539  11947.309400  6796.973869   \n",
      "2    1.025236e+09  1.639219e+06  34577.063608   8686.205149  3917.145023   \n",
      "3    1.088986e+09  1.336061e+06  34269.905494   8118.841542  3510.054784   \n",
      "4    1.126181e+09  1.277247e+06  41441.042899  11265.520637  5929.140495   \n",
      "..            ...           ...           ...           ...          ...   \n",
      "145  9.998915e+08  1.446861e+06  26086.926253   7756.652251  4076.917574   \n",
      "146  9.427815e+08  1.508933e+06  30561.006137   6510.662392  3722.025945   \n",
      "147  1.040062e+09  1.545555e+06  31288.395066   7282.667661  4089.691159   \n",
      "148  1.083038e+09  1.331549e+06  31923.244783   9032.418454  3340.897517   \n",
      "149  9.513462e+08  1.665487e+06  26112.883346   6848.307888  3484.840889   \n",
      "\n",
      "               6            7            8            9           10  ...  \\\n",
      "0    2281.141504  1496.999771  1273.657267  1108.164550   964.289488  ...   \n",
      "1    5430.625894  4005.755099  3432.171471  3233.822150  3022.582033  ...   \n",
      "2    2739.694003  2104.362216  1612.656137  1408.413566  1165.562630  ...   \n",
      "3    2347.168786  1941.608873  1478.804603  1231.004491  1094.501651  ...   \n",
      "4    3349.437864  2557.189806  1876.304644  1525.976752  1289.923527  ...   \n",
      "..           ...          ...          ...          ...          ...  ...   \n",
      "145  2718.935982  1845.994322  1488.148497  1253.218532  1099.210867  ...   \n",
      "146  2316.071899  1684.089499  1407.306000  1125.187865   958.091473  ...   \n",
      "147  2813.124876  2187.010246  1837.982925  1564.888063  1448.026790  ...   \n",
      "148  2154.503917  1652.705880  1288.862200  1047.677599   934.959777  ...   \n",
      "149  2240.843231  1783.140479  1373.042242  1143.538496   946.794642  ...   \n",
      "\n",
      "     393  394  395  396  397  398  399  400  Algorithm  Function  \n",
      "0    NaN  NaN  NaN  NaN  NaN  NaN  NaN  NaN   Baseline        F5  \n",
      "1    NaN  NaN  NaN  NaN  NaN  NaN  NaN  NaN   Baseline        F5  \n",
      "2    NaN  NaN  NaN  NaN  NaN  NaN  NaN  NaN   Baseline        F5  \n",
      "3    NaN  NaN  NaN  NaN  NaN  NaN  NaN  NaN   Baseline        F5  \n",
      "4    NaN  NaN  NaN  NaN  NaN  NaN  NaN  NaN   Baseline        F5  \n",
      "..   ...  ...  ...  ...  ...  ...  ...  ...        ...       ...  \n",
      "145  NaN  NaN  NaN  NaN  NaN  NaN  NaN  NaN    Baldwin        F5  \n",
      "146  NaN  NaN  NaN  NaN  NaN  NaN  NaN  NaN    Baldwin        F5  \n",
      "147  NaN  NaN  NaN  NaN  NaN  NaN  NaN  NaN    Baldwin        F5  \n",
      "148  NaN  NaN  NaN  NaN  NaN  NaN  NaN  NaN    Baldwin        F5  \n",
      "149  NaN  NaN  NaN  NaN  NaN  NaN  NaN  NaN    Baldwin        F5  \n",
      "\n",
      "[150 rows x 402 columns]\n"
     ]
    }
   ],
   "source": [
    "print(best_fitness_F5_sublist_df)"
   ],
   "metadata": {
    "collapsed": false,
    "ExecuteTime": {
     "end_time": "2023-10-05T03:30:28.106389Z",
     "start_time": "2023-10-05T03:30:28.095693Z"
    }
   },
   "id": "c1eae3c0bcb724e1"
  },
  {
   "cell_type": "code",
   "execution_count": 381,
   "outputs": [
    {
     "name": "stdout",
     "output_type": "stream",
     "text": [
      "(450, 402)\n",
      "                1             2             3             4            5  \\\n",
      "0    9.650398e+08  1.715368e+06  45208.423897   9273.442078  4307.827294   \n",
      "1    9.657695e+08  1.744649e+06  57560.705539  11947.309400  6796.973869   \n",
      "2    1.025236e+09  1.639219e+06  34577.063608   8686.205149  3917.145023   \n",
      "3    1.088986e+09  1.336061e+06  34269.905494   8118.841542  3510.054784   \n",
      "4    1.126181e+09  1.277247e+06  41441.042899  11265.520637  5929.140495   \n",
      "..            ...           ...           ...           ...          ...   \n",
      "145 -1.374572e+00 -5.054899e+00     -5.055077     -5.055078    -5.055157   \n",
      "146 -1.509765e+00 -1.014347e+01    -10.149730    -10.150529   -10.151080   \n",
      "147 -9.957246e-01 -1.014973e+01    -10.152702    -10.153129   -10.153129   \n",
      "148 -1.889970e+00 -5.096406e+00     -5.097233     -5.100167    -5.100615   \n",
      "149 -1.696461e+00 -2.682090e+00     -2.682814     -2.682850    -2.682852   \n",
      "\n",
      "               6            7            8            9           10  ...  \\\n",
      "0    2281.141504  1496.999771  1273.657267  1108.164550   964.289488  ...   \n",
      "1    5430.625894  4005.755099  3432.171471  3233.822150  3022.582033  ...   \n",
      "2    2739.694003  2104.362216  1612.656137  1408.413566  1165.562630  ...   \n",
      "3    2347.168786  1941.608873  1478.804603  1231.004491  1094.501651  ...   \n",
      "4    3349.437864  2557.189806  1876.304644  1525.976752  1289.923527  ...   \n",
      "..           ...          ...          ...          ...          ...  ...   \n",
      "145    -5.055157    -5.055157    -5.055157    -5.055163    -5.055163  ...   \n",
      "146   -10.152230   -10.153048   -10.153111   -10.153111   -10.153115  ...   \n",
      "147   -10.153129   -10.153129   -10.153129   -10.153143   -10.153160  ...   \n",
      "148    -5.100615    -5.100631    -5.100631    -5.100631    -5.100631  ...   \n",
      "149    -2.682852    -2.682855    -2.682855    -2.682855    -2.682855  ...   \n",
      "\n",
      "     393  394  395  396  397  398  399  400  Algorithm  Function  \n",
      "0    NaN  NaN  NaN  NaN  NaN  NaN  NaN  NaN   Baseline        F5  \n",
      "1    NaN  NaN  NaN  NaN  NaN  NaN  NaN  NaN   Baseline        F5  \n",
      "2    NaN  NaN  NaN  NaN  NaN  NaN  NaN  NaN   Baseline        F5  \n",
      "3    NaN  NaN  NaN  NaN  NaN  NaN  NaN  NaN   Baseline        F5  \n",
      "4    NaN  NaN  NaN  NaN  NaN  NaN  NaN  NaN   Baseline        F5  \n",
      "..   ...  ...  ...  ...  ...  ...  ...  ...        ...       ...  \n",
      "145  NaN  NaN  NaN  NaN  NaN  NaN  NaN  NaN    Baldwin       F21  \n",
      "146  NaN  NaN  NaN  NaN  NaN  NaN  NaN  NaN    Baldwin       F21  \n",
      "147  NaN  NaN  NaN  NaN  NaN  NaN  NaN  NaN    Baldwin       F21  \n",
      "148  NaN  NaN  NaN  NaN  NaN  NaN  NaN  NaN    Baldwin       F21  \n",
      "149  NaN  NaN  NaN  NaN  NaN  NaN  NaN  NaN    Baldwin       F21  \n",
      "\n",
      "[450 rows x 402 columns]\n"
     ]
    }
   ],
   "source": [
    "# save this dataframe\n",
    "best_fitness_sublist_df = pd.concat([best_fitness_F5_sublist_df, best_fitness_F8_sublist_df, best_fitness_F21_sublist_df], axis=0)\n",
    "print(best_fitness_sublist_df.shape)\n",
    "print(best_fitness_sublist_df)"
   ],
   "metadata": {
    "collapsed": false,
    "ExecuteTime": {
     "end_time": "2023-10-05T03:30:28.155267Z",
     "start_time": "2023-10-05T03:30:28.109393Z"
    }
   },
   "id": "8bf2553c4a2fbe39"
  },
  {
   "cell_type": "code",
   "execution_count": 382,
   "outputs": [],
   "source": [
    "best_fitness_sublist_df.to_csv('best_fitness_sublist_df.csv', sep=',', header=True, index=False)"
   ],
   "metadata": {
    "collapsed": false,
    "ExecuteTime": {
     "end_time": "2023-10-05T03:30:28.247248Z",
     "start_time": "2023-10-05T03:30:28.123874Z"
    }
   },
   "id": "83af57da4b9d507b"
  }
 ],
 "metadata": {
  "kernelspec": {
   "display_name": "Python 3",
   "language": "python",
   "name": "python3"
  },
  "language_info": {
   "codemirror_mode": {
    "name": "ipython",
    "version": 2
   },
   "file_extension": ".py",
   "mimetype": "text/x-python",
   "name": "python",
   "nbconvert_exporter": "python",
   "pygments_lexer": "ipython2",
   "version": "2.7.6"
  }
 },
 "nbformat": 4,
 "nbformat_minor": 5
}
