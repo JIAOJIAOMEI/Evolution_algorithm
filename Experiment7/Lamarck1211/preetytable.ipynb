{
 "cells": [
  {
   "cell_type": "code",
   "execution_count": 1,
   "metadata": {
    "collapsed": true,
    "pycharm": {
     "name": "#%%\n"
    }
   },
   "outputs": [
    {
     "name": "stdout",
     "output_type": "stream",
     "text": [
      "(230, 10) (230, 10) (230, 20)\n",
      "Index(['combination163', 'combination199', 'combination198', 'combination23',\n",
      "       'combination22', 'combination59', 'combination95', 'combination146',\n",
      "       'combination164', 'combination162', 'combination145', 'combination182',\n",
      "       'combination144', 'combination180', 'combination181', 'combination5',\n",
      "       'combination41', 'combination21', 'combination110', 'combination128'],\n",
      "      dtype='object')\n",
      "['combination163', 'combination199', 'combination198', 'combination23', 'combination22', 'combination59', 'combination95', 'combination146', 'combination164', 'combination162', 'combination145', 'combination182', 'combination144', 'combination180', 'combination181', 'combination5', 'combination41', 'combination21', 'combination110', 'combination128']\n",
      "[ True  True  True  True  True  True  True  True  True  True  True  True\n",
      "  True  True  True  True  True  True  True  True]\n"
     ]
    }
   ],
   "source": [
    "import pandas as pd\n",
    "from parameter_combination import read_file\n",
    "com_df = pd.read_csv(\"./best_combination_20.csv\",\n",
    "                         index_col=[0],\n",
    "                         header=0)\n",
    "com_df[\"num_phenotypes\"] = 3\n",
    "index = com_df.index.tolist()\n",
    "sheet_name = [\"combination\" + str(i) for i in index]\n",
    "path1 = \"Lamarck1211_10.xlsx\"\n",
    "df1 = [read_file(name, path1) for name in sheet_name[:10]]\n",
    "path2 = \"Lamarck1211_20.xlsx\"\n",
    "df2 = [read_file(name, path2) for name in sheet_name[10:]]\n",
    "df1 = pd.concat(df1, axis=1)\n",
    "df2 = pd.concat(df2, axis=1)\n",
    "df  = pd.concat([df1,df2],axis=1)\n",
    "df.columns = sheet_name\n",
    "print(df1.shape,df2.shape,df.shape)\n",
    "print(df.columns)\n",
    "print(sheet_name)\n",
    "print(sheet_name==df.columns)\n",
    "df.to_csv(\"./Lamarck1211_rawdata.csv\",header=True,index=True)"
   ]
  },
  {
   "cell_type": "code",
   "execution_count": 2,
   "outputs": [],
   "source": [
    "def percent(Function, optimal):\n",
    "    dataframe = df.loc[(Function, slice(None)), :]\n",
    "    if Function in [\"F1\", \"F2\", \"F3\", \"F4\", \"F5\", \"F6\", \"F7\", \"F9\", \"F10\", \"F11\", \"F12\", \"F13\", \"F14\", \"F18\"]:\n",
    "        dataframe = dataframe.round(1)\n",
    "    elif Function in [\"F17\"]:\n",
    "        dataframe = dataframe.round(3)\n",
    "    elif Function in [\"F19\", \"F20\"]:\n",
    "        dataframe = dataframe.round(2)\n",
    "    elif Function in [\"F8\", \"F15\", \"F16\", \"F21\", \"F22\", \"F23\"]:\n",
    "        dataframe = dataframe.round(4)\n",
    "\n",
    "    dataframe = pd.DataFrame(data=dataframe.values,\n",
    "                             columns=dataframe.columns)\n",
    "    percent_dataframe = dataframe.applymap(lambda x: True if x == optimal else False)\n",
    "    percent_dataframe[\"Function\"] = Function\n",
    "    return percent_dataframe"
   ],
   "metadata": {
    "collapsed": false,
    "pycharm": {
     "name": "#%%\n"
    }
   }
  },
  {
   "cell_type": "code",
   "execution_count": 3,
   "outputs": [
    {
     "data": {
      "text/plain": "         combination163 combination199 combination198 combination23  \\\nFunction                                                              \nF1                 100%           100%           100%          100%   \nF2                   0%             0%             0%          100%   \nF3                 100%           100%           100%          100%   \nF4                   0%             0%             0%            0%   \nF5                   0%             0%             0%            0%   \nF6                 100%           100%           100%          100%   \nF7                   0%             0%             0%            0%   \nF8                   0%             0%             0%            0%   \nF9                   0%             0%             0%          100%   \nF10                  0%             0%             0%          100%   \nF11                  0%             0%             0%            0%   \nF12                  0%             0%             0%          100%   \nF13                  0%             0%             0%          100%   \nF14                 10%            30%             0%            0%   \nF15                 70%            60%            60%            0%   \nF16                100%           100%           100%          100%   \nF17                100%           100%           100%          100%   \nF18                100%           100%           100%          100%   \nF19                  0%             0%             0%            0%   \nF20                 40%            40%            30%           40%   \nF21                 70%            60%            40%           30%   \nF22                 40%            70%            30%           20%   \nF23                 60%            40%            60%           40%   \n\n         combination22 combination59 combination95 combination146  \\\nFunction                                                            \nF1                100%          100%          100%           100%   \nF2                100%          100%          100%            20%   \nF3                100%          100%          100%           100%   \nF4                  0%            0%           10%             0%   \nF5                  0%            0%            0%             0%   \nF6                100%          100%          100%           100%   \nF7                  0%            0%            0%             0%   \nF8                  0%            0%            0%             0%   \nF9                100%          100%          100%             0%   \nF10               100%          100%          100%             0%   \nF11                 0%            0%           10%             0%   \nF12               100%          100%          100%             0%   \nF13               100%          100%          100%             0%   \nF14                20%            0%           10%            20%   \nF15                10%           10%           10%            60%   \nF16               100%          100%          100%           100%   \nF17               100%          100%          100%           100%   \nF18               100%          100%          100%            90%   \nF19                 0%            0%            0%             0%   \nF20                50%           50%           70%            50%   \nF21                60%           40%           30%            50%   \nF22                20%           30%           10%            30%   \nF23                20%           30%           40%            60%   \n\n         combination164 combination162 combination145 combination182  \\\nFunction                                                               \nF1                 100%           100%           100%           100%   \nF2                  30%             0%            20%            80%   \nF3                 100%           100%           100%           100%   \nF4                   0%             0%             0%             0%   \nF5                   0%             0%             0%             0%   \nF6                 100%           100%           100%           100%   \nF7                   0%             0%             0%             0%   \nF8                   0%             0%             0%             0%   \nF9                   0%             0%             0%             0%   \nF10                  0%             0%             0%             0%   \nF11                  0%             0%             0%             0%   \nF12                  0%             0%             0%             0%   \nF13                  0%             0%             0%             0%   \nF14                 20%            20%             0%             0%   \nF15                 70%            90%            90%            80%   \nF16                100%           100%           100%           100%   \nF17                100%           100%           100%           100%   \nF18                100%           100%           100%           100%   \nF19                  0%             0%             0%             0%   \nF20                 30%            50%            20%            40%   \nF21                 30%            60%            50%            30%   \nF22                 40%            40%            30%            50%   \nF23                 40%            50%            30%            30%   \n\n         combination144 combination180 combination181 combination5  \\\nFunction                                                             \nF1                 100%           100%           100%         100%   \nF2                  10%             0%            10%         100%   \nF3                 100%           100%           100%         100%   \nF4                   0%             0%             0%           0%   \nF5                   0%             0%             0%           0%   \nF6                 100%           100%           100%         100%   \nF7                   0%             0%             0%           0%   \nF8                   0%             0%             0%           0%   \nF9                   0%             0%             0%         100%   \nF10                  0%             0%             0%         100%   \nF11                  0%             0%             0%           0%   \nF12                  0%             0%             0%         100%   \nF13                  0%             0%             0%         100%   \nF14                 10%            10%             0%          10%   \nF15                 70%            60%            80%           0%   \nF16                100%           100%           100%         100%   \nF17                100%           100%           100%         100%   \nF18                100%           100%           100%         100%   \nF19                  0%             0%             0%           0%   \nF20                 90%            60%            60%          50%   \nF21                 60%            50%            30%          50%   \nF22                 60%            30%            40%          30%   \nF23                 50%            50%            60%          40%   \n\n         combination41 combination21 combination110 combination128  \nFunction                                                            \nF1                100%          100%           100%           100%  \nF2                100%          100%             0%             0%  \nF3                100%          100%           100%           100%  \nF4                 50%            0%             0%             0%  \nF5                  0%            0%             0%             0%  \nF6                100%          100%           100%           100%  \nF7                  0%            0%             0%             0%  \nF8                  0%            0%             0%             0%  \nF9                100%          100%             0%             0%  \nF10               100%          100%             0%             0%  \nF11                 0%           20%             0%             0%  \nF12               100%          100%             0%             0%  \nF13               100%          100%             0%             0%  \nF14                10%            0%             0%             0%  \nF15                 0%            0%            80%            70%  \nF16               100%          100%           100%           100%  \nF17               100%          100%           100%           100%  \nF18               100%          100%            80%           100%  \nF19                 0%            0%             0%             0%  \nF20                40%           20%            40%            10%  \nF21                10%           60%            30%            40%  \nF22                 0%           40%            30%            30%  \nF23                20%           40%            40%            50%  ",
      "text/html": "<div>\n<style scoped>\n    .dataframe tbody tr th:only-of-type {\n        vertical-align: middle;\n    }\n\n    .dataframe tbody tr th {\n        vertical-align: top;\n    }\n\n    .dataframe thead th {\n        text-align: right;\n    }\n</style>\n<table border=\"1\" class=\"dataframe\">\n  <thead>\n    <tr style=\"text-align: right;\">\n      <th></th>\n      <th>combination163</th>\n      <th>combination199</th>\n      <th>combination198</th>\n      <th>combination23</th>\n      <th>combination22</th>\n      <th>combination59</th>\n      <th>combination95</th>\n      <th>combination146</th>\n      <th>combination164</th>\n      <th>combination162</th>\n      <th>combination145</th>\n      <th>combination182</th>\n      <th>combination144</th>\n      <th>combination180</th>\n      <th>combination181</th>\n      <th>combination5</th>\n      <th>combination41</th>\n      <th>combination21</th>\n      <th>combination110</th>\n      <th>combination128</th>\n    </tr>\n    <tr>\n      <th>Function</th>\n      <th></th>\n      <th></th>\n      <th></th>\n      <th></th>\n      <th></th>\n      <th></th>\n      <th></th>\n      <th></th>\n      <th></th>\n      <th></th>\n      <th></th>\n      <th></th>\n      <th></th>\n      <th></th>\n      <th></th>\n      <th></th>\n      <th></th>\n      <th></th>\n      <th></th>\n      <th></th>\n    </tr>\n  </thead>\n  <tbody>\n    <tr>\n      <th>F1</th>\n      <td>100%</td>\n      <td>100%</td>\n      <td>100%</td>\n      <td>100%</td>\n      <td>100%</td>\n      <td>100%</td>\n      <td>100%</td>\n      <td>100%</td>\n      <td>100%</td>\n      <td>100%</td>\n      <td>100%</td>\n      <td>100%</td>\n      <td>100%</td>\n      <td>100%</td>\n      <td>100%</td>\n      <td>100%</td>\n      <td>100%</td>\n      <td>100%</td>\n      <td>100%</td>\n      <td>100%</td>\n    </tr>\n    <tr>\n      <th>F2</th>\n      <td>0%</td>\n      <td>0%</td>\n      <td>0%</td>\n      <td>100%</td>\n      <td>100%</td>\n      <td>100%</td>\n      <td>100%</td>\n      <td>20%</td>\n      <td>30%</td>\n      <td>0%</td>\n      <td>20%</td>\n      <td>80%</td>\n      <td>10%</td>\n      <td>0%</td>\n      <td>10%</td>\n      <td>100%</td>\n      <td>100%</td>\n      <td>100%</td>\n      <td>0%</td>\n      <td>0%</td>\n    </tr>\n    <tr>\n      <th>F3</th>\n      <td>100%</td>\n      <td>100%</td>\n      <td>100%</td>\n      <td>100%</td>\n      <td>100%</td>\n      <td>100%</td>\n      <td>100%</td>\n      <td>100%</td>\n      <td>100%</td>\n      <td>100%</td>\n      <td>100%</td>\n      <td>100%</td>\n      <td>100%</td>\n      <td>100%</td>\n      <td>100%</td>\n      <td>100%</td>\n      <td>100%</td>\n      <td>100%</td>\n      <td>100%</td>\n      <td>100%</td>\n    </tr>\n    <tr>\n      <th>F4</th>\n      <td>0%</td>\n      <td>0%</td>\n      <td>0%</td>\n      <td>0%</td>\n      <td>0%</td>\n      <td>0%</td>\n      <td>10%</td>\n      <td>0%</td>\n      <td>0%</td>\n      <td>0%</td>\n      <td>0%</td>\n      <td>0%</td>\n      <td>0%</td>\n      <td>0%</td>\n      <td>0%</td>\n      <td>0%</td>\n      <td>50%</td>\n      <td>0%</td>\n      <td>0%</td>\n      <td>0%</td>\n    </tr>\n    <tr>\n      <th>F5</th>\n      <td>0%</td>\n      <td>0%</td>\n      <td>0%</td>\n      <td>0%</td>\n      <td>0%</td>\n      <td>0%</td>\n      <td>0%</td>\n      <td>0%</td>\n      <td>0%</td>\n      <td>0%</td>\n      <td>0%</td>\n      <td>0%</td>\n      <td>0%</td>\n      <td>0%</td>\n      <td>0%</td>\n      <td>0%</td>\n      <td>0%</td>\n      <td>0%</td>\n      <td>0%</td>\n      <td>0%</td>\n    </tr>\n    <tr>\n      <th>F6</th>\n      <td>100%</td>\n      <td>100%</td>\n      <td>100%</td>\n      <td>100%</td>\n      <td>100%</td>\n      <td>100%</td>\n      <td>100%</td>\n      <td>100%</td>\n      <td>100%</td>\n      <td>100%</td>\n      <td>100%</td>\n      <td>100%</td>\n      <td>100%</td>\n      <td>100%</td>\n      <td>100%</td>\n      <td>100%</td>\n      <td>100%</td>\n      <td>100%</td>\n      <td>100%</td>\n      <td>100%</td>\n    </tr>\n    <tr>\n      <th>F7</th>\n      <td>0%</td>\n      <td>0%</td>\n      <td>0%</td>\n      <td>0%</td>\n      <td>0%</td>\n      <td>0%</td>\n      <td>0%</td>\n      <td>0%</td>\n      <td>0%</td>\n      <td>0%</td>\n      <td>0%</td>\n      <td>0%</td>\n      <td>0%</td>\n      <td>0%</td>\n      <td>0%</td>\n      <td>0%</td>\n      <td>0%</td>\n      <td>0%</td>\n      <td>0%</td>\n      <td>0%</td>\n    </tr>\n    <tr>\n      <th>F8</th>\n      <td>0%</td>\n      <td>0%</td>\n      <td>0%</td>\n      <td>0%</td>\n      <td>0%</td>\n      <td>0%</td>\n      <td>0%</td>\n      <td>0%</td>\n      <td>0%</td>\n      <td>0%</td>\n      <td>0%</td>\n      <td>0%</td>\n      <td>0%</td>\n      <td>0%</td>\n      <td>0%</td>\n      <td>0%</td>\n      <td>0%</td>\n      <td>0%</td>\n      <td>0%</td>\n      <td>0%</td>\n    </tr>\n    <tr>\n      <th>F9</th>\n      <td>0%</td>\n      <td>0%</td>\n      <td>0%</td>\n      <td>100%</td>\n      <td>100%</td>\n      <td>100%</td>\n      <td>100%</td>\n      <td>0%</td>\n      <td>0%</td>\n      <td>0%</td>\n      <td>0%</td>\n      <td>0%</td>\n      <td>0%</td>\n      <td>0%</td>\n      <td>0%</td>\n      <td>100%</td>\n      <td>100%</td>\n      <td>100%</td>\n      <td>0%</td>\n      <td>0%</td>\n    </tr>\n    <tr>\n      <th>F10</th>\n      <td>0%</td>\n      <td>0%</td>\n      <td>0%</td>\n      <td>100%</td>\n      <td>100%</td>\n      <td>100%</td>\n      <td>100%</td>\n      <td>0%</td>\n      <td>0%</td>\n      <td>0%</td>\n      <td>0%</td>\n      <td>0%</td>\n      <td>0%</td>\n      <td>0%</td>\n      <td>0%</td>\n      <td>100%</td>\n      <td>100%</td>\n      <td>100%</td>\n      <td>0%</td>\n      <td>0%</td>\n    </tr>\n    <tr>\n      <th>F11</th>\n      <td>0%</td>\n      <td>0%</td>\n      <td>0%</td>\n      <td>0%</td>\n      <td>0%</td>\n      <td>0%</td>\n      <td>10%</td>\n      <td>0%</td>\n      <td>0%</td>\n      <td>0%</td>\n      <td>0%</td>\n      <td>0%</td>\n      <td>0%</td>\n      <td>0%</td>\n      <td>0%</td>\n      <td>0%</td>\n      <td>0%</td>\n      <td>20%</td>\n      <td>0%</td>\n      <td>0%</td>\n    </tr>\n    <tr>\n      <th>F12</th>\n      <td>0%</td>\n      <td>0%</td>\n      <td>0%</td>\n      <td>100%</td>\n      <td>100%</td>\n      <td>100%</td>\n      <td>100%</td>\n      <td>0%</td>\n      <td>0%</td>\n      <td>0%</td>\n      <td>0%</td>\n      <td>0%</td>\n      <td>0%</td>\n      <td>0%</td>\n      <td>0%</td>\n      <td>100%</td>\n      <td>100%</td>\n      <td>100%</td>\n      <td>0%</td>\n      <td>0%</td>\n    </tr>\n    <tr>\n      <th>F13</th>\n      <td>0%</td>\n      <td>0%</td>\n      <td>0%</td>\n      <td>100%</td>\n      <td>100%</td>\n      <td>100%</td>\n      <td>100%</td>\n      <td>0%</td>\n      <td>0%</td>\n      <td>0%</td>\n      <td>0%</td>\n      <td>0%</td>\n      <td>0%</td>\n      <td>0%</td>\n      <td>0%</td>\n      <td>100%</td>\n      <td>100%</td>\n      <td>100%</td>\n      <td>0%</td>\n      <td>0%</td>\n    </tr>\n    <tr>\n      <th>F14</th>\n      <td>10%</td>\n      <td>30%</td>\n      <td>0%</td>\n      <td>0%</td>\n      <td>20%</td>\n      <td>0%</td>\n      <td>10%</td>\n      <td>20%</td>\n      <td>20%</td>\n      <td>20%</td>\n      <td>0%</td>\n      <td>0%</td>\n      <td>10%</td>\n      <td>10%</td>\n      <td>0%</td>\n      <td>10%</td>\n      <td>10%</td>\n      <td>0%</td>\n      <td>0%</td>\n      <td>0%</td>\n    </tr>\n    <tr>\n      <th>F15</th>\n      <td>70%</td>\n      <td>60%</td>\n      <td>60%</td>\n      <td>0%</td>\n      <td>10%</td>\n      <td>10%</td>\n      <td>10%</td>\n      <td>60%</td>\n      <td>70%</td>\n      <td>90%</td>\n      <td>90%</td>\n      <td>80%</td>\n      <td>70%</td>\n      <td>60%</td>\n      <td>80%</td>\n      <td>0%</td>\n      <td>0%</td>\n      <td>0%</td>\n      <td>80%</td>\n      <td>70%</td>\n    </tr>\n    <tr>\n      <th>F16</th>\n      <td>100%</td>\n      <td>100%</td>\n      <td>100%</td>\n      <td>100%</td>\n      <td>100%</td>\n      <td>100%</td>\n      <td>100%</td>\n      <td>100%</td>\n      <td>100%</td>\n      <td>100%</td>\n      <td>100%</td>\n      <td>100%</td>\n      <td>100%</td>\n      <td>100%</td>\n      <td>100%</td>\n      <td>100%</td>\n      <td>100%</td>\n      <td>100%</td>\n      <td>100%</td>\n      <td>100%</td>\n    </tr>\n    <tr>\n      <th>F17</th>\n      <td>100%</td>\n      <td>100%</td>\n      <td>100%</td>\n      <td>100%</td>\n      <td>100%</td>\n      <td>100%</td>\n      <td>100%</td>\n      <td>100%</td>\n      <td>100%</td>\n      <td>100%</td>\n      <td>100%</td>\n      <td>100%</td>\n      <td>100%</td>\n      <td>100%</td>\n      <td>100%</td>\n      <td>100%</td>\n      <td>100%</td>\n      <td>100%</td>\n      <td>100%</td>\n      <td>100%</td>\n    </tr>\n    <tr>\n      <th>F18</th>\n      <td>100%</td>\n      <td>100%</td>\n      <td>100%</td>\n      <td>100%</td>\n      <td>100%</td>\n      <td>100%</td>\n      <td>100%</td>\n      <td>90%</td>\n      <td>100%</td>\n      <td>100%</td>\n      <td>100%</td>\n      <td>100%</td>\n      <td>100%</td>\n      <td>100%</td>\n      <td>100%</td>\n      <td>100%</td>\n      <td>100%</td>\n      <td>100%</td>\n      <td>80%</td>\n      <td>100%</td>\n    </tr>\n    <tr>\n      <th>F19</th>\n      <td>0%</td>\n      <td>0%</td>\n      <td>0%</td>\n      <td>0%</td>\n      <td>0%</td>\n      <td>0%</td>\n      <td>0%</td>\n      <td>0%</td>\n      <td>0%</td>\n      <td>0%</td>\n      <td>0%</td>\n      <td>0%</td>\n      <td>0%</td>\n      <td>0%</td>\n      <td>0%</td>\n      <td>0%</td>\n      <td>0%</td>\n      <td>0%</td>\n      <td>0%</td>\n      <td>0%</td>\n    </tr>\n    <tr>\n      <th>F20</th>\n      <td>40%</td>\n      <td>40%</td>\n      <td>30%</td>\n      <td>40%</td>\n      <td>50%</td>\n      <td>50%</td>\n      <td>70%</td>\n      <td>50%</td>\n      <td>30%</td>\n      <td>50%</td>\n      <td>20%</td>\n      <td>40%</td>\n      <td>90%</td>\n      <td>60%</td>\n      <td>60%</td>\n      <td>50%</td>\n      <td>40%</td>\n      <td>20%</td>\n      <td>40%</td>\n      <td>10%</td>\n    </tr>\n    <tr>\n      <th>F21</th>\n      <td>70%</td>\n      <td>60%</td>\n      <td>40%</td>\n      <td>30%</td>\n      <td>60%</td>\n      <td>40%</td>\n      <td>30%</td>\n      <td>50%</td>\n      <td>30%</td>\n      <td>60%</td>\n      <td>50%</td>\n      <td>30%</td>\n      <td>60%</td>\n      <td>50%</td>\n      <td>30%</td>\n      <td>50%</td>\n      <td>10%</td>\n      <td>60%</td>\n      <td>30%</td>\n      <td>40%</td>\n    </tr>\n    <tr>\n      <th>F22</th>\n      <td>40%</td>\n      <td>70%</td>\n      <td>30%</td>\n      <td>20%</td>\n      <td>20%</td>\n      <td>30%</td>\n      <td>10%</td>\n      <td>30%</td>\n      <td>40%</td>\n      <td>40%</td>\n      <td>30%</td>\n      <td>50%</td>\n      <td>60%</td>\n      <td>30%</td>\n      <td>40%</td>\n      <td>30%</td>\n      <td>0%</td>\n      <td>40%</td>\n      <td>30%</td>\n      <td>30%</td>\n    </tr>\n    <tr>\n      <th>F23</th>\n      <td>60%</td>\n      <td>40%</td>\n      <td>60%</td>\n      <td>40%</td>\n      <td>20%</td>\n      <td>30%</td>\n      <td>40%</td>\n      <td>60%</td>\n      <td>40%</td>\n      <td>50%</td>\n      <td>30%</td>\n      <td>30%</td>\n      <td>50%</td>\n      <td>50%</td>\n      <td>60%</td>\n      <td>40%</td>\n      <td>20%</td>\n      <td>40%</td>\n      <td>40%</td>\n      <td>50%</td>\n    </tr>\n  </tbody>\n</table>\n</div>"
     },
     "metadata": {},
     "output_type": "display_data"
    }
   ],
   "source": [
    "import numpy as np\n",
    "opt = [0.0, 0.0, 0.0, 0.0, 0.0, 0.0, 0.0, -418.98 * 50, 0.0, 0.0, 0.0, 0.0, 0.0, 1.0, 0.00030, -1.0316, 0.398, 3.0,\n",
    "       -3.86, -3.32, -10.1532,\n",
    "       -10.4028, -10.5363]\n",
    "function_list = np.arange(1, 24, 1)\n",
    "# function_list = [2, 4, 5, 7, 8, 9, 10, 11, 13, 14, 15, 21, 22]\n",
    "percent_df = [percent(Function=\"F\" + str(i), optimal=opt[i - 1]) for i in function_list]\n",
    "percent_df = pd.concat(percent_df, axis=0)\n",
    "percent_df = percent_df.groupby([\"Function\"]).sum().applymap(lambda x: str(x * 10) + \"%\")\n",
    "index = [\"F\" + str(i) for i in function_list]\n",
    "percent_df = percent_df.loc[index]\n",
    "display(percent_df)\n",
    "percent_df.to_csv(\"./Lamarck1211_percent_f1_f23_1000000_50d.csv\")"
   ],
   "metadata": {
    "collapsed": false,
    "pycharm": {
     "name": "#%%\n"
    }
   }
  },
  {
   "cell_type": "code",
   "execution_count": 3,
   "outputs": [],
   "source": [],
   "metadata": {
    "collapsed": false,
    "pycharm": {
     "name": "#%%\n"
    }
   }
  }
 ],
 "metadata": {
  "kernelspec": {
   "display_name": "Python 3",
   "language": "python",
   "name": "python3"
  },
  "language_info": {
   "codemirror_mode": {
    "name": "ipython",
    "version": 2
   },
   "file_extension": ".py",
   "mimetype": "text/x-python",
   "name": "python",
   "nbconvert_exporter": "python",
   "pygments_lexer": "ipython2",
   "version": "2.7.6"
  }
 },
 "nbformat": 4,
 "nbformat_minor": 0
}