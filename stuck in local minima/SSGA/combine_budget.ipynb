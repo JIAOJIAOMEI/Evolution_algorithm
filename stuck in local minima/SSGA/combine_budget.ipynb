{
 "cells": [
  {
   "cell_type": "code",
   "execution_count": 1,
   "metadata": {
    "collapsed": true,
    "pycharm": {
     "name": "#%%\n"
    }
   },
   "outputs": [],
   "source": [
    "import numpy as np\n",
    "import pandas as pd"
   ]
  },
  {
   "cell_type": "code",
   "execution_count": 2,
   "outputs": [
    {
     "name": "stdout",
     "output_type": "stream",
     "text": [
      "[590, 593, 579, 588, 589, 591, 576, 587, 569, 558, 592, 572, 594, 542, 570, 562, 575, 573, 552, 555]\n",
      "Int64Index([590, 593, 579, 588, 589, 591, 576, 587, 569, 558, 592, 572, 594,\n",
      "            542, 570, 562, 575, 573, 552, 555],\n",
      "           dtype='int64')\n",
      "                   590        593        579        588        589        591  \\\n",
      "F1  Times1     68473.0    81152.0    63374.0    64201.0    82294.0    69864.0   \n",
      "    Times2     71969.0    79392.0    52791.0    66076.0    68306.0    71726.0   \n",
      "    Times3     85551.0    81664.0    59085.0    81474.0    61951.0    84888.0   \n",
      "    Times4     90993.0    81516.0    65007.0   101013.0    83943.0    67467.0   \n",
      "    Times5     88527.0    75374.0    48454.0    80558.0    69791.0    83645.0   \n",
      "...                ...        ...        ...        ...        ...        ...   \n",
      "F23 Times6   1000099.0    31562.0  1000199.0    36563.0    69469.0    42021.0   \n",
      "    Times7    505776.0  1000099.0  1000199.0  1000099.0  1000099.0    98662.0   \n",
      "    Times8   1000099.0    34270.0  1000199.0    93021.0   464984.0    86935.0   \n",
      "    Times9     48556.0   479280.0  1000199.0  1000099.0  1000099.0    46673.0   \n",
      "    Times10    45431.0   113412.0  1000199.0   109231.0    33575.0  1000099.0   \n",
      "\n",
      "                   576        587        569        558        592        572  \\\n",
      "F1  Times1     59714.0    76145.0    55182.0    51042.0    78055.0    63270.0   \n",
      "    Times2     56110.0    93161.0    62505.0    47357.0    66824.0    69818.0   \n",
      "    Times3     56980.0    73978.0    69370.0    53956.0    63654.0    63314.0   \n",
      "    Times4     60273.0    87753.0    72898.0    54850.0    77735.0    53605.0   \n",
      "    Times5     52690.0    75844.0    64757.0    51590.0    83367.0    59814.0   \n",
      "...                ...        ...        ...        ...        ...        ...   \n",
      "F23 Times6   1000199.0    28860.0  1000199.0  1000099.0  1000099.0  1000199.0   \n",
      "    Times7     60969.0  1000099.0  1000199.0  1000099.0   256144.0  1000199.0   \n",
      "    Times8     11830.0    34647.0   722815.0  1000099.0    33957.0  1000199.0   \n",
      "    Times9     53462.0   441004.0  1000199.0    31568.0    19329.0   565584.0   \n",
      "    Times10   270874.0   809909.0  1000199.0  1000099.0  1000099.0  1000199.0   \n",
      "\n",
      "                   594        542        570        562        575        573  \\\n",
      "F1  Times1     87269.0    71793.0    65104.0    40718.0    65311.0    67962.0   \n",
      "    Times2     67011.0    56109.0    54431.0    53759.0    52741.0    61381.0   \n",
      "    Times3     88750.0    65421.0    61453.0    49123.0    67316.0    61594.0   \n",
      "    Times4     81335.0    67395.0    65008.0    45521.0    60802.0    67649.0   \n",
      "    Times5     73422.0    76632.0    50486.0    47024.0    55143.0    70700.0   \n",
      "...                ...        ...        ...        ...        ...        ...   \n",
      "F23 Times6    253138.0  1000199.0  1000199.0  1000099.0   700244.0  1000199.0   \n",
      "    Times7     43422.0    29164.0  1000199.0     7828.0  1000199.0    41837.0   \n",
      "    Times8    363621.0    22210.0    28693.0  1000099.0  1000199.0  1000199.0   \n",
      "    Times9     49925.0  1000199.0   343542.0  1000099.0   562694.0  1000199.0   \n",
      "    Times10  1000099.0  1000199.0    25247.0   214714.0  1000199.0    36484.0   \n",
      "\n",
      "                   552        555  \n",
      "F1  Times1     57839.0    50456.0  \n",
      "    Times2     62541.0    61343.0  \n",
      "    Times3     58129.0    47419.0  \n",
      "    Times4     52694.0    49618.0  \n",
      "    Times5     59345.0    65609.0  \n",
      "...                ...        ...  \n",
      "F23 Times6    729792.0    76182.0  \n",
      "    Times7   1000099.0    17969.0  \n",
      "    Times8   1000099.0    21484.0  \n",
      "    Times9   1000099.0  1000099.0  \n",
      "    Times10    19355.0    13763.0  \n",
      "\n",
      "[230 rows x 20 columns]\n"
     ]
    }
   ],
   "source": [
    "data_pm = pd.read_csv(\"./best_20com_9pm.csv\", header=0, index_col=[0])\n",
    "index = data_pm.index.tolist()\n",
    "print(index)\n",
    "def read_csv(path):\n",
    "    return pd.read_csv(path,index_col=[0,1],header=0)\n",
    "path_budget_list=[\"./budget\"+str(i)+\".csv\" for i in index]\n",
    "df = [read_csv(name) for name in path_budget_list]\n",
    "df = pd.concat(df,axis=1)\n",
    "df.columns = index\n",
    "print(df.columns)\n",
    "print(df)\n",
    "df.to_csv(\"./SSGA_budget.csv\",header=True,index=True)"
   ],
   "metadata": {
    "collapsed": false,
    "pycharm": {
     "name": "#%%\n"
    }
   }
  },
  {
   "cell_type": "code",
   "execution_count": 3,
   "outputs": [
    {
     "name": "stdout",
     "output_type": "stream",
     "text": [
      "[590, 593, 579, 588, 589, 591, 576, 587, 569, 558, 592, 572, 594, 542, 570, 562, 575, 573, 552, 555]\n",
      "Int64Index([590, 593, 579, 588, 589, 591, 576, 587, 569, 558, 592, 572, 594,\n",
      "            542, 570, 562, 575, 573, 552, 555],\n",
      "           dtype='int64')\n",
      "                   590        593       579        588        589        591  \\\n",
      "F1  Times1    0.495968   0.464018  0.492713   0.462754   0.497810   0.494024   \n",
      "    Times2    0.499528   0.497127  0.483601   0.411887   0.496570   0.452988   \n",
      "    Times3    0.499852   0.398260  0.487411   0.484612   0.448248   0.495165   \n",
      "    Times4    0.428432   0.498093  0.476322   0.496011   0.492208   0.490690   \n",
      "    Times5    0.453577   0.477963  0.483691   0.426985   0.430277   0.477272   \n",
      "...                ...        ...       ...        ...        ...        ...   \n",
      "F23 Times6   -2.806631 -10.536334 -5.128481 -10.536257 -10.536255 -10.536278   \n",
      "    Times7  -10.536379  -5.175647 -2.871143  -2.806631  -5.128481 -10.536270   \n",
      "    Times8   -2.427335 -10.536321 -2.427335 -10.536308 -10.536317 -10.536350   \n",
      "    Times9  -10.536265 -10.536281 -2.871143  -2.806631  -5.175647 -10.536302   \n",
      "    Times10 -10.536278 -10.536347 -2.871143 -10.536273 -10.536282  -2.806631   \n",
      "\n",
      "                   576        587        569        558        592        572  \\\n",
      "F1  Times1    0.390400   0.480531   0.494654   0.409335   0.498651   0.488961   \n",
      "    Times2    0.496431   0.497090   0.499397   0.492847   0.458676   0.491929   \n",
      "    Times3    0.499595   0.487392   0.463290   0.499186   0.491360   0.461731   \n",
      "    Times4    0.399340   0.423594   0.478756   0.438646   0.470526   0.478140   \n",
      "    Times5    0.472629   0.488547   0.473086   0.492281   0.497354   0.496297   \n",
      "...                ...        ...        ...        ...        ...        ...   \n",
      "F23 Times6   -2.806631 -10.536306  -2.871143  -2.871143  -2.871143  -2.421734   \n",
      "    Times7  -10.536288  -5.175647  -2.871143  -2.427335 -10.536283  -2.806631   \n",
      "    Times8  -10.536258 -10.536256 -10.536284  -5.128481 -10.536270  -5.128481   \n",
      "    Times9  -10.536375 -10.536307  -2.421734 -10.536353 -10.536280 -10.536265   \n",
      "    Times10 -10.536284 -10.536275  -2.871143  -2.421734  -2.421734  -5.128481   \n",
      "\n",
      "                   594        542        570        562        575        573  \\\n",
      "F1  Times1    0.423459   0.492230   0.383650   0.498408   0.484449   0.479915   \n",
      "    Times2    0.478903   0.495947   0.453093   0.498512   0.427646   0.480905   \n",
      "    Times3    0.470269   0.433929   0.452085   0.495942   0.484167   0.499161   \n",
      "    Times4    0.494744   0.487646   0.460364   0.457136   0.461875   0.484587   \n",
      "    Times5    0.496734   0.488027   0.496836   0.469651   0.498217   0.497689   \n",
      "...                ...        ...        ...        ...        ...        ...   \n",
      "F23 Times6  -10.536337  -1.859480  -2.427335  -2.421734 -10.536282  -2.427335   \n",
      "    Times7  -10.536253 -10.536334  -5.128481 -10.536299  -2.806631 -10.536289   \n",
      "    Times8  -10.536264 -10.536399 -10.536259  -2.427335  -2.421734  -2.421734   \n",
      "    Times9  -10.536337  -5.175647 -10.536369  -2.871143 -10.536251  -2.806631   \n",
      "    Times10  -5.175647  -2.421734 -10.536354 -10.536318  -2.427335 -10.536268   \n",
      "\n",
      "                   552        555  \n",
      "F1  Times1    0.493145   0.454825  \n",
      "    Times2    0.494852   0.467788  \n",
      "    Times3    0.456504   0.487427  \n",
      "    Times4    0.477482   0.489809  \n",
      "    Times5    0.494751   0.493070  \n",
      "...                ...        ...  \n",
      "F23 Times6  -10.536290 -10.536387  \n",
      "    Times7   -2.421734 -10.536331  \n",
      "    Times8   -2.871143 -10.536315  \n",
      "    Times9   -2.871143  -2.427335  \n",
      "    Times10 -10.536363 -10.536287  \n",
      "\n",
      "[230 rows x 20 columns]\n"
     ]
    },
    {
     "data": {
      "text/plain": "           590   593   579   588   589   591   576   587   569   558   592  \\\nFunction                                                                     \nF1        100%  100%  100%  100%  100%  100%  100%  100%  100%  100%  100%   \nF2        100%  100%  100%  100%  100%  100%  100%  100%  100%  100%  100%   \nF3        100%  100%  100%  100%  100%  100%  100%  100%  100%  100%  100%   \nF4        100%  100%  100%  100%  100%  100%  100%  100%  100%  100%  100%   \nF5          0%    0%    0%    0%    0%    0%    0%    0%    0%    0%    0%   \nF6        100%  100%  100%  100%  100%  100%  100%  100%  100%  100%  100%   \nF7        100%  100%  100%  100%  100%  100%  100%  100%  100%  100%  100%   \nF8          0%    0%    0%    0%    0%    0%    0%    0%    0%    0%    0%   \nF9        100%  100%  100%  100%  100%  100%  100%  100%  100%  100%  100%   \nF10       100%  100%  100%  100%  100%  100%  100%  100%  100%  100%  100%   \nF11       100%  100%  100%  100%  100%  100%  100%  100%  100%  100%  100%   \nF12       100%  100%  100%  100%  100%  100%  100%  100%  100%  100%  100%   \nF13       100%  100%  100%  100%  100%  100%  100%  100%  100%  100%  100%   \nF14       100%  100%  100%  100%  100%  100%  100%  100%  100%  100%  100%   \nF15        40%   30%    0%   20%   50%   10%    0%   10%   10%    0%   10%   \nF16       100%  100%  100%  100%  100%  100%  100%  100%  100%  100%  100%   \nF17       100%  100%  100%  100%  100%  100%  100%  100%  100%  100%  100%   \nF18       100%  100%  100%  100%  100%  100%  100%  100%  100%  100%  100%   \nF19         0%    0%    0%    0%    0%    0%    0%    0%    0%    0%    0%   \nF20        40%   40%   40%   70%   60%   50%   20%   30%   30%   50%   60%   \nF21        40%   20%   10%   30%   40%   50%   60%   30%   20%   30%   50%   \nF22        50%   30%   70%   20%   70%   30%   70%   80%   70%   80%   50%   \nF23        70%   70%   40%   70%   80%   70%   60%   60%   40%   40%   60%   \n\n           572   594   542   570   562   575   573   552   555  \nFunction                                                        \nF1        100%  100%  100%  100%  100%  100%  100%  100%  100%  \nF2        100%  100%  100%  100%  100%  100%  100%  100%  100%  \nF3        100%  100%  100%  100%  100%  100%  100%  100%  100%  \nF4        100%  100%  100%  100%  100%  100%  100%  100%  100%  \nF5          0%    0%    0%    0%    0%    0%    0%    0%    0%  \nF6        100%  100%  100%  100%  100%  100%  100%  100%  100%  \nF7        100%  100%  100%  100%  100%  100%  100%  100%  100%  \nF8          0%    0%    0%    0%    0%    0%    0%    0%    0%  \nF9        100%  100%  100%  100%  100%  100%  100%  100%  100%  \nF10       100%  100%  100%  100%  100%  100%  100%  100%  100%  \nF11       100%  100%  100%  100%  100%  100%  100%  100%  100%  \nF12       100%  100%  100%  100%  100%  100%  100%  100%  100%  \nF13       100%  100%  100%  100%  100%  100%  100%  100%  100%  \nF14       100%  100%  100%  100%  100%  100%  100%  100%  100%  \nF15         0%   30%    0%    0%   10%   10%   10%   20%    0%  \nF16       100%  100%  100%  100%  100%  100%  100%  100%  100%  \nF17       100%  100%  100%  100%  100%  100%  100%  100%  100%  \nF18       100%  100%  100%  100%  100%  100%  100%  100%  100%  \nF19         0%    0%    0%    0%    0%    0%    0%    0%    0%  \nF20        40%   50%   10%   60%   60%   60%   60%   60%   60%  \nF21        20%   40%   10%   50%   40%   30%   30%   20%   10%  \nF22        90%   20%   40%   30%   20%   40%   20%   60%   30%  \nF23        30%   70%   20%   50%   30%   40%   30%   40%   60%  ",
      "text/html": "<div>\n<style scoped>\n    .dataframe tbody tr th:only-of-type {\n        vertical-align: middle;\n    }\n\n    .dataframe tbody tr th {\n        vertical-align: top;\n    }\n\n    .dataframe thead th {\n        text-align: right;\n    }\n</style>\n<table border=\"1\" class=\"dataframe\">\n  <thead>\n    <tr style=\"text-align: right;\">\n      <th></th>\n      <th>590</th>\n      <th>593</th>\n      <th>579</th>\n      <th>588</th>\n      <th>589</th>\n      <th>591</th>\n      <th>576</th>\n      <th>587</th>\n      <th>569</th>\n      <th>558</th>\n      <th>592</th>\n      <th>572</th>\n      <th>594</th>\n      <th>542</th>\n      <th>570</th>\n      <th>562</th>\n      <th>575</th>\n      <th>573</th>\n      <th>552</th>\n      <th>555</th>\n    </tr>\n    <tr>\n      <th>Function</th>\n      <th></th>\n      <th></th>\n      <th></th>\n      <th></th>\n      <th></th>\n      <th></th>\n      <th></th>\n      <th></th>\n      <th></th>\n      <th></th>\n      <th></th>\n      <th></th>\n      <th></th>\n      <th></th>\n      <th></th>\n      <th></th>\n      <th></th>\n      <th></th>\n      <th></th>\n      <th></th>\n    </tr>\n  </thead>\n  <tbody>\n    <tr>\n      <th>F1</th>\n      <td>100%</td>\n      <td>100%</td>\n      <td>100%</td>\n      <td>100%</td>\n      <td>100%</td>\n      <td>100%</td>\n      <td>100%</td>\n      <td>100%</td>\n      <td>100%</td>\n      <td>100%</td>\n      <td>100%</td>\n      <td>100%</td>\n      <td>100%</td>\n      <td>100%</td>\n      <td>100%</td>\n      <td>100%</td>\n      <td>100%</td>\n      <td>100%</td>\n      <td>100%</td>\n      <td>100%</td>\n    </tr>\n    <tr>\n      <th>F2</th>\n      <td>100%</td>\n      <td>100%</td>\n      <td>100%</td>\n      <td>100%</td>\n      <td>100%</td>\n      <td>100%</td>\n      <td>100%</td>\n      <td>100%</td>\n      <td>100%</td>\n      <td>100%</td>\n      <td>100%</td>\n      <td>100%</td>\n      <td>100%</td>\n      <td>100%</td>\n      <td>100%</td>\n      <td>100%</td>\n      <td>100%</td>\n      <td>100%</td>\n      <td>100%</td>\n      <td>100%</td>\n    </tr>\n    <tr>\n      <th>F3</th>\n      <td>100%</td>\n      <td>100%</td>\n      <td>100%</td>\n      <td>100%</td>\n      <td>100%</td>\n      <td>100%</td>\n      <td>100%</td>\n      <td>100%</td>\n      <td>100%</td>\n      <td>100%</td>\n      <td>100%</td>\n      <td>100%</td>\n      <td>100%</td>\n      <td>100%</td>\n      <td>100%</td>\n      <td>100%</td>\n      <td>100%</td>\n      <td>100%</td>\n      <td>100%</td>\n      <td>100%</td>\n    </tr>\n    <tr>\n      <th>F4</th>\n      <td>100%</td>\n      <td>100%</td>\n      <td>100%</td>\n      <td>100%</td>\n      <td>100%</td>\n      <td>100%</td>\n      <td>100%</td>\n      <td>100%</td>\n      <td>100%</td>\n      <td>100%</td>\n      <td>100%</td>\n      <td>100%</td>\n      <td>100%</td>\n      <td>100%</td>\n      <td>100%</td>\n      <td>100%</td>\n      <td>100%</td>\n      <td>100%</td>\n      <td>100%</td>\n      <td>100%</td>\n    </tr>\n    <tr>\n      <th>F5</th>\n      <td>0%</td>\n      <td>0%</td>\n      <td>0%</td>\n      <td>0%</td>\n      <td>0%</td>\n      <td>0%</td>\n      <td>0%</td>\n      <td>0%</td>\n      <td>0%</td>\n      <td>0%</td>\n      <td>0%</td>\n      <td>0%</td>\n      <td>0%</td>\n      <td>0%</td>\n      <td>0%</td>\n      <td>0%</td>\n      <td>0%</td>\n      <td>0%</td>\n      <td>0%</td>\n      <td>0%</td>\n    </tr>\n    <tr>\n      <th>F6</th>\n      <td>100%</td>\n      <td>100%</td>\n      <td>100%</td>\n      <td>100%</td>\n      <td>100%</td>\n      <td>100%</td>\n      <td>100%</td>\n      <td>100%</td>\n      <td>100%</td>\n      <td>100%</td>\n      <td>100%</td>\n      <td>100%</td>\n      <td>100%</td>\n      <td>100%</td>\n      <td>100%</td>\n      <td>100%</td>\n      <td>100%</td>\n      <td>100%</td>\n      <td>100%</td>\n      <td>100%</td>\n    </tr>\n    <tr>\n      <th>F7</th>\n      <td>100%</td>\n      <td>100%</td>\n      <td>100%</td>\n      <td>100%</td>\n      <td>100%</td>\n      <td>100%</td>\n      <td>100%</td>\n      <td>100%</td>\n      <td>100%</td>\n      <td>100%</td>\n      <td>100%</td>\n      <td>100%</td>\n      <td>100%</td>\n      <td>100%</td>\n      <td>100%</td>\n      <td>100%</td>\n      <td>100%</td>\n      <td>100%</td>\n      <td>100%</td>\n      <td>100%</td>\n    </tr>\n    <tr>\n      <th>F8</th>\n      <td>0%</td>\n      <td>0%</td>\n      <td>0%</td>\n      <td>0%</td>\n      <td>0%</td>\n      <td>0%</td>\n      <td>0%</td>\n      <td>0%</td>\n      <td>0%</td>\n      <td>0%</td>\n      <td>0%</td>\n      <td>0%</td>\n      <td>0%</td>\n      <td>0%</td>\n      <td>0%</td>\n      <td>0%</td>\n      <td>0%</td>\n      <td>0%</td>\n      <td>0%</td>\n      <td>0%</td>\n    </tr>\n    <tr>\n      <th>F9</th>\n      <td>100%</td>\n      <td>100%</td>\n      <td>100%</td>\n      <td>100%</td>\n      <td>100%</td>\n      <td>100%</td>\n      <td>100%</td>\n      <td>100%</td>\n      <td>100%</td>\n      <td>100%</td>\n      <td>100%</td>\n      <td>100%</td>\n      <td>100%</td>\n      <td>100%</td>\n      <td>100%</td>\n      <td>100%</td>\n      <td>100%</td>\n      <td>100%</td>\n      <td>100%</td>\n      <td>100%</td>\n    </tr>\n    <tr>\n      <th>F10</th>\n      <td>100%</td>\n      <td>100%</td>\n      <td>100%</td>\n      <td>100%</td>\n      <td>100%</td>\n      <td>100%</td>\n      <td>100%</td>\n      <td>100%</td>\n      <td>100%</td>\n      <td>100%</td>\n      <td>100%</td>\n      <td>100%</td>\n      <td>100%</td>\n      <td>100%</td>\n      <td>100%</td>\n      <td>100%</td>\n      <td>100%</td>\n      <td>100%</td>\n      <td>100%</td>\n      <td>100%</td>\n    </tr>\n    <tr>\n      <th>F11</th>\n      <td>100%</td>\n      <td>100%</td>\n      <td>100%</td>\n      <td>100%</td>\n      <td>100%</td>\n      <td>100%</td>\n      <td>100%</td>\n      <td>100%</td>\n      <td>100%</td>\n      <td>100%</td>\n      <td>100%</td>\n      <td>100%</td>\n      <td>100%</td>\n      <td>100%</td>\n      <td>100%</td>\n      <td>100%</td>\n      <td>100%</td>\n      <td>100%</td>\n      <td>100%</td>\n      <td>100%</td>\n    </tr>\n    <tr>\n      <th>F12</th>\n      <td>100%</td>\n      <td>100%</td>\n      <td>100%</td>\n      <td>100%</td>\n      <td>100%</td>\n      <td>100%</td>\n      <td>100%</td>\n      <td>100%</td>\n      <td>100%</td>\n      <td>100%</td>\n      <td>100%</td>\n      <td>100%</td>\n      <td>100%</td>\n      <td>100%</td>\n      <td>100%</td>\n      <td>100%</td>\n      <td>100%</td>\n      <td>100%</td>\n      <td>100%</td>\n      <td>100%</td>\n    </tr>\n    <tr>\n      <th>F13</th>\n      <td>100%</td>\n      <td>100%</td>\n      <td>100%</td>\n      <td>100%</td>\n      <td>100%</td>\n      <td>100%</td>\n      <td>100%</td>\n      <td>100%</td>\n      <td>100%</td>\n      <td>100%</td>\n      <td>100%</td>\n      <td>100%</td>\n      <td>100%</td>\n      <td>100%</td>\n      <td>100%</td>\n      <td>100%</td>\n      <td>100%</td>\n      <td>100%</td>\n      <td>100%</td>\n      <td>100%</td>\n    </tr>\n    <tr>\n      <th>F14</th>\n      <td>100%</td>\n      <td>100%</td>\n      <td>100%</td>\n      <td>100%</td>\n      <td>100%</td>\n      <td>100%</td>\n      <td>100%</td>\n      <td>100%</td>\n      <td>100%</td>\n      <td>100%</td>\n      <td>100%</td>\n      <td>100%</td>\n      <td>100%</td>\n      <td>100%</td>\n      <td>100%</td>\n      <td>100%</td>\n      <td>100%</td>\n      <td>100%</td>\n      <td>100%</td>\n      <td>100%</td>\n    </tr>\n    <tr>\n      <th>F15</th>\n      <td>40%</td>\n      <td>30%</td>\n      <td>0%</td>\n      <td>20%</td>\n      <td>50%</td>\n      <td>10%</td>\n      <td>0%</td>\n      <td>10%</td>\n      <td>10%</td>\n      <td>0%</td>\n      <td>10%</td>\n      <td>0%</td>\n      <td>30%</td>\n      <td>0%</td>\n      <td>0%</td>\n      <td>10%</td>\n      <td>10%</td>\n      <td>10%</td>\n      <td>20%</td>\n      <td>0%</td>\n    </tr>\n    <tr>\n      <th>F16</th>\n      <td>100%</td>\n      <td>100%</td>\n      <td>100%</td>\n      <td>100%</td>\n      <td>100%</td>\n      <td>100%</td>\n      <td>100%</td>\n      <td>100%</td>\n      <td>100%</td>\n      <td>100%</td>\n      <td>100%</td>\n      <td>100%</td>\n      <td>100%</td>\n      <td>100%</td>\n      <td>100%</td>\n      <td>100%</td>\n      <td>100%</td>\n      <td>100%</td>\n      <td>100%</td>\n      <td>100%</td>\n    </tr>\n    <tr>\n      <th>F17</th>\n      <td>100%</td>\n      <td>100%</td>\n      <td>100%</td>\n      <td>100%</td>\n      <td>100%</td>\n      <td>100%</td>\n      <td>100%</td>\n      <td>100%</td>\n      <td>100%</td>\n      <td>100%</td>\n      <td>100%</td>\n      <td>100%</td>\n      <td>100%</td>\n      <td>100%</td>\n      <td>100%</td>\n      <td>100%</td>\n      <td>100%</td>\n      <td>100%</td>\n      <td>100%</td>\n      <td>100%</td>\n    </tr>\n    <tr>\n      <th>F18</th>\n      <td>100%</td>\n      <td>100%</td>\n      <td>100%</td>\n      <td>100%</td>\n      <td>100%</td>\n      <td>100%</td>\n      <td>100%</td>\n      <td>100%</td>\n      <td>100%</td>\n      <td>100%</td>\n      <td>100%</td>\n      <td>100%</td>\n      <td>100%</td>\n      <td>100%</td>\n      <td>100%</td>\n      <td>100%</td>\n      <td>100%</td>\n      <td>100%</td>\n      <td>100%</td>\n      <td>100%</td>\n    </tr>\n    <tr>\n      <th>F19</th>\n      <td>0%</td>\n      <td>0%</td>\n      <td>0%</td>\n      <td>0%</td>\n      <td>0%</td>\n      <td>0%</td>\n      <td>0%</td>\n      <td>0%</td>\n      <td>0%</td>\n      <td>0%</td>\n      <td>0%</td>\n      <td>0%</td>\n      <td>0%</td>\n      <td>0%</td>\n      <td>0%</td>\n      <td>0%</td>\n      <td>0%</td>\n      <td>0%</td>\n      <td>0%</td>\n      <td>0%</td>\n    </tr>\n    <tr>\n      <th>F20</th>\n      <td>40%</td>\n      <td>40%</td>\n      <td>40%</td>\n      <td>70%</td>\n      <td>60%</td>\n      <td>50%</td>\n      <td>20%</td>\n      <td>30%</td>\n      <td>30%</td>\n      <td>50%</td>\n      <td>60%</td>\n      <td>40%</td>\n      <td>50%</td>\n      <td>10%</td>\n      <td>60%</td>\n      <td>60%</td>\n      <td>60%</td>\n      <td>60%</td>\n      <td>60%</td>\n      <td>60%</td>\n    </tr>\n    <tr>\n      <th>F21</th>\n      <td>40%</td>\n      <td>20%</td>\n      <td>10%</td>\n      <td>30%</td>\n      <td>40%</td>\n      <td>50%</td>\n      <td>60%</td>\n      <td>30%</td>\n      <td>20%</td>\n      <td>30%</td>\n      <td>50%</td>\n      <td>20%</td>\n      <td>40%</td>\n      <td>10%</td>\n      <td>50%</td>\n      <td>40%</td>\n      <td>30%</td>\n      <td>30%</td>\n      <td>20%</td>\n      <td>10%</td>\n    </tr>\n    <tr>\n      <th>F22</th>\n      <td>50%</td>\n      <td>30%</td>\n      <td>70%</td>\n      <td>20%</td>\n      <td>70%</td>\n      <td>30%</td>\n      <td>70%</td>\n      <td>80%</td>\n      <td>70%</td>\n      <td>80%</td>\n      <td>50%</td>\n      <td>90%</td>\n      <td>20%</td>\n      <td>40%</td>\n      <td>30%</td>\n      <td>20%</td>\n      <td>40%</td>\n      <td>20%</td>\n      <td>60%</td>\n      <td>30%</td>\n    </tr>\n    <tr>\n      <th>F23</th>\n      <td>70%</td>\n      <td>70%</td>\n      <td>40%</td>\n      <td>70%</td>\n      <td>80%</td>\n      <td>70%</td>\n      <td>60%</td>\n      <td>60%</td>\n      <td>40%</td>\n      <td>40%</td>\n      <td>60%</td>\n      <td>30%</td>\n      <td>70%</td>\n      <td>20%</td>\n      <td>50%</td>\n      <td>30%</td>\n      <td>40%</td>\n      <td>30%</td>\n      <td>40%</td>\n      <td>60%</td>\n    </tr>\n  </tbody>\n</table>\n</div>"
     },
     "metadata": {},
     "output_type": "display_data"
    }
   ],
   "source": [
    "data_pm = pd.read_csv(\"./best_20com_9pm.csv\", header=0, index_col=[0])\n",
    "index = data_pm.index.tolist()\n",
    "print(index)\n",
    "def read_csv(path):\n",
    "    return pd.read_csv(path,index_col=[0,1],header=0)\n",
    "path_percent_list=[\"./combination\"+str(i)+\".csv\" for i in index]\n",
    "df = [read_csv(name) for name in path_percent_list]\n",
    "df = pd.concat(df,axis=1)\n",
    "df.columns = index\n",
    "print(df.columns)\n",
    "print(df)\n",
    "df.to_csv(\"./SSGA_rawdata.csv\",header=True,index=True)\n",
    "\n",
    "def percent(Function, optimal):\n",
    "    dataframe = df.loc[(Function, slice(None)), :]\n",
    "    if Function in [\"F1\", \"F2\", \"F3\", \"F4\", \"F5\", \"F6\", \"F7\", \"F9\", \"F10\", \"F11\", \"F12\", \"F13\", \"F14\", \"F18\"]:\n",
    "        dataframe = dataframe.round(0)\n",
    "    elif Function in [\"F17\"]:\n",
    "        dataframe = dataframe.round(3)\n",
    "    elif Function in [\"F8\",\"F19\", \"F20\"]:\n",
    "        dataframe = dataframe.round(2)\n",
    "    elif Function in [\"F15\", \"F16\", \"F21\", \"F22\", \"F23\"]:\n",
    "        dataframe = dataframe.round(4)\n",
    "\n",
    "    dataframe = pd.DataFrame(data=dataframe.values,\n",
    "                             columns=dataframe.columns)\n",
    "    percent_dataframe = dataframe.applymap(lambda x: True if x <= optimal else False)\n",
    "    percent_dataframe[\"Function\"] = Function\n",
    "    return percent_dataframe\n",
    "\n",
    "opt = [0.0, 0.0, 0.0, 0.0, 0.0, 0.0, 0.0, -418.98 * 50, 0.0, 0.0, 0.0, 0.0, 0.0, 1.0, 0.0003, -1.0316, 0.398, 3.0,\n",
    "       -3.86, -3.32, -10.1532,-10.4028, -10.5363]\n",
    "function_list = np.arange(1, 24, 1)\n",
    "percent_df = [percent(Function=\"F\" + str(i), optimal=opt[i - 1]) for i in function_list]\n",
    "percent_df = pd.concat(percent_df, axis=0)\n",
    "percent_df = percent_df.groupby([\"Function\"]).sum().applymap(lambda x: str(x * 10) + \"%\")\n",
    "index = [\"F\" + str(i) for i in function_list]\n",
    "percent_df = percent_df.loc[index]\n",
    "display(percent_df)\n",
    "percent_df.to_csv(\"./SSGA_percent.csv\")"
   ],
   "metadata": {
    "collapsed": false,
    "pycharm": {
     "name": "#%%\n"
    }
   }
  },
  {
   "cell_type": "code",
   "execution_count": 3,
   "outputs": [],
   "source": [],
   "metadata": {
    "collapsed": false,
    "pycharm": {
     "name": "#%%\n"
    }
   }
  }
 ],
 "metadata": {
  "kernelspec": {
   "display_name": "Python 3",
   "language": "python",
   "name": "python3"
  },
  "language_info": {
   "codemirror_mode": {
    "name": "ipython",
    "version": 2
   },
   "file_extension": ".py",
   "mimetype": "text/x-python",
   "name": "python",
   "nbconvert_exporter": "python",
   "pygments_lexer": "ipython2",
   "version": "2.7.6"
  }
 },
 "nbformat": 4,
 "nbformat_minor": 0
}