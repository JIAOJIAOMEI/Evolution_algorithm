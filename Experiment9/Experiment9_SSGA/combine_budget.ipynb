{
 "cells": [
  {
   "cell_type": "code",
   "execution_count": 20,
   "metadata": {
    "collapsed": true,
    "pycharm": {
     "name": "#%%\n"
    }
   },
   "outputs": [],
   "source": [
    "import numpy as np\n",
    "import pandas as pd"
   ]
  },
  {
   "cell_type": "code",
   "execution_count": 23,
   "outputs": [
    {
     "name": "stdout",
     "output_type": "stream",
     "text": [
      "[590, 593, 579, 588, 589, 591, 576, 587, 569, 558, 592, 572, 594, 542, 570, 562, 575, 573, 552, 555]\n",
      "Int64Index([590, 593, 579, 588, 589, 591, 576, 587, 569, 558, 592, 572, 594,\n",
      "            542, 570, 562, 575, 573, 552, 555],\n",
      "           dtype='int64')\n",
      "                   590        593        579        588        589        591  \\\n",
      "F1  Times1     15035.0    20042.0    18140.0    15979.0    12405.0    15241.0   \n",
      "    Times2     17349.0    17553.0    16763.0    14706.0    11053.0    12800.0   \n",
      "    Times3     19588.0    19818.0    17536.0    13995.0    13187.0    15520.0   \n",
      "    Times4     17727.0    16810.0    19179.0    15963.0    11961.0    14496.0   \n",
      "    Times5     18097.0    18754.0    19334.0    13621.0    12701.0    14408.0   \n",
      "...                ...        ...        ...        ...        ...        ...   \n",
      "F23 Times6      5826.0  1000099.0  1000199.0     6037.0  1000099.0     1869.0   \n",
      "    Times7   1000099.0  1000099.0  1000199.0     1844.0  1000099.0     4467.0   \n",
      "    Times8   1000099.0     6976.0  1000199.0  1000099.0  1000099.0  1000099.0   \n",
      "    Times9   1000099.0  1000099.0  1000199.0  1000099.0  1000099.0  1000099.0   \n",
      "    Times10  1000099.0     7664.0  1000199.0     7704.0  1000099.0  1000099.0   \n",
      "\n",
      "                   576        587        569        558        592        572  \\\n",
      "F1  Times1     18018.0    17624.0    21841.0    13868.0    12961.0    22516.0   \n",
      "    Times2     20064.0    20157.0    19849.0    15690.0    14456.0    20943.0   \n",
      "    Times3     17578.0    19378.0    22410.0    14144.0    15721.0    24606.0   \n",
      "    Times4     20138.0    17067.0    20637.0    13878.0    12262.0    23317.0   \n",
      "    Times5     17835.0    19274.0    22895.0    14678.0    13276.0    22086.0   \n",
      "...                ...        ...        ...        ...        ...        ...   \n",
      "F23 Times6   1000199.0  1000099.0  1000199.0  1000099.0  1000099.0  1000199.0   \n",
      "    Times7   1000199.0  1000099.0     3203.0     3184.0  1000099.0     3275.0   \n",
      "    Times8   1000199.0  1000099.0     5623.0  1000099.0  1000099.0  1000199.0   \n",
      "    Times9   1000199.0  1000099.0  1000199.0     2014.0  1000099.0  1000199.0   \n",
      "    Times10  1000199.0  1000099.0  1000199.0  1000099.0  1000099.0     2841.0   \n",
      "\n",
      "                   594        542        570        562        575        573  \\\n",
      "F1  Times1     15561.0    24245.0    16444.0    11674.0    19782.0    18156.0   \n",
      "    Times2     14594.0    26138.0    17263.0    12868.0    22784.0    18120.0   \n",
      "    Times3     14119.0    25307.0    17802.0    12608.0    20430.0    19003.0   \n",
      "    Times4     14296.0    24881.0    19138.0    12068.0    20757.0    16888.0   \n",
      "    Times5     16193.0    26568.0    16917.0    12286.0    23151.0    17988.0   \n",
      "...                ...        ...        ...        ...        ...        ...   \n",
      "F23 Times6   1000099.0     3977.0     2849.0  1000099.0  1000199.0  1000199.0   \n",
      "    Times7      7150.0  1000199.0     3898.0  1000099.0  1000199.0  1000199.0   \n",
      "    Times8   1000099.0  1000199.0     2086.0     3186.0  1000199.0  1000199.0   \n",
      "    Times9   1000099.0  1000199.0  1000199.0  1000099.0  1000199.0  1000199.0   \n",
      "    Times10     2694.0  1000199.0  1000199.0  1000099.0  1000199.0  1000199.0   \n",
      "\n",
      "                   552        555  \n",
      "F1  Times1     15171.0    15720.0  \n",
      "    Times2     13507.0    14472.0  \n",
      "    Times3     13668.0    14102.0  \n",
      "    Times4     14256.0    13186.0  \n",
      "    Times5     14144.0    14387.0  \n",
      "...                ...        ...  \n",
      "F23 Times6   1000099.0  1000099.0  \n",
      "    Times7   1000099.0  1000099.0  \n",
      "    Times8   1000099.0  1000099.0  \n",
      "    Times9   1000099.0     3170.0  \n",
      "    Times10  1000099.0  1000099.0  \n",
      "\n",
      "[230 rows x 20 columns]\n"
     ]
    }
   ],
   "source": [
    "data_pm = pd.read_csv(\"./best_20com_9pm.csv\", header=0, index_col=[0])\n",
    "index = data_pm.index.tolist()\n",
    "print(index)\n",
    "def read_csv(path):\n",
    "    return pd.read_csv(path,index_col=[0,1],header=0)\n",
    "path_budget_list=[\"./budget\"+str(i)+\".csv\" for i in index]\n",
    "df = [read_csv(name) for name in path_budget_list]\n",
    "df = pd.concat(df,axis=1)\n",
    "df.columns = index\n",
    "print(df.columns)\n",
    "print(df)\n",
    "df.to_csv(\"./SSGA_budget.csv\",header=True,index=True)"
   ],
   "metadata": {
    "collapsed": false,
    "pycharm": {
     "name": "#%%\n"
    }
   }
  },
  {
   "cell_type": "code",
   "execution_count": 25,
   "outputs": [
    {
     "name": "stdout",
     "output_type": "stream",
     "text": [
      "[590, 593, 579, 588, 589, 591, 576, 587, 569, 558, 592, 572, 594, 542, 570, 562, 575, 573, 552, 555]\n",
      "Int64Index([590, 593, 579, 588, 589, 591, 576, 587, 569, 558, 592, 572, 594,\n",
      "            542, 570, 562, 575, 573, 552, 555],\n",
      "           dtype='int64')\n",
      "                   590        593       579        588       589        591  \\\n",
      "F1  Times1    0.499196   0.470605  0.438023   0.492711  0.492296   0.499068   \n",
      "    Times2    0.494124   0.467446  0.492541   0.463743  0.493041   0.495460   \n",
      "    Times3    0.491370   0.473604  0.493511   0.475241  0.498033   0.497627   \n",
      "    Times4    0.475121   0.498859  0.497366   0.445369  0.496042   0.488063   \n",
      "    Times5    0.487170   0.475295  0.484801   0.463576  0.460297   0.493799   \n",
      "...                ...        ...       ...        ...       ...        ...   \n",
      "F23 Times6  -10.536278  -5.128481 -2.427335 -10.536284 -5.175647 -10.536340   \n",
      "    Times7   -3.835427  -2.806631 -2.871143 -10.536273 -3.835427 -10.536330   \n",
      "    Times8   -1.859480 -10.536258 -2.421734  -2.421734 -2.806631  -2.427335   \n",
      "    Times9   -5.128481  -2.427335 -5.175647  -5.128481 -3.835427  -2.427335   \n",
      "    Times10  -2.427335 -10.536338 -3.835427 -10.536252 -2.871143  -3.835427   \n",
      "\n",
      "                  576       587        569        558       592        572  \\\n",
      "F1  Times1   0.489541  0.481818   0.464969   0.495036  0.470038   0.495764   \n",
      "    Times2   0.491961  0.471457   0.486711   0.378851  0.494347   0.496928   \n",
      "    Times3   0.499498  0.493681   0.480097   0.483839  0.447457   0.497969   \n",
      "    Times4   0.495163  0.484473   0.490818   0.496136  0.496848   0.456623   \n",
      "    Times5   0.478801  0.461068   0.473902   0.488907  0.499634   0.497098   \n",
      "...               ...       ...        ...        ...       ...        ...   \n",
      "F23 Times6  -3.835427 -2.427335  -5.175647  -1.676553 -2.421734  -2.806631   \n",
      "    Times7  -2.427335 -5.175647 -10.536302 -10.536336 -2.806631 -10.536350   \n",
      "    Times8  -1.859480 -2.427335 -10.536321  -3.835427 -2.871143  -2.427335   \n",
      "    Times9  -2.806631 -2.421734  -5.128481 -10.536349 -2.871143  -2.427335   \n",
      "    Times10 -2.421734 -2.806631  -2.871143  -1.859480 -5.175647 -10.536332   \n",
      "\n",
      "                   594        542        570        562       575       573  \\\n",
      "F1  Times1    0.494345   0.476482   0.495050   0.482047  0.495957  0.494093   \n",
      "    Times2    0.466922   0.485524   0.498286   0.498399  0.496061  0.427779   \n",
      "    Times3    0.466776   0.496025   0.499433   0.491956  0.472916  0.498769   \n",
      "    Times4    0.463221   0.490183   0.435623   0.497796  0.489568  0.488419   \n",
      "    Times5    0.473384   0.498419   0.482978   0.492502  0.482018  0.443193   \n",
      "...                ...        ...        ...        ...       ...       ...   \n",
      "F23 Times6   -2.871143 -10.536314 -10.536254  -2.421734 -5.128481 -2.427335   \n",
      "    Times7  -10.536269  -2.421734 -10.536261  -2.427335 -2.427335 -2.871143   \n",
      "    Times8   -2.427335  -2.871143 -10.536348 -10.536291 -2.421734 -5.175647   \n",
      "    Times9   -2.871143  -3.835427  -3.835427  -2.871143 -5.175647 -1.676553   \n",
      "    Times10 -10.536362  -2.421734  -5.128481  -3.835427 -2.806631 -2.871143   \n",
      "\n",
      "                  552        555  \n",
      "F1  Times1   0.485144   0.472672  \n",
      "    Times2   0.474371   0.483709  \n",
      "    Times3   0.474710   0.461477  \n",
      "    Times4   0.462623   0.497705  \n",
      "    Times5   0.471088   0.473838  \n",
      "...               ...        ...  \n",
      "F23 Times6  -2.871143  -2.427335  \n",
      "    Times7  -5.128481  -2.421734  \n",
      "    Times8  -3.835427  -3.835427  \n",
      "    Times9  -2.871143 -10.536312  \n",
      "    Times10 -5.175647  -2.871143  \n",
      "\n",
      "[230 rows x 20 columns]\n"
     ]
    },
    {
     "data": {
      "text/plain": "           590   593   579   588   589   591   576   587   569   558   592  \\\nFunction                                                                     \nF1        100%  100%  100%  100%  100%  100%  100%  100%  100%  100%  100%   \nF2        100%  100%  100%  100%  100%  100%  100%  100%  100%  100%  100%   \nF3        100%  100%  100%  100%  100%  100%  100%  100%  100%  100%  100%   \nF4        100%  100%  100%  100%  100%  100%  100%  100%  100%  100%  100%   \nF5          0%    0%    0%    0%    0%    0%    0%    0%    0%    0%   10%   \nF6        100%  100%  100%  100%  100%  100%  100%  100%  100%  100%  100%   \nF7          0%    0%    0%    0%    0%    0%    0%    0%    0%    0%    0%   \nF8          0%    0%    0%    0%    0%    0%    0%    0%    0%    0%    0%   \nF9          0%    0%    0%    0%    0%    0%    0%    0%    0%    0%    0%   \nF10       100%  100%  100%  100%  100%  100%  100%  100%  100%  100%  100%   \nF11       100%  100%  100%  100%  100%  100%  100%  100%  100%  100%  100%   \nF12       100%  100%  100%  100%  100%  100%  100%  100%  100%  100%  100%   \nF13       100%  100%  100%  100%  100%  100%  100%  100%  100%  100%  100%   \nF14        20%   20%   50%   20%   10%    0%   30%   30%   50%   10%    0%   \nF15        60%   90%   70%   80%   40%   50%   80%   70%   80%   50%   50%   \nF16        90%  100%  100%   90%  100%  100%  100%  100%  100%  100%  100%   \nF17       100%  100%  100%  100%  100%  100%  100%  100%  100%  100%  100%   \nF18       100%   70%  100%   90%   90%   80%  100%   80%   80%  100%   80%   \nF19         0%    0%    0%    0%    0%    0%    0%    0%    0%    0%    0%   \nF20        70%   50%   20%   80%   20%   50%   60%   80%   50%   50%   40%   \nF21        30%   30%   50%   10%   40%   30%   30%   10%   30%   60%   40%   \nF22        20%   20%   30%   40%   20%   30%   10%   40%    0%   20%   30%   \nF23        30%   20%   10%   40%   20%   30%    0%   10%   30%   20%    0%   \n\n           572   594   542   570   562   575   573   552   555  \nFunction                                                        \nF1        100%  100%  100%  100%  100%  100%  100%  100%  100%  \nF2        100%  100%  100%  100%  100%  100%  100%  100%  100%  \nF3        100%  100%  100%  100%  100%  100%  100%  100%  100%  \nF4        100%  100%  100%  100%  100%  100%  100%  100%  100%  \nF5          0%    0%    0%    0%    0%    0%    0%    0%    0%  \nF6        100%  100%  100%  100%  100%  100%  100%  100%  100%  \nF7          0%    0%    0%    0%    0%    0%    0%    0%    0%  \nF8          0%    0%    0%    0%    0%    0%    0%    0%    0%  \nF9          0%    0%    0%    0%    0%    0%    0%    0%    0%  \nF10       100%  100%  100%  100%  100%  100%  100%  100%  100%  \nF11       100%  100%  100%  100%  100%  100%  100%  100%  100%  \nF12       100%  100%  100%  100%  100%  100%  100%  100%  100%  \nF13       100%  100%  100%  100%  100%  100%  100%  100%  100%  \nF14        70%   20%   50%   10%   40%   60%   60%   30%    0%  \nF15        70%   40%   70%   80%   50%   50%   80%   50%   60%  \nF16       100%   90%  100%  100%  100%  100%  100%  100%  100%  \nF17       100%  100%  100%  100%  100%  100%  100%  100%  100%  \nF18       100%   90%  100%  100%  100%   90%  100%   90%  100%  \nF19         0%    0%    0%    0%    0%    0%    0%    0%    0%  \nF20        60%   40%   60%   70%   80%   50%   40%   70%   70%  \nF21        30%   20%   20%   30%   20%   10%   40%   70%   40%  \nF22        50%   10%   20%   30%   60%   30%   10%   10%   20%  \nF23        30%   30%   30%   30%   10%   10%   20%    0%   10%  ",
      "text/html": "<div>\n<style scoped>\n    .dataframe tbody tr th:only-of-type {\n        vertical-align: middle;\n    }\n\n    .dataframe tbody tr th {\n        vertical-align: top;\n    }\n\n    .dataframe thead th {\n        text-align: right;\n    }\n</style>\n<table border=\"1\" class=\"dataframe\">\n  <thead>\n    <tr style=\"text-align: right;\">\n      <th></th>\n      <th>590</th>\n      <th>593</th>\n      <th>579</th>\n      <th>588</th>\n      <th>589</th>\n      <th>591</th>\n      <th>576</th>\n      <th>587</th>\n      <th>569</th>\n      <th>558</th>\n      <th>592</th>\n      <th>572</th>\n      <th>594</th>\n      <th>542</th>\n      <th>570</th>\n      <th>562</th>\n      <th>575</th>\n      <th>573</th>\n      <th>552</th>\n      <th>555</th>\n    </tr>\n    <tr>\n      <th>Function</th>\n      <th></th>\n      <th></th>\n      <th></th>\n      <th></th>\n      <th></th>\n      <th></th>\n      <th></th>\n      <th></th>\n      <th></th>\n      <th></th>\n      <th></th>\n      <th></th>\n      <th></th>\n      <th></th>\n      <th></th>\n      <th></th>\n      <th></th>\n      <th></th>\n      <th></th>\n      <th></th>\n    </tr>\n  </thead>\n  <tbody>\n    <tr>\n      <th>F1</th>\n      <td>100%</td>\n      <td>100%</td>\n      <td>100%</td>\n      <td>100%</td>\n      <td>100%</td>\n      <td>100%</td>\n      <td>100%</td>\n      <td>100%</td>\n      <td>100%</td>\n      <td>100%</td>\n      <td>100%</td>\n      <td>100%</td>\n      <td>100%</td>\n      <td>100%</td>\n      <td>100%</td>\n      <td>100%</td>\n      <td>100%</td>\n      <td>100%</td>\n      <td>100%</td>\n      <td>100%</td>\n    </tr>\n    <tr>\n      <th>F2</th>\n      <td>100%</td>\n      <td>100%</td>\n      <td>100%</td>\n      <td>100%</td>\n      <td>100%</td>\n      <td>100%</td>\n      <td>100%</td>\n      <td>100%</td>\n      <td>100%</td>\n      <td>100%</td>\n      <td>100%</td>\n      <td>100%</td>\n      <td>100%</td>\n      <td>100%</td>\n      <td>100%</td>\n      <td>100%</td>\n      <td>100%</td>\n      <td>100%</td>\n      <td>100%</td>\n      <td>100%</td>\n    </tr>\n    <tr>\n      <th>F3</th>\n      <td>100%</td>\n      <td>100%</td>\n      <td>100%</td>\n      <td>100%</td>\n      <td>100%</td>\n      <td>100%</td>\n      <td>100%</td>\n      <td>100%</td>\n      <td>100%</td>\n      <td>100%</td>\n      <td>100%</td>\n      <td>100%</td>\n      <td>100%</td>\n      <td>100%</td>\n      <td>100%</td>\n      <td>100%</td>\n      <td>100%</td>\n      <td>100%</td>\n      <td>100%</td>\n      <td>100%</td>\n    </tr>\n    <tr>\n      <th>F4</th>\n      <td>100%</td>\n      <td>100%</td>\n      <td>100%</td>\n      <td>100%</td>\n      <td>100%</td>\n      <td>100%</td>\n      <td>100%</td>\n      <td>100%</td>\n      <td>100%</td>\n      <td>100%</td>\n      <td>100%</td>\n      <td>100%</td>\n      <td>100%</td>\n      <td>100%</td>\n      <td>100%</td>\n      <td>100%</td>\n      <td>100%</td>\n      <td>100%</td>\n      <td>100%</td>\n      <td>100%</td>\n    </tr>\n    <tr>\n      <th>F5</th>\n      <td>0%</td>\n      <td>0%</td>\n      <td>0%</td>\n      <td>0%</td>\n      <td>0%</td>\n      <td>0%</td>\n      <td>0%</td>\n      <td>0%</td>\n      <td>0%</td>\n      <td>0%</td>\n      <td>10%</td>\n      <td>0%</td>\n      <td>0%</td>\n      <td>0%</td>\n      <td>0%</td>\n      <td>0%</td>\n      <td>0%</td>\n      <td>0%</td>\n      <td>0%</td>\n      <td>0%</td>\n    </tr>\n    <tr>\n      <th>F6</th>\n      <td>100%</td>\n      <td>100%</td>\n      <td>100%</td>\n      <td>100%</td>\n      <td>100%</td>\n      <td>100%</td>\n      <td>100%</td>\n      <td>100%</td>\n      <td>100%</td>\n      <td>100%</td>\n      <td>100%</td>\n      <td>100%</td>\n      <td>100%</td>\n      <td>100%</td>\n      <td>100%</td>\n      <td>100%</td>\n      <td>100%</td>\n      <td>100%</td>\n      <td>100%</td>\n      <td>100%</td>\n    </tr>\n    <tr>\n      <th>F7</th>\n      <td>0%</td>\n      <td>0%</td>\n      <td>0%</td>\n      <td>0%</td>\n      <td>0%</td>\n      <td>0%</td>\n      <td>0%</td>\n      <td>0%</td>\n      <td>0%</td>\n      <td>0%</td>\n      <td>0%</td>\n      <td>0%</td>\n      <td>0%</td>\n      <td>0%</td>\n      <td>0%</td>\n      <td>0%</td>\n      <td>0%</td>\n      <td>0%</td>\n      <td>0%</td>\n      <td>0%</td>\n    </tr>\n    <tr>\n      <th>F8</th>\n      <td>0%</td>\n      <td>0%</td>\n      <td>0%</td>\n      <td>0%</td>\n      <td>0%</td>\n      <td>0%</td>\n      <td>0%</td>\n      <td>0%</td>\n      <td>0%</td>\n      <td>0%</td>\n      <td>0%</td>\n      <td>0%</td>\n      <td>0%</td>\n      <td>0%</td>\n      <td>0%</td>\n      <td>0%</td>\n      <td>0%</td>\n      <td>0%</td>\n      <td>0%</td>\n      <td>0%</td>\n    </tr>\n    <tr>\n      <th>F9</th>\n      <td>0%</td>\n      <td>0%</td>\n      <td>0%</td>\n      <td>0%</td>\n      <td>0%</td>\n      <td>0%</td>\n      <td>0%</td>\n      <td>0%</td>\n      <td>0%</td>\n      <td>0%</td>\n      <td>0%</td>\n      <td>0%</td>\n      <td>0%</td>\n      <td>0%</td>\n      <td>0%</td>\n      <td>0%</td>\n      <td>0%</td>\n      <td>0%</td>\n      <td>0%</td>\n      <td>0%</td>\n    </tr>\n    <tr>\n      <th>F10</th>\n      <td>100%</td>\n      <td>100%</td>\n      <td>100%</td>\n      <td>100%</td>\n      <td>100%</td>\n      <td>100%</td>\n      <td>100%</td>\n      <td>100%</td>\n      <td>100%</td>\n      <td>100%</td>\n      <td>100%</td>\n      <td>100%</td>\n      <td>100%</td>\n      <td>100%</td>\n      <td>100%</td>\n      <td>100%</td>\n      <td>100%</td>\n      <td>100%</td>\n      <td>100%</td>\n      <td>100%</td>\n    </tr>\n    <tr>\n      <th>F11</th>\n      <td>100%</td>\n      <td>100%</td>\n      <td>100%</td>\n      <td>100%</td>\n      <td>100%</td>\n      <td>100%</td>\n      <td>100%</td>\n      <td>100%</td>\n      <td>100%</td>\n      <td>100%</td>\n      <td>100%</td>\n      <td>100%</td>\n      <td>100%</td>\n      <td>100%</td>\n      <td>100%</td>\n      <td>100%</td>\n      <td>100%</td>\n      <td>100%</td>\n      <td>100%</td>\n      <td>100%</td>\n    </tr>\n    <tr>\n      <th>F12</th>\n      <td>100%</td>\n      <td>100%</td>\n      <td>100%</td>\n      <td>100%</td>\n      <td>100%</td>\n      <td>100%</td>\n      <td>100%</td>\n      <td>100%</td>\n      <td>100%</td>\n      <td>100%</td>\n      <td>100%</td>\n      <td>100%</td>\n      <td>100%</td>\n      <td>100%</td>\n      <td>100%</td>\n      <td>100%</td>\n      <td>100%</td>\n      <td>100%</td>\n      <td>100%</td>\n      <td>100%</td>\n    </tr>\n    <tr>\n      <th>F13</th>\n      <td>100%</td>\n      <td>100%</td>\n      <td>100%</td>\n      <td>100%</td>\n      <td>100%</td>\n      <td>100%</td>\n      <td>100%</td>\n      <td>100%</td>\n      <td>100%</td>\n      <td>100%</td>\n      <td>100%</td>\n      <td>100%</td>\n      <td>100%</td>\n      <td>100%</td>\n      <td>100%</td>\n      <td>100%</td>\n      <td>100%</td>\n      <td>100%</td>\n      <td>100%</td>\n      <td>100%</td>\n    </tr>\n    <tr>\n      <th>F14</th>\n      <td>20%</td>\n      <td>20%</td>\n      <td>50%</td>\n      <td>20%</td>\n      <td>10%</td>\n      <td>0%</td>\n      <td>30%</td>\n      <td>30%</td>\n      <td>50%</td>\n      <td>10%</td>\n      <td>0%</td>\n      <td>70%</td>\n      <td>20%</td>\n      <td>50%</td>\n      <td>10%</td>\n      <td>40%</td>\n      <td>60%</td>\n      <td>60%</td>\n      <td>30%</td>\n      <td>0%</td>\n    </tr>\n    <tr>\n      <th>F15</th>\n      <td>60%</td>\n      <td>90%</td>\n      <td>70%</td>\n      <td>80%</td>\n      <td>40%</td>\n      <td>50%</td>\n      <td>80%</td>\n      <td>70%</td>\n      <td>80%</td>\n      <td>50%</td>\n      <td>50%</td>\n      <td>70%</td>\n      <td>40%</td>\n      <td>70%</td>\n      <td>80%</td>\n      <td>50%</td>\n      <td>50%</td>\n      <td>80%</td>\n      <td>50%</td>\n      <td>60%</td>\n    </tr>\n    <tr>\n      <th>F16</th>\n      <td>90%</td>\n      <td>100%</td>\n      <td>100%</td>\n      <td>90%</td>\n      <td>100%</td>\n      <td>100%</td>\n      <td>100%</td>\n      <td>100%</td>\n      <td>100%</td>\n      <td>100%</td>\n      <td>100%</td>\n      <td>100%</td>\n      <td>90%</td>\n      <td>100%</td>\n      <td>100%</td>\n      <td>100%</td>\n      <td>100%</td>\n      <td>100%</td>\n      <td>100%</td>\n      <td>100%</td>\n    </tr>\n    <tr>\n      <th>F17</th>\n      <td>100%</td>\n      <td>100%</td>\n      <td>100%</td>\n      <td>100%</td>\n      <td>100%</td>\n      <td>100%</td>\n      <td>100%</td>\n      <td>100%</td>\n      <td>100%</td>\n      <td>100%</td>\n      <td>100%</td>\n      <td>100%</td>\n      <td>100%</td>\n      <td>100%</td>\n      <td>100%</td>\n      <td>100%</td>\n      <td>100%</td>\n      <td>100%</td>\n      <td>100%</td>\n      <td>100%</td>\n    </tr>\n    <tr>\n      <th>F18</th>\n      <td>100%</td>\n      <td>70%</td>\n      <td>100%</td>\n      <td>90%</td>\n      <td>90%</td>\n      <td>80%</td>\n      <td>100%</td>\n      <td>80%</td>\n      <td>80%</td>\n      <td>100%</td>\n      <td>80%</td>\n      <td>100%</td>\n      <td>90%</td>\n      <td>100%</td>\n      <td>100%</td>\n      <td>100%</td>\n      <td>90%</td>\n      <td>100%</td>\n      <td>90%</td>\n      <td>100%</td>\n    </tr>\n    <tr>\n      <th>F19</th>\n      <td>0%</td>\n      <td>0%</td>\n      <td>0%</td>\n      <td>0%</td>\n      <td>0%</td>\n      <td>0%</td>\n      <td>0%</td>\n      <td>0%</td>\n      <td>0%</td>\n      <td>0%</td>\n      <td>0%</td>\n      <td>0%</td>\n      <td>0%</td>\n      <td>0%</td>\n      <td>0%</td>\n      <td>0%</td>\n      <td>0%</td>\n      <td>0%</td>\n      <td>0%</td>\n      <td>0%</td>\n    </tr>\n    <tr>\n      <th>F20</th>\n      <td>70%</td>\n      <td>50%</td>\n      <td>20%</td>\n      <td>80%</td>\n      <td>20%</td>\n      <td>50%</td>\n      <td>60%</td>\n      <td>80%</td>\n      <td>50%</td>\n      <td>50%</td>\n      <td>40%</td>\n      <td>60%</td>\n      <td>40%</td>\n      <td>60%</td>\n      <td>70%</td>\n      <td>80%</td>\n      <td>50%</td>\n      <td>40%</td>\n      <td>70%</td>\n      <td>70%</td>\n    </tr>\n    <tr>\n      <th>F21</th>\n      <td>30%</td>\n      <td>30%</td>\n      <td>50%</td>\n      <td>10%</td>\n      <td>40%</td>\n      <td>30%</td>\n      <td>30%</td>\n      <td>10%</td>\n      <td>30%</td>\n      <td>60%</td>\n      <td>40%</td>\n      <td>30%</td>\n      <td>20%</td>\n      <td>20%</td>\n      <td>30%</td>\n      <td>20%</td>\n      <td>10%</td>\n      <td>40%</td>\n      <td>70%</td>\n      <td>40%</td>\n    </tr>\n    <tr>\n      <th>F22</th>\n      <td>20%</td>\n      <td>20%</td>\n      <td>30%</td>\n      <td>40%</td>\n      <td>20%</td>\n      <td>30%</td>\n      <td>10%</td>\n      <td>40%</td>\n      <td>0%</td>\n      <td>20%</td>\n      <td>30%</td>\n      <td>50%</td>\n      <td>10%</td>\n      <td>20%</td>\n      <td>30%</td>\n      <td>60%</td>\n      <td>30%</td>\n      <td>10%</td>\n      <td>10%</td>\n      <td>20%</td>\n    </tr>\n    <tr>\n      <th>F23</th>\n      <td>30%</td>\n      <td>20%</td>\n      <td>10%</td>\n      <td>40%</td>\n      <td>20%</td>\n      <td>30%</td>\n      <td>0%</td>\n      <td>10%</td>\n      <td>30%</td>\n      <td>20%</td>\n      <td>0%</td>\n      <td>30%</td>\n      <td>30%</td>\n      <td>30%</td>\n      <td>30%</td>\n      <td>10%</td>\n      <td>10%</td>\n      <td>20%</td>\n      <td>0%</td>\n      <td>10%</td>\n    </tr>\n  </tbody>\n</table>\n</div>"
     },
     "metadata": {},
     "output_type": "display_data"
    }
   ],
   "source": [
    "data_pm = pd.read_csv(\"./best_20com_9pm.csv\", header=0, index_col=[0])\n",
    "index = data_pm.index.tolist()\n",
    "print(index)\n",
    "def read_csv(path):\n",
    "    return pd.read_csv(path,index_col=[0,1],header=0)\n",
    "path_percent_list=[\"./combination\"+str(i)+\".csv\" for i in index]\n",
    "df = [read_csv(name) for name in path_percent_list]\n",
    "df = pd.concat(df,axis=1)\n",
    "df.columns = index\n",
    "print(df.columns)\n",
    "print(df)\n",
    "df.to_csv(\"./SSGA_rawdata.csv\",header=True,index=True)\n",
    "\n",
    "def percent(Function, optimal):\n",
    "    dataframe = df.loc[(Function, slice(None)), :]\n",
    "    if Function in [\"F1\", \"F2\", \"F3\", \"F4\", \"F5\", \"F6\", \"F7\", \"F9\", \"F10\", \"F11\", \"F12\", \"F13\", \"F14\", \"F18\"]:\n",
    "        dataframe = dataframe.round(0)\n",
    "    elif Function in [\"F17\"]:\n",
    "        dataframe = dataframe.round(3)\n",
    "    elif Function in [\"F8\",\"F19\", \"F20\"]:\n",
    "        dataframe = dataframe.round(2)\n",
    "    elif Function in [\"F15\", \"F16\", \"F21\", \"F22\", \"F23\"]:\n",
    "        dataframe = dataframe.round(4)\n",
    "\n",
    "    dataframe = pd.DataFrame(data=dataframe.values,\n",
    "                             columns=dataframe.columns)\n",
    "    percent_dataframe = dataframe.applymap(lambda x: True if x == optimal else False)\n",
    "    percent_dataframe[\"Function\"] = Function\n",
    "    return percent_dataframe\n",
    "\n",
    "opt = [0.0, 0.0, 0.0, 0.0, 0.0, 0.0, 0.0, -418.98 * 50, 0.0, 0.0, 0.0, 0.0, 0.0, 1.0, 0.0003, -1.0316, 0.398, 3.0,\n",
    "       -3.86, -3.32, -10.1532,-10.4028, -10.5363]\n",
    "function_list = np.arange(1, 24, 1)\n",
    "percent_df = [percent(Function=\"F\" + str(i), optimal=opt[i - 1]) for i in function_list]\n",
    "percent_df = pd.concat(percent_df, axis=0)\n",
    "percent_df = percent_df.groupby([\"Function\"]).sum().applymap(lambda x: str(x * 10) + \"%\")\n",
    "index = [\"F\" + str(i) for i in function_list]\n",
    "percent_df = percent_df.loc[index]\n",
    "display(percent_df)\n",
    "percent_df.to_csv(\"./SSGA_percent.csv\")"
   ],
   "metadata": {
    "collapsed": false,
    "pycharm": {
     "name": "#%%\n"
    }
   }
  },
  {
   "cell_type": "code",
   "execution_count": 19,
   "outputs": [],
   "source": [],
   "metadata": {
    "collapsed": false,
    "pycharm": {
     "name": "#%%\n"
    }
   }
  }
 ],
 "metadata": {
  "kernelspec": {
   "display_name": "Python 3",
   "language": "python",
   "name": "python3"
  },
  "language_info": {
   "codemirror_mode": {
    "name": "ipython",
    "version": 2
   },
   "file_extension": ".py",
   "mimetype": "text/x-python",
   "name": "python",
   "nbconvert_exporter": "python",
   "pygments_lexer": "ipython2",
   "version": "2.7.6"
  }
 },
 "nbformat": 4,
 "nbformat_minor": 0
}