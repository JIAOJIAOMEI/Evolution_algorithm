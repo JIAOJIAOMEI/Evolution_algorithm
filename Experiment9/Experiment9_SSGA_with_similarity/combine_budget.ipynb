{
 "cells": [
  {
   "cell_type": "code",
   "execution_count": 1,
   "metadata": {
    "collapsed": true,
    "pycharm": {
     "name": "#%%\n"
    }
   },
   "outputs": [],
   "source": [
    "import numpy as np\n",
    "import pandas as pd"
   ]
  },
  {
   "cell_type": "code",
   "execution_count": 2,
   "outputs": [
    {
     "name": "stdout",
     "output_type": "stream",
     "text": [
      "[590, 593, 579, 588, 589, 591, 576, 587, 569, 558, 592, 572, 594, 542, 570, 562, 575, 573, 552, 555]\n",
      "Int64Index([590, 593, 579, 588, 589, 591, 576, 587, 569, 558, 592, 572, 594,\n",
      "            542, 570, 562, 575, 573, 552, 555],\n",
      "           dtype='int64')\n",
      "                 590      593      579      588      589      591      576  \\\n",
      "F1  Times1   18816.0  18930.0  18488.0  15807.0  14425.0  13620.0  19417.0   \n",
      "    Times2   20386.0  18127.0  18539.0  17033.0  14958.0  14728.0  18893.0   \n",
      "    Times3   15782.0  19452.0  19417.0  15045.0  11993.0  15138.0  18619.0   \n",
      "    Times4   17201.0  19637.0  19440.0  16023.0  13945.0  14808.0  17009.0   \n",
      "    Times5   17290.0  16500.0  19029.0  15064.0  12634.0  14781.0  19046.0   \n",
      "...              ...      ...      ...      ...      ...      ...      ...   \n",
      "F23 Times6   67278.0  77572.0  17885.0  66325.0   4616.0  71280.0  17606.0   \n",
      "    Times7   71649.0   5375.0  16543.0  70312.0   5770.0   4020.0  15097.0   \n",
      "    Times8   70929.0  77754.0   2072.0  67859.0  69895.0  71033.0  20313.0   \n",
      "    Times9   83329.0   8363.0  18642.0  73562.0  66926.0  67221.0  18253.0   \n",
      "    Times10   3069.0  83899.0  14066.0   5721.0  77330.0  65432.0  17480.0   \n",
      "\n",
      "                 587      569      558      592      572      594      542  \\\n",
      "F1  Times1   18047.0  21040.0  14120.0  12065.0  22542.0  14479.0  23236.0   \n",
      "    Times2   19232.0  22316.0  12138.0  14432.0  21798.0  15188.0  23928.0   \n",
      "    Times3   18407.0  23458.0  12936.0  11707.0  21088.0  13222.0  25470.0   \n",
      "    Times4   16889.0  21978.0  15735.0  12798.0  22587.0  14204.0  24383.0   \n",
      "    Times5   17798.0  23225.0  15254.0  13265.0  24695.0  14485.0  27007.0   \n",
      "...              ...      ...      ...      ...      ...      ...      ...   \n",
      "F23 Times6   67412.0  19324.0   2099.0  62893.0   4134.0   4018.0   2774.0   \n",
      "    Times7    4792.0  16473.0  15914.0  71425.0  18347.0   2776.0   9579.0   \n",
      "    Times8    3730.0   2541.0  12788.0  77175.0  19744.0  68325.0  12151.0   \n",
      "    Times9    6478.0   3043.0   2670.0  73733.0  21073.0  71877.0   9268.0   \n",
      "    Times10  67140.0   3022.0   3448.0  70543.0  19440.0  71975.0   9142.0   \n",
      "\n",
      "                 570      562      575      573      552      555  \n",
      "F1  Times1   18478.0  11948.0  19066.0  18867.0  15564.0  16049.0  \n",
      "    Times2   16929.0  12497.0  19929.0  17259.0  15346.0  14844.0  \n",
      "    Times3   16653.0  13069.0  23673.0  19217.0  14424.0  13834.0  \n",
      "    Times4   21109.0  11600.0  21500.0  18797.0  15193.0  15741.0  \n",
      "    Times5   16420.0  11459.0  22195.0  16776.0  14089.0  13603.0  \n",
      "...              ...      ...      ...      ...      ...      ...  \n",
      "F23 Times6   17059.0  15017.0  18544.0   3153.0  12788.0  12374.0  \n",
      "    Times7   19591.0   2938.0   3698.0  14960.0  13641.0  15029.0  \n",
      "    Times8    4751.0  15556.0  18999.0   2731.0  16556.0  13873.0  \n",
      "    Times9   18575.0  12986.0  18179.0   4468.0  15165.0  13640.0  \n",
      "    Times10  16177.0   2557.0   6667.0  23767.0  15003.0  15706.0  \n",
      "\n",
      "[230 rows x 20 columns]\n"
     ]
    }
   ],
   "source": [
    "data_pm = pd.read_csv(\"./best_20com_9pm.csv\", header=0, index_col=[0])\n",
    "index = data_pm.index.tolist()\n",
    "print(index)\n",
    "def read_csv(path):\n",
    "    return pd.read_csv(path,index_col=[0,1],header=0)\n",
    "path_budget_list=[\"./budget\"+str(i)+\".csv\" for i in index]\n",
    "df = [read_csv(name) for name in path_budget_list]\n",
    "df = pd.concat(df,axis=1)\n",
    "df.columns = index\n",
    "print(df.columns)\n",
    "print(df)\n",
    "df.to_csv(\"./SSGA_budget.csv\",header=True,index=True)"
   ],
   "metadata": {
    "collapsed": false,
    "pycharm": {
     "name": "#%%\n"
    }
   }
  },
  {
   "cell_type": "code",
   "execution_count": 3,
   "outputs": [
    {
     "name": "stdout",
     "output_type": "stream",
     "text": [
      "[590, 593, 579, 588, 589, 591, 576, 587, 569, 558, 592, 572, 594, 542, 570, 562, 575, 573, 552, 555]\n",
      "Int64Index([590, 593, 579, 588, 589, 591, 576, 587, 569, 558, 592, 572, 594,\n",
      "            542, 570, 562, 575, 573, 552, 555],\n",
      "           dtype='int64')\n",
      "                   590        593        579        588        589        591  \\\n",
      "F1  Times1    0.491740   0.498931   0.497008   0.494989   0.482441   0.479840   \n",
      "    Times2    0.491112   0.498227   0.475572   0.498759   0.370894   0.497698   \n",
      "    Times3    0.497583   0.471236   0.498768   0.482364   0.451179   0.498364   \n",
      "    Times4    0.473920   0.455673   0.480822   0.494937   0.480037   0.499165   \n",
      "    Times5    0.453771   0.480330   0.498082   0.445980   0.498812   0.493894   \n",
      "...                ...        ...        ...        ...        ...        ...   \n",
      "F23 Times6   -2.871143  -2.871143  -2.806630  -2.427335 -10.536304  -2.427335   \n",
      "    Times7   -3.835427 -10.536282  -5.128475  -5.128481 -10.536267 -10.536296   \n",
      "    Times8   -2.421734  -2.427335 -10.536338  -1.859480  -5.175646  -3.835427   \n",
      "    Times9   -5.128481 -10.536308  -2.806630  -5.175646  -2.806631  -5.128481   \n",
      "    Times10 -10.536265  -3.835427  -2.427335 -10.536274  -2.421734  -2.421734   \n",
      "\n",
      "                  576        587        569        558       592        572  \\\n",
      "F1  Times1   0.488591   0.481788   0.424859   0.488240  0.456735   0.483177   \n",
      "    Times2   0.499906   0.485144   0.481927   0.477713  0.434907   0.497766   \n",
      "    Times3   0.471578   0.497857   0.456713   0.489041  0.496030   0.492166   \n",
      "    Times4   0.488693   0.488033   0.493983   0.497220  0.488849   0.480717   \n",
      "    Times5   0.496957   0.495171   0.489095   0.488240  0.495600   0.494272   \n",
      "...               ...        ...        ...        ...       ...        ...   \n",
      "F23 Times6  -3.835426  -2.871143  -2.427335 -10.536261 -2.421734 -10.536302   \n",
      "    Times7  -2.427335 -10.536366  -2.421734  -2.427335 -3.835427  -2.427335   \n",
      "    Times8  -5.175647 -10.536273 -10.536256  -2.806630 -2.806631  -3.835427   \n",
      "    Times9  -2.427335 -10.536266 -10.536330 -10.536326 -3.835427  -2.871142   \n",
      "    Times10 -5.128481  -2.427335 -10.536312 -10.536353 -2.806631  -2.427335   \n",
      "\n",
      "                   594        542        570        562        575        573  \\\n",
      "F1  Times1    0.492997   0.476046   0.499595   0.490703   0.460722   0.485378   \n",
      "    Times2    0.497271   0.496920   0.495749   0.486998   0.466995   0.491137   \n",
      "    Times3    0.491775   0.470013   0.465214   0.474525   0.444942   0.499293   \n",
      "    Times4    0.499421   0.476876   0.491384   0.483746   0.499051   0.466198   \n",
      "    Times5    0.491777   0.498589   0.498116   0.499029   0.436957   0.485392   \n",
      "...                ...        ...        ...        ...        ...        ...   \n",
      "F23 Times6  -10.536288 -10.536345  -2.806630  -1.859480  -2.806631 -10.536320   \n",
      "    Times7  -10.536289  -2.421734  -3.835427 -10.536303 -10.536327  -2.806631   \n",
      "    Times8   -2.421734  -2.427335 -10.536322  -3.835426  -3.835427 -10.536278   \n",
      "    Times9   -5.128481  -1.859479  -2.871142  -2.421734  -5.175644 -10.536293   \n",
      "    Times10  -5.175647  -2.806630  -5.175645 -10.536287 -10.536316  -2.806631   \n",
      "\n",
      "                  552       555  \n",
      "F1  Times1   0.484836  0.485819  \n",
      "    Times2   0.494515  0.481557  \n",
      "    Times3   0.495440  0.491835  \n",
      "    Times4   0.463157  0.491322  \n",
      "    Times5   0.480312  0.490747  \n",
      "...               ...       ...  \n",
      "F23 Times6  -1.676553 -2.427335  \n",
      "    Times7  -2.421734 -2.871142  \n",
      "    Times8  -2.421733 -2.421734  \n",
      "    Times9  -2.421734 -2.421734  \n",
      "    Times10 -2.421734 -2.427335  \n",
      "\n",
      "[230 rows x 20 columns]\n"
     ]
    },
    {
     "data": {
      "text/plain": "           590   593   579   588   589   591   576   587   569   558   592  \\\nFunction                                                                     \nF1        100%  100%  100%  100%  100%  100%  100%  100%  100%  100%  100%   \nF2        100%  100%  100%  100%  100%  100%  100%  100%  100%   20%  100%   \nF3        100%  100%  100%  100%  100%  100%  100%  100%   80%   40%  100%   \nF4        100%  100%  100%  100%  100%  100%  100%  100%  100%  100%  100%   \nF5          0%    0%    0%    0%    0%    0%    0%    0%    0%    0%    0%   \nF6        100%  100%  100%  100%  100%  100%  100%  100%  100%  100%  100%   \nF7          0%    0%    0%    0%    0%    0%    0%    0%    0%    0%    0%   \nF8          0%    0%    0%    0%    0%    0%    0%    0%    0%    0%    0%   \nF9          0%    0%    0%    0%    0%    0%    0%    0%    0%    0%    0%   \nF10       100%  100%  100%  100%  100%  100%  100%  100%  100%  100%  100%   \nF11       100%  100%  100%  100%  100%  100%  100%  100%  100%  100%  100%   \nF12        70%  100%   50%   70%   60%   90%   60%   90%   70%   40%   80%   \nF13       100%  100%  100%  100%  100%  100%  100%  100%  100%  100%  100%   \nF14        20%   40%   20%   20%   20%    0%   20%   40%   60%   30%   10%   \nF15        40%   90%   60%   60%   70%   70%   70%   50%   90%    0%   50%   \nF16        90%  100%  100%  100%  100%  100%  100%  100%  100%   90%  100%   \nF17       100%  100%  100%  100%  100%  100%  100%  100%  100%  100%  100%   \nF18       100%   80%  100%  100%   90%   70%  100%  100%  100%   90%  100%   \nF19         0%    0%    0%    0%    0%    0%    0%    0%    0%    0%    0%   \nF20        40%   60%   40%   40%   40%   30%   40%   60%   60%   60%   40%   \nF21        20%   20%   30%   40%   40%   20%   20%   30%   30%   20%   40%   \nF22        20%    0%   20%   10%   20%   30%   30%   50%   10%   20%   20%   \nF23        20%   20%   20%   10%   40%   10%   30%   40%   40%   30%    0%   \n\n           572   594   542   570   562   575   573   552   555  \nFunction                                                        \nF1        100%  100%  100%  100%  100%  100%  100%  100%  100%  \nF2        100%  100%    0%  100%   30%  100%   90%   20%    0%  \nF3        100%  100%    0%   90%   20%  100%   90%   30%    0%  \nF4        100%  100%  100%  100%  100%  100%  100%  100%  100%  \nF5          0%    0%    0%    0%    0%    0%    0%    0%    0%  \nF6        100%  100%  100%  100%  100%  100%  100%  100%  100%  \nF7          0%    0%    0%    0%    0%    0%    0%    0%    0%  \nF8          0%    0%    0%    0%    0%    0%    0%    0%    0%  \nF9          0%    0%    0%    0%    0%    0%    0%    0%    0%  \nF10       100%  100%  100%  100%  100%  100%  100%  100%  100%  \nF11       100%  100%  100%  100%  100%  100%  100%  100%  100%  \nF12        40%   80%   50%   40%   20%   40%   30%   70%   80%  \nF13       100%  100%  100%  100%  100%  100%  100%  100%  100%  \nF14        40%    0%   50%   40%   10%   50%   40%    0%    0%  \nF15        70%   50%    0%   80%    0%   50%   60%   10%    0%  \nF16       100%   90%  100%  100%  100%  100%  100%  100%  100%  \nF17       100%  100%  100%  100%  100%  100%  100%  100%  100%  \nF18       100%   90%  100%  100%  100%  100%  100%   90%   90%  \nF19         0%    0%    0%    0%    0%    0%    0%    0%    0%  \nF20        20%   40%   40%   30%   40%   30%   50%   50%   60%  \nF21        30%   10%   40%   40%   60%   40%   10%   20%   40%  \nF22        30%   10%   10%   20%    0%   30%   20%   20%   10%  \nF23        40%   40%   30%   20%   40%   30%   50%   10%   10%  ",
      "text/html": "<div>\n<style scoped>\n    .dataframe tbody tr th:only-of-type {\n        vertical-align: middle;\n    }\n\n    .dataframe tbody tr th {\n        vertical-align: top;\n    }\n\n    .dataframe thead th {\n        text-align: right;\n    }\n</style>\n<table border=\"1\" class=\"dataframe\">\n  <thead>\n    <tr style=\"text-align: right;\">\n      <th></th>\n      <th>590</th>\n      <th>593</th>\n      <th>579</th>\n      <th>588</th>\n      <th>589</th>\n      <th>591</th>\n      <th>576</th>\n      <th>587</th>\n      <th>569</th>\n      <th>558</th>\n      <th>592</th>\n      <th>572</th>\n      <th>594</th>\n      <th>542</th>\n      <th>570</th>\n      <th>562</th>\n      <th>575</th>\n      <th>573</th>\n      <th>552</th>\n      <th>555</th>\n    </tr>\n    <tr>\n      <th>Function</th>\n      <th></th>\n      <th></th>\n      <th></th>\n      <th></th>\n      <th></th>\n      <th></th>\n      <th></th>\n      <th></th>\n      <th></th>\n      <th></th>\n      <th></th>\n      <th></th>\n      <th></th>\n      <th></th>\n      <th></th>\n      <th></th>\n      <th></th>\n      <th></th>\n      <th></th>\n      <th></th>\n    </tr>\n  </thead>\n  <tbody>\n    <tr>\n      <th>F1</th>\n      <td>100%</td>\n      <td>100%</td>\n      <td>100%</td>\n      <td>100%</td>\n      <td>100%</td>\n      <td>100%</td>\n      <td>100%</td>\n      <td>100%</td>\n      <td>100%</td>\n      <td>100%</td>\n      <td>100%</td>\n      <td>100%</td>\n      <td>100%</td>\n      <td>100%</td>\n      <td>100%</td>\n      <td>100%</td>\n      <td>100%</td>\n      <td>100%</td>\n      <td>100%</td>\n      <td>100%</td>\n    </tr>\n    <tr>\n      <th>F2</th>\n      <td>100%</td>\n      <td>100%</td>\n      <td>100%</td>\n      <td>100%</td>\n      <td>100%</td>\n      <td>100%</td>\n      <td>100%</td>\n      <td>100%</td>\n      <td>100%</td>\n      <td>20%</td>\n      <td>100%</td>\n      <td>100%</td>\n      <td>100%</td>\n      <td>0%</td>\n      <td>100%</td>\n      <td>30%</td>\n      <td>100%</td>\n      <td>90%</td>\n      <td>20%</td>\n      <td>0%</td>\n    </tr>\n    <tr>\n      <th>F3</th>\n      <td>100%</td>\n      <td>100%</td>\n      <td>100%</td>\n      <td>100%</td>\n      <td>100%</td>\n      <td>100%</td>\n      <td>100%</td>\n      <td>100%</td>\n      <td>80%</td>\n      <td>40%</td>\n      <td>100%</td>\n      <td>100%</td>\n      <td>100%</td>\n      <td>0%</td>\n      <td>90%</td>\n      <td>20%</td>\n      <td>100%</td>\n      <td>90%</td>\n      <td>30%</td>\n      <td>0%</td>\n    </tr>\n    <tr>\n      <th>F4</th>\n      <td>100%</td>\n      <td>100%</td>\n      <td>100%</td>\n      <td>100%</td>\n      <td>100%</td>\n      <td>100%</td>\n      <td>100%</td>\n      <td>100%</td>\n      <td>100%</td>\n      <td>100%</td>\n      <td>100%</td>\n      <td>100%</td>\n      <td>100%</td>\n      <td>100%</td>\n      <td>100%</td>\n      <td>100%</td>\n      <td>100%</td>\n      <td>100%</td>\n      <td>100%</td>\n      <td>100%</td>\n    </tr>\n    <tr>\n      <th>F5</th>\n      <td>0%</td>\n      <td>0%</td>\n      <td>0%</td>\n      <td>0%</td>\n      <td>0%</td>\n      <td>0%</td>\n      <td>0%</td>\n      <td>0%</td>\n      <td>0%</td>\n      <td>0%</td>\n      <td>0%</td>\n      <td>0%</td>\n      <td>0%</td>\n      <td>0%</td>\n      <td>0%</td>\n      <td>0%</td>\n      <td>0%</td>\n      <td>0%</td>\n      <td>0%</td>\n      <td>0%</td>\n    </tr>\n    <tr>\n      <th>F6</th>\n      <td>100%</td>\n      <td>100%</td>\n      <td>100%</td>\n      <td>100%</td>\n      <td>100%</td>\n      <td>100%</td>\n      <td>100%</td>\n      <td>100%</td>\n      <td>100%</td>\n      <td>100%</td>\n      <td>100%</td>\n      <td>100%</td>\n      <td>100%</td>\n      <td>100%</td>\n      <td>100%</td>\n      <td>100%</td>\n      <td>100%</td>\n      <td>100%</td>\n      <td>100%</td>\n      <td>100%</td>\n    </tr>\n    <tr>\n      <th>F7</th>\n      <td>0%</td>\n      <td>0%</td>\n      <td>0%</td>\n      <td>0%</td>\n      <td>0%</td>\n      <td>0%</td>\n      <td>0%</td>\n      <td>0%</td>\n      <td>0%</td>\n      <td>0%</td>\n      <td>0%</td>\n      <td>0%</td>\n      <td>0%</td>\n      <td>0%</td>\n      <td>0%</td>\n      <td>0%</td>\n      <td>0%</td>\n      <td>0%</td>\n      <td>0%</td>\n      <td>0%</td>\n    </tr>\n    <tr>\n      <th>F8</th>\n      <td>0%</td>\n      <td>0%</td>\n      <td>0%</td>\n      <td>0%</td>\n      <td>0%</td>\n      <td>0%</td>\n      <td>0%</td>\n      <td>0%</td>\n      <td>0%</td>\n      <td>0%</td>\n      <td>0%</td>\n      <td>0%</td>\n      <td>0%</td>\n      <td>0%</td>\n      <td>0%</td>\n      <td>0%</td>\n      <td>0%</td>\n      <td>0%</td>\n      <td>0%</td>\n      <td>0%</td>\n    </tr>\n    <tr>\n      <th>F9</th>\n      <td>0%</td>\n      <td>0%</td>\n      <td>0%</td>\n      <td>0%</td>\n      <td>0%</td>\n      <td>0%</td>\n      <td>0%</td>\n      <td>0%</td>\n      <td>0%</td>\n      <td>0%</td>\n      <td>0%</td>\n      <td>0%</td>\n      <td>0%</td>\n      <td>0%</td>\n      <td>0%</td>\n      <td>0%</td>\n      <td>0%</td>\n      <td>0%</td>\n      <td>0%</td>\n      <td>0%</td>\n    </tr>\n    <tr>\n      <th>F10</th>\n      <td>100%</td>\n      <td>100%</td>\n      <td>100%</td>\n      <td>100%</td>\n      <td>100%</td>\n      <td>100%</td>\n      <td>100%</td>\n      <td>100%</td>\n      <td>100%</td>\n      <td>100%</td>\n      <td>100%</td>\n      <td>100%</td>\n      <td>100%</td>\n      <td>100%</td>\n      <td>100%</td>\n      <td>100%</td>\n      <td>100%</td>\n      <td>100%</td>\n      <td>100%</td>\n      <td>100%</td>\n    </tr>\n    <tr>\n      <th>F11</th>\n      <td>100%</td>\n      <td>100%</td>\n      <td>100%</td>\n      <td>100%</td>\n      <td>100%</td>\n      <td>100%</td>\n      <td>100%</td>\n      <td>100%</td>\n      <td>100%</td>\n      <td>100%</td>\n      <td>100%</td>\n      <td>100%</td>\n      <td>100%</td>\n      <td>100%</td>\n      <td>100%</td>\n      <td>100%</td>\n      <td>100%</td>\n      <td>100%</td>\n      <td>100%</td>\n      <td>100%</td>\n    </tr>\n    <tr>\n      <th>F12</th>\n      <td>70%</td>\n      <td>100%</td>\n      <td>50%</td>\n      <td>70%</td>\n      <td>60%</td>\n      <td>90%</td>\n      <td>60%</td>\n      <td>90%</td>\n      <td>70%</td>\n      <td>40%</td>\n      <td>80%</td>\n      <td>40%</td>\n      <td>80%</td>\n      <td>50%</td>\n      <td>40%</td>\n      <td>20%</td>\n      <td>40%</td>\n      <td>30%</td>\n      <td>70%</td>\n      <td>80%</td>\n    </tr>\n    <tr>\n      <th>F13</th>\n      <td>100%</td>\n      <td>100%</td>\n      <td>100%</td>\n      <td>100%</td>\n      <td>100%</td>\n      <td>100%</td>\n      <td>100%</td>\n      <td>100%</td>\n      <td>100%</td>\n      <td>100%</td>\n      <td>100%</td>\n      <td>100%</td>\n      <td>100%</td>\n      <td>100%</td>\n      <td>100%</td>\n      <td>100%</td>\n      <td>100%</td>\n      <td>100%</td>\n      <td>100%</td>\n      <td>100%</td>\n    </tr>\n    <tr>\n      <th>F14</th>\n      <td>20%</td>\n      <td>40%</td>\n      <td>20%</td>\n      <td>20%</td>\n      <td>20%</td>\n      <td>0%</td>\n      <td>20%</td>\n      <td>40%</td>\n      <td>60%</td>\n      <td>30%</td>\n      <td>10%</td>\n      <td>40%</td>\n      <td>0%</td>\n      <td>50%</td>\n      <td>40%</td>\n      <td>10%</td>\n      <td>50%</td>\n      <td>40%</td>\n      <td>0%</td>\n      <td>0%</td>\n    </tr>\n    <tr>\n      <th>F15</th>\n      <td>40%</td>\n      <td>90%</td>\n      <td>60%</td>\n      <td>60%</td>\n      <td>70%</td>\n      <td>70%</td>\n      <td>70%</td>\n      <td>50%</td>\n      <td>90%</td>\n      <td>0%</td>\n      <td>50%</td>\n      <td>70%</td>\n      <td>50%</td>\n      <td>0%</td>\n      <td>80%</td>\n      <td>0%</td>\n      <td>50%</td>\n      <td>60%</td>\n      <td>10%</td>\n      <td>0%</td>\n    </tr>\n    <tr>\n      <th>F16</th>\n      <td>90%</td>\n      <td>100%</td>\n      <td>100%</td>\n      <td>100%</td>\n      <td>100%</td>\n      <td>100%</td>\n      <td>100%</td>\n      <td>100%</td>\n      <td>100%</td>\n      <td>90%</td>\n      <td>100%</td>\n      <td>100%</td>\n      <td>90%</td>\n      <td>100%</td>\n      <td>100%</td>\n      <td>100%</td>\n      <td>100%</td>\n      <td>100%</td>\n      <td>100%</td>\n      <td>100%</td>\n    </tr>\n    <tr>\n      <th>F17</th>\n      <td>100%</td>\n      <td>100%</td>\n      <td>100%</td>\n      <td>100%</td>\n      <td>100%</td>\n      <td>100%</td>\n      <td>100%</td>\n      <td>100%</td>\n      <td>100%</td>\n      <td>100%</td>\n      <td>100%</td>\n      <td>100%</td>\n      <td>100%</td>\n      <td>100%</td>\n      <td>100%</td>\n      <td>100%</td>\n      <td>100%</td>\n      <td>100%</td>\n      <td>100%</td>\n      <td>100%</td>\n    </tr>\n    <tr>\n      <th>F18</th>\n      <td>100%</td>\n      <td>80%</td>\n      <td>100%</td>\n      <td>100%</td>\n      <td>90%</td>\n      <td>70%</td>\n      <td>100%</td>\n      <td>100%</td>\n      <td>100%</td>\n      <td>90%</td>\n      <td>100%</td>\n      <td>100%</td>\n      <td>90%</td>\n      <td>100%</td>\n      <td>100%</td>\n      <td>100%</td>\n      <td>100%</td>\n      <td>100%</td>\n      <td>90%</td>\n      <td>90%</td>\n    </tr>\n    <tr>\n      <th>F19</th>\n      <td>0%</td>\n      <td>0%</td>\n      <td>0%</td>\n      <td>0%</td>\n      <td>0%</td>\n      <td>0%</td>\n      <td>0%</td>\n      <td>0%</td>\n      <td>0%</td>\n      <td>0%</td>\n      <td>0%</td>\n      <td>0%</td>\n      <td>0%</td>\n      <td>0%</td>\n      <td>0%</td>\n      <td>0%</td>\n      <td>0%</td>\n      <td>0%</td>\n      <td>0%</td>\n      <td>0%</td>\n    </tr>\n    <tr>\n      <th>F20</th>\n      <td>40%</td>\n      <td>60%</td>\n      <td>40%</td>\n      <td>40%</td>\n      <td>40%</td>\n      <td>30%</td>\n      <td>40%</td>\n      <td>60%</td>\n      <td>60%</td>\n      <td>60%</td>\n      <td>40%</td>\n      <td>20%</td>\n      <td>40%</td>\n      <td>40%</td>\n      <td>30%</td>\n      <td>40%</td>\n      <td>30%</td>\n      <td>50%</td>\n      <td>50%</td>\n      <td>60%</td>\n    </tr>\n    <tr>\n      <th>F21</th>\n      <td>20%</td>\n      <td>20%</td>\n      <td>30%</td>\n      <td>40%</td>\n      <td>40%</td>\n      <td>20%</td>\n      <td>20%</td>\n      <td>30%</td>\n      <td>30%</td>\n      <td>20%</td>\n      <td>40%</td>\n      <td>30%</td>\n      <td>10%</td>\n      <td>40%</td>\n      <td>40%</td>\n      <td>60%</td>\n      <td>40%</td>\n      <td>10%</td>\n      <td>20%</td>\n      <td>40%</td>\n    </tr>\n    <tr>\n      <th>F22</th>\n      <td>20%</td>\n      <td>0%</td>\n      <td>20%</td>\n      <td>10%</td>\n      <td>20%</td>\n      <td>30%</td>\n      <td>30%</td>\n      <td>50%</td>\n      <td>10%</td>\n      <td>20%</td>\n      <td>20%</td>\n      <td>30%</td>\n      <td>10%</td>\n      <td>10%</td>\n      <td>20%</td>\n      <td>0%</td>\n      <td>30%</td>\n      <td>20%</td>\n      <td>20%</td>\n      <td>10%</td>\n    </tr>\n    <tr>\n      <th>F23</th>\n      <td>20%</td>\n      <td>20%</td>\n      <td>20%</td>\n      <td>10%</td>\n      <td>40%</td>\n      <td>10%</td>\n      <td>30%</td>\n      <td>40%</td>\n      <td>40%</td>\n      <td>30%</td>\n      <td>0%</td>\n      <td>40%</td>\n      <td>40%</td>\n      <td>30%</td>\n      <td>20%</td>\n      <td>40%</td>\n      <td>30%</td>\n      <td>50%</td>\n      <td>10%</td>\n      <td>10%</td>\n    </tr>\n  </tbody>\n</table>\n</div>"
     },
     "metadata": {},
     "output_type": "display_data"
    }
   ],
   "source": [
    "data_pm = pd.read_csv(\"./best_20com_9pm.csv\", header=0, index_col=[0])\n",
    "index = data_pm.index.tolist()\n",
    "print(index)\n",
    "def read_csv(path):\n",
    "    return pd.read_csv(path,index_col=[0,1],header=0)\n",
    "path_percent_list=[\"./combination\"+str(i)+\".csv\" for i in index]\n",
    "df = [read_csv(name) for name in path_percent_list]\n",
    "df = pd.concat(df,axis=1)\n",
    "df.columns = index\n",
    "print(df.columns)\n",
    "print(df)\n",
    "df.to_csv(\"./SSGA_rawdata.csv\",header=True,index=True)\n",
    "\n",
    "def percent(Function, optimal):\n",
    "    dataframe = df.loc[(Function, slice(None)), :]\n",
    "    if Function in [\"F1\", \"F2\", \"F3\", \"F4\", \"F5\", \"F6\", \"F7\", \"F9\", \"F10\", \"F11\", \"F12\", \"F13\", \"F14\", \"F18\"]:\n",
    "        dataframe = dataframe.round(0)\n",
    "    elif Function in [\"F17\"]:\n",
    "        dataframe = dataframe.round(3)\n",
    "    elif Function in [\"F8\",\"F19\", \"F20\"]:\n",
    "        dataframe = dataframe.round(2)\n",
    "    elif Function in [\"F15\", \"F16\", \"F21\", \"F22\", \"F23\"]:\n",
    "        dataframe = dataframe.round(4)\n",
    "\n",
    "    dataframe = pd.DataFrame(data=dataframe.values,\n",
    "                             columns=dataframe.columns)\n",
    "    percent_dataframe = dataframe.applymap(lambda x: True if x == optimal else False)\n",
    "    percent_dataframe[\"Function\"] = Function\n",
    "    return percent_dataframe\n",
    "\n",
    "opt = [0, 0, 0, 0, 0, 0, 0, -418.98 * 50, 0, 0, 0, 0, 0, 1, 0.0003, -1.0316, 0.398, 3, -3.86, -3.32,\n",
    "       -10.1532, -10.4028, -10.5363]\n",
    "function_list = np.arange(1, 24, 1)\n",
    "percent_df = [percent(Function=\"F\" + str(i), optimal=opt[i - 1]) for i in function_list]\n",
    "percent_df = pd.concat(percent_df, axis=0)\n",
    "percent_df = percent_df.groupby([\"Function\"]).sum().applymap(lambda x: str(x * 10) + \"%\")\n",
    "index = [\"F\" + str(i) for i in function_list]\n",
    "percent_df = percent_df.loc[index]\n",
    "display(percent_df)\n",
    "percent_df.to_csv(\"./SSGA_percent.csv\")"
   ],
   "metadata": {
    "collapsed": false,
    "pycharm": {
     "name": "#%%\n"
    }
   }
  },
  {
   "cell_type": "code",
   "execution_count": 3,
   "outputs": [],
   "source": [],
   "metadata": {
    "collapsed": false,
    "pycharm": {
     "name": "#%%\n"
    }
   }
  }
 ],
 "metadata": {
  "kernelspec": {
   "display_name": "Python 3",
   "language": "python",
   "name": "python3"
  },
  "language_info": {
   "codemirror_mode": {
    "name": "ipython",
    "version": 2
   },
   "file_extension": ".py",
   "mimetype": "text/x-python",
   "name": "python",
   "nbconvert_exporter": "python",
   "pygments_lexer": "ipython2",
   "version": "2.7.6"
  }
 },
 "nbformat": 4,
 "nbformat_minor": 0
}