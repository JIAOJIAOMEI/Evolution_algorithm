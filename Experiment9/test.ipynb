{
 "cells": [
  {
   "cell_type": "code",
   "execution_count": 38,
   "metadata": {
    "collapsed": true,
    "pycharm": {
     "name": "#%%\n"
    }
   },
   "outputs": [],
   "source": [
    "import numpy as np\n"
   ]
  },
  {
   "cell_type": "code",
   "execution_count": 39,
   "outputs": [
    {
     "data": {
      "text/plain": "array([123, 131, 140, 149, 159, 172, 169, 175, 142, 132, 145, 184, 152,\n       106, 171, 198, 165, 167, 128, 139, 113, 171, 176, 163, 106, 148,\n       198, 163, 108, 100, 111, 184, 130, 125, 103, 103, 164, 140, 174,\n       168, 160, 107, 104, 199, 195, 107, 103, 129, 141, 157])"
     },
     "execution_count": 39,
     "metadata": {},
     "output_type": "execute_result"
    }
   ],
   "source": [
    "genotype = np.random.randint(100,200,size=50)\n",
    "genotype"
   ],
   "metadata": {
    "collapsed": false,
    "pycharm": {
     "name": "#%%\n"
    }
   }
  },
  {
   "cell_type": "code",
   "execution_count": 40,
   "outputs": [
    {
     "data": {
      "text/plain": "array([19, 24,  8, 26, 43])"
     },
     "execution_count": 40,
     "metadata": {},
     "output_type": "execute_result"
    }
   ],
   "source": [
    "change = np.random.randint(50,size=5)\n",
    "change"
   ],
   "metadata": {
    "collapsed": false,
    "pycharm": {
     "name": "#%%\n"
    }
   }
  },
  {
   "cell_type": "code",
   "execution_count": 41,
   "outputs": [],
   "source": [
    "deltah=-300"
   ],
   "metadata": {
    "collapsed": false,
    "pycharm": {
     "name": "#%%\n"
    }
   }
  },
  {
   "cell_type": "code",
   "execution_count": 42,
   "outputs": [
    {
     "data": {
      "text/plain": "[139, 106, 142, 198, 199]"
     },
     "execution_count": 42,
     "metadata": {},
     "output_type": "execute_result"
    }
   ],
   "source": [
    "[genotype[i] for i in change]"
   ],
   "metadata": {
    "collapsed": false,
    "pycharm": {
     "name": "#%%\n"
    }
   }
  },
  {
   "cell_type": "code",
   "execution_count": 43,
   "outputs": [
    {
     "data": {
      "text/plain": "[123,\n 131,\n 140,\n 149,\n 159,\n 172,\n 169,\n 175,\n -158,\n 132,\n 145,\n 184,\n 152,\n 106,\n 171,\n 198,\n 165,\n 167,\n 128,\n -161,\n 113,\n 171,\n 176,\n 163,\n -194,\n 148,\n -102,\n 163,\n 108,\n 100,\n 111,\n 184,\n 130,\n 125,\n 103,\n 103,\n 164,\n 140,\n 174,\n 168,\n 160,\n 107,\n 104,\n -101,\n 195,\n 107,\n 103,\n 129,\n 141,\n 157]"
     },
     "execution_count": 43,
     "metadata": {},
     "output_type": "execute_result"
    }
   ],
   "source": [
    "p = [genotype[i]+deltah if i in change else genotype[i] for i in range(50)]\n",
    "p"
   ],
   "metadata": {
    "collapsed": false,
    "pycharm": {
     "name": "#%%\n"
    }
   }
  },
  {
   "cell_type": "code",
   "execution_count": 44,
   "outputs": [
    {
     "data": {
      "text/plain": "[-161, -194, -158, -102, -101]"
     },
     "execution_count": 44,
     "metadata": {},
     "output_type": "execute_result"
    }
   ],
   "source": [
    "[p[i] for i in change]"
   ],
   "metadata": {
    "collapsed": false,
    "pycharm": {
     "name": "#%%\n"
    }
   }
  },
  {
   "cell_type": "code",
   "execution_count": 45,
   "outputs": [
    {
     "name": "stdout",
     "output_type": "stream",
     "text": [
      "1\n"
     ]
    }
   ],
   "source": [
    "print(len([[]]))"
   ],
   "metadata": {
    "collapsed": false,
    "pycharm": {
     "name": "#%%\n"
    }
   }
  },
  {
   "cell_type": "code",
   "execution_count": 46,
   "outputs": [
    {
     "data": {
      "text/plain": "[0, 0, 1, 2]"
     },
     "execution_count": 46,
     "metadata": {},
     "output_type": "execute_result"
    }
   ],
   "source": [
    "[0]+[i for i in range(3)]"
   ],
   "metadata": {
    "collapsed": false,
    "pycharm": {
     "name": "#%%\n"
    }
   }
  },
  {
   "cell_type": "code",
   "execution_count": 47,
   "outputs": [
    {
     "data": {
      "text/plain": "[0, 1, 2, 3, 4]"
     },
     "execution_count": 47,
     "metadata": {},
     "output_type": "execute_result"
    }
   ],
   "source": [
    "k = [i for i in range(5)]\n",
    "[0]+[i for i in k[1:]]"
   ],
   "metadata": {
    "collapsed": false,
    "pycharm": {
     "name": "#%%\n"
    }
   }
  },
  {
   "cell_type": "code",
   "execution_count": 1,
   "outputs": [
    {
     "data": {
      "text/plain": "array([2, 8, 0, 9, 5, 4, 6, 3, 1, 7])"
     },
     "execution_count": 1,
     "metadata": {},
     "output_type": "execute_result"
    }
   ],
   "source": [
    "import numpy as np\n",
    "d = 10\n",
    "gradient_rate = 1\n",
    "K = np.ceil(gradient_rate* d)\n",
    "k_d = np.random.choice(10,size=10,replace=False)\n",
    "k_d"
   ],
   "metadata": {
    "collapsed": false,
    "pycharm": {
     "name": "#%%\n"
    }
   }
  },
  {
   "cell_type": "code",
   "execution_count": 8,
   "outputs": [
    {
     "data": {
      "text/plain": "(array([ 1.,  0.,  0.,  0.,  0.,  0.,  0.,  0.,  0.,  0.,  0.,  0.,  0.,\n         1.,  0.,  0.,  1.,  0.,  0.,  1.,  0.,  0.,  0.,  0.,  0.,  0.,\n         0.,  1.,  0.,  0.,  0.,  0.,  0.,  0.,  0.,  0.,  0.,  0.,  0.,\n         0.,  0.,  0.,  1.,  0.,  0.,  0.,  0.,  0.,  0.,  0.,  0.,  0.,\n         0.,  0.,  0.,  0.,  1.,  1.,  0.,  0.,  0.,  0.,  0.,  0.,  0.,\n         0.,  0.,  0.,  0.,  0.,  0.,  0.,  1.,  0.,  0.,  0.,  1.,  1.,\n         0.,  1.,  0.,  1.,  0.,  0.,  2.,  0.,  1.,  1.,  0.,  0.,  0.,\n         0.,  0.,  0.,  1.,  0.,  1.,  0.,  0.,  0.,  0.,  1.,  0.,  1.,\n         0.,  0.,  1.,  0.,  1.,  0.,  0.,  0.,  1.,  0.,  1.,  1.,  0.,\n         0.,  2.,  0.,  0.,  1.,  2.,  1.,  1.,  1.,  1.,  2.,  1.,  1.,\n         1.,  2.,  0.,  1.,  2.,  1.,  2.,  1.,  2.,  2.,  0.,  1.,  1.,\n         1.,  0.,  1.,  3.,  0.,  0.,  0.,  1.,  2.,  1.,  1.,  2.,  2.,\n         0.,  0.,  2.,  2.,  2.,  1.,  0.,  1.,  2.,  0.,  4.,  0.,  0.,\n         2.,  2.,  0.,  3.,  3.,  0.,  3.,  3.,  0.,  0.,  1.,  2.,  4.,\n         2.,  1.,  1.,  4.,  2.,  4.,  6.,  1.,  6.,  4.,  4.,  4.,  6.,\n         4.,  3.,  1.,  3.,  1.,  5.,  2.,  4.,  2.,  4.,  4.,  0.,  5.,\n         4.,  2.,  2.,  5.,  2.,  0.,  4.,  5.,  4.,  3.,  3.,  3.,  4.,\n         4.,  1.,  6.,  4.,  2.,  6.,  2.,  5.,  6.,  5.,  3.,  2.,  6.,\n         5.,  4.,  4.,  5.,  3.,  4.,  3.,  3.,  4.,  4.,  7.,  6.,  4.,\n        10.,  6.,  2.,  3.,  5.,  3.,  8.,  5.,  1.,  6.,  5.,  7.,  0.,\n         8.,  3.,  5.,  9.,  4., 10.,  9., 11.,  9.,  6.,  7.,  6.,  7.,\n         7.,  6.,  7.,  7.,  5.,  8.,  8., 10.,  7., 10.,  7.,  5.,  6.,\n         7., 13., 13., 11.,  5.,  6.,  5.,  8.,  8., 11.,  8., 12., 11.,\n         8., 10., 13., 11., 18., 12.,  7., 12., 11., 14.,  8.,  9., 13.,\n        15., 11., 12., 11.,  9., 13., 14.,  5., 13., 15., 13., 19., 19.,\n        17., 14., 12., 16., 17., 14., 15., 18., 20., 10., 18., 22., 15.,\n        16., 13., 18., 19., 18., 11., 10., 14., 15., 15., 12., 15., 16.,\n        11., 19., 18., 17., 19., 19., 11., 16., 18., 13., 15., 15., 21.,\n        19., 20., 13., 17., 20., 19., 26., 25., 17., 19., 27., 22., 17.,\n        20., 15., 27., 22., 21., 30., 33., 17., 19., 29., 27., 23., 29.,\n        24., 14., 26., 25., 23., 22., 21., 25., 24., 18., 32., 24., 20.,\n        20., 21., 20., 29., 31., 21., 20., 33., 27., 27., 25., 28., 24.,\n        29., 28., 21., 35., 29., 25., 24., 18., 27., 32., 23., 23., 30.,\n        21., 28., 29., 26., 27., 26., 27., 22., 23., 26., 24., 18., 24.,\n        21., 21., 25., 23., 30., 45., 24., 29., 25., 24., 23., 19., 30.,\n        25., 22., 30., 24., 31., 25., 32., 23., 22., 22., 29., 20., 32.,\n        28., 28., 33., 29., 29., 33., 29., 29., 32., 33., 21., 21., 42.,\n        36., 35., 25., 22., 27., 35., 21., 33., 23., 32., 39., 34., 32.,\n        34., 24., 34., 29., 36., 31., 37., 33., 30., 27., 25., 31., 25.,\n        33., 32., 28., 22., 25., 27., 32., 36., 30., 28., 27., 19., 24.,\n        32., 26., 25., 20., 22., 26., 27., 29., 33., 24., 25., 37., 31.,\n        24., 31., 28., 19., 28., 30., 29., 24., 26., 33., 32., 21., 24.,\n        20., 29., 27., 24., 24., 29., 22., 23., 27., 22., 34., 37., 26.,\n        23., 22., 23., 23., 26., 37., 27., 29., 27., 17., 32., 20., 30.,\n        30., 24., 28., 28., 20., 24., 15., 17., 29., 25., 28., 23., 29.,\n        21., 27., 22., 28., 21., 19., 20., 21., 23., 20., 28., 26., 24.,\n        17., 22., 27., 25., 20., 23., 28., 20., 33., 14., 24., 24., 14.,\n        23., 19., 10., 19., 29., 11., 22., 18., 17., 20., 13., 18., 14.,\n        23., 15., 16., 25., 29., 19., 17., 28., 12., 17., 18., 23., 20.,\n        11., 19., 17., 14., 11., 22., 18., 15., 19., 22., 17., 11., 14.,\n        18., 15., 12., 13., 17., 12., 17., 16., 14., 14.,  6., 14., 11.,\n        13., 12., 16., 16., 17.,  8., 12., 12., 16., 15., 12., 17., 14.,\n        13., 11., 10., 14., 11., 13.,  9., 12., 19.,  9., 16., 12., 11.,\n        10., 15., 11.,  6., 13., 11.,  9., 11.,  9., 10.,  8.,  6., 12.,\n        11.,  7.,  7.,  6.,  8.,  9.,  9.,  6.,  6.,  6.,  8.,  6.,  6.,\n         9., 10., 10.,  5.,  8.,  6.,  9.,  9.,  5.,  7.,  9.,  7.,  4.,\n         9., 13.,  9., 12.,  8., 12.,  2.,  6.,  8.,  5.,  1.,  5.,  3.,\n         3.,  8.,  7.,  8.,  6.,  5.,  4.,  4.,  2.,  6.,  3.,  1.,  9.,\n         8.,  3.,  5.,  5.,  2.,  2.,  3.,  4.,  4.,  3.,  4.,  5.,  2.,\n         3.,  3.,  6.,  5.,  2.,  2.,  6.,  3.,  1.,  5.,  5.,  3.,  3.,\n         5.,  3.,  3.,  2.,  2.,  4.,  3.,  0.,  2.,  4.,  1.,  2.,  5.,\n         1.,  2.,  1.,  5.,  4.,  3.,  2.,  3.,  2.,  6.,  2.,  1.,  6.,\n         0.,  0.,  0.,  3.,  2.,  2.,  2.,  0.,  1.,  6.,  1.,  3.,  0.,\n         2.,  3.,  1.,  2.,  2.,  1.,  1.,  2.,  1.,  2.,  1.,  4.,  0.,\n         0.,  1.,  3.,  2.,  1.,  0.,  2.,  2.,  0.,  1.,  1.,  0.,  1.,\n         3.,  1.,  0.,  0.,  1.,  0.,  2.,  0.,  1.,  0.,  2.,  0.,  3.,\n         2.,  1.,  2.,  1.,  0.,  3.,  1.,  0.,  0.,  1.,  0.,  2.,  0.,\n         0.,  0.,  3.,  1.,  0.,  0.,  1.,  0.,  0.,  1.,  0.,  0.,  1.,\n         1.,  0.,  0.,  1.,  0.,  0.,  0.,  1.,  0.,  1.,  0.,  0.,  0.,\n         0.,  0.,  1.,  0.,  2.,  0.,  2.,  0.,  1.,  1.,  0.,  0.,  0.,\n         0.,  1.,  1.,  0.,  0.,  0.,  0.,  0.,  0.,  1.,  1.,  0.,  1.,\n         0.,  0.,  0.,  1.,  1.,  0.,  0.,  0.,  1.,  1.,  0.,  0.,  0.,\n         0.,  0.,  0.,  0.,  1.,  0.,  0.,  0.,  0.,  0.,  1.,  0.,  1.,\n         0.,  0.,  0.,  0.,  0.,  0.,  0.,  0.,  0.,  0.,  0.,  0.,  1.,\n         0.,  0.,  0.,  0.,  0.,  0.,  0.,  0.,  0.,  0.,  0.,  1.,  0.,\n         0.,  0.,  0.,  0.,  0.,  1.,  0.,  0.,  0.,  0.,  0.,  0.,  0.,\n         0.,  0.,  0.,  0.,  0.,  0.,  0.,  0.,  0.,  0.,  0.,  1.]),\n array([-3.61602633, -3.60870097, -3.6013756 , ...,  3.694687  ,\n         3.70201236,  3.70933772]),\n <BarContainer object of 1000 artists>)"
     },
     "execution_count": 8,
     "metadata": {},
     "output_type": "execute_result"
    },
    {
     "data": {
      "text/plain": "<Figure size 432x288 with 1 Axes>",
      "image/png": "[encoded data removed]"
     },
     "metadata": {
      "needs_background": "light"
     },
     "output_type": "display_data"
    }
   ],
   "source": [
    "import numpy as np\n",
    "import matplotlib.pyplot as plt\n",
    "y=np.random.normal(loc=0,scale=1,size=10000)\n",
    "plt.hist(y,bins=1000)"
   ],
   "metadata": {
    "collapsed": false,
    "pycharm": {
     "name": "#%%\n"
    }
   }
  },
  {
   "cell_type": "code",
   "execution_count": 10,
   "outputs": [
    {
     "data": {
      "text/plain": "(array([ 1.,  0.,  0.,  0.,  0.,  0.,  0.,  0.,  0.,  0.,  0.,  0.,  0.,\n         0.,  0.,  0.,  0.,  0.,  0.,  0.,  0.,  1.,  0.,  0.,  0.,  0.,\n         0.,  0.,  0.,  0.,  0.,  0.,  0.,  0.,  0.,  0.,  0.,  0.,  0.,\n         0.,  0.,  0.,  0.,  0.,  0.,  0.,  0.,  0.,  0.,  0.,  0.,  0.,\n         0.,  0.,  0.,  0.,  0.,  0.,  0.,  0.,  0.,  1.,  0.,  0.,  0.,\n         1.,  1.,  1.,  0.,  0.,  0.,  0.,  0.,  0.,  1.,  0.,  0.,  0.,\n         0.,  0.,  0.,  1.,  0.,  0.,  0.,  1.,  1.,  0.,  0.,  0.,  1.,\n         1.,  0.,  0.,  0.,  0.,  0.,  0.,  0.,  1.,  0.,  0.,  0.,  0.,\n         0.,  0.,  0.,  0.,  0.,  0.,  0.,  0.,  0.,  0.,  1.,  0.,  0.,\n         1.,  0.,  0.,  2.,  0.,  0.,  0.,  0.,  0.,  1.,  0.,  1.,  0.,\n         2.,  0.,  0.,  1.,  1.,  0.,  1.,  0.,  0.,  1.,  0.,  0.,  0.,\n         1.,  1.,  1.,  0.,  0.,  1.,  0.,  1.,  2.,  1.,  3.,  1.,  0.,\n         0.,  1.,  2.,  0.,  1.,  1.,  1.,  1.,  1.,  2.,  0.,  1.,  0.,\n         1.,  0.,  1.,  2.,  0.,  1.,  0.,  1.,  0.,  2.,  2.,  1.,  0.,\n         0.,  3.,  2.,  1.,  3.,  1.,  3.,  0.,  5.,  2.,  2.,  1.,  4.,\n         2.,  2.,  2.,  1.,  1.,  3.,  0.,  2.,  3.,  1.,  4.,  2.,  2.,\n         3.,  1.,  5.,  2.,  5.,  2.,  5.,  3.,  3.,  1.,  0.,  3.,  3.,\n         3.,  2.,  3.,  2.,  2.,  3.,  3.,  1.,  3.,  2.,  2.,  2.,  2.,\n         1.,  1.,  1.,  3.,  4.,  2.,  2.,  2.,  3.,  3.,  4.,  4.,  4.,\n         6.,  0.,  5.,  3.,  6.,  7.,  4.,  4.,  6.,  4., 10.,  3.,  7.,\n         8.,  7.,  5.,  2.,  0.,  4.,  4.,  7.,  6.,  6.,  7.,  4., 12.,\n         4.,  7.,  9.,  7.,  4.,  2.,  3.,  3.,  6.,  6.,  7.,  3.,  8.,\n         8.,  6.,  8.,  5.,  3.,  4.,  7.,  6.,  9.,  6.,  9.,  6.,  7.,\n         5., 11.,  8.,  8.,  9.,  8.,  9.,  7., 10.,  3., 12.,  6.,  9.,\n        10., 15., 11.,  6., 14., 10., 10., 14.,  8.,  4.,  9., 10., 13.,\n        13.,  9., 10.,  8., 14., 12.,  5., 11., 12., 16., 12., 12., 13.,\n        10., 11.,  7., 11., 12., 13., 12., 13.,  9., 11., 16., 20., 11.,\n         9., 13., 15., 16., 11., 12., 16., 14., 17., 14., 13., 11., 15.,\n        20., 17., 19., 11., 16., 14., 18., 15., 22., 15., 28.,  8., 25.,\n        17., 14., 21., 21., 16., 11., 19., 14., 23., 11., 16., 19., 13.,\n        25., 16., 13., 16., 32., 16., 19., 21., 19., 24., 20., 24., 14.,\n        20., 22., 14., 18., 16., 19., 18., 21., 17., 23., 21., 30., 17.,\n        23., 20., 29., 28., 20., 29., 27., 23., 24., 27., 26., 25., 23.,\n        24., 14., 24., 19., 23., 28., 29., 18., 40., 28., 21., 30., 18.,\n        22., 21., 32., 26., 20., 18., 28., 25., 21., 28., 18., 34., 21.,\n        23., 26., 24., 21., 23., 29., 29., 26., 22., 22., 23., 31., 23.,\n        32., 25., 29., 33., 27., 17., 28., 31., 24., 34., 20., 33., 32.,\n        25., 31., 30., 26., 18., 26., 24., 28., 24., 24., 35., 27., 28.,\n        25., 22., 29., 29., 33., 26., 32., 27., 31., 23., 38., 28., 30.,\n        29., 30., 35., 29., 26., 26., 28., 22., 32., 27., 27., 41., 35.,\n        35., 35., 25., 30., 27., 34., 28., 19., 30., 28., 29., 31., 19.,\n        31., 28., 30., 25., 26., 31., 29., 35., 28., 23., 37., 39., 34.,\n        30., 25., 35., 33., 30., 22., 28., 34., 30., 33., 29., 37., 34.,\n        27., 26., 27., 30., 29., 30., 21., 23., 37., 22., 29., 18., 25.,\n        24., 33., 22., 30., 17., 29., 28., 20., 32., 22., 27., 25., 20.,\n        27., 32., 25., 26., 20., 24., 22., 29., 42., 24., 23., 29., 22.,\n        31., 32., 19., 37., 26., 30., 24., 12., 25., 24., 24., 30., 16.,\n        23., 32., 23., 18., 46., 25., 27., 25., 21., 23., 23., 27., 17.,\n        15., 29., 23., 22., 20., 27., 24., 24., 19., 23., 22., 29., 20.,\n        19., 22., 15., 17., 17., 12., 15., 22., 29., 23., 15., 13., 17.,\n        19., 18.,  6., 24., 21., 19., 19., 17., 16., 16., 15., 14., 18.,\n        14., 19., 21., 12., 19., 12., 16., 23., 15., 16., 20., 15., 18.,\n        22., 13.,  7., 22., 11.,  9., 15., 21., 21., 19., 12., 11., 12.,\n        11., 16., 13., 19., 10., 12., 16., 10.,  7., 18., 17., 13., 15.,\n         7., 14.,  7., 11.,  4., 16.,  8., 13., 10., 15.,  8., 12., 11.,\n         9.,  7., 10., 10.,  7.,  6.,  9., 14., 12.,  6., 11.,  7., 10.,\n         6.,  9.,  7., 10., 11.,  9.,  8.,  9.,  9.,  6.,  9.,  6.,  5.,\n        11.,  7.,  9.,  6.,  6., 14., 15.,  5.,  7.,  8.,  3.,  5.,  4.,\n         9.,  9.,  3.,  7.,  7.,  6.,  4.,  6.,  1.,  3.,  9.,  7.,  6.,\n         7.,  5.,  9.,  4.,  7.,  4.,  6.,  6.,  5.,  6.,  6.,  4.,  4.,\n         2.,  4.,  7.,  4.,  7.,  6.,  3.,  4.,  5.,  3.,  4.,  1.,  3.,\n         3.,  1.,  6.,  4.,  4.,  5.,  4.,  4.,  2.,  3.,  3.,  0.,  4.,\n         4.,  2.,  4.,  2.,  1.,  0.,  5.,  1.,  1.,  5.,  2.,  2.,  1.,\n         2.,  2.,  3.,  1.,  0.,  1.,  2.,  2.,  1.,  4.,  3.,  5.,  2.,\n         1.,  1.,  2.,  1.,  3.,  4.,  3.,  4.,  2.,  0.,  4.,  0.,  2.,\n         1.,  1.,  4.,  2.,  2.,  1.,  2.,  2.,  2.,  1.,  3.,  3.,  1.,\n         0.,  2.,  0.,  3.,  1.,  0.,  2.,  0.,  0.,  0.,  2.,  1.,  0.,\n         1.,  3.,  0.,  1.,  1.,  0.,  2.,  2.,  0.,  2.,  2.,  0.,  0.,\n         2.,  1.,  0.,  1.,  1.,  0.,  1.,  0.,  1.,  0.,  0.,  2.,  1.,\n         0.,  2.,  1.,  0.,  0.,  2.,  0.,  1.,  2.,  1.,  0.,  3.,  0.,\n         1.,  2.,  2.,  0.,  1.,  0.,  0.,  0.,  1.,  0.,  0.,  0.,  0.,\n         0.,  0.,  0.,  1.,  0.,  0.,  0.,  1.,  1.,  0.,  0.,  0.,  0.,\n         0.,  0.,  1.,  1.,  0.,  1.,  0.,  0.,  0.,  1.,  0.,  2.,  0.,\n         0.,  0.,  0.,  2.,  0.,  0.,  0.,  0.,  0.,  0.,  0.,  0.,  0.,\n         0.,  0.,  0.,  0.,  0.,  0.,  0.,  0.,  0.,  1.,  0.,  0.,  0.,\n         0.,  0.,  0.,  0.,  0.,  0.,  1.,  0.,  0.,  0.,  0.,  0.,  0.,\n         0.,  0.,  0.,  1.,  1.,  1.,  0.,  0.,  0.,  0.,  0.,  1.]),\n array([-1.91337487, -1.90970897, -1.90604306, ...,  1.74519729,\n         1.74886319,  1.7525291 ]),\n <BarContainer object of 1000 artists>)"
     },
     "execution_count": 10,
     "metadata": {},
     "output_type": "execute_result"
    },
    {
     "data": {
      "text/plain": "<Figure size 432x288 with 1 Axes>",
      "image/png": "[encoded data removed]"
     },
     "metadata": {
      "needs_background": "light"
     },
     "output_type": "display_data"
    }
   ],
   "source": [
    "import numpy as np\n",
    "import matplotlib.pyplot as plt\n",
    "y=np.random.normal(loc=0,scale=0.5,size=10000)\n",
    "plt.hist(y,bins=1000)"
   ],
   "metadata": {
    "collapsed": false,
    "pycharm": {
     "name": "#%%\n"
    }
   }
  },
  {
   "cell_type": "code",
   "execution_count": 11,
   "outputs": [
    {
     "data": {
      "text/plain": "(array([ 1.,  0.,  0.,  0.,  0.,  0.,  0.,  0.,  0.,  0.,  0.,  0.,  0.,\n         0.,  0.,  0.,  0.,  0.,  0.,  0.,  0.,  0.,  0.,  0.,  0.,  0.,\n         0.,  0.,  0.,  0.,  0.,  0.,  0.,  0.,  0.,  0.,  0.,  0.,  0.,\n         0.,  0.,  0.,  0.,  0.,  0.,  0.,  0.,  1.,  0.,  0.,  0.,  0.,\n         0.,  0.,  0.,  0.,  0.,  0.,  0.,  0.,  0.,  0.,  0.,  0.,  0.,\n         0.,  0.,  0.,  0.,  0.,  0.,  0.,  0.,  0.,  0.,  0.,  0.,  0.,\n         0.,  0.,  0.,  0.,  0.,  0.,  0.,  0.,  0.,  0.,  0.,  0.,  0.,\n         1.,  0.,  0.,  0.,  0.,  0.,  0.,  0.,  0.,  0.,  0.,  0.,  0.,\n         0.,  0.,  0.,  0.,  0.,  0.,  0.,  0.,  1.,  0.,  0.,  0.,  0.,\n         0.,  0.,  0.,  0.,  1.,  0.,  0.,  0.,  0.,  0.,  1.,  0.,  0.,\n         0.,  1.,  0.,  0.,  1.,  0.,  0.,  0.,  2.,  0.,  0.,  1.,  0.,\n         1.,  0.,  0.,  1.,  0.,  0.,  0.,  0.,  0.,  0.,  0.,  0.,  1.,\n         2.,  0.,  0.,  1.,  2.,  1.,  0.,  1.,  0.,  1.,  0.,  0.,  0.,\n         0.,  0.,  4.,  2.,  2.,  1.,  1.,  2.,  0.,  4.,  1.,  4.,  0.,\n         0.,  2.,  2.,  1.,  1.,  1.,  0.,  1.,  0.,  0.,  1.,  1.,  0.,\n         3.,  1.,  2.,  0.,  3.,  1.,  0.,  2.,  1.,  1.,  1.,  2.,  3.,\n         2.,  3.,  1.,  4.,  1.,  2.,  2.,  1.,  1.,  1.,  2.,  1.,  2.,\n         4.,  2.,  1.,  3.,  4.,  2.,  4.,  2.,  7.,  1.,  4.,  1.,  4.,\n         0.,  3.,  3.,  0.,  4.,  6.,  5.,  5.,  9.,  2.,  3.,  2.,  4.,\n         4.,  5.,  6.,  2.,  4.,  1.,  1.,  2.,  2.,  5.,  7.,  9.,  6.,\n         2.,  7.,  1.,  3.,  4.,  3.,  4.,  3., 10.,  6.,  9.,  5.,  8.,\n         5.,  2.,  7.,  5.,  5.,  6.,  7.,  5.,  3.,  6.,  7.,  5.,  3.,\n         3.,  5.,  7.,  5.,  6.,  8.,  9.,  5., 11., 10.,  8.,  8.,  8.,\n        10.,  4.,  9., 11.,  7., 17.,  6., 11.,  8.,  8., 10.,  6.,  5.,\n         9.,  9., 12.,  8., 10.,  7., 10., 17.,  7., 13.,  6., 16.,  9.,\n         8.,  8., 16., 15., 12., 12., 16., 20., 11., 15., 10., 17., 19.,\n        14., 14., 18., 11., 14., 16., 13., 18., 17., 15., 13., 19., 11.,\n        13., 17., 19., 15., 19., 18., 15., 21., 16., 10., 18., 15., 14.,\n        17., 23., 30., 17., 14., 15., 17., 18., 21., 26., 24., 18., 22.,\n        21., 20., 15., 25., 22., 21., 19., 25., 25., 15., 31., 23., 16.,\n        22., 20., 21., 19., 25., 21., 21., 17., 33., 28., 27., 18., 20.,\n        20., 29., 24., 25., 22., 36., 15., 24., 29., 19., 28., 25., 23.,\n        26., 31., 16., 23., 26., 10., 23., 29., 24., 26., 20., 28., 24.,\n        31., 31., 31., 24., 30., 26., 29., 30., 27., 29., 33., 26., 29.,\n        29., 34., 33., 34., 34., 31., 35., 28., 26., 30., 37., 30., 35.,\n        34., 30., 28., 22., 33., 30., 34., 35., 21., 35., 39., 28., 26.,\n        21., 38., 43., 33., 38., 25., 35., 31., 29., 23., 28., 32., 33.,\n        30., 33., 30., 33., 30., 36., 39., 33., 26., 36., 39., 32., 34.,\n        44., 31., 31., 33., 26., 47., 29., 35., 29., 35., 45., 43., 29.,\n        34., 26., 34., 32., 34., 33., 29., 28., 32., 32., 36., 34., 39.,\n        24., 23., 35., 35., 29., 31., 36., 23., 38., 35., 31., 31., 34.,\n        44., 28., 37., 33., 27., 33., 34., 29., 32., 29., 30., 24., 17.,\n        25., 23., 36., 18., 32., 37., 30., 29., 36., 32., 31., 30., 13.,\n        28., 30., 30., 31., 40., 30., 35., 28., 31., 31., 29., 24., 25.,\n        26., 24., 28., 25., 22., 32., 30., 35., 28., 24., 25., 23., 19.,\n        32., 28., 25., 35., 20., 26., 26., 20., 18., 21., 25., 22., 27.,\n        22., 28., 24., 21., 22., 19., 31., 30., 25., 22., 19.,  9., 17.,\n        13., 16., 29., 15., 29., 15., 24., 19., 20., 27., 21., 21., 14.,\n        19., 18., 19., 19., 14., 25., 21., 19., 21., 19., 12., 21., 14.,\n        25., 21., 14.,  9., 17., 16., 31., 15., 11., 16., 16., 16., 19.,\n        24., 17., 23., 16., 13., 11., 16., 17., 17., 14., 14., 10., 16.,\n        12., 13., 13., 15.,  7., 13.,  8.,  6., 14.,  9.,  7.,  6., 14.,\n        16.,  7., 10.,  8., 14.,  8.,  9., 12.,  7.,  7.,  3., 13.,  9.,\n         6., 10.,  9.,  7., 12.,  8.,  9., 11.,  8., 11.,  8., 15.,  7.,\n         8., 12., 16., 10.,  9.,  9.,  8.,  4.,  8.,  4., 10.,  5.,  6.,\n         6.,  8.,  6.,  6.,  6.,  7.,  6.,  6.,  7.,  7.,  6.,  5.,  9.,\n         6.,  3.,  7.,  8.,  4.,  4.,  6.,  4., 10.,  5.,  3.,  4.,  2.,\n         7.,  8.,  4.,  3.,  6.,  3.,  5.,  5.,  6.,  6.,  2.,  1.,  3.,\n         2.,  4.,  9.,  3.,  2.,  3.,  3.,  2.,  0.,  3.,  2.,  8.,  3.,\n         4.,  4.,  4.,  5.,  2.,  1.,  3.,  3.,  1.,  2.,  3.,  2.,  1.,\n         3.,  2.,  2.,  0.,  1.,  3.,  3.,  1.,  2.,  1.,  2.,  3.,  2.,\n         1.,  3.,  3.,  1.,  2.,  1.,  2.,  0.,  1.,  2.,  1.,  2.,  3.,\n         4.,  0.,  1.,  4.,  3.,  1.,  1.,  1.,  0.,  2.,  0.,  3.,  1.,\n         2.,  1.,  0.,  0.,  0.,  0.,  1.,  1.,  2.,  2.,  1.,  1.,  2.,\n         0.,  0.,  1.,  2.,  0.,  0.,  0.,  0.,  0.,  0.,  3.,  0.,  1.,\n         0.,  0.,  1.,  0.,  0.,  0.,  0.,  0.,  1.,  1.,  1.,  1.,  1.,\n         1.,  0.,  0.,  1.,  2.,  0.,  0.,  0.,  0.,  0.,  1.,  0.,  0.,\n         1.,  0.,  1.,  0.,  1.,  0.,  0.,  0.,  0.,  0.,  1.,  0.,  0.,\n         0.,  0.,  0.,  0.,  0.,  0.,  0.,  0.,  1.,  0.,  0.,  0.,  0.,\n         0.,  1.,  0.,  0.,  0.,  0.,  0.,  0.,  1.,  0.,  0.,  1.,  0.,\n         0.,  0.,  0.,  1.,  0.,  0.,  0.,  0.,  1.,  0.,  0.,  0.,  0.,\n         0.,  0.,  0.,  0.,  0.,  0.,  0.,  0.,  0.,  0.,  0.,  0.,  0.,\n         0.,  0.,  0.,  0.,  0.,  0.,  0.,  0.,  0.,  0.,  0.,  0.,  0.,\n         0.,  0.,  0.,  0.,  0.,  0.,  0.,  0.,  0.,  0.,  0.,  0.,  0.,\n         0.,  0.,  1.,  0.,  0.,  0.,  0.,  0.,  0.,  0.,  0.,  0.,  0.,\n         0.,  0.,  0.,  0.,  0.,  0.,  0.,  0.,  0.,  0.,  0.,  0.,  1.,\n         0.,  0.,  0.,  0.,  0.,  0.,  0.,  0.,  0.,  0.,  0.,  1.]),\n array([-0.04118212, -0.04110013, -0.04101813, ...,  0.04064547,\n         0.04072746,  0.04080945]),\n <BarContainer object of 1000 artists>)"
     },
     "execution_count": 11,
     "metadata": {},
     "output_type": "execute_result"
    },
    {
     "data": {
      "text/plain": "<Figure size 432x288 with 1 Axes>",
      "image/png": "[encoded data removed]"
     },
     "metadata": {
      "needs_background": "light"
     },
     "output_type": "display_data"
    }
   ],
   "source": [
    "import numpy as np\n",
    "import matplotlib.pyplot as plt\n",
    "y=np.random.normal(loc=0,scale=0.01,size=10000)\n",
    "plt.hist(y,bins=1000)"
   ],
   "metadata": {
    "collapsed": false,
    "pycharm": {
     "name": "#%%\n"
    }
   }
  },
  {
   "cell_type": "code",
   "execution_count": 12,
   "outputs": [
    {
     "data": {
      "text/plain": "(array([ 1.,  0.,  0.,  0.,  0.,  0.,  0.,  0.,  0.,  0.,  0.,  0.,  0.,\n         0.,  0.,  0.,  0.,  0.,  0.,  0.,  1.,  0.,  0.,  0.,  0.,  0.,\n         0.,  0.,  0.,  0.,  0.,  0.,  0.,  0.,  0.,  0.,  0.,  0.,  0.,\n         0.,  0.,  0.,  0.,  0.,  1.,  0.,  0.,  1.,  0.,  0.,  0.,  0.,\n         0.,  0.,  0.,  0.,  0.,  0.,  0.,  0.,  0.,  0.,  0.,  0.,  0.,\n         0.,  0.,  0.,  0.,  1.,  0.,  0.,  0.,  0.,  0.,  0.,  0.,  1.,\n         0.,  0.,  0.,  0.,  0.,  0.,  1.,  0.,  0.,  0.,  1.,  0.,  0.,\n         0.,  0.,  1.,  1.,  1.,  1.,  1.,  1.,  0.,  3.,  1.,  0.,  0.,\n         0.,  0.,  0.,  0.,  2.,  0.,  1.,  1.,  1.,  3.,  0.,  0.,  1.,\n         0.,  1.,  0.,  0.,  1.,  1.,  1.,  1.,  0.,  2.,  1.,  0.,  1.,\n         1.,  0.,  3.,  1.,  0.,  0.,  0.,  2.,  0.,  1.,  0.,  0.,  0.,\n         1.,  0.,  3.,  1.,  2.,  0.,  0.,  1.,  0.,  4.,  1.,  7.,  0.,\n         1.,  4.,  2.,  1.,  2.,  2.,  0.,  3.,  0.,  1.,  1.,  1.,  2.,\n         1.,  1.,  0.,  3.,  4.,  6.,  1.,  2.,  2.,  5.,  3.,  3.,  5.,\n         0.,  2.,  2.,  2.,  1.,  2.,  0.,  1.,  4.,  2.,  2.,  1.,  2.,\n         1.,  4.,  1.,  0.,  4.,  0.,  3.,  1.,  1.,  4.,  1.,  4.,  3.,\n         4.,  2.,  3.,  2.,  2.,  2.,  2., 10.,  0.,  4.,  7.,  7.,  8.,\n         4.,  2.,  5.,  6.,  6.,  4.,  6.,  3.,  4.,  5.,  4.,  3.,  8.,\n         3.,  3.,  5.,  5.,  3.,  2.,  4.,  7.,  1.,  6.,  5.,  2.,  6.,\n         5.,  5.,  4.,  6.,  4.,  5.,  2., 11.,  6.,  3.,  6., 11.,  3.,\n         2., 10.,  8.,  7.,  7., 12.,  8.,  7.,  9.,  8.,  9., 13., 10.,\n         9.,  7.,  6.,  8.,  9., 13.,  5.,  7., 16.,  7.,  7., 12.,  8.,\n         9.,  8.,  9., 11., 11., 11., 13., 15., 11., 13.,  8., 15., 22.,\n        12.,  6., 10., 13.,  8.,  8., 11., 16., 13., 15.,  9., 17., 12.,\n         6., 13., 13., 16., 15., 15., 10., 17., 10., 12., 10., 20., 15.,\n        11.,  9., 19., 11., 12., 12., 16., 12., 13., 18., 18., 15., 19.,\n        14., 16., 27., 18., 17., 15., 12., 16., 13., 15., 16., 16., 13.,\n        17., 17., 14., 12., 26., 20., 10., 21., 12., 22., 18., 16., 25.,\n        17., 15., 21., 21., 27., 20., 21., 23., 20., 19., 16., 21., 25.,\n        25., 19., 23., 20., 17., 13., 19., 19., 19., 23., 15., 29., 22.,\n        15., 25., 17., 19., 28., 22., 38., 28., 12., 21., 22., 25., 31.,\n        28., 27., 20., 23., 22., 28., 31., 31., 26., 16., 27., 33., 22.,\n        28., 25., 30., 23., 21., 23., 31., 30., 17., 34., 23., 15., 19.,\n        29., 26., 32., 26., 28., 25., 28., 35., 36., 19., 31., 19., 29.,\n        33., 24., 22., 27., 25., 26., 36., 24., 26., 29., 23., 26., 37.,\n        33., 25., 29., 26., 31., 26., 42., 28., 29., 32., 29., 31., 20.,\n        35., 19., 26., 30., 29., 37., 39., 32., 26., 27., 33., 30., 29.,\n        29., 25., 29., 23., 20., 20., 28., 28., 31., 34., 19., 31., 31.,\n        32., 34., 34., 32., 20., 35., 34., 30., 24., 31., 33., 25., 26.,\n        37., 26., 30., 26., 25., 34., 31., 24., 27., 38., 24., 23., 32.,\n        29., 40., 35., 27., 30., 27., 24., 36., 24., 27., 27., 23., 32.,\n        27., 21., 30., 29., 22., 26., 31., 25., 21., 30., 27., 23., 26.,\n        34., 32., 31., 35., 31., 25., 19., 27., 23., 19., 38., 23., 27.,\n        25., 27., 22., 25., 27., 24., 24., 27., 25., 21., 31., 23., 20.,\n        31., 24., 23., 21., 25., 35., 23., 22., 27., 17., 32., 32., 15.,\n        20., 20., 30., 20., 19., 24., 22., 22., 26., 14., 26., 15., 26.,\n        23., 22., 25., 25., 22., 17., 23., 21., 18., 26., 22., 20., 22.,\n         9., 21., 17., 10., 25., 24., 23., 11., 19., 16., 23., 12., 22.,\n        13., 17., 26., 16., 26., 14., 23., 13., 11., 20., 15.,  9., 19.,\n        18., 23., 18., 15., 21.,  9.,  8., 17., 18., 18., 13., 13., 19.,\n        10., 11., 16., 14., 14., 11., 12., 16., 17., 16., 15., 20., 10.,\n        11., 12., 10., 15.,  8., 19., 15., 13., 17., 14.,  8., 16., 13.,\n        17., 16., 12., 11.,  8., 12.,  9., 13., 11., 16.,  7.,  6.,  8.,\n        12., 10.,  9., 10.,  9., 10.,  6., 14., 13.,  7., 10., 10., 10.,\n         6.,  5., 12.,  6.,  7.,  8.,  7.,  8., 11., 11.,  9.,  9.,  3.,\n         3.,  6.,  8.,  7.,  8.,  6., 10.,  4.,  9.,  9.,  4.,  3.,  6.,\n         5.,  7.,  5.,  9.,  7.,  9.,  8.,  5.,  7.,  2.,  4.,  5.,  9.,\n         2.,  8.,  8.,  9.,  7.,  5.,  1.,  4.,  5.,  6.,  2.,  2.,  1.,\n         3.,  2.,  5.,  3.,  5.,  1.,  4.,  1.,  1.,  5.,  2.,  7.,  3.,\n         3.,  3.,  3.,  6.,  4.,  3.,  3.,  3.,  3.,  7.,  3.,  3.,  6.,\n         1.,  2.,  3.,  3.,  1.,  2.,  3.,  2.,  0.,  3.,  3.,  1.,  2.,\n         5.,  2.,  2.,  2.,  0.,  2.,  1.,  1.,  4.,  1.,  4.,  0.,  1.,\n         3.,  1.,  2.,  4.,  1.,  1.,  2.,  1.,  1.,  3.,  1.,  2.,  0.,\n         2.,  2.,  0.,  1.,  1.,  0.,  2.,  2.,  1.,  0.,  2.,  3.,  1.,\n         3.,  2.,  2.,  1.,  1.,  1.,  2.,  0.,  4.,  1.,  2.,  1.,  1.,\n         1.,  1.,  0.,  0.,  2.,  2.,  1.,  0.,  1.,  1.,  0.,  0.,  1.,\n         3.,  0.,  1.,  0.,  1.,  2.,  0.,  0.,  0.,  0.,  1.,  0.,  1.,\n         1.,  1.,  0.,  0.,  1.,  1.,  3.,  0.,  1.,  0.,  0.,  0.,  0.,\n         1.,  1.,  0.,  0.,  1.,  1.,  1.,  2.,  0.,  1.,  0.,  0.,  0.,\n         0.,  0.,  0.,  0.,  1.,  0.,  0.,  1.,  0.,  0.,  0.,  1.,  0.,\n         0.,  0.,  0.,  1.,  1.,  1.,  1.,  0.,  0.,  1.,  0.,  0.,  0.,\n         0.,  0.,  0.,  0.,  0.,  0.,  0.,  0.,  0.,  1.,  0.,  0.,  1.,\n         0.,  0.,  0.,  0.,  0.,  0.,  0.,  1.,  0.,  0.,  0.,  0.,  0.,\n         1.,  0.,  0.,  0.,  1.,  0.,  0.,  1.,  0.,  0.,  0.,  0.,  0.,\n         0.,  0.,  0.,  0.,  1.,  0.,  0.,  1.,  0.,  0.,  0.,  0.,  0.,\n         0.,  0.,  0.,  0.,  1.,  0.,  0.,  0.,  0.,  0.,  0.,  0.,  0.,\n         0.,  0.,  0.,  0.,  0.,  0.,  0.,  0.,  0.,  0.,  0.,  1.]),\n array([-0.18106168, -0.18069379, -0.18032589, ...,  0.18609843,\n         0.18646632,  0.18683422]),\n <BarContainer object of 1000 artists>)"
     },
     "execution_count": 12,
     "metadata": {},
     "output_type": "execute_result"
    },
    {
     "data": {
      "text/plain": "<Figure size 432x288 with 1 Axes>",
      "image/png": "[encoded data removed]"
     },
     "metadata": {
      "needs_background": "light"
     },
     "output_type": "display_data"
    }
   ],
   "source": [
    "import numpy as np\n",
    "import matplotlib.pyplot as plt\n",
    "y=np.random.normal(loc=0,scale=0.05,size=10000)\n",
    "plt.hist(y,bins=1000)"
   ],
   "metadata": {
    "collapsed": false,
    "pycharm": {
     "name": "#%%\n"
    }
   }
  },
  {
   "cell_type": "code",
   "execution_count": 1,
   "outputs": [],
   "source": [
    "from math import*"
   ],
   "metadata": {
    "collapsed": false,
    "pycharm": {
     "name": "#%%\n"
    }
   }
  },
  {
   "cell_type": "code",
   "execution_count": 2,
   "outputs": [
    {
     "name": "stdout",
     "output_type": "stream",
     "text": [
      "9.746794344808963\n",
      "CPU times: user 80 µs, sys: 20 µs, total: 100 µs\n",
      "Wall time: 98 µs\n"
     ]
    }
   ],
   "source": [
    "%%time\n",
    "def euclidean_distance(x,y):\n",
    "    return sqrt(sum(pow(a-b,2) for a, b in zip(x, y)))\n",
    "print(euclidean_distance([0,3,4,5],[7,6,3,-1]))"
   ],
   "metadata": {
    "collapsed": false,
    "pycharm": {
     "name": "#%%\n"
    }
   }
  },
  {
   "cell_type": "code",
   "execution_count": 3,
   "outputs": [
    {
     "name": "stdout",
     "output_type": "stream",
     "text": [
      "17\n",
      "CPU times: user 76 µs, sys: 34 µs, total: 110 µs\n",
      "Wall time: 89.2 µs\n"
     ]
    }
   ],
   "source": [
    "%%time\n",
    "def manhattan_distance(x,y):\n",
    "    return sum(abs(a-b) for a,b in zip(x,y))\n",
    "print(manhattan_distance([0,3,4,5],[7,6,3,-1]))"
   ],
   "metadata": {
    "collapsed": false,
    "pycharm": {
     "name": "#%%\n"
    }
   }
  },
  {
   "cell_type": "code",
   "execution_count": 12,
   "outputs": [
    {
     "name": "stdout",
     "output_type": "stream",
     "text": [
      "0.363\n",
      "CPU times: user 440 µs, sys: 157 µs, total: 597 µs\n",
      "Wall time: 582 µs\n"
     ]
    }
   ],
   "source": [
    "%%time\n",
    "def square_rooted(x):\n",
    "    return round(sqrt(sum([a*a for a in x])),3)\n",
    "def cosine_similarity(x,y):\n",
    "    numerator = sum(a*b for a,b in zip(x,y))\n",
    "    denominator = square_rooted(x)*square_rooted(y)\n",
    "    return round(numerator/float(denominator),3)\n",
    "print(cosine_similarity([0,3,4,5],[7,6,3,-1]))"
   ],
   "metadata": {
    "collapsed": false,
    "pycharm": {
     "name": "#%%\n"
    }
   }
  },
  {
   "cell_type": "code",
   "execution_count": 14,
   "outputs": [
    {
     "name": "stdout",
     "output_type": "stream",
     "text": [
      "0.14285714285714285\n",
      "CPU times: user 76 µs, sys: 24 µs, total: 100 µs\n",
      "Wall time: 83.9 µs\n"
     ]
    }
   ],
   "source": [
    "%%time\n",
    "def jaccard_similarity(x,y):\n",
    "    intersection_cardinality = len(set.intersection(*[set(x), set(y)]))\n",
    "    union_cardinality = len(set.union(*[set(x), set(y)]))\n",
    "    return intersection_cardinality/float(union_cardinality)\n",
    "print(jaccard_similarity([0,3,4,5],[7,6,3,-1]))"
   ],
   "metadata": {
    "collapsed": false,
    "pycharm": {
     "name": "#%%\n"
    }
   }
  },
  {
   "cell_type": "code",
   "execution_count": 15,
   "outputs": [
    {
     "name": "stdout",
     "output_type": "stream",
     "text": [
      "Collecting similaritymeasures\r\n",
      "  Downloading similaritymeasures-0.6.0.tar.gz (400 kB)\r\n",
      "\u001B[2K     \u001B[90m━━━━━━━━━━━━━━━━━━━━━━━━━━━━━━━━━━━━━━━\u001B[0m \u001B[32m400.4/400.4 kB\u001B[0m \u001B[31m4.4 MB/s\u001B[0m eta \u001B[36m0:00:00\u001B[0ma \u001B[36m0:00:01\u001B[0m\r\n",
      "\u001B[?25h  Preparing metadata (setup.py) ... \u001B[?25ldone\r\n",
      "\u001B[?25hRequirement already satisfied: numpy>=1.14.0 in /Users/meijiaojiao/opt/anaconda3/envs/RunToEnd/lib/python3.9/site-packages (from similaritymeasures) (1.21.5)\r\n",
      "Requirement already satisfied: scipy>=0.19.0 in /Users/meijiaojiao/opt/anaconda3/envs/RunToEnd/lib/python3.9/site-packages (from similaritymeasures) (1.8.1)\r\n",
      "Building wheels for collected packages: similaritymeasures\r\n",
      "  Building wheel for similaritymeasures (setup.py) ... \u001B[?25ldone\r\n",
      "\u001B[?25h  Created wheel for similaritymeasures: filename=similaritymeasures-0.6.0-py3-none-any.whl size=15480 sha256=b764d719ca90ecd03ecc99f60bead78927b9f135e168cf3c606bc7369ad13429\r\n",
      "  Stored in directory: /Users/meijiaojiao/Library/Caches/pip/wheels/2f/ed/b2/de46b9e42450701001adc4e7106f3df8c8dc4207bfe9c802c6\r\n",
      "Successfully built similaritymeasures\r\n",
      "Installing collected packages: similaritymeasures\r\n",
      "Successfully installed similaritymeasures-0.6.0\r\n"
     ]
    }
   ],
   "source": [
    "!pip install similaritymeasures"
   ],
   "metadata": {
    "collapsed": false,
    "pycharm": {
     "name": "#%%\n"
    }
   }
  },
  {
   "cell_type": "code",
   "execution_count": 17,
   "outputs": [
    {
     "ename": "ImportError",
     "evalue": "cannot import name 'Similarity' from 'similaritymeasures' (/Users/meijiaojiao/opt/anaconda3/envs/RunToEnd/lib/python3.9/site-packages/similaritymeasures/__init__.py)",
     "output_type": "error",
     "traceback": [
      "\u001B[0;31m---------------------------------------------------------------------------\u001B[0m",
      "\u001B[0;31mImportError\u001B[0m                               Traceback (most recent call last)",
      "Input \u001B[0;32mIn [17]\u001B[0m, in \u001B[0;36m<cell line: 2>\u001B[0;34m()\u001B[0m\n\u001B[1;32m      1\u001B[0m \u001B[38;5;28;01mimport\u001B[39;00m \u001B[38;5;21;01msimilaritymeasures\u001B[39;00m\n\u001B[0;32m----> 2\u001B[0m \u001B[38;5;28;01mfrom\u001B[39;00m \u001B[38;5;21;01msimilaritymeasures\u001B[39;00m \u001B[38;5;28;01mimport\u001B[39;00m Similarity\n",
      "\u001B[0;31mImportError\u001B[0m: cannot import name 'Similarity' from 'similaritymeasures' (/Users/meijiaojiao/opt/anaconda3/envs/RunToEnd/lib/python3.9/site-packages/similaritymeasures/__init__.py)"
     ]
    }
   ],
   "source": [
    "import similaritymeasures\n",
    "meansures = similaritymeasures.minkowski_distance()\n"
   ],
   "metadata": {
    "collapsed": false,
    "pycharm": {
     "name": "#%%\n"
    }
   }
  },
  {
   "cell_type": "code",
   "execution_count": null,
   "outputs": [],
   "source": [],
   "metadata": {
    "collapsed": false,
    "pycharm": {
     "name": "#%%\n"
    }
   }
  }
 ],
 "metadata": {
  "kernelspec": {
   "display_name": "Python 3",
   "language": "python",
   "name": "python3"
  },
  "language_info": {
   "codemirror_mode": {
    "name": "ipython",
    "version": 2
   },
   "file_extension": ".py",
   "mimetype": "text/x-python",
   "name": "python",
   "nbconvert_exporter": "python",
   "pygments_lexer": "ipython2",
   "version": "2.7.6"
  }
 },
 "nbformat": 4,
 "nbformat_minor": 0
}