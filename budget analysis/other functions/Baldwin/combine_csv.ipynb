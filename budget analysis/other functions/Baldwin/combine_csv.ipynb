{
 "cells": [
  {
   "cell_type": "code",
   "execution_count": 1,
   "metadata": {
    "collapsed": true,
    "pycharm": {
     "name": "#%%\n"
    }
   },
   "outputs": [],
   "source": [
    "import numpy as np\n",
    "import pandas as pd"
   ]
  },
  {
   "cell_type": "code",
   "execution_count": 2,
   "outputs": [
    {
     "name": "stdout",
     "output_type": "stream",
     "text": [
      "[590, 593, 579, 588, 589, 591, 576, 587, 569, 558, 592, 572, 594, 542, 570, 562, 575, 573, 552, 555]\n",
      "Int64Index([590, 593, 579, 588, 589, 591, 576, 587, 569, 558, 592, 572, 594,\n",
      "            542, 570, 562, 575, 573, 552, 555],\n",
      "           dtype='int64')\n",
      "                 590      593      579      588      589      591      576  \\\n",
      "F1  Times1   10198.0  10198.0  10398.0  10198.0  10198.0  10198.0  10398.0   \n",
      "    Times2   10198.0  10198.0  10398.0  10198.0  10198.0  10198.0  10398.0   \n",
      "    Times3   10198.0  10198.0  10398.0  10198.0  10198.0  10198.0  10398.0   \n",
      "    Times4   10198.0  10198.0  10398.0  10198.0  10198.0  10198.0  10398.0   \n",
      "    Times5   10198.0  10198.0  10398.0  10198.0  10198.0  10198.0  10398.0   \n",
      "...              ...      ...      ...      ...      ...      ...      ...   \n",
      "F23 Times16  10198.0  10198.0  10398.0  10198.0  10198.0  10198.0  10398.0   \n",
      "    Times17  10198.0  10198.0  10398.0  10198.0  10198.0  10198.0  10398.0   \n",
      "    Times18  10198.0  10198.0  10398.0  10198.0  10198.0  10198.0  10398.0   \n",
      "    Times19  10198.0  10198.0  10398.0  10198.0  10198.0  10198.0  10398.0   \n",
      "    Times20  10198.0  10198.0  10398.0  10198.0  10198.0  10198.0  10398.0   \n",
      "\n",
      "                 587      569      558      592      572      594      542  \\\n",
      "F1  Times1   10198.0  10398.0  10198.0  10198.0  10398.0  10198.0  10398.0   \n",
      "    Times2   10198.0  10398.0  10198.0  10198.0  10398.0  10198.0  10398.0   \n",
      "    Times3   10198.0  10398.0  10198.0  10198.0  10398.0  10198.0  10398.0   \n",
      "    Times4   10198.0  10398.0  10198.0  10198.0  10398.0  10198.0  10398.0   \n",
      "    Times5   10198.0  10398.0  10198.0  10198.0  10398.0  10198.0  10398.0   \n",
      "...              ...      ...      ...      ...      ...      ...      ...   \n",
      "F23 Times16  10198.0  10398.0  10198.0  10198.0  10398.0  10198.0  10398.0   \n",
      "    Times17  10198.0  10398.0  10198.0  10198.0  10398.0  10198.0  10398.0   \n",
      "    Times18  10198.0  10398.0  10198.0  10198.0  10398.0  10198.0  10398.0   \n",
      "    Times19  10198.0  10398.0  10198.0  10198.0  10398.0  10198.0  10398.0   \n",
      "    Times20  10198.0  10398.0  10198.0  10198.0  10398.0  10198.0  10398.0   \n",
      "\n",
      "                 570      562      575      573      552      555  \n",
      "F1  Times1   10398.0  10198.0  10398.0  10398.0  10198.0  10198.0  \n",
      "    Times2   10398.0  10198.0  10398.0  10398.0  10198.0  10198.0  \n",
      "    Times3   10398.0  10198.0  10398.0  10398.0  10198.0  10198.0  \n",
      "    Times4   10398.0  10198.0  10398.0  10398.0  10198.0  10198.0  \n",
      "    Times5   10398.0  10198.0  10398.0  10398.0  10198.0  10198.0  \n",
      "...              ...      ...      ...      ...      ...      ...  \n",
      "F23 Times16  10398.0  10198.0  10398.0  10398.0  10198.0  10198.0  \n",
      "    Times17  10398.0  10198.0  10398.0  10398.0  10198.0  10198.0  \n",
      "    Times18  10398.0  10198.0  10398.0  10398.0  10198.0  10198.0  \n",
      "    Times19  10398.0  10198.0  10398.0  10398.0  10198.0  10198.0  \n",
      "    Times20  10398.0  10198.0  10398.0  10398.0  10198.0  10198.0  \n",
      "\n",
      "[380 rows x 20 columns]\n"
     ]
    }
   ],
   "source": [
    "data_pm = pd.read_csv(\"./best_20com_9pm.csv\", header=0, index_col=[0])\n",
    "index = data_pm.index.tolist()\n",
    "print(index)\n",
    "def read_csv(path):\n",
    "    return pd.read_csv(path,index_col=[0,1],header=0)\n",
    "path_budget_list=[\"./budget\"+str(i)+\".csv\" for i in index]\n",
    "df = [read_csv(name) for name in path_budget_list]\n",
    "df = pd.concat(df,axis=1)\n",
    "df.columns = index\n",
    "print(df.columns)\n",
    "print(df)\n",
    "df.to_csv(\"./Baldwin_budget.csv\",header=True,index=True)"
   ],
   "metadata": {
    "collapsed": false,
    "pycharm": {
     "name": "#%%\n"
    }
   }
  },
  {
   "cell_type": "code",
   "execution_count": 3,
   "outputs": [
    {
     "name": "stdout",
     "output_type": "stream",
     "text": [
      "[590, 593, 579, 588, 589, 591, 576, 587, 569, 558, 592, 572, 594, 542, 570, 562, 575, 573, 552, 555]\n",
      "Int64Index([590, 593, 579, 588, 589, 591, 576, 587, 569, 558, 592, 572, 594,\n",
      "            542, 570, 562, 575, 573, 552, 555],\n",
      "           dtype='int64')\n",
      "                    590         593         579         588         589  \\\n",
      "F1  Times1   374.329474  395.486145  267.219881  114.909375  157.771847   \n",
      "    Times2   330.457877  298.043066  312.047112  244.500846  214.652846   \n",
      "    Times3   259.711430  273.584622  815.279063  185.258428  169.917603   \n",
      "    Times4   811.238707  314.662243  375.620506  179.056431  129.378098   \n",
      "    Times5   309.656023  293.540333  277.103690  195.644260  101.592185   \n",
      "...                 ...         ...         ...         ...         ...   \n",
      "F23 Times16  -10.382541  -10.519579  -10.522780   -5.167004   -5.121966   \n",
      "    Times17   -5.173435   -2.907834  -10.271535  -10.526891   -2.665427   \n",
      "    Times18   -5.119165   -1.676045   -3.500579   -2.805542   -2.421447   \n",
      "    Times19   -2.421545   -5.169561   -5.173313  -10.507114   -2.870822   \n",
      "    Times20   -2.827305   -5.126401  -10.532776  -10.494237   -2.868522   \n",
      "\n",
      "                    591          576         587          569         558  \\\n",
      "F1  Times1   265.724847  9552.785787  257.779730   472.479066  146.953975   \n",
      "    Times2   208.041238   167.437415  397.554764  1250.769241  216.157991   \n",
      "    Times3   208.227586   246.879019  312.115668   444.615844  111.414173   \n",
      "    Times4   281.123284   273.703320  292.693249   683.317801   99.226640   \n",
      "    Times5   257.671667   421.014354  352.265557   670.895647   81.439022   \n",
      "...                 ...          ...         ...          ...         ...   \n",
      "F23 Times16  -10.534819    -2.806167   -3.875229   -10.531840  -10.535003   \n",
      "    Times17  -10.508681    -4.483017  -10.479274   -10.520772   -5.128174   \n",
      "    Times18  -10.528206   -10.513388   -3.835331    -3.835186   -5.174904   \n",
      "    Times19  -10.461491    -2.870400  -10.485488    -3.833974  -10.535167   \n",
      "    Times20  -10.472962   -10.531587   -7.580166    -2.806566   -2.057222   \n",
      "\n",
      "                    592         572         594          542           570  \\\n",
      "F1  Times1   142.446484  682.326328  308.190009   692.170512    251.418274   \n",
      "    Times2   167.275401  479.502038  277.336798  1740.125935  67006.057999   \n",
      "    Times3   293.621545  531.273113  164.664913   584.620745    293.093141   \n",
      "    Times4   105.155070  549.214047  136.925190   575.357129    296.389553   \n",
      "    Times5   176.901349  427.250311  226.574182   613.063573    494.152671   \n",
      "...                 ...         ...         ...          ...           ...   \n",
      "F23 Times16   -5.171219  -10.499169  -10.530722   -10.522980    -10.532061   \n",
      "    Times17   -5.174165   -3.834838  -10.531664   -10.525645     -3.834482   \n",
      "    Times18   -2.426148  -10.535487   -2.851063   -10.527592    -10.518604   \n",
      "    Times19   -3.583569  -10.531114   -2.867038   -10.517075    -10.521663   \n",
      "    Times20  -10.524512  -10.505849  -10.498206    -2.753419    -10.527823   \n",
      "\n",
      "                      562         575         573         552         555  \n",
      "F1  Times1      88.952272  604.509544  215.255182  143.090600   99.135694  \n",
      "    Times2      65.586511  378.451327  348.435507  106.095549  115.623488  \n",
      "    Times3   47826.301633  466.960042  409.389786  133.727048  121.539684  \n",
      "    Times4     123.278425  835.547789  311.964562   94.145495  290.562682  \n",
      "    Times5      84.740810  449.814014  278.062029  197.023161  114.496692  \n",
      "...                   ...         ...         ...         ...         ...  \n",
      "F23 Times16     -3.834875   -2.457916   -2.871021   -2.421648   -2.421705  \n",
      "    Times17    -10.534245   -3.833849   -2.426363   -2.806253   -3.826694  \n",
      "    Times18    -10.531580   -2.870631   -2.421663  -10.534968   -3.835186  \n",
      "    Times19     -2.427307   -4.176534   -2.420774   -3.834867   -3.834326  \n",
      "    Times20    -10.528055   -2.870902   -5.175587  -10.533407  -10.523693  \n",
      "\n",
      "[380 rows x 20 columns]\n"
     ]
    },
    {
     "data": {
      "text/plain": "           590   593   579   588   589   591   576   587   569   558   592  \\\nFunction                                                                     \nF1          0%    0%    0%    0%    0%    0%    0%    0%    0%    0%    0%   \nF2          0%    0%    0%    0%    0%    0%    0%    0%    0%    0%    0%   \nF3          0%    0%    0%    0%    0%    0%    0%    0%    0%    0%    0%   \nF5          0%    0%    0%    0%    0%    0%    0%    0%    0%    0%    0%   \nF6          0%    0%    0%    0%    0%    0%    0%    0%    0%    0%    0%   \nF7          0%    0%    0%    0%    0%    0%    0%    0%    0%    0%    0%   \nF11         0%    0%    0%    0%    0%    0%    0%    0%    0%    0%    0%   \nF12         0%    0%    0%    0%    0%    0%    0%    0%    0%    0%    0%   \nF13         0%    0%    0%    0%    0%    0%    0%    0%    0%    0%    0%   \nF14       170%   90%  200%  130%  130%  140%  200%  140%  200%  200%  150%   \nF15         0%    0%    0%    0%    0%    0%    0%   20%    0%    0%    0%   \nF16        20%   20%  180%   10%    0%   20%  190%   10%  190%  190%   10%   \nF17        60%   60%  200%   40%   30%   40%  200%   40%  200%  200%   30%   \nF18         0%    0%   80%    0%    0%   10%   80%    0%   70%  100%   10%   \nF19       200%  200%  200%  200%  200%  200%  200%  200%  200%  200%  190%   \nF20        60%  120%   60%  100%  100%   80%   60%  100%  100%   90%  100%   \nF21         0%    0%    0%    0%    0%    0%    0%    0%    0%    0%    0%   \nF22         0%    0%    0%    0%    0%    0%    0%    0%    0%    0%    0%   \nF23         0%    0%    0%    0%    0%    0%    0%    0%    0%    0%    0%   \n\n           572   594   542   570   562   575   573   552   555  \nFunction                                                        \nF1          0%    0%    0%    0%    0%    0%    0%    0%    0%  \nF2          0%    0%    0%    0%    0%    0%    0%    0%    0%  \nF3          0%    0%    0%    0%    0%    0%    0%    0%    0%  \nF5          0%    0%    0%    0%    0%    0%    0%    0%    0%  \nF6          0%    0%    0%    0%    0%    0%    0%    0%    0%  \nF7          0%    0%    0%    0%    0%    0%    0%    0%    0%  \nF11         0%    0%    0%    0%    0%    0%    0%    0%    0%  \nF12         0%    0%    0%    0%    0%    0%    0%    0%    0%  \nF13         0%    0%    0%    0%    0%    0%    0%    0%    0%  \nF14       200%  110%  190%  200%  200%  200%  200%  200%  200%  \nF15         0%    0%    0%    0%    0%    0%    0%    0%    0%  \nF16       180%   10%  170%  200%  200%  200%  200%  190%  200%  \nF17       200%   30%  200%  180%  180%  200%  200%  200%  200%  \nF18        60%    0%   10%   90%   80%   60%  110%   90%   80%  \nF19       200%  200%  200%  200%  200%  200%  190%  200%  200%  \nF20        70%   90%   70%   90%  110%  100%   70%  120%   90%  \nF21         0%    0%    0%    0%    0%    0%    0%    0%    0%  \nF22        10%    0%    0%    0%    0%    0%    0%    0%    0%  \nF23         0%    0%    0%    0%    0%    0%   10%    0%    0%  ",
      "text/html": "<div>\n<style scoped>\n    .dataframe tbody tr th:only-of-type {\n        vertical-align: middle;\n    }\n\n    .dataframe tbody tr th {\n        vertical-align: top;\n    }\n\n    .dataframe thead th {\n        text-align: right;\n    }\n</style>\n<table border=\"1\" class=\"dataframe\">\n  <thead>\n    <tr style=\"text-align: right;\">\n      <th></th>\n      <th>590</th>\n      <th>593</th>\n      <th>579</th>\n      <th>588</th>\n      <th>589</th>\n      <th>591</th>\n      <th>576</th>\n      <th>587</th>\n      <th>569</th>\n      <th>558</th>\n      <th>592</th>\n      <th>572</th>\n      <th>594</th>\n      <th>542</th>\n      <th>570</th>\n      <th>562</th>\n      <th>575</th>\n      <th>573</th>\n      <th>552</th>\n      <th>555</th>\n    </tr>\n    <tr>\n      <th>Function</th>\n      <th></th>\n      <th></th>\n      <th></th>\n      <th></th>\n      <th></th>\n      <th></th>\n      <th></th>\n      <th></th>\n      <th></th>\n      <th></th>\n      <th></th>\n      <th></th>\n      <th></th>\n      <th></th>\n      <th></th>\n      <th></th>\n      <th></th>\n      <th></th>\n      <th></th>\n      <th></th>\n    </tr>\n  </thead>\n  <tbody>\n    <tr>\n      <th>F1</th>\n      <td>0%</td>\n      <td>0%</td>\n      <td>0%</td>\n      <td>0%</td>\n      <td>0%</td>\n      <td>0%</td>\n      <td>0%</td>\n      <td>0%</td>\n      <td>0%</td>\n      <td>0%</td>\n      <td>0%</td>\n      <td>0%</td>\n      <td>0%</td>\n      <td>0%</td>\n      <td>0%</td>\n      <td>0%</td>\n      <td>0%</td>\n      <td>0%</td>\n      <td>0%</td>\n      <td>0%</td>\n    </tr>\n    <tr>\n      <th>F2</th>\n      <td>0%</td>\n      <td>0%</td>\n      <td>0%</td>\n      <td>0%</td>\n      <td>0%</td>\n      <td>0%</td>\n      <td>0%</td>\n      <td>0%</td>\n      <td>0%</td>\n      <td>0%</td>\n      <td>0%</td>\n      <td>0%</td>\n      <td>0%</td>\n      <td>0%</td>\n      <td>0%</td>\n      <td>0%</td>\n      <td>0%</td>\n      <td>0%</td>\n      <td>0%</td>\n      <td>0%</td>\n    </tr>\n    <tr>\n      <th>F3</th>\n      <td>0%</td>\n      <td>0%</td>\n      <td>0%</td>\n      <td>0%</td>\n      <td>0%</td>\n      <td>0%</td>\n      <td>0%</td>\n      <td>0%</td>\n      <td>0%</td>\n      <td>0%</td>\n      <td>0%</td>\n      <td>0%</td>\n      <td>0%</td>\n      <td>0%</td>\n      <td>0%</td>\n      <td>0%</td>\n      <td>0%</td>\n      <td>0%</td>\n      <td>0%</td>\n      <td>0%</td>\n    </tr>\n    <tr>\n      <th>F5</th>\n      <td>0%</td>\n      <td>0%</td>\n      <td>0%</td>\n      <td>0%</td>\n      <td>0%</td>\n      <td>0%</td>\n      <td>0%</td>\n      <td>0%</td>\n      <td>0%</td>\n      <td>0%</td>\n      <td>0%</td>\n      <td>0%</td>\n      <td>0%</td>\n      <td>0%</td>\n      <td>0%</td>\n      <td>0%</td>\n      <td>0%</td>\n      <td>0%</td>\n      <td>0%</td>\n      <td>0%</td>\n    </tr>\n    <tr>\n      <th>F6</th>\n      <td>0%</td>\n      <td>0%</td>\n      <td>0%</td>\n      <td>0%</td>\n      <td>0%</td>\n      <td>0%</td>\n      <td>0%</td>\n      <td>0%</td>\n      <td>0%</td>\n      <td>0%</td>\n      <td>0%</td>\n      <td>0%</td>\n      <td>0%</td>\n      <td>0%</td>\n      <td>0%</td>\n      <td>0%</td>\n      <td>0%</td>\n      <td>0%</td>\n      <td>0%</td>\n      <td>0%</td>\n    </tr>\n    <tr>\n      <th>F7</th>\n      <td>0%</td>\n      <td>0%</td>\n      <td>0%</td>\n      <td>0%</td>\n      <td>0%</td>\n      <td>0%</td>\n      <td>0%</td>\n      <td>0%</td>\n      <td>0%</td>\n      <td>0%</td>\n      <td>0%</td>\n      <td>0%</td>\n      <td>0%</td>\n      <td>0%</td>\n      <td>0%</td>\n      <td>0%</td>\n      <td>0%</td>\n      <td>0%</td>\n      <td>0%</td>\n      <td>0%</td>\n    </tr>\n    <tr>\n      <th>F11</th>\n      <td>0%</td>\n      <td>0%</td>\n      <td>0%</td>\n      <td>0%</td>\n      <td>0%</td>\n      <td>0%</td>\n      <td>0%</td>\n      <td>0%</td>\n      <td>0%</td>\n      <td>0%</td>\n      <td>0%</td>\n      <td>0%</td>\n      <td>0%</td>\n      <td>0%</td>\n      <td>0%</td>\n      <td>0%</td>\n      <td>0%</td>\n      <td>0%</td>\n      <td>0%</td>\n      <td>0%</td>\n    </tr>\n    <tr>\n      <th>F12</th>\n      <td>0%</td>\n      <td>0%</td>\n      <td>0%</td>\n      <td>0%</td>\n      <td>0%</td>\n      <td>0%</td>\n      <td>0%</td>\n      <td>0%</td>\n      <td>0%</td>\n      <td>0%</td>\n      <td>0%</td>\n      <td>0%</td>\n      <td>0%</td>\n      <td>0%</td>\n      <td>0%</td>\n      <td>0%</td>\n      <td>0%</td>\n      <td>0%</td>\n      <td>0%</td>\n      <td>0%</td>\n    </tr>\n    <tr>\n      <th>F13</th>\n      <td>0%</td>\n      <td>0%</td>\n      <td>0%</td>\n      <td>0%</td>\n      <td>0%</td>\n      <td>0%</td>\n      <td>0%</td>\n      <td>0%</td>\n      <td>0%</td>\n      <td>0%</td>\n      <td>0%</td>\n      <td>0%</td>\n      <td>0%</td>\n      <td>0%</td>\n      <td>0%</td>\n      <td>0%</td>\n      <td>0%</td>\n      <td>0%</td>\n      <td>0%</td>\n      <td>0%</td>\n    </tr>\n    <tr>\n      <th>F14</th>\n      <td>170%</td>\n      <td>90%</td>\n      <td>200%</td>\n      <td>130%</td>\n      <td>130%</td>\n      <td>140%</td>\n      <td>200%</td>\n      <td>140%</td>\n      <td>200%</td>\n      <td>200%</td>\n      <td>150%</td>\n      <td>200%</td>\n      <td>110%</td>\n      <td>190%</td>\n      <td>200%</td>\n      <td>200%</td>\n      <td>200%</td>\n      <td>200%</td>\n      <td>200%</td>\n      <td>200%</td>\n    </tr>\n    <tr>\n      <th>F15</th>\n      <td>0%</td>\n      <td>0%</td>\n      <td>0%</td>\n      <td>0%</td>\n      <td>0%</td>\n      <td>0%</td>\n      <td>0%</td>\n      <td>20%</td>\n      <td>0%</td>\n      <td>0%</td>\n      <td>0%</td>\n      <td>0%</td>\n      <td>0%</td>\n      <td>0%</td>\n      <td>0%</td>\n      <td>0%</td>\n      <td>0%</td>\n      <td>0%</td>\n      <td>0%</td>\n      <td>0%</td>\n    </tr>\n    <tr>\n      <th>F16</th>\n      <td>20%</td>\n      <td>20%</td>\n      <td>180%</td>\n      <td>10%</td>\n      <td>0%</td>\n      <td>20%</td>\n      <td>190%</td>\n      <td>10%</td>\n      <td>190%</td>\n      <td>190%</td>\n      <td>10%</td>\n      <td>180%</td>\n      <td>10%</td>\n      <td>170%</td>\n      <td>200%</td>\n      <td>200%</td>\n      <td>200%</td>\n      <td>200%</td>\n      <td>190%</td>\n      <td>200%</td>\n    </tr>\n    <tr>\n      <th>F17</th>\n      <td>60%</td>\n      <td>60%</td>\n      <td>200%</td>\n      <td>40%</td>\n      <td>30%</td>\n      <td>40%</td>\n      <td>200%</td>\n      <td>40%</td>\n      <td>200%</td>\n      <td>200%</td>\n      <td>30%</td>\n      <td>200%</td>\n      <td>30%</td>\n      <td>200%</td>\n      <td>180%</td>\n      <td>180%</td>\n      <td>200%</td>\n      <td>200%</td>\n      <td>200%</td>\n      <td>200%</td>\n    </tr>\n    <tr>\n      <th>F18</th>\n      <td>0%</td>\n      <td>0%</td>\n      <td>80%</td>\n      <td>0%</td>\n      <td>0%</td>\n      <td>10%</td>\n      <td>80%</td>\n      <td>0%</td>\n      <td>70%</td>\n      <td>100%</td>\n      <td>10%</td>\n      <td>60%</td>\n      <td>0%</td>\n      <td>10%</td>\n      <td>90%</td>\n      <td>80%</td>\n      <td>60%</td>\n      <td>110%</td>\n      <td>90%</td>\n      <td>80%</td>\n    </tr>\n    <tr>\n      <th>F19</th>\n      <td>200%</td>\n      <td>200%</td>\n      <td>200%</td>\n      <td>200%</td>\n      <td>200%</td>\n      <td>200%</td>\n      <td>200%</td>\n      <td>200%</td>\n      <td>200%</td>\n      <td>200%</td>\n      <td>190%</td>\n      <td>200%</td>\n      <td>200%</td>\n      <td>200%</td>\n      <td>200%</td>\n      <td>200%</td>\n      <td>200%</td>\n      <td>190%</td>\n      <td>200%</td>\n      <td>200%</td>\n    </tr>\n    <tr>\n      <th>F20</th>\n      <td>60%</td>\n      <td>120%</td>\n      <td>60%</td>\n      <td>100%</td>\n      <td>100%</td>\n      <td>80%</td>\n      <td>60%</td>\n      <td>100%</td>\n      <td>100%</td>\n      <td>90%</td>\n      <td>100%</td>\n      <td>70%</td>\n      <td>90%</td>\n      <td>70%</td>\n      <td>90%</td>\n      <td>110%</td>\n      <td>100%</td>\n      <td>70%</td>\n      <td>120%</td>\n      <td>90%</td>\n    </tr>\n    <tr>\n      <th>F21</th>\n      <td>0%</td>\n      <td>0%</td>\n      <td>0%</td>\n      <td>0%</td>\n      <td>0%</td>\n      <td>0%</td>\n      <td>0%</td>\n      <td>0%</td>\n      <td>0%</td>\n      <td>0%</td>\n      <td>0%</td>\n      <td>0%</td>\n      <td>0%</td>\n      <td>0%</td>\n      <td>0%</td>\n      <td>0%</td>\n      <td>0%</td>\n      <td>0%</td>\n      <td>0%</td>\n      <td>0%</td>\n    </tr>\n    <tr>\n      <th>F22</th>\n      <td>0%</td>\n      <td>0%</td>\n      <td>0%</td>\n      <td>0%</td>\n      <td>0%</td>\n      <td>0%</td>\n      <td>0%</td>\n      <td>0%</td>\n      <td>0%</td>\n      <td>0%</td>\n      <td>0%</td>\n      <td>10%</td>\n      <td>0%</td>\n      <td>0%</td>\n      <td>0%</td>\n      <td>0%</td>\n      <td>0%</td>\n      <td>0%</td>\n      <td>0%</td>\n      <td>0%</td>\n    </tr>\n    <tr>\n      <th>F23</th>\n      <td>0%</td>\n      <td>0%</td>\n      <td>0%</td>\n      <td>0%</td>\n      <td>0%</td>\n      <td>0%</td>\n      <td>0%</td>\n      <td>0%</td>\n      <td>0%</td>\n      <td>0%</td>\n      <td>0%</td>\n      <td>0%</td>\n      <td>0%</td>\n      <td>0%</td>\n      <td>0%</td>\n      <td>0%</td>\n      <td>0%</td>\n      <td>10%</td>\n      <td>0%</td>\n      <td>0%</td>\n    </tr>\n  </tbody>\n</table>\n</div>"
     },
     "metadata": {},
     "output_type": "display_data"
    }
   ],
   "source": [
    "data_pm = pd.read_csv(\"./best_20com_9pm.csv\", header=0, index_col=[0])\n",
    "index = data_pm.index.tolist()\n",
    "print(index)\n",
    "def read_csv(path):\n",
    "    return pd.read_csv(path,index_col=[0,1],header=0)\n",
    "path_percent_list=[\"./combination\"+str(i)+\".csv\" for i in index]\n",
    "df = [read_csv(name) for name in path_percent_list]\n",
    "df = pd.concat(df,axis=1)\n",
    "df.columns = index\n",
    "print(df.columns)\n",
    "print(df)\n",
    "df.to_csv(\"./Baldwin_rawdata.csv\",header=True,index=True)\n",
    "\n",
    "def percent(Function, optimal):\n",
    "    dataframe = df.loc[(Function, slice(None)), :]\n",
    "    dataframe = pd.DataFrame(data=dataframe.values,\n",
    "                             columns=dataframe.columns)\n",
    "    percent_dataframe = dataframe.applymap(lambda x: True if ((x-optimal)<=threshold or x<=optimal) else False)\n",
    "    percent_dataframe[\"Function\"] = Function\n",
    "    return percent_dataframe\n",
    "\n",
    "threshold =0.0001\n",
    "opt = [0.0, 0.0, 0.0, 0.0, 0.0, 0.0, 0.0, -418.98 * 50, 0.0, 0.0, 0.0, 0.0, 0.0, 1.0, 0.0003, -1.0316, 0.398, 3.0,\n",
    "       -3.86, -3.32, -10.1532,-10.4028, -10.5363]\n",
    "function_list = [1,2,3,5,6,7,11,12,13,14,15,16,17,18,19,20,21,22,23]\n",
    "percent_df = [percent(Function=\"F\" + str(i), optimal=opt[i - 1]) for i in function_list]\n",
    "percent_df = pd.concat(percent_df, axis=0)\n",
    "percent_df = percent_df.groupby([\"Function\"]).sum().applymap(lambda x: str(x * 10) + \"%\")\n",
    "index = [\"F\" + str(i) for i in function_list]\n",
    "percent_df = percent_df.loc[index]\n",
    "display(percent_df)\n",
    "percent_df.to_csv(\"./Baldwin_percent.csv\")"
   ],
   "metadata": {
    "collapsed": false,
    "pycharm": {
     "name": "#%%\n"
    }
   }
  },
  {
   "cell_type": "code",
   "execution_count": 4,
   "outputs": [
    {
     "name": "stderr",
     "output_type": "stream",
     "text": [
      "/var/folders/vb/bhfltf7s0n5dmrcb5r9s80mw0000gn/T/ipykernel_1494/514016184.py:19: FutureWarning: \n",
      "\n",
      "The `ci` parameter is deprecated. Use `errorbar=('ci', 95)` for the same effect.\n",
      "\n",
      "  ax=sns.barplot(data=dataframe,y=\"Percent\",x=\"Function\",ci=95)\n"
     ]
    },
    {
     "data": {
      "text/plain": "<Figure size 1440x504 with 1 Axes>",
      "image/png": "[encoded data removed]"
     },
     "metadata": {},
     "output_type": "display_data"
    }
   ],
   "source": [
    "from matplotlib import pyplot as plt\n",
    "dataframe = percent_df.copy()\n",
    "dataframe = dataframe.applymap(lambda x:x if not '%' in str(x) else x.replace('%',''))\n",
    "# display(dataframe)\n",
    "import seaborn as sns\n",
    "dataframe = dataframe.stack()\n",
    "# display(dataframe)\n",
    "dataframe = dataframe.rename_axis(index=[\"Function\",\"Combinations\"])\n",
    "dataframe = dataframe.reset_index(level=[0, 1], name=\"Percent\")\n",
    "dataframe[\"Percent\"] = pd.to_numeric(dataframe[\"Percent\"])\n",
    "dataframe = dataframe.reset_index(drop=False)\n",
    "# display(dataframe)\n",
    "function_list = [\"F\" + str(i) for i in range(1, 24, 1)]\n",
    "def show_graph(dataframe):\n",
    "    sns.set_theme(style=\"whitegrid\", palette=\"pastel\",font_scale=1.5)\n",
    "    sns.set_style(\"ticks\",{'axes.grid' : True})\n",
    "    plt.figure(figsize=(20,7))\n",
    "    plt.subplot(1,1,1)\n",
    "    ax=sns.barplot(data=dataframe,y=\"Percent\",x=\"Function\",ci=95)\n",
    "    ax.bar_label(ax.containers[0],label_type='edge')\n",
    "    plt.xlabel(\"Baldwin\")\n",
    "    # sns.move_legend(ax, \"upper left\", bbox_to_anchor=(0, 1))\n",
    "    plt.savefig(\"./Baldwin_percent.png\", dpi=1200, bbox_inches='tight')\n",
    "    plt.show()\n",
    "show_graph(dataframe=dataframe)"
   ],
   "metadata": {
    "collapsed": false,
    "pycharm": {
     "name": "#%%\n"
    }
   }
  },
  {
   "cell_type": "code",
   "execution_count": 5,
   "outputs": [],
   "source": [
    "# from matplotlib import pyplot as plt\n",
    "# dataframe = df.copy()\n",
    "# dataframe = dataframe.stack()\n",
    "# # display(dataframe)\n",
    "# dataframe = dataframe.rename_axis(index=[\"Function\",\"Times\",\"Combinations\"])\n",
    "# dataframe = dataframe.reset_index(level=[0, 1], name=\"Solutions\")\n",
    "# dataframe[\"Solutions\"] = pd.to_numeric(dataframe[\"Solutions\"])\n",
    "# dataframe = dataframe.reset_index(drop=False)\n",
    "# # display(dataframe)\n",
    "# opt = [0, 0, 0, 0, 0, 0, 0, -20949, 0, 0, 0, 0, 0, 1, 0.0003, -1.0316, 0.398, 3, -3.86, -3.32,-10.1532, -10.4028, -10.5363]\n",
    "# def show_graph(dataframe):\n",
    "#     sns.set_theme(style=\"whitegrid\", palette=\"pastel\",font_scale=1.5)\n",
    "#     dist_cols = 3\n",
    "#     dist_rows = 8\n",
    "#     plt.figure(figsize=(7 * dist_cols, 4 * dist_rows))\n",
    "#     i = 1\n",
    "#     for function in function_list:\n",
    "#         dataf = dataframe[dataframe[\"Function\"] == function]\n",
    "#         plt.subplot(dist_rows, dist_cols, i)\n",
    "#         ax=sns.boxplot(data=dataf, y=\"Solutions\",palette=\"viridis\",x=\"Function\",hue=\"Function\",width=0.2)\n",
    "#         sns.move_legend(ax, \"upper left\", bbox_to_anchor=(0, 1),frameon=False)\n",
    "#         plt.axhline(y=opt[i-1],color=\"red\")\n",
    "#         plt.xlabel(\"\")\n",
    "#         plt.ylabel(\"Solutions\")\n",
    "#         i = i + 1\n",
    "#     plt.savefig(\"./boxplot_Baldwin.png\", dpi=1200, bbox_inches='tight')\n",
    "#     plt.show()\n",
    "# show_graph(dataframe=dataframe)"
   ],
   "metadata": {
    "collapsed": false,
    "pycharm": {
     "name": "#%%\n"
    }
   }
  },
  {
   "cell_type": "code",
   "execution_count": 5,
   "outputs": [],
   "source": [],
   "metadata": {
    "collapsed": false,
    "pycharm": {
     "name": "#%%\n"
    }
   }
  }
 ],
 "metadata": {
  "kernelspec": {
   "display_name": "Python 3",
   "language": "python",
   "name": "python3"
  },
  "language_info": {
   "codemirror_mode": {
    "name": "ipython",
    "version": 2
   },
   "file_extension": ".py",
   "mimetype": "text/x-python",
   "name": "python",
   "nbconvert_exporter": "python",
   "pygments_lexer": "ipython2",
   "version": "2.7.6"
  }
 },
 "nbformat": 4,
 "nbformat_minor": 0
}