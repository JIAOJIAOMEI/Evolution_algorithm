{
 "cells": [
  {
   "cell_type": "code",
   "execution_count": 2,
   "metadata": {
    "collapsed": true
   },
   "outputs": [
    {
     "data": {
      "text/plain": "   num_generations  mutation_rate  num_individuals  crossover_rate  \\\n0          1000000           0.03              200             0.7   \n1          1000000           0.03              200             0.7   \n2          1000000           0.03              200             0.7   \n3          1000000           0.03              200             0.7   \n4          1000000           0.03              200             0.7   \n\n  mutation_type           crossover_type  local_search_rate local_search_type  \\\n0        Normal  Probabilistic_crossover                0.5           Uniform   \n1        Normal  Probabilistic_crossover                0.5           Uniform   \n2        Normal  Probabilistic_crossover                0.5           Uniform   \n3        Normal  Probabilistic_crossover                0.5           Uniform   \n4        Normal  Probabilistic_crossover                0.5           Uniform   \n\n   search_radius  threshold  dimensions    gg       selection_method  \\\n0           0.05     0.0001         100  0.05  sorted_selection_part   \n1           0.05     0.0001         100  0.05  sorted_selection_part   \n2           0.05     0.0001         100  0.05  sorted_selection_part   \n3           0.05     0.0001         100  0.05  sorted_selection_part   \n4           0.05     0.0001         100  0.05  sorted_selection_part   \n\n   length_of_local_search  redo_local_search_rate  fitness_function algorithm  \\\n0                       1                       0                14  Baseline   \n1                       1                       0                14  Baseline   \n2                       1                       0                14  Baseline   \n3                       1                       0                14  Baseline   \n4                       1                       0                14  Baseline   \n\n   pm_index   Run   fitness  \n0         0  Run1  0.998004  \n1         0  Run2  0.998004  \n2         0  Run3  0.998004  \n3         0  Run4  0.998004  \n4         0  Run5  0.998004  ",
      "text/html": "<div>\n<style scoped>\n    .dataframe tbody tr th:only-of-type {\n        vertical-align: middle;\n    }\n\n    .dataframe tbody tr th {\n        vertical-align: top;\n    }\n\n    .dataframe thead th {\n        text-align: right;\n    }\n</style>\n<table border=\"1\" class=\"dataframe\">\n  <thead>\n    <tr style=\"text-align: right;\">\n      <th></th>\n      <th>num_generations</th>\n      <th>mutation_rate</th>\n      <th>num_individuals</th>\n      <th>crossover_rate</th>\n      <th>mutation_type</th>\n      <th>crossover_type</th>\n      <th>local_search_rate</th>\n      <th>local_search_type</th>\n      <th>search_radius</th>\n      <th>threshold</th>\n      <th>dimensions</th>\n      <th>gg</th>\n      <th>selection_method</th>\n      <th>length_of_local_search</th>\n      <th>redo_local_search_rate</th>\n      <th>fitness_function</th>\n      <th>algorithm</th>\n      <th>pm_index</th>\n      <th>Run</th>\n      <th>fitness</th>\n    </tr>\n  </thead>\n  <tbody>\n    <tr>\n      <th>0</th>\n      <td>1000000</td>\n      <td>0.03</td>\n      <td>200</td>\n      <td>0.7</td>\n      <td>Normal</td>\n      <td>Probabilistic_crossover</td>\n      <td>0.5</td>\n      <td>Uniform</td>\n      <td>0.05</td>\n      <td>0.0001</td>\n      <td>100</td>\n      <td>0.05</td>\n      <td>sorted_selection_part</td>\n      <td>1</td>\n      <td>0</td>\n      <td>14</td>\n      <td>Baseline</td>\n      <td>0</td>\n      <td>Run1</td>\n      <td>0.998004</td>\n    </tr>\n    <tr>\n      <th>1</th>\n      <td>1000000</td>\n      <td>0.03</td>\n      <td>200</td>\n      <td>0.7</td>\n      <td>Normal</td>\n      <td>Probabilistic_crossover</td>\n      <td>0.5</td>\n      <td>Uniform</td>\n      <td>0.05</td>\n      <td>0.0001</td>\n      <td>100</td>\n      <td>0.05</td>\n      <td>sorted_selection_part</td>\n      <td>1</td>\n      <td>0</td>\n      <td>14</td>\n      <td>Baseline</td>\n      <td>0</td>\n      <td>Run2</td>\n      <td>0.998004</td>\n    </tr>\n    <tr>\n      <th>2</th>\n      <td>1000000</td>\n      <td>0.03</td>\n      <td>200</td>\n      <td>0.7</td>\n      <td>Normal</td>\n      <td>Probabilistic_crossover</td>\n      <td>0.5</td>\n      <td>Uniform</td>\n      <td>0.05</td>\n      <td>0.0001</td>\n      <td>100</td>\n      <td>0.05</td>\n      <td>sorted_selection_part</td>\n      <td>1</td>\n      <td>0</td>\n      <td>14</td>\n      <td>Baseline</td>\n      <td>0</td>\n      <td>Run3</td>\n      <td>0.998004</td>\n    </tr>\n    <tr>\n      <th>3</th>\n      <td>1000000</td>\n      <td>0.03</td>\n      <td>200</td>\n      <td>0.7</td>\n      <td>Normal</td>\n      <td>Probabilistic_crossover</td>\n      <td>0.5</td>\n      <td>Uniform</td>\n      <td>0.05</td>\n      <td>0.0001</td>\n      <td>100</td>\n      <td>0.05</td>\n      <td>sorted_selection_part</td>\n      <td>1</td>\n      <td>0</td>\n      <td>14</td>\n      <td>Baseline</td>\n      <td>0</td>\n      <td>Run4</td>\n      <td>0.998004</td>\n    </tr>\n    <tr>\n      <th>4</th>\n      <td>1000000</td>\n      <td>0.03</td>\n      <td>200</td>\n      <td>0.7</td>\n      <td>Normal</td>\n      <td>Probabilistic_crossover</td>\n      <td>0.5</td>\n      <td>Uniform</td>\n      <td>0.05</td>\n      <td>0.0001</td>\n      <td>100</td>\n      <td>0.05</td>\n      <td>sorted_selection_part</td>\n      <td>1</td>\n      <td>0</td>\n      <td>14</td>\n      <td>Baseline</td>\n      <td>0</td>\n      <td>Run5</td>\n      <td>0.998004</td>\n    </tr>\n  </tbody>\n</table>\n</div>"
     },
     "execution_count": 2,
     "metadata": {},
     "output_type": "execute_result"
    }
   ],
   "source": [
    "# read df\n",
    "import pandas as pd\n",
    "df = pd.read_csv('./df.csv', index_col=0)\n",
    "df.head()"
   ]
  },
  {
   "cell_type": "code",
   "execution_count": 3,
   "outputs": [
    {
     "data": {
      "text/plain": "['num_generations',\n 'mutation_rate',\n 'num_individuals',\n 'crossover_rate',\n 'mutation_type',\n 'crossover_type',\n 'local_search_rate',\n 'local_search_type',\n 'search_radius',\n 'threshold',\n 'dimensions',\n 'gg',\n 'selection_method',\n 'length_of_local_search',\n 'redo_local_search_rate',\n 'fitness_function',\n 'algorithm',\n 'pm_index',\n 'Run',\n 'fitness']"
     },
     "execution_count": 3,
     "metadata": {},
     "output_type": "execute_result"
    }
   ],
   "source": [
    "df.columns.tolist()"
   ],
   "metadata": {
    "collapsed": false
   }
  },
  {
   "cell_type": "code",
   "execution_count": 4,
   "outputs": [
    {
     "data": {
      "text/plain": "['num_generations',\n 'mutation_rate',\n 'num_individuals',\n 'crossover_rate',\n 'mutation_type',\n 'crossover_type',\n 'local_search_rate',\n 'local_search_type',\n 'search_radius',\n 'threshold',\n 'dimensions',\n 'gg',\n 'selection_method',\n 'length_of_local_search',\n 'redo_local_search_rate']"
     },
     "execution_count": 4,
     "metadata": {},
     "output_type": "execute_result"
    }
   ],
   "source": [
    "# drop fitness_function, algorithm, and pm_index, fitness\n",
    "df = df.drop(['fitness_function', 'algorithm', 'pm_index', 'fitness',\"Run\"], axis=1)\n",
    "df.columns.tolist()"
   ],
   "metadata": {
    "collapsed": false
   }
  },
  {
   "cell_type": "code",
   "execution_count": 5,
   "outputs": [
    {
     "name": "stdout",
     "output_type": "stream",
     "text": [
      "(4, 15)\n"
     ]
    }
   ],
   "source": [
    "# get unique rows\n",
    "df = df.drop_duplicates()\n",
    "print(df.shape)"
   ],
   "metadata": {
    "collapsed": false
   }
  },
  {
   "cell_type": "code",
   "execution_count": 6,
   "outputs": [
    {
     "name": "stdout",
     "output_type": "stream",
     "text": [
      "     num_generations  mutation_rate  num_individuals  crossover_rate  \\\n",
      "0            1000000           0.03              200             0.7   \n",
      "300          1000000           0.03              100             0.7   \n",
      "0            1000000           0.03              200             0.6   \n",
      "300          1000000           0.03              100             0.6   \n",
      "\n",
      "    mutation_type           crossover_type  local_search_rate  \\\n",
      "0          Normal  Probabilistic_crossover                0.5   \n",
      "300        Normal  Probabilistic_crossover                0.5   \n",
      "0          Normal  Probabilistic_crossover                0.5   \n",
      "300        Normal  Probabilistic_crossover                0.5   \n",
      "\n",
      "    local_search_type  search_radius  threshold  dimensions    gg  \\\n",
      "0             Uniform           0.05     0.0001         100  0.05   \n",
      "300           Uniform           0.05     0.0001         100  0.05   \n",
      "0             Uniform           0.05     0.0001         100  0.05   \n",
      "300           Uniform           0.05     0.0001         100  0.05   \n",
      "\n",
      "          selection_method  length_of_local_search  redo_local_search_rate  \n",
      "0    sorted_selection_part                       1                       0  \n",
      "300  sorted_selection_part                       1                       0  \n",
      "0    sorted_selection_part                       4                       0  \n",
      "300  sorted_selection_part                       4                       0  \n"
     ]
    }
   ],
   "source": [
    "print(df)"
   ],
   "metadata": {
    "collapsed": false
   }
  },
  {
   "cell_type": "code",
   "execution_count": 8,
   "outputs": [],
   "source": [
    "df.to_csv('./pm_table.csv')"
   ],
   "metadata": {
    "collapsed": false
   }
  },
  {
   "cell_type": "code",
   "execution_count": null,
   "outputs": [],
   "source": [],
   "metadata": {
    "collapsed": false
   }
  }
 ],
 "metadata": {
  "kernelspec": {
   "display_name": "Python 3",
   "language": "python",
   "name": "python3"
  },
  "language_info": {
   "codemirror_mode": {
    "name": "ipython",
    "version": 2
   },
   "file_extension": ".py",
   "mimetype": "text/x-python",
   "name": "python",
   "nbconvert_exporter": "python",
   "pygments_lexer": "ipython2",
   "version": "2.7.6"
  }
 },
 "nbformat": 4,
 "nbformat_minor": 0
}
