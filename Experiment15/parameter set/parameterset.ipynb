{
 "cells": [
  {
   "cell_type": "code",
   "execution_count": 81,
   "metadata": {
    "collapsed": true
   },
   "outputs": [
    {
     "data": {
      "text/plain": "     iterations  mutation_rate  num_individuals  crossover_probability  \\\n590     1000000            2.0              100                    0.5   \n593     1000000            2.0              100                    0.5   \n579     1000000            1.0              200                    0.6   \n588     1000000            2.0              100                    0.6   \n589     1000000            2.0              100                    0.7   \n591     1000000            2.0              100                    0.6   \n576     1000000            1.0              200                    0.6   \n587     1000000            2.0              100                    0.5   \n569     1000000            1.0              200                    0.5   \n558     1000000            1.0              100                    0.6   \n592     1000000            2.0              100                    0.7   \n572     1000000            1.0              200                    0.5   \n594     1000000            2.0              100                    0.6   \n542     1000000            0.5              200                    0.5   \n570     1000000            1.0              200                    0.6   \n562     1000000            1.0              100                    0.7   \n575     1000000            1.0              200                    0.5   \n573     1000000            1.0              200                    0.6   \n552     1000000            1.0              100                    0.6   \n555     1000000            1.0              100                    0.6   \n\n    Mutation_type           Crossover_type  local_search_rate  \\\n590        Normal  Probabilistic_crossover                0.5   \n593        Normal  Probabilistic_crossover                0.5   \n579        Normal  Probabilistic_crossover                0.5   \n588        Normal  Probabilistic_crossover                0.5   \n589        Normal  Probabilistic_crossover                0.5   \n591        Normal  Probabilistic_crossover                0.5   \n576        Normal  Probabilistic_crossover                0.5   \n587        Normal  Probabilistic_crossover                0.5   \n569        Normal  Probabilistic_crossover                0.5   \n558        Normal  Probabilistic_crossover                0.5   \n592        Normal  Probabilistic_crossover                0.5   \n572        Normal  Probabilistic_crossover                0.5   \n594        Normal  Probabilistic_crossover                0.5   \n542        Normal  Probabilistic_crossover                0.5   \n570        Normal  Probabilistic_crossover                0.5   \n562        Normal  Probabilistic_crossover                0.5   \n575        Normal  Probabilistic_crossover                0.5   \n573        Normal  Probabilistic_crossover                0.5   \n552        Normal  Probabilistic_crossover                0.5   \n555        Normal  Probabilistic_crossover                0.5   \n\n    Local_search_type    R  \n590           Uniform  0.1  \n593           Uniform  0.1  \n579           Uniform  0.1  \n588           Uniform  0.1  \n589           Uniform  0.1  \n591           Uniform  0.1  \n576           Uniform  0.1  \n587           Uniform  0.1  \n569           Uniform  0.1  \n558           Uniform  0.1  \n592           Uniform  0.1  \n572           Uniform  0.1  \n594           Uniform  0.1  \n542           Uniform  0.1  \n570           Uniform  0.1  \n562           Uniform  0.1  \n575           Uniform  0.1  \n573           Uniform  0.1  \n552           Uniform  0.1  \n555           Uniform  0.1  ",
      "text/html": "<div>\n<style scoped>\n    .dataframe tbody tr th:only-of-type {\n        vertical-align: middle;\n    }\n\n    .dataframe tbody tr th {\n        vertical-align: top;\n    }\n\n    .dataframe thead th {\n        text-align: right;\n    }\n</style>\n<table border=\"1\" class=\"dataframe\">\n  <thead>\n    <tr style=\"text-align: right;\">\n      <th></th>\n      <th>iterations</th>\n      <th>mutation_rate</th>\n      <th>num_individuals</th>\n      <th>crossover_probability</th>\n      <th>Mutation_type</th>\n      <th>Crossover_type</th>\n      <th>local_search_rate</th>\n      <th>Local_search_type</th>\n      <th>R</th>\n    </tr>\n  </thead>\n  <tbody>\n    <tr>\n      <th>590</th>\n      <td>1000000</td>\n      <td>2.0</td>\n      <td>100</td>\n      <td>0.5</td>\n      <td>Normal</td>\n      <td>Probabilistic_crossover</td>\n      <td>0.5</td>\n      <td>Uniform</td>\n      <td>0.1</td>\n    </tr>\n    <tr>\n      <th>593</th>\n      <td>1000000</td>\n      <td>2.0</td>\n      <td>100</td>\n      <td>0.5</td>\n      <td>Normal</td>\n      <td>Probabilistic_crossover</td>\n      <td>0.5</td>\n      <td>Uniform</td>\n      <td>0.1</td>\n    </tr>\n    <tr>\n      <th>579</th>\n      <td>1000000</td>\n      <td>1.0</td>\n      <td>200</td>\n      <td>0.6</td>\n      <td>Normal</td>\n      <td>Probabilistic_crossover</td>\n      <td>0.5</td>\n      <td>Uniform</td>\n      <td>0.1</td>\n    </tr>\n    <tr>\n      <th>588</th>\n      <td>1000000</td>\n      <td>2.0</td>\n      <td>100</td>\n      <td>0.6</td>\n      <td>Normal</td>\n      <td>Probabilistic_crossover</td>\n      <td>0.5</td>\n      <td>Uniform</td>\n      <td>0.1</td>\n    </tr>\n    <tr>\n      <th>589</th>\n      <td>1000000</td>\n      <td>2.0</td>\n      <td>100</td>\n      <td>0.7</td>\n      <td>Normal</td>\n      <td>Probabilistic_crossover</td>\n      <td>0.5</td>\n      <td>Uniform</td>\n      <td>0.1</td>\n    </tr>\n    <tr>\n      <th>591</th>\n      <td>1000000</td>\n      <td>2.0</td>\n      <td>100</td>\n      <td>0.6</td>\n      <td>Normal</td>\n      <td>Probabilistic_crossover</td>\n      <td>0.5</td>\n      <td>Uniform</td>\n      <td>0.1</td>\n    </tr>\n    <tr>\n      <th>576</th>\n      <td>1000000</td>\n      <td>1.0</td>\n      <td>200</td>\n      <td>0.6</td>\n      <td>Normal</td>\n      <td>Probabilistic_crossover</td>\n      <td>0.5</td>\n      <td>Uniform</td>\n      <td>0.1</td>\n    </tr>\n    <tr>\n      <th>587</th>\n      <td>1000000</td>\n      <td>2.0</td>\n      <td>100</td>\n      <td>0.5</td>\n      <td>Normal</td>\n      <td>Probabilistic_crossover</td>\n      <td>0.5</td>\n      <td>Uniform</td>\n      <td>0.1</td>\n    </tr>\n    <tr>\n      <th>569</th>\n      <td>1000000</td>\n      <td>1.0</td>\n      <td>200</td>\n      <td>0.5</td>\n      <td>Normal</td>\n      <td>Probabilistic_crossover</td>\n      <td>0.5</td>\n      <td>Uniform</td>\n      <td>0.1</td>\n    </tr>\n    <tr>\n      <th>558</th>\n      <td>1000000</td>\n      <td>1.0</td>\n      <td>100</td>\n      <td>0.6</td>\n      <td>Normal</td>\n      <td>Probabilistic_crossover</td>\n      <td>0.5</td>\n      <td>Uniform</td>\n      <td>0.1</td>\n    </tr>\n    <tr>\n      <th>592</th>\n      <td>1000000</td>\n      <td>2.0</td>\n      <td>100</td>\n      <td>0.7</td>\n      <td>Normal</td>\n      <td>Probabilistic_crossover</td>\n      <td>0.5</td>\n      <td>Uniform</td>\n      <td>0.1</td>\n    </tr>\n    <tr>\n      <th>572</th>\n      <td>1000000</td>\n      <td>1.0</td>\n      <td>200</td>\n      <td>0.5</td>\n      <td>Normal</td>\n      <td>Probabilistic_crossover</td>\n      <td>0.5</td>\n      <td>Uniform</td>\n      <td>0.1</td>\n    </tr>\n    <tr>\n      <th>594</th>\n      <td>1000000</td>\n      <td>2.0</td>\n      <td>100</td>\n      <td>0.6</td>\n      <td>Normal</td>\n      <td>Probabilistic_crossover</td>\n      <td>0.5</td>\n      <td>Uniform</td>\n      <td>0.1</td>\n    </tr>\n    <tr>\n      <th>542</th>\n      <td>1000000</td>\n      <td>0.5</td>\n      <td>200</td>\n      <td>0.5</td>\n      <td>Normal</td>\n      <td>Probabilistic_crossover</td>\n      <td>0.5</td>\n      <td>Uniform</td>\n      <td>0.1</td>\n    </tr>\n    <tr>\n      <th>570</th>\n      <td>1000000</td>\n      <td>1.0</td>\n      <td>200</td>\n      <td>0.6</td>\n      <td>Normal</td>\n      <td>Probabilistic_crossover</td>\n      <td>0.5</td>\n      <td>Uniform</td>\n      <td>0.1</td>\n    </tr>\n    <tr>\n      <th>562</th>\n      <td>1000000</td>\n      <td>1.0</td>\n      <td>100</td>\n      <td>0.7</td>\n      <td>Normal</td>\n      <td>Probabilistic_crossover</td>\n      <td>0.5</td>\n      <td>Uniform</td>\n      <td>0.1</td>\n    </tr>\n    <tr>\n      <th>575</th>\n      <td>1000000</td>\n      <td>1.0</td>\n      <td>200</td>\n      <td>0.5</td>\n      <td>Normal</td>\n      <td>Probabilistic_crossover</td>\n      <td>0.5</td>\n      <td>Uniform</td>\n      <td>0.1</td>\n    </tr>\n    <tr>\n      <th>573</th>\n      <td>1000000</td>\n      <td>1.0</td>\n      <td>200</td>\n      <td>0.6</td>\n      <td>Normal</td>\n      <td>Probabilistic_crossover</td>\n      <td>0.5</td>\n      <td>Uniform</td>\n      <td>0.1</td>\n    </tr>\n    <tr>\n      <th>552</th>\n      <td>1000000</td>\n      <td>1.0</td>\n      <td>100</td>\n      <td>0.6</td>\n      <td>Normal</td>\n      <td>Probabilistic_crossover</td>\n      <td>0.5</td>\n      <td>Uniform</td>\n      <td>0.1</td>\n    </tr>\n    <tr>\n      <th>555</th>\n      <td>1000000</td>\n      <td>1.0</td>\n      <td>100</td>\n      <td>0.6</td>\n      <td>Normal</td>\n      <td>Probabilistic_crossover</td>\n      <td>0.5</td>\n      <td>Uniform</td>\n      <td>0.1</td>\n    </tr>\n  </tbody>\n</table>\n</div>"
     },
     "metadata": {},
     "output_type": "display_data"
    }
   ],
   "source": [
    "import pandas as pd\n",
    "oldset=pd.read_csv(\"./best_20com_9pm.csv\",header=0,index_col=[0])\n",
    "display(oldset)"
   ]
  },
  {
   "cell_type": "code",
   "execution_count": 82,
   "outputs": [
    {
     "data": {
      "text/plain": "['iterations',\n 'mutation_rate',\n 'num_individuals',\n 'crossover_probability',\n 'Mutation_type',\n 'Crossover_type',\n 'local_search_rate',\n 'Local_search_type',\n 'R']"
     },
     "execution_count": 82,
     "metadata": {},
     "output_type": "execute_result"
    }
   ],
   "source": [
    "oldset.columns.tolist()"
   ],
   "metadata": {
    "collapsed": false
   }
  },
  {
   "cell_type": "code",
   "execution_count": 83,
   "outputs": [
    {
     "name": "stdout",
     "output_type": "stream",
     "text": [
      "Index(['num_generations', 'mutation_rate', 'num_individuals', 'crossover_rate',\n",
      "       'mutation_type', 'crossover_type', 'local_search_rate',\n",
      "       'local_search_type', 'search_radius'],\n",
      "      dtype='object')\n"
     ]
    }
   ],
   "source": [
    "oldset.rename(columns={'iterations':'num_generations','mutation_rate':'mutation_rate','num_individuals':'num_individuals','crossover_probability':'crossover_rate','Mutation_type':'mutation_type','Crossover_type':'crossover_type','local_search_rate':'local_search_rate','Local_search_type':'local_search_type','R':'search_radius'},inplace = True)\n",
    "print(oldset.columns)"
   ],
   "metadata": {
    "collapsed": false
   }
  },
  {
   "cell_type": "code",
   "execution_count": 84,
   "outputs": [
    {
     "data": {
      "text/plain": "       num_generations  mutation_rate  num_individuals  crossover_rate  \\\n18807             2000            0.2              200             0.8   \n23154             2000            0.2              200             0.8   \n52431             2000            0.8              200             0.8   \n56946             2000            0.8              200             0.8   \n28431             2000            0.2              200             0.8   \n23562             2000            0.2              200             0.8   \n57207             2000            0.8              200             0.8   \n23271             2000            0.2              200             0.8   \n57231             2000            0.8              200             0.8   \n47583             2000            0.8              200             0.8   \n52647             2000            0.8              200             0.8   \n23106             2000            0.2              200             0.8   \n23994             2000            0.2              200             0.8   \n8994              2000            0.2              200             0.2   \n51930             2000            0.8              200             0.8   \n8991              2000            0.2              200             0.2   \n19071             2000            0.2              200             0.8   \n9354              2000            0.2              200             0.2   \n52119             2000            0.8              200             0.8   \n56994             2000            0.8              200             0.8   \n\n         mutation_type crossover_type  local_search_rate local_search_type  \\\n18807          uniform        average                0.8           uniform   \n23154         gaussian        average                0.2           uniform   \n52431         gaussian        average                0.8           uniform   \n56946  frequency_based        average                0.2          gaussian   \n28431  frequency_based        average                0.8           uniform   \n23562         gaussian        average                0.8           uniform   \n57207  frequency_based        average                0.8           uniform   \n23271         gaussian        average                0.2           uniform   \n57231  frequency_based        average                0.8           uniform   \n47583          uniform        average                0.8           uniform   \n52647         gaussian        average                0.8          gaussian   \n23106         gaussian        average                0.2           uniform   \n23994         gaussian        average                0.8          gaussian   \n8994          gaussian        average                0.2          gaussian   \n51930         gaussian        average                0.2           uniform   \n8991          gaussian        average                0.2          gaussian   \n19071          uniform        average                0.8          gaussian   \n9354          gaussian        average                0.8           uniform   \n52119         gaussian        average                0.2          gaussian   \n56994  frequency_based        average                0.2          gaussian   \n\n       search_radius  num_evaluations  threshold    gg  dimensions  \\\n18807           0.01             2000     0.0001  0.80         400   \n23154           0.01             2000     0.0001  0.99         400   \n52431           0.01             2000     0.0001  0.99         400   \n56946           0.01             2000     0.0001  0.50         400   \n28431           0.01             2000     0.0001  0.99         400   \n23562           0.01             2000     0.0001  0.20         400   \n57207           0.01             2000     0.0001  0.80         400   \n23271           0.10             2000     0.0001  0.99         400   \n57231           0.01             2000     0.0001  0.99         400   \n47583           0.01             2000     0.0001  0.50         400   \n52647           0.01             2000     0.0001  0.80         400   \n23106           0.01             2000     0.0001  0.50         400   \n23994           0.10             2000     0.0001  0.99         400   \n8994            0.01             2000     0.0001  0.99         400   \n51930           0.01             2000     0.0001  0.80         400   \n8991            0.01             2000     0.0001  0.99         400   \n19071           0.01             2000     0.0001  0.99         400   \n9354            0.10             2000     0.0001  0.99         400   \n52119           0.01             2000     0.0001  0.20         400   \n56994           0.01             2000     0.0001  0.99         400   \n\n            selection_method algorithm  \n18807  sorted_selection_part  Baseline  \n23154   sorted_selection_all  Baseline  \n52431  sorted_selection_part  Baseline  \n56946   sorted_selection_all  Baseline  \n28431  sorted_selection_part  Baseline  \n23562   sorted_selection_all  Baseline  \n57207  sorted_selection_part  Baseline  \n23271  sorted_selection_part  Baseline  \n57231  sorted_selection_part  Baseline  \n47583  sorted_selection_part  Baseline  \n52647  sorted_selection_part  Baseline  \n23106   sorted_selection_all  Baseline  \n23994   sorted_selection_all  Baseline  \n8994    sorted_selection_all  Baseline  \n51930   sorted_selection_all  Baseline  \n8991   sorted_selection_part  Baseline  \n19071  sorted_selection_part  Baseline  \n9354    sorted_selection_all  Baseline  \n52119  sorted_selection_part  Baseline  \n56994   sorted_selection_all  Baseline  ",
      "text/html": "<div>\n<style scoped>\n    .dataframe tbody tr th:only-of-type {\n        vertical-align: middle;\n    }\n\n    .dataframe tbody tr th {\n        vertical-align: top;\n    }\n\n    .dataframe thead th {\n        text-align: right;\n    }\n</style>\n<table border=\"1\" class=\"dataframe\">\n  <thead>\n    <tr style=\"text-align: right;\">\n      <th></th>\n      <th>num_generations</th>\n      <th>mutation_rate</th>\n      <th>num_individuals</th>\n      <th>crossover_rate</th>\n      <th>mutation_type</th>\n      <th>crossover_type</th>\n      <th>local_search_rate</th>\n      <th>local_search_type</th>\n      <th>search_radius</th>\n      <th>num_evaluations</th>\n      <th>threshold</th>\n      <th>gg</th>\n      <th>dimensions</th>\n      <th>selection_method</th>\n      <th>algorithm</th>\n    </tr>\n  </thead>\n  <tbody>\n    <tr>\n      <th>18807</th>\n      <td>2000</td>\n      <td>0.2</td>\n      <td>200</td>\n      <td>0.8</td>\n      <td>uniform</td>\n      <td>average</td>\n      <td>0.8</td>\n      <td>uniform</td>\n      <td>0.01</td>\n      <td>2000</td>\n      <td>0.0001</td>\n      <td>0.80</td>\n      <td>400</td>\n      <td>sorted_selection_part</td>\n      <td>Baseline</td>\n    </tr>\n    <tr>\n      <th>23154</th>\n      <td>2000</td>\n      <td>0.2</td>\n      <td>200</td>\n      <td>0.8</td>\n      <td>gaussian</td>\n      <td>average</td>\n      <td>0.2</td>\n      <td>uniform</td>\n      <td>0.01</td>\n      <td>2000</td>\n      <td>0.0001</td>\n      <td>0.99</td>\n      <td>400</td>\n      <td>sorted_selection_all</td>\n      <td>Baseline</td>\n    </tr>\n    <tr>\n      <th>52431</th>\n      <td>2000</td>\n      <td>0.8</td>\n      <td>200</td>\n      <td>0.8</td>\n      <td>gaussian</td>\n      <td>average</td>\n      <td>0.8</td>\n      <td>uniform</td>\n      <td>0.01</td>\n      <td>2000</td>\n      <td>0.0001</td>\n      <td>0.99</td>\n      <td>400</td>\n      <td>sorted_selection_part</td>\n      <td>Baseline</td>\n    </tr>\n    <tr>\n      <th>56946</th>\n      <td>2000</td>\n      <td>0.8</td>\n      <td>200</td>\n      <td>0.8</td>\n      <td>frequency_based</td>\n      <td>average</td>\n      <td>0.2</td>\n      <td>gaussian</td>\n      <td>0.01</td>\n      <td>2000</td>\n      <td>0.0001</td>\n      <td>0.50</td>\n      <td>400</td>\n      <td>sorted_selection_all</td>\n      <td>Baseline</td>\n    </tr>\n    <tr>\n      <th>28431</th>\n      <td>2000</td>\n      <td>0.2</td>\n      <td>200</td>\n      <td>0.8</td>\n      <td>frequency_based</td>\n      <td>average</td>\n      <td>0.8</td>\n      <td>uniform</td>\n      <td>0.01</td>\n      <td>2000</td>\n      <td>0.0001</td>\n      <td>0.99</td>\n      <td>400</td>\n      <td>sorted_selection_part</td>\n      <td>Baseline</td>\n    </tr>\n    <tr>\n      <th>23562</th>\n      <td>2000</td>\n      <td>0.2</td>\n      <td>200</td>\n      <td>0.8</td>\n      <td>gaussian</td>\n      <td>average</td>\n      <td>0.8</td>\n      <td>uniform</td>\n      <td>0.01</td>\n      <td>2000</td>\n      <td>0.0001</td>\n      <td>0.20</td>\n      <td>400</td>\n      <td>sorted_selection_all</td>\n      <td>Baseline</td>\n    </tr>\n    <tr>\n      <th>57207</th>\n      <td>2000</td>\n      <td>0.8</td>\n      <td>200</td>\n      <td>0.8</td>\n      <td>frequency_based</td>\n      <td>average</td>\n      <td>0.8</td>\n      <td>uniform</td>\n      <td>0.01</td>\n      <td>2000</td>\n      <td>0.0001</td>\n      <td>0.80</td>\n      <td>400</td>\n      <td>sorted_selection_part</td>\n      <td>Baseline</td>\n    </tr>\n    <tr>\n      <th>23271</th>\n      <td>2000</td>\n      <td>0.2</td>\n      <td>200</td>\n      <td>0.8</td>\n      <td>gaussian</td>\n      <td>average</td>\n      <td>0.2</td>\n      <td>uniform</td>\n      <td>0.10</td>\n      <td>2000</td>\n      <td>0.0001</td>\n      <td>0.99</td>\n      <td>400</td>\n      <td>sorted_selection_part</td>\n      <td>Baseline</td>\n    </tr>\n    <tr>\n      <th>57231</th>\n      <td>2000</td>\n      <td>0.8</td>\n      <td>200</td>\n      <td>0.8</td>\n      <td>frequency_based</td>\n      <td>average</td>\n      <td>0.8</td>\n      <td>uniform</td>\n      <td>0.01</td>\n      <td>2000</td>\n      <td>0.0001</td>\n      <td>0.99</td>\n      <td>400</td>\n      <td>sorted_selection_part</td>\n      <td>Baseline</td>\n    </tr>\n    <tr>\n      <th>47583</th>\n      <td>2000</td>\n      <td>0.8</td>\n      <td>200</td>\n      <td>0.8</td>\n      <td>uniform</td>\n      <td>average</td>\n      <td>0.8</td>\n      <td>uniform</td>\n      <td>0.01</td>\n      <td>2000</td>\n      <td>0.0001</td>\n      <td>0.50</td>\n      <td>400</td>\n      <td>sorted_selection_part</td>\n      <td>Baseline</td>\n    </tr>\n    <tr>\n      <th>52647</th>\n      <td>2000</td>\n      <td>0.8</td>\n      <td>200</td>\n      <td>0.8</td>\n      <td>gaussian</td>\n      <td>average</td>\n      <td>0.8</td>\n      <td>gaussian</td>\n      <td>0.01</td>\n      <td>2000</td>\n      <td>0.0001</td>\n      <td>0.80</td>\n      <td>400</td>\n      <td>sorted_selection_part</td>\n      <td>Baseline</td>\n    </tr>\n    <tr>\n      <th>23106</th>\n      <td>2000</td>\n      <td>0.2</td>\n      <td>200</td>\n      <td>0.8</td>\n      <td>gaussian</td>\n      <td>average</td>\n      <td>0.2</td>\n      <td>uniform</td>\n      <td>0.01</td>\n      <td>2000</td>\n      <td>0.0001</td>\n      <td>0.50</td>\n      <td>400</td>\n      <td>sorted_selection_all</td>\n      <td>Baseline</td>\n    </tr>\n    <tr>\n      <th>23994</th>\n      <td>2000</td>\n      <td>0.2</td>\n      <td>200</td>\n      <td>0.8</td>\n      <td>gaussian</td>\n      <td>average</td>\n      <td>0.8</td>\n      <td>gaussian</td>\n      <td>0.10</td>\n      <td>2000</td>\n      <td>0.0001</td>\n      <td>0.99</td>\n      <td>400</td>\n      <td>sorted_selection_all</td>\n      <td>Baseline</td>\n    </tr>\n    <tr>\n      <th>8994</th>\n      <td>2000</td>\n      <td>0.2</td>\n      <td>200</td>\n      <td>0.2</td>\n      <td>gaussian</td>\n      <td>average</td>\n      <td>0.2</td>\n      <td>gaussian</td>\n      <td>0.01</td>\n      <td>2000</td>\n      <td>0.0001</td>\n      <td>0.99</td>\n      <td>400</td>\n      <td>sorted_selection_all</td>\n      <td>Baseline</td>\n    </tr>\n    <tr>\n      <th>51930</th>\n      <td>2000</td>\n      <td>0.8</td>\n      <td>200</td>\n      <td>0.8</td>\n      <td>gaussian</td>\n      <td>average</td>\n      <td>0.2</td>\n      <td>uniform</td>\n      <td>0.01</td>\n      <td>2000</td>\n      <td>0.0001</td>\n      <td>0.80</td>\n      <td>400</td>\n      <td>sorted_selection_all</td>\n      <td>Baseline</td>\n    </tr>\n    <tr>\n      <th>8991</th>\n      <td>2000</td>\n      <td>0.2</td>\n      <td>200</td>\n      <td>0.2</td>\n      <td>gaussian</td>\n      <td>average</td>\n      <td>0.2</td>\n      <td>gaussian</td>\n      <td>0.01</td>\n      <td>2000</td>\n      <td>0.0001</td>\n      <td>0.99</td>\n      <td>400</td>\n      <td>sorted_selection_part</td>\n      <td>Baseline</td>\n    </tr>\n    <tr>\n      <th>19071</th>\n      <td>2000</td>\n      <td>0.2</td>\n      <td>200</td>\n      <td>0.8</td>\n      <td>uniform</td>\n      <td>average</td>\n      <td>0.8</td>\n      <td>gaussian</td>\n      <td>0.01</td>\n      <td>2000</td>\n      <td>0.0001</td>\n      <td>0.99</td>\n      <td>400</td>\n      <td>sorted_selection_part</td>\n      <td>Baseline</td>\n    </tr>\n    <tr>\n      <th>9354</th>\n      <td>2000</td>\n      <td>0.2</td>\n      <td>200</td>\n      <td>0.2</td>\n      <td>gaussian</td>\n      <td>average</td>\n      <td>0.8</td>\n      <td>uniform</td>\n      <td>0.10</td>\n      <td>2000</td>\n      <td>0.0001</td>\n      <td>0.99</td>\n      <td>400</td>\n      <td>sorted_selection_all</td>\n      <td>Baseline</td>\n    </tr>\n    <tr>\n      <th>52119</th>\n      <td>2000</td>\n      <td>0.8</td>\n      <td>200</td>\n      <td>0.8</td>\n      <td>gaussian</td>\n      <td>average</td>\n      <td>0.2</td>\n      <td>gaussian</td>\n      <td>0.01</td>\n      <td>2000</td>\n      <td>0.0001</td>\n      <td>0.20</td>\n      <td>400</td>\n      <td>sorted_selection_part</td>\n      <td>Baseline</td>\n    </tr>\n    <tr>\n      <th>56994</th>\n      <td>2000</td>\n      <td>0.8</td>\n      <td>200</td>\n      <td>0.8</td>\n      <td>frequency_based</td>\n      <td>average</td>\n      <td>0.2</td>\n      <td>gaussian</td>\n      <td>0.01</td>\n      <td>2000</td>\n      <td>0.0001</td>\n      <td>0.99</td>\n      <td>400</td>\n      <td>sorted_selection_all</td>\n      <td>Baseline</td>\n    </tr>\n  </tbody>\n</table>\n</div>"
     },
     "metadata": {},
     "output_type": "display_data"
    }
   ],
   "source": [
    "newset=pd.read_csv(\"./best_20_baseline.csv\",header=0,index_col=[0])\n",
    "display(newset)"
   ],
   "metadata": {
    "collapsed": false
   }
  },
  {
   "cell_type": "code",
   "execution_count": 85,
   "outputs": [
    {
     "data": {
      "text/plain": "['num_generations',\n 'mutation_rate',\n 'num_individuals',\n 'crossover_rate',\n 'mutation_type',\n 'crossover_type',\n 'local_search_rate',\n 'local_search_type',\n 'search_radius',\n 'num_evaluations',\n 'threshold',\n 'gg',\n 'dimensions',\n 'selection_method',\n 'algorithm']"
     },
     "execution_count": 85,
     "metadata": {},
     "output_type": "execute_result"
    }
   ],
   "source": [
    "newset.columns.tolist()"
   ],
   "metadata": {
    "collapsed": false
   }
  },
  {
   "cell_type": "code",
   "execution_count": 86,
   "outputs": [
    {
     "name": "stdout",
     "output_type": "stream",
     "text": [
      "     num_generations  mutation_rate  num_individuals  crossover_rate  \\\n",
      "590          1000000           0.04              100             0.5   \n",
      "579          1000000           0.02              200             0.6   \n",
      "588          1000000           0.04              100             0.6   \n",
      "589          1000000           0.04              100             0.7   \n",
      "569          1000000           0.02              200             0.5   \n",
      "558          1000000           0.02              100             0.6   \n",
      "542          1000000           0.01              200             0.5   \n",
      "562          1000000           0.02              100             0.7   \n",
      "\n",
      "    mutation_type           crossover_type  local_search_rate  \\\n",
      "590        Normal  Probabilistic_crossover                0.5   \n",
      "579        Normal  Probabilistic_crossover                0.5   \n",
      "588        Normal  Probabilistic_crossover                0.5   \n",
      "589        Normal  Probabilistic_crossover                0.5   \n",
      "569        Normal  Probabilistic_crossover                0.5   \n",
      "558        Normal  Probabilistic_crossover                0.5   \n",
      "542        Normal  Probabilistic_crossover                0.5   \n",
      "562        Normal  Probabilistic_crossover                0.5   \n",
      "\n",
      "    local_search_type  search_radius  threshold  dimensions  \n",
      "590           Uniform            0.1     0.0001         100  \n",
      "579           Uniform            0.1     0.0001         100  \n",
      "588           Uniform            0.1     0.0001         100  \n",
      "589           Uniform            0.1     0.0001         100  \n",
      "569           Uniform            0.1     0.0001         100  \n",
      "558           Uniform            0.1     0.0001         100  \n",
      "542           Uniform            0.1     0.0001         100  \n",
      "562           Uniform            0.1     0.0001         100  \n"
     ]
    }
   ],
   "source": [
    "oldset['threshold']=0.0001\n",
    "oldset['dimensions']=100\n",
    "oldset['mutation_rate']=oldset['mutation_rate']/50\n",
    "oldset=oldset.drop_duplicates()\n",
    "print(oldset)"
   ],
   "metadata": {
    "collapsed": false
   }
  },
  {
   "cell_type": "code",
   "execution_count": 87,
   "outputs": [],
   "source": [
    "oldset.to_csv(\"fixed_parameters.csv\",header=True,index=True)"
   ],
   "metadata": {
    "collapsed": false
   }
  },
  {
   "cell_type": "code",
   "execution_count": 87,
   "outputs": [],
   "source": [],
   "metadata": {
    "collapsed": false
   }
  }
 ],
 "metadata": {
  "kernelspec": {
   "display_name": "Python 3",
   "language": "python",
   "name": "python3"
  },
  "language_info": {
   "codemirror_mode": {
    "name": "ipython",
    "version": 2
   },
   "file_extension": ".py",
   "mimetype": "text/x-python",
   "name": "python",
   "nbconvert_exporter": "python",
   "pygments_lexer": "ipython2",
   "version": "2.7.6"
  }
 },
 "nbformat": 4,
 "nbformat_minor": 0
}
