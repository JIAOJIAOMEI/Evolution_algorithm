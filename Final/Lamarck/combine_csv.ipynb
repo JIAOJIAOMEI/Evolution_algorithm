{
 "cells": [
  {
   "cell_type": "code",
   "execution_count": 16,
   "metadata": {
    "collapsed": true,
    "pycharm": {
     "name": "#%%\n"
    }
   },
   "outputs": [],
   "source": [
    "import numpy as np\n",
    "import pandas as pd"
   ]
  },
  {
   "cell_type": "code",
   "execution_count": 17,
   "outputs": [
    {
     "name": "stdout",
     "output_type": "stream",
     "text": [
      "[590, 593, 579, 588, 589, 591, 576, 587, 569, 558, 592, 572, 594, 542, 570, 562, 575, 573, 552, 555]\n",
      "Int64Index([590, 593, 579, 588, 589, 591, 576, 587, 569, 558, 592, 572, 594,\n",
      "            542, 570, 562, 575, 573, 552, 555],\n",
      "           dtype='int64')\n",
      "                   590        593        579        588        589        591  \\\n",
      "F1  Times1   2000198.0  2000198.0  2000398.0  2000198.0  2000198.0  2000198.0   \n",
      "    Times2   2000198.0  2000198.0  2000398.0  2000198.0  2000198.0  2000198.0   \n",
      "    Times3   2000198.0  2000198.0  2000398.0  2000198.0  2000198.0  2000198.0   \n",
      "    Times4   2000198.0  2000198.0  2000398.0  2000198.0  2000198.0  2000198.0   \n",
      "    Times5   2000198.0  2000198.0  2000398.0  2000198.0  2000198.0  2000198.0   \n",
      "...                ...        ...        ...        ...        ...        ...   \n",
      "F23 Times6   2000198.0   118436.0   103192.0   103806.0  2000198.0   117790.0   \n",
      "    Times7     97350.0    64666.0   140272.0    66040.0   168342.0    91738.0   \n",
      "    Times8    125634.0    53844.0  2000398.0   134954.0   102210.0    32730.0   \n",
      "    Times9     95450.0    45034.0    61790.0    48258.0    84470.0    76850.0   \n",
      "    Times10    66394.0    65640.0    49044.0    67580.0    64982.0    52082.0   \n",
      "\n",
      "                   576        587        569        558        592        572  \\\n",
      "F1  Times1   2000398.0  2000198.0  2000398.0  2000198.0  2000198.0  2000398.0   \n",
      "    Times2   2000398.0  2000198.0  2000398.0  2000198.0  2000198.0  2000398.0   \n",
      "    Times3   2000398.0  2000198.0  2000398.0  2000198.0  2000198.0  2000398.0   \n",
      "    Times4   2000398.0  2000198.0  2000398.0  2000198.0  2000198.0  2000398.0   \n",
      "    Times5   2000398.0  2000198.0  2000398.0  2000198.0  2000198.0  2000398.0   \n",
      "...                ...        ...        ...        ...        ...        ...   \n",
      "F23 Times6     68212.0    22816.0    27424.0    43530.0    54268.0    46208.0   \n",
      "    Times7     60388.0    92952.0    31808.0    88452.0  2000198.0    84054.0   \n",
      "    Times8   2000398.0    92404.0    65574.0    12916.0    38114.0    22918.0   \n",
      "    Times9     27776.0    86820.0    82300.0    71068.0    51744.0    43404.0   \n",
      "    Times10  2000398.0  2000198.0   324586.0    57654.0   163720.0    83078.0   \n",
      "\n",
      "                   594        542        570        562        575        573  \\\n",
      "F1  Times1   2000198.0  2000398.0  2000398.0  2000198.0  2000398.0  2000398.0   \n",
      "    Times2   2000198.0  2000398.0  2000398.0  2000198.0  2000398.0  2000398.0   \n",
      "    Times3   2000198.0  2000398.0  2000398.0  2000198.0  2000398.0  2000398.0   \n",
      "    Times4   2000198.0  2000398.0  2000398.0  2000198.0  2000398.0  2000398.0   \n",
      "    Times5   2000198.0  2000398.0  2000398.0  2000198.0  2000398.0  2000398.0   \n",
      "...                ...        ...        ...        ...        ...        ...   \n",
      "F23 Times6     85964.0    61168.0    55088.0    37636.0  2000398.0    58416.0   \n",
      "    Times7    486688.0   124846.0    43744.0    63198.0    50894.0  2000398.0   \n",
      "    Times8     38706.0    74480.0    42168.0    35400.0    41372.0    17370.0   \n",
      "    Times9     73366.0  2000398.0    45192.0   112690.0    55598.0    35472.0   \n",
      "    Times10    92858.0   352784.0    22698.0    79618.0   127062.0    27594.0   \n",
      "\n",
      "                   552        555  \n",
      "F1  Times1   2000198.0  2000198.0  \n",
      "    Times2   2000198.0  2000198.0  \n",
      "    Times3   2000198.0  2000198.0  \n",
      "    Times4   2000198.0  2000198.0  \n",
      "    Times5   2000198.0  2000198.0  \n",
      "...                ...        ...  \n",
      "F23 Times6   2000198.0    16394.0  \n",
      "    Times7     36092.0    96362.0  \n",
      "    Times8   2000198.0  2000198.0  \n",
      "    Times9     22750.0    79658.0  \n",
      "    Times10    36196.0    49432.0  \n",
      "\n",
      "[230 rows x 20 columns]\n"
     ]
    }
   ],
   "source": [
    "data_pm = pd.read_csv(\"./best_20com_9pm.csv\", header=0, index_col=[0])\n",
    "index = data_pm.index.tolist()\n",
    "print(index)\n",
    "def read_csv(path):\n",
    "    return pd.read_csv(path,index_col=[0,1],header=0)\n",
    "path_budget_list=[\"./budget\"+str(i)+\".csv\" for i in index]\n",
    "df = [read_csv(name) for name in path_budget_list]\n",
    "df = pd.concat(df,axis=1)\n",
    "df.columns = index\n",
    "print(df.columns)\n",
    "print(df)\n",
    "df.to_csv(\"./Lamarck_budget.csv\",header=True,index=True)"
   ],
   "metadata": {
    "collapsed": false,
    "pycharm": {
     "name": "#%%\n"
    }
   }
  },
  {
   "cell_type": "code",
   "execution_count": 18,
   "outputs": [
    {
     "name": "stdout",
     "output_type": "stream",
     "text": [
      "[590, 593, 579, 588, 589, 591, 576, 587, 569, 558, 592, 572, 594, 542, 570, 562, 575, 573, 552, 555]\n",
      "Int64Index([590, 593, 579, 588, 589, 591, 576, 587, 569, 558, 592, 572, 594,\n",
      "            542, 570, 562, 575, 573, 552, 555],\n",
      "           dtype='int64')\n",
      "                   590        593        579        588        589        591  \\\n",
      "F1  Times1    0.002860   0.002471   0.001030   0.002377   0.002108   0.001700   \n",
      "    Times2    0.001824   0.001727   0.001236   0.003462   0.003075   0.002476   \n",
      "    Times3    0.002365   0.002970   0.001647   0.002308   0.002058   0.002677   \n",
      "    Times4    0.002543   0.001552   0.001222   0.001627   0.003379   0.001500   \n",
      "    Times5    0.001582   0.003094   0.001051   0.002270   0.002220   0.001603   \n",
      "...                ...        ...        ...        ...        ...        ...   \n",
      "F23 Times6   -5.128481 -10.536275 -10.536204 -10.536211  -5.175647 -10.536320   \n",
      "    Times7  -10.536327 -10.536247 -10.536257 -10.536290 -10.536232 -10.536286   \n",
      "    Times8  -10.536338 -10.536284  -5.175647 -10.536248 -10.536310 -10.536342   \n",
      "    Times9  -10.536332 -10.536272 -10.536271 -10.536216 -10.536355 -10.536374   \n",
      "    Times10 -10.536385 -10.536224 -10.536212 -10.536300 -10.536269 -10.536327   \n",
      "\n",
      "                   576        587        569        558        592        572  \\\n",
      "F1  Times1    0.001915   0.003252   0.002100   0.001205   0.001068   0.001536   \n",
      "    Times2    0.001016   0.001934   0.000750   0.001414   0.002634   0.001000   \n",
      "    Times3    0.000859   0.001716   0.000601   0.000986   0.002072   0.001357   \n",
      "    Times4    0.001163   0.002618   0.000955   0.001002   0.002696   0.001142   \n",
      "    Times5    0.000877   0.002130   0.001555   0.000927   0.002935   0.002306   \n",
      "...                ...        ...        ...        ...        ...        ...   \n",
      "F23 Times6  -10.536212 -10.536245 -10.536345 -10.536267 -10.536264 -10.536395   \n",
      "    Times7  -10.536383 -10.536212 -10.536240 -10.536333  -5.175647 -10.536230   \n",
      "    Times8   -5.128481 -10.536374 -10.536376 -10.536246 -10.536235 -10.536229   \n",
      "    Times9  -10.536267 -10.536219 -10.536285 -10.536342 -10.536251 -10.536238   \n",
      "    Times10  -5.175647  -5.175647 -10.536281 -10.536261 -10.536226 -10.536361   \n",
      "\n",
      "                   594        542        570        562        575        573  \\\n",
      "F1  Times1    0.002140   0.001729   0.001336   0.001253   0.000960   0.001579   \n",
      "    Times2    0.002458   0.002676   0.001769   0.001681   0.001068   0.001004   \n",
      "    Times3    0.002216   0.001806   0.002144   0.001349   0.001051   0.001215   \n",
      "    Times4    0.003166   0.001166   0.000987   0.000577   0.000902   0.001602   \n",
      "    Times5    0.002732   0.002295   0.000790   0.000950   0.001182   0.001339   \n",
      "...                ...        ...        ...        ...        ...        ...   \n",
      "F23 Times6  -10.536251 -10.536344 -10.536392 -10.536290  -5.175647 -10.536240   \n",
      "    Times7  -10.536212 -10.536373 -10.536364 -10.536219 -10.536250  -5.128481   \n",
      "    Times8  -10.536202 -10.536341 -10.536260 -10.536375 -10.536200 -10.536284   \n",
      "    Times9  -10.536318  -5.128481 -10.536261 -10.536399 -10.536230 -10.536284   \n",
      "    Times10 -10.536303 -10.536323 -10.536264 -10.536314 -10.536256 -10.536328   \n",
      "\n",
      "                   552        555  \n",
      "F1  Times1    0.000831   0.001123  \n",
      "    Times2    0.001217   0.001511  \n",
      "    Times3    0.000792   0.000745  \n",
      "    Times4    0.000983   0.001028  \n",
      "    Times5    0.000778   0.000741  \n",
      "...                ...        ...  \n",
      "F23 Times6   -5.175647 -10.536336  \n",
      "    Times7  -10.536310 -10.536229  \n",
      "    Times8   -5.175647  -5.128481  \n",
      "    Times9  -10.536289 -10.536294  \n",
      "    Times10 -10.536210 -10.536280  \n",
      "\n",
      "[230 rows x 20 columns]\n"
     ]
    },
    {
     "data": {
      "text/plain": "           590   593   579   588   589   591   576   587   569   558   592  \\\nFunction                                                                     \nF1        100%  100%  100%  100%  100%  100%  100%  100%  100%  100%  100%   \nF2          0%    0%    0%    0%    0%    0%    0%    0%    0%    0%    0%   \nF3          0%    0%    0%    0%    0%    0%    0%    0%    0%    0%    0%   \nF4          0%    0%    0%    0%    0%    0%    0%    0%    0%    0%    0%   \nF5          0%    0%    0%    0%    0%    0%    0%    0%    0%    0%    0%   \nF6        100%  100%  100%  100%  100%  100%  100%  100%  100%  100%  100%   \nF7        100%  100%  100%  100%  100%  100%  100%  100%  100%  100%  100%   \nF8          0%    0%    0%    0%    0%    0%    0%    0%    0%    0%    0%   \nF9        100%  100%  100%  100%  100%  100%  100%  100%  100%  100%  100%   \nF10        80%  100%  100%   80%  100%   90%  100%  100%  100%  100%   70%   \nF11        70%   30%   40%   70%   50%   30%   50%   30%   50%   50%   70%   \nF12       100%  100%  100%  100%  100%  100%  100%  100%  100%  100%  100%   \nF13       100%  100%  100%  100%  100%  100%  100%  100%  100%  100%  100%   \nF14       100%  100%  100%  100%  100%  100%  100%  100%  100%  100%  100%   \nF15       100%  100%  100%   90%   80%   80%  100%   90%   70%  100%   80%   \nF16       100%  100%  100%  100%  100%  100%  100%  100%  100%  100%  100%   \nF17       100%  100%  100%  100%  100%  100%  100%  100%  100%  100%  100%   \nF18       100%  100%  100%  100%  100%  100%  100%  100%  100%  100%  100%   \nF19       100%  100%  100%  100%  100%  100%  100%  100%  100%  100%  100%   \nF20        40%   50%   40%   50%   30%   50%   20%   50%   40%   50%   30%   \nF21        60%   80%   70%   40%   80%   30%  100%   50%   60%   70%   80%   \nF22        80%  100%   70%   90%   90%  100%   60%   80%   70%   80%   70%   \nF23        80%  100%   90%   90%   90%   90%   60%   90%   90%  100%   90%   \n\n           572   594   542   570   562   575   573   552   555  \nFunction                                                        \nF1        100%  100%  100%  100%  100%  100%  100%  100%  100%  \nF2          0%    0%    0%    0%    0%    0%    0%    0%    0%  \nF3          0%    0%    0%    0%    0%    0%    0%    0%    0%  \nF4          0%    0%    0%    0%    0%    0%    0%    0%    0%  \nF5          0%    0%    0%    0%    0%    0%    0%    0%    0%  \nF6        100%  100%  100%  100%  100%  100%  100%  100%  100%  \nF7        100%  100%  100%  100%  100%  100%  100%  100%  100%  \nF8          0%    0%    0%    0%    0%    0%    0%    0%    0%  \nF9        100%  100%  100%  100%  100%  100%  100%  100%  100%  \nF10       100%   90%  100%  100%  100%  100%  100%  100%  100%  \nF11        50%   60%   70%   50%   60%  100%   40%   70%   70%  \nF12       100%  100%  100%  100%  100%  100%  100%  100%  100%  \nF13       100%  100%  100%  100%  100%  100%  100%  100%  100%  \nF14       100%  100%  100%  100%  100%  100%  100%  100%  100%  \nF15       100%   80%  100%   90%  100%  100%   90%   70%   70%  \nF16       100%  100%  100%  100%  100%  100%  100%  100%  100%  \nF17       100%  100%  100%  100%  100%  100%  100%  100%  100%  \nF18       100%  100%  100%  100%  100%  100%  100%  100%  100%  \nF19       100%  100%  100%  100%  100%  100%  100%  100%  100%  \nF20        30%   80%   40%   50%   30%   30%   30%   40%   50%  \nF21        60%   60%   60%   60%   60%   80%   50%   70%   60%  \nF22        80%   80%   60%   60%  100%   70%   80%   90%   60%  \nF23       100%   90%   90%  100%  100%   80%   90%   60%   90%  ",
      "text/html": "<div>\n<style scoped>\n    .dataframe tbody tr th:only-of-type {\n        vertical-align: middle;\n    }\n\n    .dataframe tbody tr th {\n        vertical-align: top;\n    }\n\n    .dataframe thead th {\n        text-align: right;\n    }\n</style>\n<table border=\"1\" class=\"dataframe\">\n  <thead>\n    <tr style=\"text-align: right;\">\n      <th></th>\n      <th>590</th>\n      <th>593</th>\n      <th>579</th>\n      <th>588</th>\n      <th>589</th>\n      <th>591</th>\n      <th>576</th>\n      <th>587</th>\n      <th>569</th>\n      <th>558</th>\n      <th>592</th>\n      <th>572</th>\n      <th>594</th>\n      <th>542</th>\n      <th>570</th>\n      <th>562</th>\n      <th>575</th>\n      <th>573</th>\n      <th>552</th>\n      <th>555</th>\n    </tr>\n    <tr>\n      <th>Function</th>\n      <th></th>\n      <th></th>\n      <th></th>\n      <th></th>\n      <th></th>\n      <th></th>\n      <th></th>\n      <th></th>\n      <th></th>\n      <th></th>\n      <th></th>\n      <th></th>\n      <th></th>\n      <th></th>\n      <th></th>\n      <th></th>\n      <th></th>\n      <th></th>\n      <th></th>\n      <th></th>\n    </tr>\n  </thead>\n  <tbody>\n    <tr>\n      <th>F1</th>\n      <td>100%</td>\n      <td>100%</td>\n      <td>100%</td>\n      <td>100%</td>\n      <td>100%</td>\n      <td>100%</td>\n      <td>100%</td>\n      <td>100%</td>\n      <td>100%</td>\n      <td>100%</td>\n      <td>100%</td>\n      <td>100%</td>\n      <td>100%</td>\n      <td>100%</td>\n      <td>100%</td>\n      <td>100%</td>\n      <td>100%</td>\n      <td>100%</td>\n      <td>100%</td>\n      <td>100%</td>\n    </tr>\n    <tr>\n      <th>F2</th>\n      <td>0%</td>\n      <td>0%</td>\n      <td>0%</td>\n      <td>0%</td>\n      <td>0%</td>\n      <td>0%</td>\n      <td>0%</td>\n      <td>0%</td>\n      <td>0%</td>\n      <td>0%</td>\n      <td>0%</td>\n      <td>0%</td>\n      <td>0%</td>\n      <td>0%</td>\n      <td>0%</td>\n      <td>0%</td>\n      <td>0%</td>\n      <td>0%</td>\n      <td>0%</td>\n      <td>0%</td>\n    </tr>\n    <tr>\n      <th>F3</th>\n      <td>0%</td>\n      <td>0%</td>\n      <td>0%</td>\n      <td>0%</td>\n      <td>0%</td>\n      <td>0%</td>\n      <td>0%</td>\n      <td>0%</td>\n      <td>0%</td>\n      <td>0%</td>\n      <td>0%</td>\n      <td>0%</td>\n      <td>0%</td>\n      <td>0%</td>\n      <td>0%</td>\n      <td>0%</td>\n      <td>0%</td>\n      <td>0%</td>\n      <td>0%</td>\n      <td>0%</td>\n    </tr>\n    <tr>\n      <th>F4</th>\n      <td>0%</td>\n      <td>0%</td>\n      <td>0%</td>\n      <td>0%</td>\n      <td>0%</td>\n      <td>0%</td>\n      <td>0%</td>\n      <td>0%</td>\n      <td>0%</td>\n      <td>0%</td>\n      <td>0%</td>\n      <td>0%</td>\n      <td>0%</td>\n      <td>0%</td>\n      <td>0%</td>\n      <td>0%</td>\n      <td>0%</td>\n      <td>0%</td>\n      <td>0%</td>\n      <td>0%</td>\n    </tr>\n    <tr>\n      <th>F5</th>\n      <td>0%</td>\n      <td>0%</td>\n      <td>0%</td>\n      <td>0%</td>\n      <td>0%</td>\n      <td>0%</td>\n      <td>0%</td>\n      <td>0%</td>\n      <td>0%</td>\n      <td>0%</td>\n      <td>0%</td>\n      <td>0%</td>\n      <td>0%</td>\n      <td>0%</td>\n      <td>0%</td>\n      <td>0%</td>\n      <td>0%</td>\n      <td>0%</td>\n      <td>0%</td>\n      <td>0%</td>\n    </tr>\n    <tr>\n      <th>F6</th>\n      <td>100%</td>\n      <td>100%</td>\n      <td>100%</td>\n      <td>100%</td>\n      <td>100%</td>\n      <td>100%</td>\n      <td>100%</td>\n      <td>100%</td>\n      <td>100%</td>\n      <td>100%</td>\n      <td>100%</td>\n      <td>100%</td>\n      <td>100%</td>\n      <td>100%</td>\n      <td>100%</td>\n      <td>100%</td>\n      <td>100%</td>\n      <td>100%</td>\n      <td>100%</td>\n      <td>100%</td>\n    </tr>\n    <tr>\n      <th>F7</th>\n      <td>100%</td>\n      <td>100%</td>\n      <td>100%</td>\n      <td>100%</td>\n      <td>100%</td>\n      <td>100%</td>\n      <td>100%</td>\n      <td>100%</td>\n      <td>100%</td>\n      <td>100%</td>\n      <td>100%</td>\n      <td>100%</td>\n      <td>100%</td>\n      <td>100%</td>\n      <td>100%</td>\n      <td>100%</td>\n      <td>100%</td>\n      <td>100%</td>\n      <td>100%</td>\n      <td>100%</td>\n    </tr>\n    <tr>\n      <th>F8</th>\n      <td>0%</td>\n      <td>0%</td>\n      <td>0%</td>\n      <td>0%</td>\n      <td>0%</td>\n      <td>0%</td>\n      <td>0%</td>\n      <td>0%</td>\n      <td>0%</td>\n      <td>0%</td>\n      <td>0%</td>\n      <td>0%</td>\n      <td>0%</td>\n      <td>0%</td>\n      <td>0%</td>\n      <td>0%</td>\n      <td>0%</td>\n      <td>0%</td>\n      <td>0%</td>\n      <td>0%</td>\n    </tr>\n    <tr>\n      <th>F9</th>\n      <td>100%</td>\n      <td>100%</td>\n      <td>100%</td>\n      <td>100%</td>\n      <td>100%</td>\n      <td>100%</td>\n      <td>100%</td>\n      <td>100%</td>\n      <td>100%</td>\n      <td>100%</td>\n      <td>100%</td>\n      <td>100%</td>\n      <td>100%</td>\n      <td>100%</td>\n      <td>100%</td>\n      <td>100%</td>\n      <td>100%</td>\n      <td>100%</td>\n      <td>100%</td>\n      <td>100%</td>\n    </tr>\n    <tr>\n      <th>F10</th>\n      <td>80%</td>\n      <td>100%</td>\n      <td>100%</td>\n      <td>80%</td>\n      <td>100%</td>\n      <td>90%</td>\n      <td>100%</td>\n      <td>100%</td>\n      <td>100%</td>\n      <td>100%</td>\n      <td>70%</td>\n      <td>100%</td>\n      <td>90%</td>\n      <td>100%</td>\n      <td>100%</td>\n      <td>100%</td>\n      <td>100%</td>\n      <td>100%</td>\n      <td>100%</td>\n      <td>100%</td>\n    </tr>\n    <tr>\n      <th>F11</th>\n      <td>70%</td>\n      <td>30%</td>\n      <td>40%</td>\n      <td>70%</td>\n      <td>50%</td>\n      <td>30%</td>\n      <td>50%</td>\n      <td>30%</td>\n      <td>50%</td>\n      <td>50%</td>\n      <td>70%</td>\n      <td>50%</td>\n      <td>60%</td>\n      <td>70%</td>\n      <td>50%</td>\n      <td>60%</td>\n      <td>100%</td>\n      <td>40%</td>\n      <td>70%</td>\n      <td>70%</td>\n    </tr>\n    <tr>\n      <th>F12</th>\n      <td>100%</td>\n      <td>100%</td>\n      <td>100%</td>\n      <td>100%</td>\n      <td>100%</td>\n      <td>100%</td>\n      <td>100%</td>\n      <td>100%</td>\n      <td>100%</td>\n      <td>100%</td>\n      <td>100%</td>\n      <td>100%</td>\n      <td>100%</td>\n      <td>100%</td>\n      <td>100%</td>\n      <td>100%</td>\n      <td>100%</td>\n      <td>100%</td>\n      <td>100%</td>\n      <td>100%</td>\n    </tr>\n    <tr>\n      <th>F13</th>\n      <td>100%</td>\n      <td>100%</td>\n      <td>100%</td>\n      <td>100%</td>\n      <td>100%</td>\n      <td>100%</td>\n      <td>100%</td>\n      <td>100%</td>\n      <td>100%</td>\n      <td>100%</td>\n      <td>100%</td>\n      <td>100%</td>\n      <td>100%</td>\n      <td>100%</td>\n      <td>100%</td>\n      <td>100%</td>\n      <td>100%</td>\n      <td>100%</td>\n      <td>100%</td>\n      <td>100%</td>\n    </tr>\n    <tr>\n      <th>F14</th>\n      <td>100%</td>\n      <td>100%</td>\n      <td>100%</td>\n      <td>100%</td>\n      <td>100%</td>\n      <td>100%</td>\n      <td>100%</td>\n      <td>100%</td>\n      <td>100%</td>\n      <td>100%</td>\n      <td>100%</td>\n      <td>100%</td>\n      <td>100%</td>\n      <td>100%</td>\n      <td>100%</td>\n      <td>100%</td>\n      <td>100%</td>\n      <td>100%</td>\n      <td>100%</td>\n      <td>100%</td>\n    </tr>\n    <tr>\n      <th>F15</th>\n      <td>100%</td>\n      <td>100%</td>\n      <td>100%</td>\n      <td>90%</td>\n      <td>80%</td>\n      <td>80%</td>\n      <td>100%</td>\n      <td>90%</td>\n      <td>70%</td>\n      <td>100%</td>\n      <td>80%</td>\n      <td>100%</td>\n      <td>80%</td>\n      <td>100%</td>\n      <td>90%</td>\n      <td>100%</td>\n      <td>100%</td>\n      <td>90%</td>\n      <td>70%</td>\n      <td>70%</td>\n    </tr>\n    <tr>\n      <th>F16</th>\n      <td>100%</td>\n      <td>100%</td>\n      <td>100%</td>\n      <td>100%</td>\n      <td>100%</td>\n      <td>100%</td>\n      <td>100%</td>\n      <td>100%</td>\n      <td>100%</td>\n      <td>100%</td>\n      <td>100%</td>\n      <td>100%</td>\n      <td>100%</td>\n      <td>100%</td>\n      <td>100%</td>\n      <td>100%</td>\n      <td>100%</td>\n      <td>100%</td>\n      <td>100%</td>\n      <td>100%</td>\n    </tr>\n    <tr>\n      <th>F17</th>\n      <td>100%</td>\n      <td>100%</td>\n      <td>100%</td>\n      <td>100%</td>\n      <td>100%</td>\n      <td>100%</td>\n      <td>100%</td>\n      <td>100%</td>\n      <td>100%</td>\n      <td>100%</td>\n      <td>100%</td>\n      <td>100%</td>\n      <td>100%</td>\n      <td>100%</td>\n      <td>100%</td>\n      <td>100%</td>\n      <td>100%</td>\n      <td>100%</td>\n      <td>100%</td>\n      <td>100%</td>\n    </tr>\n    <tr>\n      <th>F18</th>\n      <td>100%</td>\n      <td>100%</td>\n      <td>100%</td>\n      <td>100%</td>\n      <td>100%</td>\n      <td>100%</td>\n      <td>100%</td>\n      <td>100%</td>\n      <td>100%</td>\n      <td>100%</td>\n      <td>100%</td>\n      <td>100%</td>\n      <td>100%</td>\n      <td>100%</td>\n      <td>100%</td>\n      <td>100%</td>\n      <td>100%</td>\n      <td>100%</td>\n      <td>100%</td>\n      <td>100%</td>\n    </tr>\n    <tr>\n      <th>F19</th>\n      <td>100%</td>\n      <td>100%</td>\n      <td>100%</td>\n      <td>100%</td>\n      <td>100%</td>\n      <td>100%</td>\n      <td>100%</td>\n      <td>100%</td>\n      <td>100%</td>\n      <td>100%</td>\n      <td>100%</td>\n      <td>100%</td>\n      <td>100%</td>\n      <td>100%</td>\n      <td>100%</td>\n      <td>100%</td>\n      <td>100%</td>\n      <td>100%</td>\n      <td>100%</td>\n      <td>100%</td>\n    </tr>\n    <tr>\n      <th>F20</th>\n      <td>40%</td>\n      <td>50%</td>\n      <td>40%</td>\n      <td>50%</td>\n      <td>30%</td>\n      <td>50%</td>\n      <td>20%</td>\n      <td>50%</td>\n      <td>40%</td>\n      <td>50%</td>\n      <td>30%</td>\n      <td>30%</td>\n      <td>80%</td>\n      <td>40%</td>\n      <td>50%</td>\n      <td>30%</td>\n      <td>30%</td>\n      <td>30%</td>\n      <td>40%</td>\n      <td>50%</td>\n    </tr>\n    <tr>\n      <th>F21</th>\n      <td>60%</td>\n      <td>80%</td>\n      <td>70%</td>\n      <td>40%</td>\n      <td>80%</td>\n      <td>30%</td>\n      <td>100%</td>\n      <td>50%</td>\n      <td>60%</td>\n      <td>70%</td>\n      <td>80%</td>\n      <td>60%</td>\n      <td>60%</td>\n      <td>60%</td>\n      <td>60%</td>\n      <td>60%</td>\n      <td>80%</td>\n      <td>50%</td>\n      <td>70%</td>\n      <td>60%</td>\n    </tr>\n    <tr>\n      <th>F22</th>\n      <td>80%</td>\n      <td>100%</td>\n      <td>70%</td>\n      <td>90%</td>\n      <td>90%</td>\n      <td>100%</td>\n      <td>60%</td>\n      <td>80%</td>\n      <td>70%</td>\n      <td>80%</td>\n      <td>70%</td>\n      <td>80%</td>\n      <td>80%</td>\n      <td>60%</td>\n      <td>60%</td>\n      <td>100%</td>\n      <td>70%</td>\n      <td>80%</td>\n      <td>90%</td>\n      <td>60%</td>\n    </tr>\n    <tr>\n      <th>F23</th>\n      <td>80%</td>\n      <td>100%</td>\n      <td>90%</td>\n      <td>90%</td>\n      <td>90%</td>\n      <td>90%</td>\n      <td>60%</td>\n      <td>90%</td>\n      <td>90%</td>\n      <td>100%</td>\n      <td>90%</td>\n      <td>100%</td>\n      <td>90%</td>\n      <td>90%</td>\n      <td>100%</td>\n      <td>100%</td>\n      <td>80%</td>\n      <td>90%</td>\n      <td>60%</td>\n      <td>90%</td>\n    </tr>\n  </tbody>\n</table>\n</div>"
     },
     "metadata": {},
     "output_type": "display_data"
    }
   ],
   "source": [
    "data_pm = pd.read_csv(\"./best_20com_9pm.csv\", header=0, index_col=[0])\n",
    "index = data_pm.index.tolist()\n",
    "print(index)\n",
    "def read_csv(path):\n",
    "    return pd.read_csv(path,index_col=[0,1],header=0)\n",
    "path_percent_list=[\"./combination\"+str(i)+\".csv\" for i in index]\n",
    "df = [read_csv(name) for name in path_percent_list]\n",
    "df = pd.concat(df,axis=1)\n",
    "df.columns = index\n",
    "print(df.columns)\n",
    "print(df)\n",
    "df.to_csv(\"./Lamarck_rawdata.csv\",header=True,index=True)\n",
    "\n",
    "def percent(Function, optimal):\n",
    "    dataframe = df.loc[(Function, slice(None)), :]\n",
    "    dataframe = pd.DataFrame(data=dataframe.values,\n",
    "                             columns=dataframe.columns)\n",
    "    percent_dataframe = dataframe.applymap(lambda x: True if ((x-optimal)<=threshold or x<=optimal) else False)\n",
    "    percent_dataframe[\"Function\"] = Function\n",
    "    return percent_dataframe\n",
    "\n",
    "threshold =0.01\n",
    "opt = [0.0, 0.0, 0.0, 0.0, 0.0, 0.0, 0.0, -418.98 * 50, 0.0, 0.0, 0.0, 0.0, 0.0, 1.0, 0.0003, -1.0316, 0.398, 3.0,\n",
    "       -3.86, -3.32, -10.1532,-10.4028, -10.5363]\n",
    "function_list = np.arange(1, 24, 1)\n",
    "percent_df = [percent(Function=\"F\" + str(i), optimal=opt[i - 1]) for i in function_list]\n",
    "percent_df = pd.concat(percent_df, axis=0)\n",
    "percent_df = percent_df.groupby([\"Function\"]).sum().applymap(lambda x: str(x * 10) + \"%\")\n",
    "index = [\"F\" + str(i) for i in function_list]\n",
    "percent_df = percent_df.loc[index]\n",
    "display(percent_df)\n",
    "percent_df.to_csv(\"./Lamarck_percent.csv\")"
   ],
   "metadata": {
    "collapsed": false,
    "pycharm": {
     "name": "#%%\n"
    }
   }
  },
  {
   "cell_type": "code",
   "execution_count": 19,
   "outputs": [
    {
     "data": {
      "text/plain": "<Figure size 1440x504 with 1 Axes>",
      "image/png": "[encoded data removed]"
     },
     "metadata": {},
     "output_type": "display_data"
    }
   ],
   "source": [
    "from matplotlib import pyplot as plt\n",
    "dataframe = percent_df.copy()\n",
    "dataframe = dataframe.applymap(lambda x:x if not '%' in str(x) else x.replace('%',''))\n",
    "# display(dataframe)\n",
    "import seaborn as sns\n",
    "dataframe = dataframe.stack()\n",
    "# display(dataframe)\n",
    "dataframe = dataframe.rename_axis(index=[\"Function\",\"Combinations\"])\n",
    "dataframe = dataframe.reset_index(level=[0, 1], name=\"Percent\")\n",
    "dataframe[\"Percent\"] = pd.to_numeric(dataframe[\"Percent\"])\n",
    "dataframe = dataframe.reset_index(drop=False)\n",
    "# display(dataframe)\n",
    "function_list = [\"F\" + str(i) for i in range(1, 24, 1)]\n",
    "def show_graph(dataframe):\n",
    "    sns.set_theme(style=\"whitegrid\", palette=\"pastel\",font_scale=1.5)\n",
    "    sns.set_style(\"ticks\",{'axes.grid' : True})\n",
    "    plt.figure(figsize=(20,7))\n",
    "    plt.subplot(1,1,1)\n",
    "    ax=sns.barplot(data=dataframe,y=\"Percent\",x=\"Function\",ci=95)\n",
    "    ax.bar_label(ax.containers[0],label_type='edge')\n",
    "    plt.xlabel(\"Lamarck\")\n",
    "    # sns.move_legend(ax, \"upper left\", bbox_to_anchor=(0, 1))\n",
    "    plt.savefig(\"./Lamarck_percent.png\", dpi=1200, bbox_inches='tight')\n",
    "    plt.show()\n",
    "show_graph(dataframe=dataframe)"
   ],
   "metadata": {
    "collapsed": false,
    "pycharm": {
     "name": "#%%\n"
    }
   }
  },
  {
   "cell_type": "code",
   "execution_count": 20,
   "outputs": [],
   "source": [
    "# from matplotlib import pyplot as plt\n",
    "# dataframe = df.copy()\n",
    "# dataframe = dataframe.stack()\n",
    "# # display(dataframe)\n",
    "# dataframe = dataframe.rename_axis(index=[\"Function\",\"Times\",\"Combinations\"])\n",
    "# dataframe = dataframe.reset_index(level=[0, 1], name=\"Solutions\")\n",
    "# dataframe[\"Solutions\"] = pd.to_numeric(dataframe[\"Solutions\"])\n",
    "# dataframe = dataframe.reset_index(drop=False)\n",
    "# # display(dataframe)\n",
    "# opt = [0, 0, 0, 0, 0, 0, 0, -20949, 0, 0, 0, 0, 0, 1, 0.0003, -1.0316, 0.398, 3, -3.86, -3.32,-10.1532, -10.4028, -10.5363]\n",
    "# def show_graph(dataframe):\n",
    "#     sns.set_theme(style=\"whitegrid\", palette=\"pastel\",font_scale=1.5)\n",
    "#     dist_cols = 3\n",
    "#     dist_rows = 8\n",
    "#     plt.figure(figsize=(7 * dist_cols, 4 * dist_rows))\n",
    "#     i = 1\n",
    "#     for function in function_list:\n",
    "#         dataf = dataframe[dataframe[\"Function\"] == function]\n",
    "#         plt.subplot(dist_rows, dist_cols, i)\n",
    "#         ax=sns.boxplot(data=dataf, y=\"Solutions\",palette=\"viridis\",x=\"Function\",hue=\"Function\",width=0.2)\n",
    "#         sns.move_legend(ax, \"upper left\", bbox_to_anchor=(0, 1),frameon=False)\n",
    "#         plt.axhline(y=opt[i-1],color=\"red\")\n",
    "#         plt.xlabel(\"\")\n",
    "#         plt.ylabel(\"Solutions\")\n",
    "#         i = i + 1\n",
    "#     plt.savefig(\"./boxplot_Lamarck.png\", dpi=1200, bbox_inches='tight')\n",
    "#     plt.show()\n",
    "# show_graph(dataframe=dataframe)"
   ],
   "metadata": {
    "collapsed": false,
    "pycharm": {
     "name": "#%%\n"
    }
   }
  },
  {
   "cell_type": "code",
   "execution_count": 20,
   "outputs": [],
   "source": [],
   "metadata": {
    "collapsed": false,
    "pycharm": {
     "name": "#%%\n"
    }
   }
  }
 ],
 "metadata": {
  "kernelspec": {
   "display_name": "Python 3",
   "language": "python",
   "name": "python3"
  },
  "language_info": {
   "codemirror_mode": {
    "name": "ipython",
    "version": 2
   },
   "file_extension": ".py",
   "mimetype": "text/x-python",
   "name": "python",
   "nbconvert_exporter": "python",
   "pygments_lexer": "ipython2",
   "version": "2.7.6"
  }
 },
 "nbformat": 4,
 "nbformat_minor": 0
}