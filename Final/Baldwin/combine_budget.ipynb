{
 "cells": [
  {
   "cell_type": "code",
   "execution_count": 4,
   "metadata": {
    "collapsed": true,
    "pycharm": {
     "name": "#%%\n"
    }
   },
   "outputs": [],
   "source": [
    "import numpy as np\n",
    "import pandas as pd"
   ]
  },
  {
   "cell_type": "code",
   "execution_count": 5,
   "outputs": [
    {
     "name": "stdout",
     "output_type": "stream",
     "text": [
      "[590, 593, 579, 588, 589, 591, 576, 587, 569, 558, 592, 572, 594, 542, 570, 562, 575, 573, 552, 555]\n",
      "Int64Index([590, 593, 579, 588, 589, 591, 576, 587, 569, 558, 592, 572, 594,\n",
      "            542, 570, 562, 575, 573, 552, 555],\n",
      "           dtype='int64')\n",
      "                   590        593        579        588        589        591  \\\n",
      "F1  Times1    222481.0   174373.0   178247.0   209359.0   199252.0   219982.0   \n",
      "    Times2    240439.0   237931.0   163829.0   216823.0   238198.0   215719.0   \n",
      "    Times3    264784.0   229972.0   239984.0   236422.0   203566.0   231208.0   \n",
      "    Times4    241060.0   259201.0   194252.0   203311.0   206332.0   220564.0   \n",
      "    Times5    226024.0   256753.0   140711.0   236215.0   215371.0   191479.0   \n",
      "...                ...        ...        ...        ...        ...        ...   \n",
      "F23 Times6    166132.0   118798.0   623753.0   681601.0    84418.0   505711.0   \n",
      "    Times7    109225.0   243349.0   477602.0   481006.0   144085.0   145441.0   \n",
      "    Times8    262963.0  1067602.0    44315.0  3000097.0  3000097.0   529207.0   \n",
      "    Times9    162763.0   150766.0  2443538.0  3000097.0   179071.0   140398.0   \n",
      "    Times10  3000097.0   244003.0  3000197.0   289483.0  1316362.0  3000097.0   \n",
      "\n",
      "                  576       587        569        558       592       572  \\\n",
      "F1  Times1   117023.0  305179.0   172130.0   127963.0  213220.0  214214.0   \n",
      "    Times2   162071.0  211354.0   200423.0   140167.0  217429.0  184922.0   \n",
      "    Times3   175202.0  264619.0   210668.0   165361.0  264469.0  189920.0   \n",
      "    Times4   142610.0  223711.0   215555.0   177967.0  231904.0  189329.0   \n",
      "    Times5   166490.0  205525.0   197708.0   140653.0  183493.0  197327.0   \n",
      "...               ...       ...        ...        ...       ...       ...   \n",
      "F23 Times6   294590.0  189961.0    93191.0    31348.0  211300.0   42326.0   \n",
      "    Times7    70883.0  380920.0  3000197.0    22486.0  227278.0  896816.0   \n",
      "    Times8   410879.0  593719.0    70241.0  3000097.0  130858.0   26600.0   \n",
      "    Times9    74177.0  114568.0   146084.0   150052.0  410434.0  194108.0   \n",
      "    Times10   56636.0  391855.0   374246.0   252652.0  152932.0   62453.0   \n",
      "\n",
      "                   594        542        570        562        575        573  \\\n",
      "F1  Times1    292126.0   183941.0   184373.0   147991.0   173603.0   177137.0   \n",
      "    Times2    257590.0   259895.0   167501.0   130432.0   173654.0   193649.0   \n",
      "    Times3    259165.0   197192.0   187850.0   160888.0   242684.0   156692.0   \n",
      "    Times4    229816.0   161240.0   128177.0   150181.0   185987.0   230966.0   \n",
      "    Times5    257089.0   153017.0   188771.0   170470.0   183506.0   193610.0   \n",
      "...                ...        ...        ...        ...        ...        ...   \n",
      "F23 Times6    191701.0    84716.0  3000197.0   247798.0  3000197.0   763328.0   \n",
      "    Times7   3000097.0  3000197.0    83351.0   581035.0    91565.0   403247.0   \n",
      "    Times8    270967.0  1228646.0  3000197.0    13864.0    46850.0  1197731.0   \n",
      "    Times9    886057.0   173804.0   328214.0   392293.0   655277.0   666410.0   \n",
      "    Times10   101605.0    29798.0   124232.0  3000097.0    40529.0   105383.0   \n",
      "\n",
      "                   552       555  \n",
      "F1  Times1    170128.0  138496.0  \n",
      "    Times2    145276.0  169786.0  \n",
      "    Times3    135586.0  157096.0  \n",
      "    Times4    142915.0  155482.0  \n",
      "    Times5    125404.0  209776.0  \n",
      "...                ...       ...  \n",
      "F23 Times6   1161478.0  601027.0  \n",
      "    Times7   1729891.0   63916.0  \n",
      "    Times8   2966512.0  184816.0  \n",
      "    Times9    102742.0   98356.0  \n",
      "    Times10   577696.0  279067.0  \n",
      "\n",
      "[230 rows x 20 columns]\n"
     ]
    }
   ],
   "source": [
    "data_pm = pd.read_csv(\"./best_20com_9pm.csv\", header=0, index_col=[0])\n",
    "index = data_pm.index.tolist()\n",
    "print(index)\n",
    "def read_csv(path):\n",
    "    return pd.read_csv(path,index_col=[0,1],header=0)\n",
    "path_budget_list=[\"./budget\"+str(i)+\".csv\" for i in index]\n",
    "df = [read_csv(name) for name in path_budget_list]\n",
    "df = pd.concat(df,axis=1)\n",
    "df.columns = index\n",
    "print(df.columns)\n",
    "print(df)\n",
    "df.to_csv(\"./Baldwin_budget.csv\",header=True,index=True)"
   ],
   "metadata": {
    "collapsed": false,
    "pycharm": {
     "name": "#%%\n"
    }
   }
  },
  {
   "cell_type": "code",
   "execution_count": 6,
   "outputs": [
    {
     "name": "stdout",
     "output_type": "stream",
     "text": [
      "[590, 593, 579, 588, 589, 591, 576, 587, 569, 558, 592, 572, 594, 542, 570, 562, 575, 573, 552, 555]\n",
      "Int64Index([590, 593, 579, 588, 589, 591, 576, 587, 569, 558, 592, 572, 594,\n",
      "            542, 570, 562, 575, 573, 552, 555],\n",
      "           dtype='int64')\n",
      "                   590        593        579        588        589        591  \\\n",
      "F1  Times1    0.497856   0.495287   0.454080   0.418961   0.479541   0.446174   \n",
      "    Times2    0.496804   0.476599   0.363082   0.490752   0.498031   0.456413   \n",
      "    Times3    0.279510   0.457416   0.495826   0.427218   0.473421   0.495190   \n",
      "    Times4    0.490500   0.494855   0.486695   0.499577   0.443956   0.470901   \n",
      "    Times5    0.487653   0.469227   0.384410   0.361549   0.424460   0.493159   \n",
      "...                ...        ...        ...        ...        ...        ...   \n",
      "F23 Times6  -10.536295 -10.536393 -10.536255 -10.536266 -10.536319 -10.536370   \n",
      "    Times7  -10.536287 -10.536263 -10.536259 -10.536337 -10.536260 -10.536315   \n",
      "    Times8  -10.536292 -10.536310 -10.536279  -5.175647  -5.175647 -10.536384   \n",
      "    Times9  -10.536382 -10.536253 -10.536290  -5.175647 -10.536295 -10.536261   \n",
      "    Times10  -5.128481 -10.536352  -5.128481 -10.536331 -10.536271  -5.175646   \n",
      "\n",
      "                   576        587        569        558        592        572  \\\n",
      "F1  Times1    0.499391   0.331941   0.443750   0.491733   0.414673   0.401845   \n",
      "    Times2    0.487319   0.481506   0.497569   0.428629   0.482586   0.499304   \n",
      "    Times3    0.483974   0.498845   0.495995   0.497395   0.469955   0.496089   \n",
      "    Times4    0.480815   0.456113   0.480697   0.388048   0.473365   0.416469   \n",
      "    Times5    0.460455   0.473465   0.474363   0.486022   0.496276   0.433187   \n",
      "...                ...        ...        ...        ...        ...        ...   \n",
      "F23 Times6  -10.536261 -10.536323 -10.536312 -10.536267 -10.536270 -10.536256   \n",
      "    Times7  -10.536347 -10.536305  -5.175647 -10.536379 -10.536382 -10.536335   \n",
      "    Times8  -10.536274 -10.536344 -10.536287  -5.128481 -10.536340 -10.536255   \n",
      "    Times9  -10.536354 -10.536390 -10.536265 -10.536303 -10.536377 -10.536336   \n",
      "    Times10 -10.536281 -10.536277 -10.536285 -10.536296 -10.536292 -10.536394   \n",
      "\n",
      "                   594        542        570        562        575        573  \\\n",
      "F1  Times1    0.463259   0.488015   0.416013   0.446170   0.432079   0.489913   \n",
      "    Times2    0.484445   0.499581   0.489249   0.459847   0.493408   0.478541   \n",
      "    Times3    0.490528   0.472508   0.414898   0.331695   0.477245   0.484569   \n",
      "    Times4    0.497152   0.483883   0.498031   0.489799   0.405199   0.492941   \n",
      "    Times5    0.408723   0.492027   0.491070   0.485769   0.464253   0.477696   \n",
      "...                ...        ...        ...        ...        ...        ...   \n",
      "F23 Times6  -10.536263 -10.536252  -6.456282 -10.536326  -5.175647 -10.536330   \n",
      "    Times7   -5.128481  -8.994936 -10.536252 -10.536325 -10.536302 -10.536284   \n",
      "    Times8  -10.536266 -10.536343  -5.175647 -10.536307 -10.536312 -10.536261   \n",
      "    Times9  -10.536356 -10.536304 -10.536307 -10.536308 -10.536252 -10.536288   \n",
      "    Times10 -10.536279 -10.536339 -10.536305  -5.175647 -10.536269 -10.536258   \n",
      "\n",
      "                   552        555  \n",
      "F1  Times1    0.497613   0.499759  \n",
      "    Times2    0.475128   0.478573  \n",
      "    Times3    0.486860   0.494816  \n",
      "    Times4    0.498660   0.487562  \n",
      "    Times5    0.451457   0.487818  \n",
      "...                ...        ...  \n",
      "F23 Times6  -10.536261 -10.536319  \n",
      "    Times7  -10.536303 -10.536268  \n",
      "    Times8  -10.536308 -10.536257  \n",
      "    Times9  -10.536269 -10.536374  \n",
      "    Times10 -10.536265 -10.536279  \n",
      "\n",
      "[230 rows x 20 columns]\n"
     ]
    },
    {
     "data": {
      "text/plain": "           590   593   579   588   589   591   576   587   569   558   592  \\\nFunction                                                                     \nF1        100%  100%  100%  100%  100%  100%  100%  100%  100%  100%  100%   \nF2        100%  100%  100%  100%  100%  100%  100%  100%  100%  100%  100%   \nF3        100%  100%  100%  100%  100%  100%  100%  100%  100%  100%  100%   \nF4        100%  100%  100%  100%  100%  100%  100%  100%  100%  100%  100%   \nF5          0%    0%    0%    0%    0%    0%    0%    0%    0%    0%    0%   \nF6        100%  100%  100%  100%  100%  100%  100%  100%  100%  100%  100%   \nF7        100%  100%  100%  100%  100%  100%  100%  100%  100%  100%  100%   \nF8          0%    0%    0%    0%    0%    0%    0%    0%    0%    0%    0%   \nF9        100%  100%  100%  100%  100%  100%  100%  100%  100%  100%  100%   \nF10       100%  100%  100%  100%  100%  100%  100%  100%  100%  100%  100%   \nF11       100%  100%  100%  100%  100%  100%  100%  100%  100%  100%  100%   \nF12       100%  100%  100%  100%  100%  100%  100%  100%  100%  100%  100%   \nF13       100%  100%  100%  100%  100%  100%  100%  100%  100%  100%  100%   \nF14       100%  100%  100%  100%  100%  100%  100%  100%  100%  100%  100%   \nF15        40%   30%    0%   10%   20%   10%   20%   40%   10%    0%   50%   \nF16       100%  100%  100%  100%  100%  100%  100%  100%  100%  100%  100%   \nF17       100%  100%  100%  100%  100%  100%  100%  100%  100%  100%  100%   \nF18       100%  100%  100%  100%  100%  100%  100%  100%  100%  100%  100%   \nF19         0%    0%    0%    0%    0%    0%    0%    0%    0%    0%    0%   \nF20        40%   40%   40%   40%   60%   40%   30%   20%   50%   30%   40%   \nF21        70%   80%   10%   70%   50%   90%   70%   50%   60%   70%   40%   \nF22        80%  100%   70%   70%   90%   80%   80%   70%   60%   80%   90%   \nF23        90%   90%   80%   70%   80%   80%   90%   90%   90%   70%   90%   \n\n           572   594   542   570   562   575   573   552   555  \nFunction                                                        \nF1        100%  100%  100%  100%  100%  100%  100%  100%  100%  \nF2        100%  100%  100%  100%  100%  100%  100%  100%  100%  \nF3        100%  100%  100%  100%  100%  100%  100%  100%  100%  \nF4        100%  100%  100%  100%  100%  100%  100%  100%  100%  \nF5          0%    0%    0%    0%    0%    0%    0%    0%    0%  \nF6        100%  100%  100%  100%  100%  100%  100%  100%  100%  \nF7        100%  100%  100%  100%  100%  100%  100%  100%  100%  \nF8          0%    0%    0%    0%    0%    0%    0%    0%    0%  \nF9        100%  100%  100%  100%  100%  100%  100%  100%  100%  \nF10       100%  100%  100%  100%  100%  100%  100%  100%  100%  \nF11       100%  100%  100%  100%  100%  100%  100%  100%  100%  \nF12       100%  100%  100%  100%  100%  100%  100%  100%  100%  \nF13       100%  100%  100%  100%  100%  100%  100%  100%  100%  \nF14       100%  100%  100%  100%  100%  100%  100%  100%  100%  \nF15         0%   20%   20%   20%    0%   10%    0%    0%   10%  \nF16       100%  100%  100%  100%  100%  100%  100%  100%  100%  \nF17       100%  100%  100%  100%  100%  100%  100%  100%  100%  \nF18       100%  100%  100%  100%  100%  100%  100%  100%  100%  \nF19         0%    0%    0%    0%    0%    0%    0%    0%    0%  \nF20        50%   60%   60%   30%   30%   40%   40%   20%   50%  \nF21        30%   30%   50%   60%   60%   60%   40%   40%   40%  \nF22        70%   60%   90%   80%   60%   80%   70%   90%   80%  \nF23        80%   80%   80%   80%   80%   80%   90%  100%  100%  ",
      "text/html": "<div>\n<style scoped>\n    .dataframe tbody tr th:only-of-type {\n        vertical-align: middle;\n    }\n\n    .dataframe tbody tr th {\n        vertical-align: top;\n    }\n\n    .dataframe thead th {\n        text-align: right;\n    }\n</style>\n<table border=\"1\" class=\"dataframe\">\n  <thead>\n    <tr style=\"text-align: right;\">\n      <th></th>\n      <th>590</th>\n      <th>593</th>\n      <th>579</th>\n      <th>588</th>\n      <th>589</th>\n      <th>591</th>\n      <th>576</th>\n      <th>587</th>\n      <th>569</th>\n      <th>558</th>\n      <th>592</th>\n      <th>572</th>\n      <th>594</th>\n      <th>542</th>\n      <th>570</th>\n      <th>562</th>\n      <th>575</th>\n      <th>573</th>\n      <th>552</th>\n      <th>555</th>\n    </tr>\n    <tr>\n      <th>Function</th>\n      <th></th>\n      <th></th>\n      <th></th>\n      <th></th>\n      <th></th>\n      <th></th>\n      <th></th>\n      <th></th>\n      <th></th>\n      <th></th>\n      <th></th>\n      <th></th>\n      <th></th>\n      <th></th>\n      <th></th>\n      <th></th>\n      <th></th>\n      <th></th>\n      <th></th>\n      <th></th>\n    </tr>\n  </thead>\n  <tbody>\n    <tr>\n      <th>F1</th>\n      <td>100%</td>\n      <td>100%</td>\n      <td>100%</td>\n      <td>100%</td>\n      <td>100%</td>\n      <td>100%</td>\n      <td>100%</td>\n      <td>100%</td>\n      <td>100%</td>\n      <td>100%</td>\n      <td>100%</td>\n      <td>100%</td>\n      <td>100%</td>\n      <td>100%</td>\n      <td>100%</td>\n      <td>100%</td>\n      <td>100%</td>\n      <td>100%</td>\n      <td>100%</td>\n      <td>100%</td>\n    </tr>\n    <tr>\n      <th>F2</th>\n      <td>100%</td>\n      <td>100%</td>\n      <td>100%</td>\n      <td>100%</td>\n      <td>100%</td>\n      <td>100%</td>\n      <td>100%</td>\n      <td>100%</td>\n      <td>100%</td>\n      <td>100%</td>\n      <td>100%</td>\n      <td>100%</td>\n      <td>100%</td>\n      <td>100%</td>\n      <td>100%</td>\n      <td>100%</td>\n      <td>100%</td>\n      <td>100%</td>\n      <td>100%</td>\n      <td>100%</td>\n    </tr>\n    <tr>\n      <th>F3</th>\n      <td>100%</td>\n      <td>100%</td>\n      <td>100%</td>\n      <td>100%</td>\n      <td>100%</td>\n      <td>100%</td>\n      <td>100%</td>\n      <td>100%</td>\n      <td>100%</td>\n      <td>100%</td>\n      <td>100%</td>\n      <td>100%</td>\n      <td>100%</td>\n      <td>100%</td>\n      <td>100%</td>\n      <td>100%</td>\n      <td>100%</td>\n      <td>100%</td>\n      <td>100%</td>\n      <td>100%</td>\n    </tr>\n    <tr>\n      <th>F4</th>\n      <td>100%</td>\n      <td>100%</td>\n      <td>100%</td>\n      <td>100%</td>\n      <td>100%</td>\n      <td>100%</td>\n      <td>100%</td>\n      <td>100%</td>\n      <td>100%</td>\n      <td>100%</td>\n      <td>100%</td>\n      <td>100%</td>\n      <td>100%</td>\n      <td>100%</td>\n      <td>100%</td>\n      <td>100%</td>\n      <td>100%</td>\n      <td>100%</td>\n      <td>100%</td>\n      <td>100%</td>\n    </tr>\n    <tr>\n      <th>F5</th>\n      <td>0%</td>\n      <td>0%</td>\n      <td>0%</td>\n      <td>0%</td>\n      <td>0%</td>\n      <td>0%</td>\n      <td>0%</td>\n      <td>0%</td>\n      <td>0%</td>\n      <td>0%</td>\n      <td>0%</td>\n      <td>0%</td>\n      <td>0%</td>\n      <td>0%</td>\n      <td>0%</td>\n      <td>0%</td>\n      <td>0%</td>\n      <td>0%</td>\n      <td>0%</td>\n      <td>0%</td>\n    </tr>\n    <tr>\n      <th>F6</th>\n      <td>100%</td>\n      <td>100%</td>\n      <td>100%</td>\n      <td>100%</td>\n      <td>100%</td>\n      <td>100%</td>\n      <td>100%</td>\n      <td>100%</td>\n      <td>100%</td>\n      <td>100%</td>\n      <td>100%</td>\n      <td>100%</td>\n      <td>100%</td>\n      <td>100%</td>\n      <td>100%</td>\n      <td>100%</td>\n      <td>100%</td>\n      <td>100%</td>\n      <td>100%</td>\n      <td>100%</td>\n    </tr>\n    <tr>\n      <th>F7</th>\n      <td>100%</td>\n      <td>100%</td>\n      <td>100%</td>\n      <td>100%</td>\n      <td>100%</td>\n      <td>100%</td>\n      <td>100%</td>\n      <td>100%</td>\n      <td>100%</td>\n      <td>100%</td>\n      <td>100%</td>\n      <td>100%</td>\n      <td>100%</td>\n      <td>100%</td>\n      <td>100%</td>\n      <td>100%</td>\n      <td>100%</td>\n      <td>100%</td>\n      <td>100%</td>\n      <td>100%</td>\n    </tr>\n    <tr>\n      <th>F8</th>\n      <td>0%</td>\n      <td>0%</td>\n      <td>0%</td>\n      <td>0%</td>\n      <td>0%</td>\n      <td>0%</td>\n      <td>0%</td>\n      <td>0%</td>\n      <td>0%</td>\n      <td>0%</td>\n      <td>0%</td>\n      <td>0%</td>\n      <td>0%</td>\n      <td>0%</td>\n      <td>0%</td>\n      <td>0%</td>\n      <td>0%</td>\n      <td>0%</td>\n      <td>0%</td>\n      <td>0%</td>\n    </tr>\n    <tr>\n      <th>F9</th>\n      <td>100%</td>\n      <td>100%</td>\n      <td>100%</td>\n      <td>100%</td>\n      <td>100%</td>\n      <td>100%</td>\n      <td>100%</td>\n      <td>100%</td>\n      <td>100%</td>\n      <td>100%</td>\n      <td>100%</td>\n      <td>100%</td>\n      <td>100%</td>\n      <td>100%</td>\n      <td>100%</td>\n      <td>100%</td>\n      <td>100%</td>\n      <td>100%</td>\n      <td>100%</td>\n      <td>100%</td>\n    </tr>\n    <tr>\n      <th>F10</th>\n      <td>100%</td>\n      <td>100%</td>\n      <td>100%</td>\n      <td>100%</td>\n      <td>100%</td>\n      <td>100%</td>\n      <td>100%</td>\n      <td>100%</td>\n      <td>100%</td>\n      <td>100%</td>\n      <td>100%</td>\n      <td>100%</td>\n      <td>100%</td>\n      <td>100%</td>\n      <td>100%</td>\n      <td>100%</td>\n      <td>100%</td>\n      <td>100%</td>\n      <td>100%</td>\n      <td>100%</td>\n    </tr>\n    <tr>\n      <th>F11</th>\n      <td>100%</td>\n      <td>100%</td>\n      <td>100%</td>\n      <td>100%</td>\n      <td>100%</td>\n      <td>100%</td>\n      <td>100%</td>\n      <td>100%</td>\n      <td>100%</td>\n      <td>100%</td>\n      <td>100%</td>\n      <td>100%</td>\n      <td>100%</td>\n      <td>100%</td>\n      <td>100%</td>\n      <td>100%</td>\n      <td>100%</td>\n      <td>100%</td>\n      <td>100%</td>\n      <td>100%</td>\n    </tr>\n    <tr>\n      <th>F12</th>\n      <td>100%</td>\n      <td>100%</td>\n      <td>100%</td>\n      <td>100%</td>\n      <td>100%</td>\n      <td>100%</td>\n      <td>100%</td>\n      <td>100%</td>\n      <td>100%</td>\n      <td>100%</td>\n      <td>100%</td>\n      <td>100%</td>\n      <td>100%</td>\n      <td>100%</td>\n      <td>100%</td>\n      <td>100%</td>\n      <td>100%</td>\n      <td>100%</td>\n      <td>100%</td>\n      <td>100%</td>\n    </tr>\n    <tr>\n      <th>F13</th>\n      <td>100%</td>\n      <td>100%</td>\n      <td>100%</td>\n      <td>100%</td>\n      <td>100%</td>\n      <td>100%</td>\n      <td>100%</td>\n      <td>100%</td>\n      <td>100%</td>\n      <td>100%</td>\n      <td>100%</td>\n      <td>100%</td>\n      <td>100%</td>\n      <td>100%</td>\n      <td>100%</td>\n      <td>100%</td>\n      <td>100%</td>\n      <td>100%</td>\n      <td>100%</td>\n      <td>100%</td>\n    </tr>\n    <tr>\n      <th>F14</th>\n      <td>100%</td>\n      <td>100%</td>\n      <td>100%</td>\n      <td>100%</td>\n      <td>100%</td>\n      <td>100%</td>\n      <td>100%</td>\n      <td>100%</td>\n      <td>100%</td>\n      <td>100%</td>\n      <td>100%</td>\n      <td>100%</td>\n      <td>100%</td>\n      <td>100%</td>\n      <td>100%</td>\n      <td>100%</td>\n      <td>100%</td>\n      <td>100%</td>\n      <td>100%</td>\n      <td>100%</td>\n    </tr>\n    <tr>\n      <th>F15</th>\n      <td>40%</td>\n      <td>30%</td>\n      <td>0%</td>\n      <td>10%</td>\n      <td>20%</td>\n      <td>10%</td>\n      <td>20%</td>\n      <td>40%</td>\n      <td>10%</td>\n      <td>0%</td>\n      <td>50%</td>\n      <td>0%</td>\n      <td>20%</td>\n      <td>20%</td>\n      <td>20%</td>\n      <td>0%</td>\n      <td>10%</td>\n      <td>0%</td>\n      <td>0%</td>\n      <td>10%</td>\n    </tr>\n    <tr>\n      <th>F16</th>\n      <td>100%</td>\n      <td>100%</td>\n      <td>100%</td>\n      <td>100%</td>\n      <td>100%</td>\n      <td>100%</td>\n      <td>100%</td>\n      <td>100%</td>\n      <td>100%</td>\n      <td>100%</td>\n      <td>100%</td>\n      <td>100%</td>\n      <td>100%</td>\n      <td>100%</td>\n      <td>100%</td>\n      <td>100%</td>\n      <td>100%</td>\n      <td>100%</td>\n      <td>100%</td>\n      <td>100%</td>\n    </tr>\n    <tr>\n      <th>F17</th>\n      <td>100%</td>\n      <td>100%</td>\n      <td>100%</td>\n      <td>100%</td>\n      <td>100%</td>\n      <td>100%</td>\n      <td>100%</td>\n      <td>100%</td>\n      <td>100%</td>\n      <td>100%</td>\n      <td>100%</td>\n      <td>100%</td>\n      <td>100%</td>\n      <td>100%</td>\n      <td>100%</td>\n      <td>100%</td>\n      <td>100%</td>\n      <td>100%</td>\n      <td>100%</td>\n      <td>100%</td>\n    </tr>\n    <tr>\n      <th>F18</th>\n      <td>100%</td>\n      <td>100%</td>\n      <td>100%</td>\n      <td>100%</td>\n      <td>100%</td>\n      <td>100%</td>\n      <td>100%</td>\n      <td>100%</td>\n      <td>100%</td>\n      <td>100%</td>\n      <td>100%</td>\n      <td>100%</td>\n      <td>100%</td>\n      <td>100%</td>\n      <td>100%</td>\n      <td>100%</td>\n      <td>100%</td>\n      <td>100%</td>\n      <td>100%</td>\n      <td>100%</td>\n    </tr>\n    <tr>\n      <th>F19</th>\n      <td>0%</td>\n      <td>0%</td>\n      <td>0%</td>\n      <td>0%</td>\n      <td>0%</td>\n      <td>0%</td>\n      <td>0%</td>\n      <td>0%</td>\n      <td>0%</td>\n      <td>0%</td>\n      <td>0%</td>\n      <td>0%</td>\n      <td>0%</td>\n      <td>0%</td>\n      <td>0%</td>\n      <td>0%</td>\n      <td>0%</td>\n      <td>0%</td>\n      <td>0%</td>\n      <td>0%</td>\n    </tr>\n    <tr>\n      <th>F20</th>\n      <td>40%</td>\n      <td>40%</td>\n      <td>40%</td>\n      <td>40%</td>\n      <td>60%</td>\n      <td>40%</td>\n      <td>30%</td>\n      <td>20%</td>\n      <td>50%</td>\n      <td>30%</td>\n      <td>40%</td>\n      <td>50%</td>\n      <td>60%</td>\n      <td>60%</td>\n      <td>30%</td>\n      <td>30%</td>\n      <td>40%</td>\n      <td>40%</td>\n      <td>20%</td>\n      <td>50%</td>\n    </tr>\n    <tr>\n      <th>F21</th>\n      <td>70%</td>\n      <td>80%</td>\n      <td>10%</td>\n      <td>70%</td>\n      <td>50%</td>\n      <td>90%</td>\n      <td>70%</td>\n      <td>50%</td>\n      <td>60%</td>\n      <td>70%</td>\n      <td>40%</td>\n      <td>30%</td>\n      <td>30%</td>\n      <td>50%</td>\n      <td>60%</td>\n      <td>60%</td>\n      <td>60%</td>\n      <td>40%</td>\n      <td>40%</td>\n      <td>40%</td>\n    </tr>\n    <tr>\n      <th>F22</th>\n      <td>80%</td>\n      <td>100%</td>\n      <td>70%</td>\n      <td>70%</td>\n      <td>90%</td>\n      <td>80%</td>\n      <td>80%</td>\n      <td>70%</td>\n      <td>60%</td>\n      <td>80%</td>\n      <td>90%</td>\n      <td>70%</td>\n      <td>60%</td>\n      <td>90%</td>\n      <td>80%</td>\n      <td>60%</td>\n      <td>80%</td>\n      <td>70%</td>\n      <td>90%</td>\n      <td>80%</td>\n    </tr>\n    <tr>\n      <th>F23</th>\n      <td>90%</td>\n      <td>90%</td>\n      <td>80%</td>\n      <td>70%</td>\n      <td>80%</td>\n      <td>80%</td>\n      <td>90%</td>\n      <td>90%</td>\n      <td>90%</td>\n      <td>70%</td>\n      <td>90%</td>\n      <td>80%</td>\n      <td>80%</td>\n      <td>80%</td>\n      <td>80%</td>\n      <td>80%</td>\n      <td>80%</td>\n      <td>90%</td>\n      <td>100%</td>\n      <td>100%</td>\n    </tr>\n  </tbody>\n</table>\n</div>"
     },
     "metadata": {},
     "output_type": "display_data"
    }
   ],
   "source": [
    "data_pm = pd.read_csv(\"./best_20com_9pm.csv\", header=0, index_col=[0])\n",
    "index = data_pm.index.tolist()\n",
    "print(index)\n",
    "def read_csv(path):\n",
    "    return pd.read_csv(path,index_col=[0,1],header=0)\n",
    "path_percent_list=[\"./combination\"+str(i)+\".csv\" for i in index]\n",
    "df = [read_csv(name) for name in path_percent_list]\n",
    "df = pd.concat(df,axis=1)\n",
    "df.columns = index\n",
    "print(df.columns)\n",
    "print(df)\n",
    "df.to_csv(\"./Baldwin_rawdata.csv\",header=True,index=True)\n",
    "\n",
    "def percent(Function, optimal):\n",
    "    dataframe = df.loc[(Function, slice(None)), :]\n",
    "    if Function in [\"F1\", \"F2\", \"F3\", \"F4\", \"F5\", \"F6\", \"F7\", \"F9\", \"F10\", \"F11\", \"F12\", \"F13\", \"F14\", \"F18\"]:\n",
    "        dataframe = dataframe.round(0)\n",
    "    elif Function in [\"F17\"]:\n",
    "        dataframe = dataframe.round(3)\n",
    "    elif Function in [\"F8\",\"F19\", \"F20\"]:\n",
    "        dataframe = dataframe.round(2)\n",
    "    elif Function in [\"F15\", \"F16\", \"F21\", \"F22\", \"F23\"]:\n",
    "        dataframe = dataframe.round(4)\n",
    "\n",
    "    dataframe = pd.DataFrame(data=dataframe.values,\n",
    "                             columns=dataframe.columns)\n",
    "    percent_dataframe = dataframe.applymap(lambda x: True if x <= optimal else False)\n",
    "    percent_dataframe[\"Function\"] = Function\n",
    "    return percent_dataframe\n",
    "\n",
    "opt = [0.0, 0.0, 0.0, 0.0, 0.0, 0.0, 0.0, -418.98 * 50, 0.0, 0.0, 0.0, 0.0, 0.0, 1.0, 0.0003, -1.0316, 0.398, 3.0,\n",
    "       -3.86, -3.32, -10.1532,-10.4028, -10.5363]\n",
    "function_list = np.arange(1, 24, 1)\n",
    "percent_df = [percent(Function=\"F\" + str(i), optimal=opt[i - 1]) for i in function_list]\n",
    "percent_df = pd.concat(percent_df, axis=0)\n",
    "percent_df = percent_df.groupby([\"Function\"]).sum().applymap(lambda x: str(x * 10) + \"%\")\n",
    "index = [\"F\" + str(i) for i in function_list]\n",
    "percent_df = percent_df.loc[index]\n",
    "display(percent_df)\n",
    "percent_df.to_csv(\"./Baldwin_percent.csv\")"
   ],
   "metadata": {
    "collapsed": false,
    "pycharm": {
     "name": "#%%\n"
    }
   }
  },
  {
   "cell_type": "code",
   "execution_count": 6,
   "outputs": [],
   "source": [],
   "metadata": {
    "collapsed": false,
    "pycharm": {
     "name": "#%%\n"
    }
   }
  }
 ],
 "metadata": {
  "kernelspec": {
   "display_name": "Python 3",
   "language": "python",
   "name": "python3"
  },
  "language_info": {
   "codemirror_mode": {
    "name": "ipython",
    "version": 2
   },
   "file_extension": ".py",
   "mimetype": "text/x-python",
   "name": "python",
   "nbconvert_exporter": "python",
   "pygments_lexer": "ipython2",
   "version": "2.7.6"
  }
 },
 "nbformat": 4,
 "nbformat_minor": 0
}