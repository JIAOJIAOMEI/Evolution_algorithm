{
 "cells": [
  {
   "cell_type": "code",
   "execution_count": 1,
   "metadata": {
    "collapsed": true,
    "pycharm": {
     "name": "#%%\n"
    }
   },
   "outputs": [],
   "source": [
    "import numpy as np\n",
    "import pandas as pd"
   ]
  },
  {
   "cell_type": "code",
   "execution_count": 2,
   "outputs": [
    {
     "name": "stdout",
     "output_type": "stream",
     "text": [
      "[590, 593, 579, 588, 589, 591, 576, 587, 569, 558, 592, 572, 594, 542, 570, 562, 575, 573, 552, 555]\n",
      "Int64Index([590, 593, 579, 588, 589, 591, 576, 587, 569, 558, 592, 572, 594,\n",
      "            542, 570, 562, 575, 573, 552, 555],\n",
      "           dtype='int64')\n",
      "                   590        593        579        588        589        591  \\\n",
      "F1  Times1   2000198.0  2000198.0  2000398.0  2000198.0  2000198.0  2000198.0   \n",
      "    Times2   2000198.0  2000198.0  2000398.0  2000198.0  2000198.0  2000198.0   \n",
      "    Times3   2000198.0  2000198.0  2000398.0  2000198.0  2000198.0  2000198.0   \n",
      "    Times4   2000198.0  2000198.0  2000398.0  2000198.0  2000198.0  2000198.0   \n",
      "    Times5   2000198.0  2000198.0  2000398.0  2000198.0  2000198.0  2000198.0   \n",
      "...                ...        ...        ...        ...        ...        ...   \n",
      "F23 Times6   1265476.0    75012.0    23728.0    63826.0   146184.0    91910.0   \n",
      "    Times7     90996.0    19564.0    38190.0  2000198.0   111718.0   357934.0   \n",
      "    Times8    111568.0  2000198.0    46108.0   306590.0    65074.0    71212.0   \n",
      "    Times9    595508.0  2000198.0    55040.0   374370.0   123496.0  2000198.0   \n",
      "    Times10  2000198.0   136748.0    59058.0   129540.0    27804.0   144958.0   \n",
      "\n",
      "                   576        587        569        558        592        572  \\\n",
      "F1  Times1   2000398.0  2000198.0  2000398.0  2000198.0  2000198.0  2000398.0   \n",
      "    Times2   2000398.0  2000198.0  2000398.0  2000198.0  2000198.0  2000398.0   \n",
      "    Times3   2000398.0  2000198.0  2000398.0  2000198.0  2000198.0  2000398.0   \n",
      "    Times4   2000398.0  2000198.0  2000398.0  2000198.0  2000198.0  2000398.0   \n",
      "    Times5   2000398.0  2000198.0  2000398.0  2000198.0  2000198.0  2000398.0   \n",
      "...                ...        ...        ...        ...        ...        ...   \n",
      "F23 Times6   2000398.0    61526.0   117324.0   676776.0   147044.0  2000398.0   \n",
      "    Times7   1286316.0   617906.0    31828.0    56600.0   836946.0    33278.0   \n",
      "    Times8     66392.0    54890.0   162026.0  2000198.0  2000198.0   454500.0   \n",
      "    Times9     80016.0   142722.0    60268.0   147168.0    37362.0   115388.0   \n",
      "    Times10   978266.0    45590.0    36920.0  1349464.0    81944.0    50438.0   \n",
      "\n",
      "                   594        542        570        562        575        573  \\\n",
      "F1  Times1   2000198.0  2000398.0  2000398.0  2000198.0  2000398.0  2000398.0   \n",
      "    Times2   2000198.0  2000398.0  2000398.0  2000198.0  2000398.0  2000398.0   \n",
      "    Times3   2000198.0  2000398.0  2000398.0  2000198.0  2000398.0  2000398.0   \n",
      "    Times4   2000198.0  2000398.0  2000398.0  2000198.0  2000398.0  2000398.0   \n",
      "    Times5   2000198.0  2000398.0  2000398.0  2000198.0  2000398.0  2000398.0   \n",
      "...                ...        ...        ...        ...        ...        ...   \n",
      "F23 Times6   2000198.0  2000398.0    40584.0   472630.0    60860.0   294066.0   \n",
      "    Times7    105690.0  1586748.0   732202.0   182566.0    30080.0   102166.0   \n",
      "    Times8    398786.0  2000398.0    51038.0    15584.0    86846.0    46606.0   \n",
      "    Times9     20970.0    22338.0   889658.0   174562.0  1308020.0  2000398.0   \n",
      "    Times10    58732.0    68938.0  2000398.0  2000198.0    51396.0  2000398.0   \n",
      "\n",
      "                   552        555  \n",
      "F1  Times1   2000198.0  2000198.0  \n",
      "    Times2   2000198.0  2000198.0  \n",
      "    Times3   2000198.0  2000198.0  \n",
      "    Times4   2000198.0  2000198.0  \n",
      "    Times5   2000198.0  2000198.0  \n",
      "...                ...        ...  \n",
      "F23 Times6    344842.0  2000198.0  \n",
      "    Times7   1599100.0   285078.0  \n",
      "    Times8     37494.0  2000198.0  \n",
      "    Times9    315804.0    67016.0  \n",
      "    Times10  2000198.0    20962.0  \n",
      "\n",
      "[230 rows x 20 columns]\n"
     ]
    }
   ],
   "source": [
    "data_pm = pd.read_csv(\"./best_20com_9pm.csv\", header=0, index_col=[0])\n",
    "index = data_pm.index.tolist()\n",
    "print(index)\n",
    "def read_csv(path):\n",
    "    return pd.read_csv(path,index_col=[0,1],header=0)\n",
    "path_budget_list=[\"./budget\"+str(i)+\".csv\" for i in index]\n",
    "df = [read_csv(name) for name in path_budget_list]\n",
    "df = pd.concat(df,axis=1)\n",
    "df.columns = index\n",
    "print(df.columns)\n",
    "print(df)\n",
    "df.to_csv(\"./Baldwin_budget.csv\",header=True,index=True)"
   ],
   "metadata": {
    "collapsed": false,
    "pycharm": {
     "name": "#%%\n"
    }
   }
  },
  {
   "cell_type": "code",
   "execution_count": 3,
   "outputs": [
    {
     "name": "stdout",
     "output_type": "stream",
     "text": [
      "[590, 593, 579, 588, 589, 591, 576, 587, 569, 558, 592, 572, 594, 542, 570, 562, 575, 573, 552, 555]\n",
      "Int64Index([590, 593, 579, 588, 589, 591, 576, 587, 569, 558, 592, 572, 594,\n",
      "            542, 570, 562, 575, 573, 552, 555],\n",
      "           dtype='int64')\n",
      "                   590        593        579        588        589        591  \\\n",
      "F1  Times1    0.002859   0.001919   0.002857   0.002190   0.002459   0.001974   \n",
      "    Times2    0.002832   0.002362   0.001429   0.003034   0.003126   0.004088   \n",
      "    Times3    0.001804   0.001986   0.000970   0.001998   0.001922   0.002054   \n",
      "    Times4    0.002807   0.002598   0.000869   0.001712   0.002466   0.001712   \n",
      "    Times5    0.002727   0.002078   0.002015   0.002942   0.002423   0.002585   \n",
      "...                ...        ...        ...        ...        ...        ...   \n",
      "F23 Times6  -10.536253 -10.536245 -10.536389 -10.536247 -10.536252 -10.536249   \n",
      "    Times7  -10.536275 -10.536230 -10.536286  -5.128481 -10.536243 -10.536320   \n",
      "    Times8  -10.536371  -5.128481 -10.536216 -10.536202 -10.536314 -10.536272   \n",
      "    Times9  -10.536213  -5.175647 -10.536276 -10.536217 -10.536230  -5.128481   \n",
      "    Times10  -5.175647 -10.536279 -10.536342 -10.536365 -10.536215 -10.536359   \n",
      "\n",
      "                   576        587        569        558        592        572  \\\n",
      "F1  Times1    0.000665   0.001926   0.001588   0.000931   0.003473   0.001010   \n",
      "    Times2    0.001590   0.002439   0.001268   0.001227   0.002116   0.000966   \n",
      "    Times3    0.000759   0.002620   0.000836   0.000786   0.002813   0.001024   \n",
      "    Times4    0.000967   0.002558   0.001168   0.000554   0.003113   0.001543   \n",
      "    Times5    0.001071   0.001726   0.000801   0.001035   0.001097   0.001084   \n",
      "...                ...        ...        ...        ...        ...        ...   \n",
      "F23 Times6   -5.128481 -10.536201 -10.536266 -10.536300 -10.536347  -5.175647   \n",
      "    Times7  -10.536397 -10.536217 -10.536231 -10.536212 -10.536285 -10.536224   \n",
      "    Times8  -10.536378 -10.536369 -10.536205  -5.128481  -5.128481 -10.536297   \n",
      "    Times9  -10.536284 -10.536305 -10.536371 -10.536256 -10.536210 -10.536316   \n",
      "    Times10 -10.536212 -10.536295 -10.536318 -10.536222 -10.536222 -10.536205   \n",
      "\n",
      "                   594        542        570        562        575        573  \\\n",
      "F1  Times1    0.002866   0.002046   0.001255   0.000946   0.001901   0.001563   \n",
      "    Times2    0.001296   0.001094   0.000668   0.001425   0.000815   0.002070   \n",
      "    Times3    0.001913   0.001978   0.000899   0.002213   0.001763   0.001406   \n",
      "    Times4    0.001112   0.002538   0.001061   0.001093   0.000530   0.001098   \n",
      "    Times5    0.002501   0.002132   0.001287   0.001915   0.000808   0.001802   \n",
      "...                ...        ...        ...        ...        ...        ...   \n",
      "F23 Times6   -5.175647  -5.175647 -10.536232 -10.536375 -10.536256 -10.536392   \n",
      "    Times7  -10.536260 -10.536340 -10.536282 -10.536212 -10.536293 -10.536218   \n",
      "    Times8  -10.536238  -5.128481 -10.536312 -10.536200 -10.536341 -10.536251   \n",
      "    Times9  -10.536350 -10.536252 -10.536322 -10.536343 -10.536343  -5.175647   \n",
      "    Times10 -10.536283 -10.536390  -5.128481  -5.175647 -10.536355  -7.369716   \n",
      "\n",
      "                   552        555  \n",
      "F1  Times1    0.001521   0.001074  \n",
      "    Times2    0.000801   0.001235  \n",
      "    Times3    0.001158   0.000943  \n",
      "    Times4    0.001014   0.001302  \n",
      "    Times5    0.002252   0.001061  \n",
      "...                ...        ...  \n",
      "F23 Times6  -10.536220  -4.424654  \n",
      "    Times7  -10.536395 -10.536255  \n",
      "    Times8  -10.536298  -5.421925  \n",
      "    Times9  -10.536350 -10.536235  \n",
      "    Times10  -5.175647 -10.536222  \n",
      "\n",
      "[230 rows x 20 columns]\n"
     ]
    },
    {
     "data": {
      "text/plain": "           590   593   579   588   589   591   576   587   569   558   592  \\\nFunction                                                                     \nF1        100%  100%  100%  100%  100%  100%  100%  100%  100%  100%  100%   \nF2          0%    0%    0%    0%    0%    0%    0%    0%    0%    0%    0%   \nF3          0%    0%    0%    0%    0%    0%    0%    0%    0%    0%    0%   \nF4          0%    0%    0%    0%    0%    0%    0%    0%    0%    0%    0%   \nF5          0%    0%    0%    0%    0%    0%    0%    0%    0%    0%    0%   \nF6        100%  100%  100%  100%  100%  100%  100%  100%  100%  100%  100%   \nF7        100%  100%  100%  100%  100%  100%  100%  100%  100%  100%  100%   \nF8          0%    0%    0%    0%    0%    0%    0%    0%    0%    0%    0%   \nF9        100%  100%  100%  100%  100%  100%  100%  100%  100%  100%  100%   \nF10        90%   70%  100%   90%   60%   80%  100%   70%  100%  100%   70%   \nF11        20%   60%   50%   40%   50%   70%   40%   50%   50%   70%   60%   \nF12       100%  100%  100%  100%  100%  100%  100%  100%  100%  100%  100%   \nF13       100%  100%  100%  100%  100%  100%  100%  100%  100%  100%  100%   \nF14       100%  100%  100%  100%  100%  100%  100%  100%  100%  100%  100%   \nF15       100%   90%   90%   80%   60%  100%  100%   90%  100%  100%   50%   \nF16       100%  100%  100%  100%  100%  100%  100%  100%  100%  100%  100%   \nF17       100%  100%  100%  100%  100%  100%  100%  100%  100%  100%  100%   \nF18       100%  100%  100%  100%  100%  100%  100%  100%  100%  100%  100%   \nF19       100%  100%  100%  100%  100%  100%  100%  100%  100%  100%  100%   \nF20        40%   50%   30%   40%   50%   30%   20%   30%   40%   50%   20%   \nF21        80%   70%   70%   80%  100%   70%   40%   80%   50%   90%   70%   \nF22        90%   90%   70%   90%   60%   90%   90%   70%   80%   70%   90%   \nF23        80%   70%   90%   90%  100%   80%   80%  100%   90%   80%   90%   \n\n           572   594   542   570   562   575   573   552   555  \nFunction                                                        \nF1        100%  100%  100%  100%  100%  100%  100%  100%  100%  \nF2          0%    0%    0%    0%    0%    0%    0%    0%    0%  \nF3          0%    0%    0%    0%    0%    0%    0%    0%    0%  \nF4          0%    0%    0%    0%    0%    0%    0%    0%    0%  \nF5          0%    0%    0%    0%    0%    0%    0%    0%    0%  \nF6        100%  100%  100%  100%  100%  100%  100%  100%  100%  \nF7        100%  100%  100%  100%  100%  100%  100%  100%  100%  \nF8          0%    0%    0%    0%    0%    0%    0%    0%    0%  \nF9        100%  100%  100%  100%  100%  100%  100%  100%  100%  \nF10       100%   60%  100%  100%  100%  100%  100%  100%  100%  \nF11        60%   50%   70%   40%   60%   60%   40%   30%   60%  \nF12       100%  100%  100%  100%  100%  100%  100%  100%  100%  \nF13       100%  100%  100%  100%  100%  100%  100%  100%  100%  \nF14       100%  100%  100%  100%  100%  100%  100%  100%  100%  \nF15        80%   90%  100%   90%  100%  100%  100%   90%   80%  \nF16       100%  100%  100%  100%  100%  100%  100%  100%  100%  \nF17       100%  100%  100%  100%  100%  100%  100%  100%  100%  \nF18       100%  100%  100%  100%  100%  100%  100%  100%  100%  \nF19       100%  100%  100%  100%  100%  100%  100%  100%  100%  \nF20        50%   40%   40%   40%   40%   50%   80%   80%   30%  \nF21        60%   70%   50%   50%   60%   50%   70%   70%   50%  \nF22        80%   90%   40%  100%   60%   60%   80%   80%   60%  \nF23        90%   80%   70%   70%   90%  100%   70%   80%   80%  ",
      "text/html": "<div>\n<style scoped>\n    .dataframe tbody tr th:only-of-type {\n        vertical-align: middle;\n    }\n\n    .dataframe tbody tr th {\n        vertical-align: top;\n    }\n\n    .dataframe thead th {\n        text-align: right;\n    }\n</style>\n<table border=\"1\" class=\"dataframe\">\n  <thead>\n    <tr style=\"text-align: right;\">\n      <th></th>\n      <th>590</th>\n      <th>593</th>\n      <th>579</th>\n      <th>588</th>\n      <th>589</th>\n      <th>591</th>\n      <th>576</th>\n      <th>587</th>\n      <th>569</th>\n      <th>558</th>\n      <th>592</th>\n      <th>572</th>\n      <th>594</th>\n      <th>542</th>\n      <th>570</th>\n      <th>562</th>\n      <th>575</th>\n      <th>573</th>\n      <th>552</th>\n      <th>555</th>\n    </tr>\n    <tr>\n      <th>Function</th>\n      <th></th>\n      <th></th>\n      <th></th>\n      <th></th>\n      <th></th>\n      <th></th>\n      <th></th>\n      <th></th>\n      <th></th>\n      <th></th>\n      <th></th>\n      <th></th>\n      <th></th>\n      <th></th>\n      <th></th>\n      <th></th>\n      <th></th>\n      <th></th>\n      <th></th>\n      <th></th>\n    </tr>\n  </thead>\n  <tbody>\n    <tr>\n      <th>F1</th>\n      <td>100%</td>\n      <td>100%</td>\n      <td>100%</td>\n      <td>100%</td>\n      <td>100%</td>\n      <td>100%</td>\n      <td>100%</td>\n      <td>100%</td>\n      <td>100%</td>\n      <td>100%</td>\n      <td>100%</td>\n      <td>100%</td>\n      <td>100%</td>\n      <td>100%</td>\n      <td>100%</td>\n      <td>100%</td>\n      <td>100%</td>\n      <td>100%</td>\n      <td>100%</td>\n      <td>100%</td>\n    </tr>\n    <tr>\n      <th>F2</th>\n      <td>0%</td>\n      <td>0%</td>\n      <td>0%</td>\n      <td>0%</td>\n      <td>0%</td>\n      <td>0%</td>\n      <td>0%</td>\n      <td>0%</td>\n      <td>0%</td>\n      <td>0%</td>\n      <td>0%</td>\n      <td>0%</td>\n      <td>0%</td>\n      <td>0%</td>\n      <td>0%</td>\n      <td>0%</td>\n      <td>0%</td>\n      <td>0%</td>\n      <td>0%</td>\n      <td>0%</td>\n    </tr>\n    <tr>\n      <th>F3</th>\n      <td>0%</td>\n      <td>0%</td>\n      <td>0%</td>\n      <td>0%</td>\n      <td>0%</td>\n      <td>0%</td>\n      <td>0%</td>\n      <td>0%</td>\n      <td>0%</td>\n      <td>0%</td>\n      <td>0%</td>\n      <td>0%</td>\n      <td>0%</td>\n      <td>0%</td>\n      <td>0%</td>\n      <td>0%</td>\n      <td>0%</td>\n      <td>0%</td>\n      <td>0%</td>\n      <td>0%</td>\n    </tr>\n    <tr>\n      <th>F4</th>\n      <td>0%</td>\n      <td>0%</td>\n      <td>0%</td>\n      <td>0%</td>\n      <td>0%</td>\n      <td>0%</td>\n      <td>0%</td>\n      <td>0%</td>\n      <td>0%</td>\n      <td>0%</td>\n      <td>0%</td>\n      <td>0%</td>\n      <td>0%</td>\n      <td>0%</td>\n      <td>0%</td>\n      <td>0%</td>\n      <td>0%</td>\n      <td>0%</td>\n      <td>0%</td>\n      <td>0%</td>\n    </tr>\n    <tr>\n      <th>F5</th>\n      <td>0%</td>\n      <td>0%</td>\n      <td>0%</td>\n      <td>0%</td>\n      <td>0%</td>\n      <td>0%</td>\n      <td>0%</td>\n      <td>0%</td>\n      <td>0%</td>\n      <td>0%</td>\n      <td>0%</td>\n      <td>0%</td>\n      <td>0%</td>\n      <td>0%</td>\n      <td>0%</td>\n      <td>0%</td>\n      <td>0%</td>\n      <td>0%</td>\n      <td>0%</td>\n      <td>0%</td>\n    </tr>\n    <tr>\n      <th>F6</th>\n      <td>100%</td>\n      <td>100%</td>\n      <td>100%</td>\n      <td>100%</td>\n      <td>100%</td>\n      <td>100%</td>\n      <td>100%</td>\n      <td>100%</td>\n      <td>100%</td>\n      <td>100%</td>\n      <td>100%</td>\n      <td>100%</td>\n      <td>100%</td>\n      <td>100%</td>\n      <td>100%</td>\n      <td>100%</td>\n      <td>100%</td>\n      <td>100%</td>\n      <td>100%</td>\n      <td>100%</td>\n    </tr>\n    <tr>\n      <th>F7</th>\n      <td>100%</td>\n      <td>100%</td>\n      <td>100%</td>\n      <td>100%</td>\n      <td>100%</td>\n      <td>100%</td>\n      <td>100%</td>\n      <td>100%</td>\n      <td>100%</td>\n      <td>100%</td>\n      <td>100%</td>\n      <td>100%</td>\n      <td>100%</td>\n      <td>100%</td>\n      <td>100%</td>\n      <td>100%</td>\n      <td>100%</td>\n      <td>100%</td>\n      <td>100%</td>\n      <td>100%</td>\n    </tr>\n    <tr>\n      <th>F8</th>\n      <td>0%</td>\n      <td>0%</td>\n      <td>0%</td>\n      <td>0%</td>\n      <td>0%</td>\n      <td>0%</td>\n      <td>0%</td>\n      <td>0%</td>\n      <td>0%</td>\n      <td>0%</td>\n      <td>0%</td>\n      <td>0%</td>\n      <td>0%</td>\n      <td>0%</td>\n      <td>0%</td>\n      <td>0%</td>\n      <td>0%</td>\n      <td>0%</td>\n      <td>0%</td>\n      <td>0%</td>\n    </tr>\n    <tr>\n      <th>F9</th>\n      <td>100%</td>\n      <td>100%</td>\n      <td>100%</td>\n      <td>100%</td>\n      <td>100%</td>\n      <td>100%</td>\n      <td>100%</td>\n      <td>100%</td>\n      <td>100%</td>\n      <td>100%</td>\n      <td>100%</td>\n      <td>100%</td>\n      <td>100%</td>\n      <td>100%</td>\n      <td>100%</td>\n      <td>100%</td>\n      <td>100%</td>\n      <td>100%</td>\n      <td>100%</td>\n      <td>100%</td>\n    </tr>\n    <tr>\n      <th>F10</th>\n      <td>90%</td>\n      <td>70%</td>\n      <td>100%</td>\n      <td>90%</td>\n      <td>60%</td>\n      <td>80%</td>\n      <td>100%</td>\n      <td>70%</td>\n      <td>100%</td>\n      <td>100%</td>\n      <td>70%</td>\n      <td>100%</td>\n      <td>60%</td>\n      <td>100%</td>\n      <td>100%</td>\n      <td>100%</td>\n      <td>100%</td>\n      <td>100%</td>\n      <td>100%</td>\n      <td>100%</td>\n    </tr>\n    <tr>\n      <th>F11</th>\n      <td>20%</td>\n      <td>60%</td>\n      <td>50%</td>\n      <td>40%</td>\n      <td>50%</td>\n      <td>70%</td>\n      <td>40%</td>\n      <td>50%</td>\n      <td>50%</td>\n      <td>70%</td>\n      <td>60%</td>\n      <td>60%</td>\n      <td>50%</td>\n      <td>70%</td>\n      <td>40%</td>\n      <td>60%</td>\n      <td>60%</td>\n      <td>40%</td>\n      <td>30%</td>\n      <td>60%</td>\n    </tr>\n    <tr>\n      <th>F12</th>\n      <td>100%</td>\n      <td>100%</td>\n      <td>100%</td>\n      <td>100%</td>\n      <td>100%</td>\n      <td>100%</td>\n      <td>100%</td>\n      <td>100%</td>\n      <td>100%</td>\n      <td>100%</td>\n      <td>100%</td>\n      <td>100%</td>\n      <td>100%</td>\n      <td>100%</td>\n      <td>100%</td>\n      <td>100%</td>\n      <td>100%</td>\n      <td>100%</td>\n      <td>100%</td>\n      <td>100%</td>\n    </tr>\n    <tr>\n      <th>F13</th>\n      <td>100%</td>\n      <td>100%</td>\n      <td>100%</td>\n      <td>100%</td>\n      <td>100%</td>\n      <td>100%</td>\n      <td>100%</td>\n      <td>100%</td>\n      <td>100%</td>\n      <td>100%</td>\n      <td>100%</td>\n      <td>100%</td>\n      <td>100%</td>\n      <td>100%</td>\n      <td>100%</td>\n      <td>100%</td>\n      <td>100%</td>\n      <td>100%</td>\n      <td>100%</td>\n      <td>100%</td>\n    </tr>\n    <tr>\n      <th>F14</th>\n      <td>100%</td>\n      <td>100%</td>\n      <td>100%</td>\n      <td>100%</td>\n      <td>100%</td>\n      <td>100%</td>\n      <td>100%</td>\n      <td>100%</td>\n      <td>100%</td>\n      <td>100%</td>\n      <td>100%</td>\n      <td>100%</td>\n      <td>100%</td>\n      <td>100%</td>\n      <td>100%</td>\n      <td>100%</td>\n      <td>100%</td>\n      <td>100%</td>\n      <td>100%</td>\n      <td>100%</td>\n    </tr>\n    <tr>\n      <th>F15</th>\n      <td>100%</td>\n      <td>90%</td>\n      <td>90%</td>\n      <td>80%</td>\n      <td>60%</td>\n      <td>100%</td>\n      <td>100%</td>\n      <td>90%</td>\n      <td>100%</td>\n      <td>100%</td>\n      <td>50%</td>\n      <td>80%</td>\n      <td>90%</td>\n      <td>100%</td>\n      <td>90%</td>\n      <td>100%</td>\n      <td>100%</td>\n      <td>100%</td>\n      <td>90%</td>\n      <td>80%</td>\n    </tr>\n    <tr>\n      <th>F16</th>\n      <td>100%</td>\n      <td>100%</td>\n      <td>100%</td>\n      <td>100%</td>\n      <td>100%</td>\n      <td>100%</td>\n      <td>100%</td>\n      <td>100%</td>\n      <td>100%</td>\n      <td>100%</td>\n      <td>100%</td>\n      <td>100%</td>\n      <td>100%</td>\n      <td>100%</td>\n      <td>100%</td>\n      <td>100%</td>\n      <td>100%</td>\n      <td>100%</td>\n      <td>100%</td>\n      <td>100%</td>\n    </tr>\n    <tr>\n      <th>F17</th>\n      <td>100%</td>\n      <td>100%</td>\n      <td>100%</td>\n      <td>100%</td>\n      <td>100%</td>\n      <td>100%</td>\n      <td>100%</td>\n      <td>100%</td>\n      <td>100%</td>\n      <td>100%</td>\n      <td>100%</td>\n      <td>100%</td>\n      <td>100%</td>\n      <td>100%</td>\n      <td>100%</td>\n      <td>100%</td>\n      <td>100%</td>\n      <td>100%</td>\n      <td>100%</td>\n      <td>100%</td>\n    </tr>\n    <tr>\n      <th>F18</th>\n      <td>100%</td>\n      <td>100%</td>\n      <td>100%</td>\n      <td>100%</td>\n      <td>100%</td>\n      <td>100%</td>\n      <td>100%</td>\n      <td>100%</td>\n      <td>100%</td>\n      <td>100%</td>\n      <td>100%</td>\n      <td>100%</td>\n      <td>100%</td>\n      <td>100%</td>\n      <td>100%</td>\n      <td>100%</td>\n      <td>100%</td>\n      <td>100%</td>\n      <td>100%</td>\n      <td>100%</td>\n    </tr>\n    <tr>\n      <th>F19</th>\n      <td>100%</td>\n      <td>100%</td>\n      <td>100%</td>\n      <td>100%</td>\n      <td>100%</td>\n      <td>100%</td>\n      <td>100%</td>\n      <td>100%</td>\n      <td>100%</td>\n      <td>100%</td>\n      <td>100%</td>\n      <td>100%</td>\n      <td>100%</td>\n      <td>100%</td>\n      <td>100%</td>\n      <td>100%</td>\n      <td>100%</td>\n      <td>100%</td>\n      <td>100%</td>\n      <td>100%</td>\n    </tr>\n    <tr>\n      <th>F20</th>\n      <td>40%</td>\n      <td>50%</td>\n      <td>30%</td>\n      <td>40%</td>\n      <td>50%</td>\n      <td>30%</td>\n      <td>20%</td>\n      <td>30%</td>\n      <td>40%</td>\n      <td>50%</td>\n      <td>20%</td>\n      <td>50%</td>\n      <td>40%</td>\n      <td>40%</td>\n      <td>40%</td>\n      <td>40%</td>\n      <td>50%</td>\n      <td>80%</td>\n      <td>80%</td>\n      <td>30%</td>\n    </tr>\n    <tr>\n      <th>F21</th>\n      <td>80%</td>\n      <td>70%</td>\n      <td>70%</td>\n      <td>80%</td>\n      <td>100%</td>\n      <td>70%</td>\n      <td>40%</td>\n      <td>80%</td>\n      <td>50%</td>\n      <td>90%</td>\n      <td>70%</td>\n      <td>60%</td>\n      <td>70%</td>\n      <td>50%</td>\n      <td>50%</td>\n      <td>60%</td>\n      <td>50%</td>\n      <td>70%</td>\n      <td>70%</td>\n      <td>50%</td>\n    </tr>\n    <tr>\n      <th>F22</th>\n      <td>90%</td>\n      <td>90%</td>\n      <td>70%</td>\n      <td>90%</td>\n      <td>60%</td>\n      <td>90%</td>\n      <td>90%</td>\n      <td>70%</td>\n      <td>80%</td>\n      <td>70%</td>\n      <td>90%</td>\n      <td>80%</td>\n      <td>90%</td>\n      <td>40%</td>\n      <td>100%</td>\n      <td>60%</td>\n      <td>60%</td>\n      <td>80%</td>\n      <td>80%</td>\n      <td>60%</td>\n    </tr>\n    <tr>\n      <th>F23</th>\n      <td>80%</td>\n      <td>70%</td>\n      <td>90%</td>\n      <td>90%</td>\n      <td>100%</td>\n      <td>80%</td>\n      <td>80%</td>\n      <td>100%</td>\n      <td>90%</td>\n      <td>80%</td>\n      <td>90%</td>\n      <td>90%</td>\n      <td>80%</td>\n      <td>70%</td>\n      <td>70%</td>\n      <td>90%</td>\n      <td>100%</td>\n      <td>70%</td>\n      <td>80%</td>\n      <td>80%</td>\n    </tr>\n  </tbody>\n</table>\n</div>"
     },
     "metadata": {},
     "output_type": "display_data"
    }
   ],
   "source": [
    "data_pm = pd.read_csv(\"./best_20com_9pm.csv\", header=0, index_col=[0])\n",
    "index = data_pm.index.tolist()\n",
    "print(index)\n",
    "def read_csv(path):\n",
    "    return pd.read_csv(path,index_col=[0,1],header=0)\n",
    "path_percent_list=[\"./combination\"+str(i)+\".csv\" for i in index]\n",
    "df = [read_csv(name) for name in path_percent_list]\n",
    "df = pd.concat(df,axis=1)\n",
    "df.columns = index\n",
    "print(df.columns)\n",
    "print(df)\n",
    "df.to_csv(\"./Baldwin_rawdata.csv\",header=True,index=True)\n",
    "\n",
    "def percent(Function, optimal):\n",
    "    dataframe = df.loc[(Function, slice(None)), :]\n",
    "    dataframe = pd.DataFrame(data=dataframe.values,\n",
    "                             columns=dataframe.columns)\n",
    "    percent_dataframe = dataframe.applymap(lambda x: True if ((x-optimal)<=threshold or x<=optimal) else False)\n",
    "    percent_dataframe[\"Function\"] = Function\n",
    "    return percent_dataframe\n",
    "\n",
    "threshold =0.01\n",
    "opt = [0.0, 0.0, 0.0, 0.0, 0.0, 0.0, 0.0, -418.98 * 50, 0.0, 0.0, 0.0, 0.0, 0.0, 1.0, 0.0003, -1.0316, 0.398, 3.0,\n",
    "       -3.86, -3.32, -10.1532,-10.4028, -10.5363]\n",
    "function_list = np.arange(1, 24, 1)\n",
    "percent_df = [percent(Function=\"F\" + str(i), optimal=opt[i - 1]) for i in function_list]\n",
    "percent_df = pd.concat(percent_df, axis=0)\n",
    "percent_df = percent_df.groupby([\"Function\"]).sum().applymap(lambda x: str(x * 10) + \"%\")\n",
    "index = [\"F\" + str(i) for i in function_list]\n",
    "percent_df = percent_df.loc[index]\n",
    "display(percent_df)\n",
    "percent_df.to_csv(\"./Baldwin_percent.csv\")"
   ],
   "metadata": {
    "collapsed": false,
    "pycharm": {
     "name": "#%%\n"
    }
   }
  },
  {
   "cell_type": "code",
   "execution_count": 4,
   "outputs": [
    {
     "data": {
      "text/plain": "<Figure size 1440x504 with 1 Axes>",
      "image/png": "[encoded data removed]"
     },
     "metadata": {},
     "output_type": "display_data"
    }
   ],
   "source": [
    "from matplotlib import pyplot as plt\n",
    "dataframe = percent_df.copy()\n",
    "dataframe = dataframe.applymap(lambda x:x if not '%' in str(x) else x.replace('%',''))\n",
    "# display(dataframe)\n",
    "import seaborn as sns\n",
    "dataframe = dataframe.stack()\n",
    "# display(dataframe)\n",
    "dataframe = dataframe.rename_axis(index=[\"Function\",\"Combinations\"])\n",
    "dataframe = dataframe.reset_index(level=[0, 1], name=\"Percent\")\n",
    "dataframe[\"Percent\"] = pd.to_numeric(dataframe[\"Percent\"])\n",
    "dataframe = dataframe.reset_index(drop=False)\n",
    "# display(dataframe)\n",
    "function_list = [\"F\" + str(i) for i in range(1, 24, 1)]\n",
    "def show_graph(dataframe):\n",
    "    sns.set_theme(style=\"whitegrid\", palette=\"pastel\",font_scale=1.5)\n",
    "    sns.set_style(\"ticks\",{'axes.grid' : True})\n",
    "    plt.figure(figsize=(20,7))\n",
    "    plt.subplot(1,1,1)\n",
    "    ax=sns.barplot(data=dataframe,y=\"Percent\",x=\"Function\",ci=95)\n",
    "    ax.bar_label(ax.containers[0],label_type='edge')\n",
    "    plt.xlabel(\"Baldwin\")\n",
    "    # sns.move_legend(ax, \"upper left\", bbox_to_anchor=(0, 1))\n",
    "    plt.savefig(\"./Baldwin_percent.png\", dpi=1200, bbox_inches='tight')\n",
    "    plt.show()\n",
    "show_graph(dataframe=dataframe)"
   ],
   "metadata": {
    "collapsed": false,
    "pycharm": {
     "name": "#%%\n"
    }
   }
  },
  {
   "cell_type": "code",
   "execution_count": 5,
   "outputs": [],
   "source": [
    "# from matplotlib import pyplot as plt\n",
    "# dataframe = df.copy()\n",
    "# dataframe = dataframe.stack()\n",
    "# # display(dataframe)\n",
    "# dataframe = dataframe.rename_axis(index=[\"Function\",\"Times\",\"Combinations\"])\n",
    "# dataframe = dataframe.reset_index(level=[0, 1], name=\"Solutions\")\n",
    "# dataframe[\"Solutions\"] = pd.to_numeric(dataframe[\"Solutions\"])\n",
    "# dataframe = dataframe.reset_index(drop=False)\n",
    "# # display(dataframe)\n",
    "# opt = [0, 0, 0, 0, 0, 0, 0, -20949, 0, 0, 0, 0, 0, 1, 0.0003, -1.0316, 0.398, 3, -3.86, -3.32,-10.1532, -10.4028, -10.5363]\n",
    "# def show_graph(dataframe):\n",
    "#     sns.set_theme(style=\"whitegrid\", palette=\"pastel\",font_scale=1.5)\n",
    "#     dist_cols = 3\n",
    "#     dist_rows = 8\n",
    "#     plt.figure(figsize=(7 * dist_cols, 4 * dist_rows))\n",
    "#     i = 1\n",
    "#     for function in function_list:\n",
    "#         dataf = dataframe[dataframe[\"Function\"] == function]\n",
    "#         plt.subplot(dist_rows, dist_cols, i)\n",
    "#         ax=sns.boxplot(data=dataf, y=\"Solutions\",palette=\"viridis\",x=\"Function\",hue=\"Function\",width=0.2)\n",
    "#         sns.move_legend(ax, \"upper left\", bbox_to_anchor=(0, 1),frameon=False)\n",
    "#         plt.axhline(y=opt[i-1],color=\"red\")\n",
    "#         plt.xlabel(\"\")\n",
    "#         plt.ylabel(\"Solutions\")\n",
    "#         i = i + 1\n",
    "#     plt.savefig(\"./boxplot_Baldwin.png\", dpi=1200, bbox_inches='tight')\n",
    "#     plt.show()\n",
    "# show_graph(dataframe=dataframe)"
   ],
   "metadata": {
    "collapsed": false,
    "pycharm": {
     "name": "#%%\n"
    }
   }
  },
  {
   "cell_type": "code",
   "execution_count": 5,
   "outputs": [],
   "source": [],
   "metadata": {
    "collapsed": false,
    "pycharm": {
     "name": "#%%\n"
    }
   }
  }
 ],
 "metadata": {
  "kernelspec": {
   "display_name": "Python 3",
   "language": "python",
   "name": "python3"
  },
  "language_info": {
   "codemirror_mode": {
    "name": "ipython",
    "version": 2
   },
   "file_extension": ".py",
   "mimetype": "text/x-python",
   "name": "python",
   "nbconvert_exporter": "python",
   "pygments_lexer": "ipython2",
   "version": "2.7.6"
  }
 },
 "nbformat": 4,
 "nbformat_minor": 0
}