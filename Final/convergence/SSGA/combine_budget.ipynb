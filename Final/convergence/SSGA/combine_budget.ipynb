{
 "cells": [
  {
   "cell_type": "code",
   "execution_count": 1,
   "metadata": {
    "collapsed": true,
    "pycharm": {
     "name": "#%%\n"
    }
   },
   "outputs": [],
   "source": [
    "import numpy as np\n",
    "import pandas as pd"
   ]
  },
  {
   "cell_type": "code",
   "execution_count": 2,
   "outputs": [
    {
     "name": "stdout",
     "output_type": "stream",
     "text": [
      "[590, 593, 579, 588, 589, 591, 576, 587, 569, 558, 592, 572, 594, 542, 570, 562, 575, 573, 552, 555]\n",
      "Int64Index([590, 593, 579, 588, 589, 591, 576, 587, 569, 558, 592, 572, 594,\n",
      "            542, 570, 562, 575, 573, 552, 555],\n",
      "           dtype='int64')\n",
      "                   590        593        579        588        589        591  \\\n",
      "F1  Times1   1000099.0  1000099.0  1000199.0  1000099.0  1000099.0  1000099.0   \n",
      "    Times2   1000099.0  1000099.0  1000199.0  1000099.0  1000099.0  1000099.0   \n",
      "    Times3   1000099.0  1000099.0  1000199.0  1000099.0  1000099.0  1000099.0   \n",
      "    Times4   1000099.0  1000099.0  1000199.0  1000099.0  1000099.0  1000099.0   \n",
      "    Times5   1000099.0  1000099.0  1000199.0  1000099.0  1000099.0  1000099.0   \n",
      "...                ...        ...        ...        ...        ...        ...   \n",
      "F23 Times6     38103.0  1000099.0   626542.0    17817.0  1000099.0    72650.0   \n",
      "    Times7     26261.0  1000099.0    26988.0    17429.0    19901.0  1000099.0   \n",
      "    Times8     28042.0    22086.0    19293.0  1000099.0   393016.0   594328.0   \n",
      "    Times9   1000099.0    33596.0  1000199.0    40762.0    10458.0  1000099.0   \n",
      "    Times10  1000099.0    90736.0  1000199.0  1000099.0   336115.0    43431.0   \n",
      "\n",
      "                   576        587        569        558        592        572  \\\n",
      "F1  Times1   1000199.0  1000099.0  1000199.0  1000099.0  1000099.0  1000199.0   \n",
      "    Times2   1000199.0  1000099.0  1000199.0  1000099.0  1000099.0  1000199.0   \n",
      "    Times3   1000199.0  1000099.0  1000199.0  1000099.0  1000099.0  1000199.0   \n",
      "    Times4   1000199.0  1000099.0  1000199.0  1000099.0  1000099.0  1000199.0   \n",
      "    Times5   1000199.0  1000099.0  1000199.0  1000099.0  1000099.0  1000199.0   \n",
      "...                ...        ...        ...        ...        ...        ...   \n",
      "F23 Times6     21239.0    34067.0  1000199.0   365182.0  1000099.0   191845.0   \n",
      "    Times7   1000199.0    40649.0    33160.0    76066.0  1000099.0  1000199.0   \n",
      "    Times8   1000199.0  1000099.0  1000199.0  1000099.0    38448.0   605121.0   \n",
      "    Times9   1000199.0   376858.0    13337.0  1000099.0  1000099.0    52137.0   \n",
      "    Times10   255551.0  1000099.0    53096.0    10112.0    46488.0    24753.0   \n",
      "\n",
      "                   594        542        570        562        575        573  \\\n",
      "F1  Times1   1000099.0  1000199.0  1000199.0  1000099.0  1000199.0  1000199.0   \n",
      "    Times2   1000099.0  1000199.0  1000199.0  1000099.0  1000199.0  1000199.0   \n",
      "    Times3   1000099.0  1000199.0  1000199.0  1000099.0  1000199.0  1000199.0   \n",
      "    Times4   1000099.0  1000199.0  1000199.0  1000099.0  1000199.0  1000199.0   \n",
      "    Times5   1000099.0  1000199.0  1000199.0  1000099.0  1000199.0  1000199.0   \n",
      "...                ...        ...        ...        ...        ...        ...   \n",
      "F23 Times6   1000099.0  1000199.0    19678.0   247309.0  1000199.0   435713.0   \n",
      "    Times7    200508.0  1000199.0   509683.0    21393.0  1000199.0  1000199.0   \n",
      "    Times8   1000099.0    23874.0   123703.0  1000099.0   580565.0    98985.0   \n",
      "    Times9     22179.0  1000199.0   367396.0  1000099.0    20152.0  1000199.0   \n",
      "    Times10    41081.0  1000199.0  1000199.0    18402.0  1000199.0  1000199.0   \n",
      "\n",
      "                   552        555  \n",
      "F1  Times1   1000099.0  1000099.0  \n",
      "    Times2   1000099.0  1000099.0  \n",
      "    Times3   1000099.0  1000099.0  \n",
      "    Times4   1000099.0  1000099.0  \n",
      "    Times5   1000099.0  1000099.0  \n",
      "...                ...        ...  \n",
      "F23 Times6     34630.0    30915.0  \n",
      "    Times7   1000099.0  1000099.0  \n",
      "    Times8    273153.0    12920.0  \n",
      "    Times9     18544.0    34373.0  \n",
      "    Times10  1000099.0  1000099.0  \n",
      "\n",
      "[230 rows x 20 columns]\n"
     ]
    }
   ],
   "source": [
    "data_pm = pd.read_csv(\"./best_20com_9pm.csv\", header=0, index_col=[0])\n",
    "index = data_pm.index.tolist()\n",
    "print(index)\n",
    "def read_csv(path):\n",
    "    return pd.read_csv(path,index_col=[0,1],header=0)\n",
    "path_budget_list=[\"./budget\"+str(i)+\".csv\" for i in index]\n",
    "df = [read_csv(name) for name in path_budget_list]\n",
    "df = pd.concat(df,axis=1)\n",
    "df.columns = index\n",
    "print(df.columns)\n",
    "print(df)\n",
    "df.to_csv(\"./SSGA_budget.csv\",header=True,index=True)"
   ],
   "metadata": {
    "collapsed": false,
    "pycharm": {
     "name": "#%%\n"
    }
   }
  },
  {
   "cell_type": "code",
   "execution_count": 3,
   "outputs": [
    {
     "name": "stdout",
     "output_type": "stream",
     "text": [
      "[590, 593, 579, 588, 589, 591, 576, 587, 569, 558, 592, 572, 594, 542, 570, 562, 575, 573, 552, 555]\n",
      "Int64Index([590, 593, 579, 588, 589, 591, 576, 587, 569, 558, 592, 572, 594,\n",
      "            542, 570, 562, 575, 573, 552, 555],\n",
      "           dtype='int64')\n",
      "                   590        593        579        588        589        591  \\\n",
      "F1  Times1    0.004679   0.001876   0.000664   0.001125   0.001367   0.002307   \n",
      "    Times2    0.001970   0.001709   0.001687   0.002508   0.001485   0.002218   \n",
      "    Times3    0.002223   0.002995   0.001435   0.003360   0.003198   0.002267   \n",
      "    Times4    0.001532   0.001002   0.001784   0.002255   0.002512   0.002209   \n",
      "    Times5    0.001561   0.002119   0.001300   0.002503   0.003188   0.002575   \n",
      "...                ...        ...        ...        ...        ...        ...   \n",
      "F23 Times6  -10.536204  -2.806631 -10.536249 -10.536233  -2.806631 -10.536229   \n",
      "    Times7  -10.536242  -2.421734 -10.536237 -10.536244 -10.536375  -5.128481   \n",
      "    Times8  -10.536273 -10.536309 -10.536269  -2.427335 -10.536284 -10.536236   \n",
      "    Times9   -5.128481 -10.536243  -5.128481 -10.536300 -10.536300  -2.871143   \n",
      "    Times10  -5.128481 -10.536364  -5.175647  -2.871143 -10.536268 -10.536296   \n",
      "\n",
      "                   576        587        569        558        592        572  \\\n",
      "F1  Times1    0.000991   0.001951   0.000608   0.001310   0.001203   0.001716   \n",
      "    Times2    0.001946   0.001410   0.000858   0.001027   0.001673   0.000730   \n",
      "    Times3    0.001258   0.002604   0.001305   0.000933   0.002913   0.001346   \n",
      "    Times4    0.001921   0.001714   0.001293   0.000739   0.003275   0.001205   \n",
      "    Times5    0.000851   0.001534   0.001292   0.001043   0.003903   0.000596   \n",
      "...                ...        ...        ...        ...        ...        ...   \n",
      "F23 Times6  -10.536332 -10.536231  -5.175647 -10.536219  -2.421734 -10.536306   \n",
      "    Times7   -5.175647 -10.536212 -10.536331 -10.536211  -2.806631  -5.175647   \n",
      "    Times8   -2.806631  -2.806631  -2.871143  -2.871143 -10.536298 -10.536254   \n",
      "    Times9   -2.806631 -10.536230 -10.536324  -5.175647  -5.175647 -10.536376   \n",
      "    Times10 -10.536312  -2.871143 -10.536338 -10.536209 -10.536245 -10.536307   \n",
      "\n",
      "                   594        542        570        562        575        573  \\\n",
      "F1  Times1    0.001552   0.000959   0.000985   0.001218   0.000946   0.001529   \n",
      "    Times2    0.002266   0.003556   0.001902   0.001116   0.001387   0.001385   \n",
      "    Times3    0.002109   0.002623   0.001091   0.000811   0.000898   0.001058   \n",
      "    Times4    0.001889   0.001589   0.001194   0.001282   0.001937   0.001386   \n",
      "    Times5    0.001354   0.001603   0.002319   0.001159   0.000901   0.001747   \n",
      "...                ...        ...        ...        ...        ...        ...   \n",
      "F23 Times6   -2.806631  -2.427335 -10.536374 -10.536363  -2.421734 -10.536299   \n",
      "    Times7  -10.536350  -3.835427 -10.536263 -10.536219  -2.871143  -5.175647   \n",
      "    Times8   -2.806631 -10.536223 -10.536238  -2.806631 -10.536355 -10.536384   \n",
      "    Times9  -10.536218  -2.871143 -10.536289  -2.427335 -10.536309  -2.871143   \n",
      "    Times10 -10.536205  -3.835427  -2.427335 -10.536207  -2.871143  -1.859480   \n",
      "\n",
      "                   552        555  \n",
      "F1  Times1    0.001138   0.000836  \n",
      "    Times2    0.002082   0.001217  \n",
      "    Times3    0.000607   0.000713  \n",
      "    Times4    0.001085   0.000798  \n",
      "    Times5    0.001211   0.001004  \n",
      "...                ...        ...  \n",
      "F23 Times6  -10.536371 -10.536365  \n",
      "    Times7   -1.676553  -5.175647  \n",
      "    Times8  -10.536206 -10.536244  \n",
      "    Times9  -10.536338 -10.536372  \n",
      "    Times10  -2.806631  -2.427335  \n",
      "\n",
      "[230 rows x 20 columns]\n"
     ]
    },
    {
     "data": {
      "text/plain": "           590   593   579   588   589   591   576   587   569   558   592  \\\nFunction                                                                     \nF1        100%  100%  100%  100%  100%  100%  100%  100%  100%  100%  100%   \nF2        100%  100%  100%  100%  100%  100%  100%  100%  100%  100%  100%   \nF3        100%  100%  100%  100%  100%  100%  100%  100%  100%  100%  100%   \nF4        100%  100%  100%  100%  100%  100%  100%  100%  100%  100%  100%   \nF5          0%    0%    0%    0%    0%    0%    0%    0%    0%    0%    0%   \nF6        100%  100%  100%  100%  100%  100%  100%  100%  100%  100%  100%   \nF7        100%  100%  100%  100%  100%  100%  100%  100%  100%  100%  100%   \nF8          0%    0%    0%    0%    0%    0%    0%    0%    0%    0%    0%   \nF9        100%  100%  100%  100%  100%  100%  100%  100%  100%  100%  100%   \nF10       100%  100%  100%  100%  100%  100%  100%  100%  100%  100%  100%   \nF11       100%  100%  100%  100%  100%  100%  100%  100%  100%  100%  100%   \nF12       100%  100%  100%  100%  100%  100%  100%  100%  100%  100%  100%   \nF13       100%  100%  100%  100%  100%  100%  100%  100%  100%  100%  100%   \nF14       100%  100%  100%  100%  100%  100%  100%  100%  100%  100%  100%   \nF15         0%    0%    0%    0%    0%    0%    0%    0%    0%    0%    0%   \nF16        50%   60%   60%   50%   60%   80%   80%   50%   60%   70%   80%   \nF17       100%  100%  100%  100%  100%  100%  100%  100%  100%  100%  100%   \nF18       100%  100%  100%  100%  100%  100%  100%  100%  100%  100%  100%   \nF19       100%  100%  100%  100%  100%  100%  100%  100%  100%  100%  100%   \nF20        60%   60%   40%   40%   70%   70%   50%   40%   50%   30%   50%   \nF21         0%   20%   10%   10%   30%   10%   10%   10%   20%   20%   30%   \nF22        40%   70%   40%   50%   60%   20%   50%   20%   10%   20%   30%   \nF23        30%   60%   30%   30%   50%   20%   20%   20%   60%   30%   30%   \n\n           572   594   542   570   562   575   573   552   555  \nFunction                                                        \nF1        100%  100%  100%  100%  100%  100%  100%  100%  100%  \nF2        100%  100%  100%  100%  100%  100%  100%  100%  100%  \nF3        100%  100%  100%  100%  100%  100%  100%  100%  100%  \nF4        100%  100%  100%  100%  100%  100%  100%  100%  100%  \nF5          0%    0%    0%    0%    0%    0%    0%    0%    0%  \nF6        100%  100%  100%  100%  100%  100%  100%  100%  100%  \nF7        100%  100%  100%  100%  100%  100%  100%  100%  100%  \nF8          0%    0%    0%    0%    0%    0%    0%    0%    0%  \nF9        100%  100%  100%  100%  100%  100%  100%  100%  100%  \nF10       100%  100%  100%  100%  100%  100%  100%  100%  100%  \nF11       100%  100%  100%  100%  100%  100%  100%  100%  100%  \nF12       100%  100%  100%  100%  100%  100%  100%  100%  100%  \nF13       100%  100%  100%  100%  100%  100%  100%  100%  100%  \nF14       100%  100%  100%  100%  100%  100%  100%  100%  100%  \nF15         0%    0%    0%    0%    0%    0%    0%    0%    0%  \nF16        40%   70%   60%   50%   60%   60%   30%   30%   70%  \nF17       100%  100%  100%  100%  100%  100%  100%  100%  100%  \nF18       100%  100%  100%  100%  100%  100%  100%  100%  100%  \nF19       100%  100%  100%  100%  100%  100%  100%  100%  100%  \nF20        50%   60%   50%   30%   70%   20%   40%   50%   60%  \nF21         0%   30%    0%   10%    0%   20%   20%   20%   10%  \nF22        20%   50%   30%   40%   50%   70%   10%   50%   40%  \nF23        60%   20%   10%   40%   10%   30%   60%   50%   50%  ",
      "text/html": "<div>\n<style scoped>\n    .dataframe tbody tr th:only-of-type {\n        vertical-align: middle;\n    }\n\n    .dataframe tbody tr th {\n        vertical-align: top;\n    }\n\n    .dataframe thead th {\n        text-align: right;\n    }\n</style>\n<table border=\"1\" class=\"dataframe\">\n  <thead>\n    <tr style=\"text-align: right;\">\n      <th></th>\n      <th>590</th>\n      <th>593</th>\n      <th>579</th>\n      <th>588</th>\n      <th>589</th>\n      <th>591</th>\n      <th>576</th>\n      <th>587</th>\n      <th>569</th>\n      <th>558</th>\n      <th>592</th>\n      <th>572</th>\n      <th>594</th>\n      <th>542</th>\n      <th>570</th>\n      <th>562</th>\n      <th>575</th>\n      <th>573</th>\n      <th>552</th>\n      <th>555</th>\n    </tr>\n    <tr>\n      <th>Function</th>\n      <th></th>\n      <th></th>\n      <th></th>\n      <th></th>\n      <th></th>\n      <th></th>\n      <th></th>\n      <th></th>\n      <th></th>\n      <th></th>\n      <th></th>\n      <th></th>\n      <th></th>\n      <th></th>\n      <th></th>\n      <th></th>\n      <th></th>\n      <th></th>\n      <th></th>\n      <th></th>\n    </tr>\n  </thead>\n  <tbody>\n    <tr>\n      <th>F1</th>\n      <td>100%</td>\n      <td>100%</td>\n      <td>100%</td>\n      <td>100%</td>\n      <td>100%</td>\n      <td>100%</td>\n      <td>100%</td>\n      <td>100%</td>\n      <td>100%</td>\n      <td>100%</td>\n      <td>100%</td>\n      <td>100%</td>\n      <td>100%</td>\n      <td>100%</td>\n      <td>100%</td>\n      <td>100%</td>\n      <td>100%</td>\n      <td>100%</td>\n      <td>100%</td>\n      <td>100%</td>\n    </tr>\n    <tr>\n      <th>F2</th>\n      <td>100%</td>\n      <td>100%</td>\n      <td>100%</td>\n      <td>100%</td>\n      <td>100%</td>\n      <td>100%</td>\n      <td>100%</td>\n      <td>100%</td>\n      <td>100%</td>\n      <td>100%</td>\n      <td>100%</td>\n      <td>100%</td>\n      <td>100%</td>\n      <td>100%</td>\n      <td>100%</td>\n      <td>100%</td>\n      <td>100%</td>\n      <td>100%</td>\n      <td>100%</td>\n      <td>100%</td>\n    </tr>\n    <tr>\n      <th>F3</th>\n      <td>100%</td>\n      <td>100%</td>\n      <td>100%</td>\n      <td>100%</td>\n      <td>100%</td>\n      <td>100%</td>\n      <td>100%</td>\n      <td>100%</td>\n      <td>100%</td>\n      <td>100%</td>\n      <td>100%</td>\n      <td>100%</td>\n      <td>100%</td>\n      <td>100%</td>\n      <td>100%</td>\n      <td>100%</td>\n      <td>100%</td>\n      <td>100%</td>\n      <td>100%</td>\n      <td>100%</td>\n    </tr>\n    <tr>\n      <th>F4</th>\n      <td>100%</td>\n      <td>100%</td>\n      <td>100%</td>\n      <td>100%</td>\n      <td>100%</td>\n      <td>100%</td>\n      <td>100%</td>\n      <td>100%</td>\n      <td>100%</td>\n      <td>100%</td>\n      <td>100%</td>\n      <td>100%</td>\n      <td>100%</td>\n      <td>100%</td>\n      <td>100%</td>\n      <td>100%</td>\n      <td>100%</td>\n      <td>100%</td>\n      <td>100%</td>\n      <td>100%</td>\n    </tr>\n    <tr>\n      <th>F5</th>\n      <td>0%</td>\n      <td>0%</td>\n      <td>0%</td>\n      <td>0%</td>\n      <td>0%</td>\n      <td>0%</td>\n      <td>0%</td>\n      <td>0%</td>\n      <td>0%</td>\n      <td>0%</td>\n      <td>0%</td>\n      <td>0%</td>\n      <td>0%</td>\n      <td>0%</td>\n      <td>0%</td>\n      <td>0%</td>\n      <td>0%</td>\n      <td>0%</td>\n      <td>0%</td>\n      <td>0%</td>\n    </tr>\n    <tr>\n      <th>F6</th>\n      <td>100%</td>\n      <td>100%</td>\n      <td>100%</td>\n      <td>100%</td>\n      <td>100%</td>\n      <td>100%</td>\n      <td>100%</td>\n      <td>100%</td>\n      <td>100%</td>\n      <td>100%</td>\n      <td>100%</td>\n      <td>100%</td>\n      <td>100%</td>\n      <td>100%</td>\n      <td>100%</td>\n      <td>100%</td>\n      <td>100%</td>\n      <td>100%</td>\n      <td>100%</td>\n      <td>100%</td>\n    </tr>\n    <tr>\n      <th>F7</th>\n      <td>100%</td>\n      <td>100%</td>\n      <td>100%</td>\n      <td>100%</td>\n      <td>100%</td>\n      <td>100%</td>\n      <td>100%</td>\n      <td>100%</td>\n      <td>100%</td>\n      <td>100%</td>\n      <td>100%</td>\n      <td>100%</td>\n      <td>100%</td>\n      <td>100%</td>\n      <td>100%</td>\n      <td>100%</td>\n      <td>100%</td>\n      <td>100%</td>\n      <td>100%</td>\n      <td>100%</td>\n    </tr>\n    <tr>\n      <th>F8</th>\n      <td>0%</td>\n      <td>0%</td>\n      <td>0%</td>\n      <td>0%</td>\n      <td>0%</td>\n      <td>0%</td>\n      <td>0%</td>\n      <td>0%</td>\n      <td>0%</td>\n      <td>0%</td>\n      <td>0%</td>\n      <td>0%</td>\n      <td>0%</td>\n      <td>0%</td>\n      <td>0%</td>\n      <td>0%</td>\n      <td>0%</td>\n      <td>0%</td>\n      <td>0%</td>\n      <td>0%</td>\n    </tr>\n    <tr>\n      <th>F9</th>\n      <td>100%</td>\n      <td>100%</td>\n      <td>100%</td>\n      <td>100%</td>\n      <td>100%</td>\n      <td>100%</td>\n      <td>100%</td>\n      <td>100%</td>\n      <td>100%</td>\n      <td>100%</td>\n      <td>100%</td>\n      <td>100%</td>\n      <td>100%</td>\n      <td>100%</td>\n      <td>100%</td>\n      <td>100%</td>\n      <td>100%</td>\n      <td>100%</td>\n      <td>100%</td>\n      <td>100%</td>\n    </tr>\n    <tr>\n      <th>F10</th>\n      <td>100%</td>\n      <td>100%</td>\n      <td>100%</td>\n      <td>100%</td>\n      <td>100%</td>\n      <td>100%</td>\n      <td>100%</td>\n      <td>100%</td>\n      <td>100%</td>\n      <td>100%</td>\n      <td>100%</td>\n      <td>100%</td>\n      <td>100%</td>\n      <td>100%</td>\n      <td>100%</td>\n      <td>100%</td>\n      <td>100%</td>\n      <td>100%</td>\n      <td>100%</td>\n      <td>100%</td>\n    </tr>\n    <tr>\n      <th>F11</th>\n      <td>100%</td>\n      <td>100%</td>\n      <td>100%</td>\n      <td>100%</td>\n      <td>100%</td>\n      <td>100%</td>\n      <td>100%</td>\n      <td>100%</td>\n      <td>100%</td>\n      <td>100%</td>\n      <td>100%</td>\n      <td>100%</td>\n      <td>100%</td>\n      <td>100%</td>\n      <td>100%</td>\n      <td>100%</td>\n      <td>100%</td>\n      <td>100%</td>\n      <td>100%</td>\n      <td>100%</td>\n    </tr>\n    <tr>\n      <th>F12</th>\n      <td>100%</td>\n      <td>100%</td>\n      <td>100%</td>\n      <td>100%</td>\n      <td>100%</td>\n      <td>100%</td>\n      <td>100%</td>\n      <td>100%</td>\n      <td>100%</td>\n      <td>100%</td>\n      <td>100%</td>\n      <td>100%</td>\n      <td>100%</td>\n      <td>100%</td>\n      <td>100%</td>\n      <td>100%</td>\n      <td>100%</td>\n      <td>100%</td>\n      <td>100%</td>\n      <td>100%</td>\n    </tr>\n    <tr>\n      <th>F13</th>\n      <td>100%</td>\n      <td>100%</td>\n      <td>100%</td>\n      <td>100%</td>\n      <td>100%</td>\n      <td>100%</td>\n      <td>100%</td>\n      <td>100%</td>\n      <td>100%</td>\n      <td>100%</td>\n      <td>100%</td>\n      <td>100%</td>\n      <td>100%</td>\n      <td>100%</td>\n      <td>100%</td>\n      <td>100%</td>\n      <td>100%</td>\n      <td>100%</td>\n      <td>100%</td>\n      <td>100%</td>\n    </tr>\n    <tr>\n      <th>F14</th>\n      <td>100%</td>\n      <td>100%</td>\n      <td>100%</td>\n      <td>100%</td>\n      <td>100%</td>\n      <td>100%</td>\n      <td>100%</td>\n      <td>100%</td>\n      <td>100%</td>\n      <td>100%</td>\n      <td>100%</td>\n      <td>100%</td>\n      <td>100%</td>\n      <td>100%</td>\n      <td>100%</td>\n      <td>100%</td>\n      <td>100%</td>\n      <td>100%</td>\n      <td>100%</td>\n      <td>100%</td>\n    </tr>\n    <tr>\n      <th>F15</th>\n      <td>0%</td>\n      <td>0%</td>\n      <td>0%</td>\n      <td>0%</td>\n      <td>0%</td>\n      <td>0%</td>\n      <td>0%</td>\n      <td>0%</td>\n      <td>0%</td>\n      <td>0%</td>\n      <td>0%</td>\n      <td>0%</td>\n      <td>0%</td>\n      <td>0%</td>\n      <td>0%</td>\n      <td>0%</td>\n      <td>0%</td>\n      <td>0%</td>\n      <td>0%</td>\n      <td>0%</td>\n    </tr>\n    <tr>\n      <th>F16</th>\n      <td>50%</td>\n      <td>60%</td>\n      <td>60%</td>\n      <td>50%</td>\n      <td>60%</td>\n      <td>80%</td>\n      <td>80%</td>\n      <td>50%</td>\n      <td>60%</td>\n      <td>70%</td>\n      <td>80%</td>\n      <td>40%</td>\n      <td>70%</td>\n      <td>60%</td>\n      <td>50%</td>\n      <td>60%</td>\n      <td>60%</td>\n      <td>30%</td>\n      <td>30%</td>\n      <td>70%</td>\n    </tr>\n    <tr>\n      <th>F17</th>\n      <td>100%</td>\n      <td>100%</td>\n      <td>100%</td>\n      <td>100%</td>\n      <td>100%</td>\n      <td>100%</td>\n      <td>100%</td>\n      <td>100%</td>\n      <td>100%</td>\n      <td>100%</td>\n      <td>100%</td>\n      <td>100%</td>\n      <td>100%</td>\n      <td>100%</td>\n      <td>100%</td>\n      <td>100%</td>\n      <td>100%</td>\n      <td>100%</td>\n      <td>100%</td>\n      <td>100%</td>\n    </tr>\n    <tr>\n      <th>F18</th>\n      <td>100%</td>\n      <td>100%</td>\n      <td>100%</td>\n      <td>100%</td>\n      <td>100%</td>\n      <td>100%</td>\n      <td>100%</td>\n      <td>100%</td>\n      <td>100%</td>\n      <td>100%</td>\n      <td>100%</td>\n      <td>100%</td>\n      <td>100%</td>\n      <td>100%</td>\n      <td>100%</td>\n      <td>100%</td>\n      <td>100%</td>\n      <td>100%</td>\n      <td>100%</td>\n      <td>100%</td>\n    </tr>\n    <tr>\n      <th>F19</th>\n      <td>100%</td>\n      <td>100%</td>\n      <td>100%</td>\n      <td>100%</td>\n      <td>100%</td>\n      <td>100%</td>\n      <td>100%</td>\n      <td>100%</td>\n      <td>100%</td>\n      <td>100%</td>\n      <td>100%</td>\n      <td>100%</td>\n      <td>100%</td>\n      <td>100%</td>\n      <td>100%</td>\n      <td>100%</td>\n      <td>100%</td>\n      <td>100%</td>\n      <td>100%</td>\n      <td>100%</td>\n    </tr>\n    <tr>\n      <th>F20</th>\n      <td>60%</td>\n      <td>60%</td>\n      <td>40%</td>\n      <td>40%</td>\n      <td>70%</td>\n      <td>70%</td>\n      <td>50%</td>\n      <td>40%</td>\n      <td>50%</td>\n      <td>30%</td>\n      <td>50%</td>\n      <td>50%</td>\n      <td>60%</td>\n      <td>50%</td>\n      <td>30%</td>\n      <td>70%</td>\n      <td>20%</td>\n      <td>40%</td>\n      <td>50%</td>\n      <td>60%</td>\n    </tr>\n    <tr>\n      <th>F21</th>\n      <td>0%</td>\n      <td>20%</td>\n      <td>10%</td>\n      <td>10%</td>\n      <td>30%</td>\n      <td>10%</td>\n      <td>10%</td>\n      <td>10%</td>\n      <td>20%</td>\n      <td>20%</td>\n      <td>30%</td>\n      <td>0%</td>\n      <td>30%</td>\n      <td>0%</td>\n      <td>10%</td>\n      <td>0%</td>\n      <td>20%</td>\n      <td>20%</td>\n      <td>20%</td>\n      <td>10%</td>\n    </tr>\n    <tr>\n      <th>F22</th>\n      <td>40%</td>\n      <td>70%</td>\n      <td>40%</td>\n      <td>50%</td>\n      <td>60%</td>\n      <td>20%</td>\n      <td>50%</td>\n      <td>20%</td>\n      <td>10%</td>\n      <td>20%</td>\n      <td>30%</td>\n      <td>20%</td>\n      <td>50%</td>\n      <td>30%</td>\n      <td>40%</td>\n      <td>50%</td>\n      <td>70%</td>\n      <td>10%</td>\n      <td>50%</td>\n      <td>40%</td>\n    </tr>\n    <tr>\n      <th>F23</th>\n      <td>30%</td>\n      <td>60%</td>\n      <td>30%</td>\n      <td>30%</td>\n      <td>50%</td>\n      <td>20%</td>\n      <td>20%</td>\n      <td>20%</td>\n      <td>60%</td>\n      <td>30%</td>\n      <td>30%</td>\n      <td>60%</td>\n      <td>20%</td>\n      <td>10%</td>\n      <td>40%</td>\n      <td>10%</td>\n      <td>30%</td>\n      <td>60%</td>\n      <td>50%</td>\n      <td>50%</td>\n    </tr>\n  </tbody>\n</table>\n</div>"
     },
     "metadata": {},
     "output_type": "display_data"
    }
   ],
   "source": [
    "data_pm = pd.read_csv(\"./best_20com_9pm.csv\", header=0, index_col=[0])\n",
    "index = data_pm.index.tolist()\n",
    "print(index)\n",
    "def read_csv(path):\n",
    "    return pd.read_csv(path,index_col=[0,1],header=0)\n",
    "path_percent_list=[\"./combination\"+str(i)+\".csv\" for i in index]\n",
    "df = [read_csv(name) for name in path_percent_list]\n",
    "df = pd.concat(df,axis=1)\n",
    "df.columns = index\n",
    "print(df.columns)\n",
    "print(df)\n",
    "df.to_csv(\"./SSGA_rawdata.csv\",header=True,index=True)\n",
    "\n",
    "def percent(Function, optimal):\n",
    "    dataframe = df.loc[(Function, slice(None)), :]\n",
    "    if Function in [\"F1\", \"F2\", \"F3\", \"F4\", \"F5\", \"F6\", \"F7\", \"F9\", \"F10\", \"F11\", \"F12\", \"F13\", \"F14\", \"F18\"]:\n",
    "        dataframe = dataframe.round(0)\n",
    "    elif Function in [\"F17\"]:\n",
    "        dataframe = dataframe.round(3)\n",
    "    elif Function in [\"F8\",\"F19\", \"F20\"]:\n",
    "        dataframe = dataframe.round(2)\n",
    "    elif Function in [\"F15\", \"F16\", \"F21\", \"F22\", \"F23\"]:\n",
    "        dataframe = dataframe.round(4)\n",
    "\n",
    "    dataframe = pd.DataFrame(data=dataframe.values,\n",
    "                             columns=dataframe.columns)\n",
    "    percent_dataframe = dataframe.applymap(lambda x: True if x <= optimal else False)\n",
    "    percent_dataframe[\"Function\"] = Function\n",
    "    return percent_dataframe\n",
    "\n",
    "opt = [0.0, 0.0, 0.0, 0.0, 0.0, 0.0, 0.0, -418.98 * 50, 0.0, 0.0, 0.0, 0.0, 0.0, 1.0, 0.0003, -1.0316, 0.398, 3.0,\n",
    "       -3.86, -3.32, -10.1532,-10.4028, -10.5363]\n",
    "function_list = np.arange(1, 24, 1)\n",
    "percent_df = [percent(Function=\"F\" + str(i), optimal=opt[i - 1]) for i in function_list]\n",
    "percent_df = pd.concat(percent_df, axis=0)\n",
    "percent_df = percent_df.groupby([\"Function\"]).sum().applymap(lambda x: str(x * 10) + \"%\")\n",
    "index = [\"F\" + str(i) for i in function_list]\n",
    "percent_df = percent_df.loc[index]\n",
    "display(percent_df)\n",
    "percent_df.to_csv(\"./SSGA_percent.csv\")"
   ],
   "metadata": {
    "collapsed": false,
    "pycharm": {
     "name": "#%%\n"
    }
   }
  },
  {
   "cell_type": "code",
   "execution_count": 3,
   "outputs": [],
   "source": [],
   "metadata": {
    "collapsed": false,
    "pycharm": {
     "name": "#%%\n"
    }
   }
  }
 ],
 "metadata": {
  "kernelspec": {
   "display_name": "Python 3",
   "language": "python",
   "name": "python3"
  },
  "language_info": {
   "codemirror_mode": {
    "name": "ipython",
    "version": 2
   },
   "file_extension": ".py",
   "mimetype": "text/x-python",
   "name": "python",
   "nbconvert_exporter": "python",
   "pygments_lexer": "ipython2",
   "version": "2.7.6"
  }
 },
 "nbformat": 4,
 "nbformat_minor": 0
}