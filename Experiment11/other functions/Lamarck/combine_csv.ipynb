{
 "cells": [
  {
   "cell_type": "code",
   "execution_count": 12,
   "metadata": {
    "collapsed": true,
    "pycharm": {
     "name": "#%%\n"
    }
   },
   "outputs": [],
   "source": [
    "import numpy as np\n",
    "import pandas as pd"
   ]
  },
  {
   "cell_type": "code",
   "execution_count": 13,
   "outputs": [
    {
     "name": "stdout",
     "output_type": "stream",
     "text": [
      "[590, 593, 579, 588, 589, 591, 576, 587, 569, 558, 592, 572, 594, 542, 570, 562, 575, 573, 552, 555]\n",
      "Int64Index([590, 593, 579, 588, 589, 591, 576, 587, 569, 558, 592, 572, 594,\n",
      "            542, 570, 562, 575, 573, 552, 555],\n",
      "           dtype='int64')\n",
      "                 590      593      579      588      589      591      576  \\\n",
      "F1  Times1   10198.0  10198.0  10398.0  10198.0  10198.0  10198.0  10398.0   \n",
      "    Times2   10198.0  10198.0  10398.0  10198.0  10198.0  10198.0  10398.0   \n",
      "    Times3   10198.0  10198.0  10398.0  10198.0  10198.0  10198.0  10398.0   \n",
      "    Times4   10198.0  10198.0  10398.0  10198.0  10198.0  10198.0  10398.0   \n",
      "    Times5   10198.0  10198.0  10398.0  10198.0  10198.0  10198.0  10398.0   \n",
      "...              ...      ...      ...      ...      ...      ...      ...   \n",
      "F23 Times16  10198.0  10198.0  10398.0  10198.0  10198.0  10198.0  10398.0   \n",
      "    Times17  10198.0  10198.0  10398.0  10198.0  10198.0  10198.0  10398.0   \n",
      "    Times18  10198.0  10198.0  10398.0  10198.0  10198.0  10198.0  10398.0   \n",
      "    Times19  10198.0  10198.0  10398.0  10198.0  10198.0  10198.0  10398.0   \n",
      "    Times20  10198.0  10198.0  10398.0  10198.0  10198.0  10198.0  10398.0   \n",
      "\n",
      "                 587      569      558      592      572      594      542  \\\n",
      "F1  Times1   10198.0  10398.0  10198.0  10198.0  10398.0  10198.0  10398.0   \n",
      "    Times2   10198.0  10398.0  10198.0  10198.0  10398.0  10198.0  10398.0   \n",
      "    Times3   10198.0  10398.0  10198.0  10198.0  10398.0  10198.0  10398.0   \n",
      "    Times4   10198.0  10398.0  10198.0  10198.0  10398.0  10198.0  10398.0   \n",
      "    Times5   10198.0  10398.0  10198.0  10198.0  10398.0  10198.0  10398.0   \n",
      "...              ...      ...      ...      ...      ...      ...      ...   \n",
      "F23 Times16  10198.0  10398.0  10198.0  10198.0  10398.0  10198.0  10398.0   \n",
      "    Times17  10198.0  10398.0  10198.0  10198.0  10398.0  10198.0  10398.0   \n",
      "    Times18  10198.0  10398.0  10198.0  10198.0  10398.0  10198.0  10398.0   \n",
      "    Times19  10198.0  10398.0  10198.0  10198.0  10398.0  10198.0  10398.0   \n",
      "    Times20  10198.0  10398.0  10198.0  10198.0  10398.0  10198.0  10398.0   \n",
      "\n",
      "                 570      562      575      573      552      555  \n",
      "F1  Times1   10398.0  10198.0  10398.0  10398.0  10198.0  10198.0  \n",
      "    Times2   10398.0  10198.0  10398.0  10398.0  10198.0  10198.0  \n",
      "    Times3   10398.0  10198.0  10398.0  10398.0  10198.0  10198.0  \n",
      "    Times4   10398.0  10198.0  10398.0  10398.0  10198.0  10198.0  \n",
      "    Times5   10398.0  10198.0  10398.0  10398.0  10198.0  10198.0  \n",
      "...              ...      ...      ...      ...      ...      ...  \n",
      "F23 Times16  10398.0  10198.0  10398.0  10398.0  10198.0  10198.0  \n",
      "    Times17  10398.0  10198.0  10398.0  10398.0  10198.0  10198.0  \n",
      "    Times18  10398.0  10198.0  10398.0  10398.0  10198.0  10198.0  \n",
      "    Times19  10398.0  10198.0  10398.0  10398.0  10198.0  10198.0  \n",
      "    Times20  10398.0  10198.0  10398.0  10398.0  10198.0  10198.0  \n",
      "\n",
      "[380 rows x 20 columns]\n"
     ]
    }
   ],
   "source": [
    "data_pm = pd.read_csv(\"./best_20com_9pm.csv\", header=0, index_col=[0])\n",
    "index = data_pm.index.tolist()\n",
    "print(index)\n",
    "def read_csv(path):\n",
    "    return pd.read_csv(path,index_col=[0,1],header=0)\n",
    "path_budget_list=[\"./budget\"+str(i)+\".csv\" for i in index]\n",
    "df = [read_csv(name) for name in path_budget_list]\n",
    "df = pd.concat(df,axis=1)\n",
    "df.columns = index\n",
    "print(df.columns)\n",
    "print(df)\n",
    "df.to_csv(\"./Lamarck_budget.csv\",header=True,index=True)"
   ],
   "metadata": {
    "collapsed": false,
    "pycharm": {
     "name": "#%%\n"
    }
   }
  },
  {
   "cell_type": "code",
   "execution_count": 14,
   "outputs": [
    {
     "name": "stdout",
     "output_type": "stream",
     "text": [
      "[590, 593, 579, 588, 589, 591, 576, 587, 569, 558, 592, 572, 594, 542, 570, 562, 575, 573, 552, 555]\n",
      "Int64Index([590, 593, 579, 588, 589, 591, 576, 587, 569, 558, 592, 572, 594,\n",
      "            542, 570, 562, 575, 573, 552, 555],\n",
      "           dtype='int64')\n",
      "                    590         593         579         588         589  \\\n",
      "F1  Times1   314.972789  235.033032  247.318672  283.640221  128.882077   \n",
      "    Times2   307.357389  254.207956  262.825454  185.712598  148.658884   \n",
      "    Times3   329.350191  391.179104  242.471132  157.065850  106.880806   \n",
      "    Times4   262.068038  357.569986  390.753049  187.960803  117.821753   \n",
      "    Times5   241.013061  358.077240  207.505266  197.170213  223.457353   \n",
      "...                 ...         ...         ...         ...         ...   \n",
      "F23 Times16  -10.144680  -10.467920  -10.352933   -3.835119   -2.870288   \n",
      "    Times17   -3.834802  -10.501093   -3.834981  -10.529302   -2.421416   \n",
      "    Times18   -3.833727   -2.870647  -10.034656   -2.426939   -3.835027   \n",
      "    Times19   -2.418321  -10.523859   -5.127478   -2.802781   -5.173997   \n",
      "    Times20  -10.521368   -1.676300   -2.871129  -10.518717   -5.127742   \n",
      "\n",
      "                    591         576         587         569         558  \\\n",
      "F1  Times1   224.668065  280.518714  306.059319  337.023029  132.061606   \n",
      "    Times2   201.950273  169.807981  279.521980  291.182900   74.494662   \n",
      "    Times3   274.489290  405.460315  214.545107  435.966686  144.751414   \n",
      "    Times4   205.014537  268.613335  259.844553  563.912234  186.759272   \n",
      "    Times5   146.113212  303.043427  290.536187  324.832791  102.357193   \n",
      "...                 ...         ...         ...         ...         ...   \n",
      "F23 Times16  -10.533045   -3.835113  -10.529442   -2.870307   -8.995471   \n",
      "    Times17  -10.532068   -2.806423   -2.869890   -5.128284   -1.676537   \n",
      "    Times18   -5.124957   -2.806115   -2.868714  -10.523516  -10.414363   \n",
      "    Times19  -10.520764  -10.374809  -10.497600   -2.870819   -2.421694   \n",
      "    Times20   -2.870974   -3.835393  -10.528349  -10.525211   -5.174434   \n",
      "\n",
      "                    592         572         594         542         570  \\\n",
      "F1  Times1   144.670005  551.394406  185.385175  692.408530  313.679772   \n",
      "    Times2   155.811842  719.752715  223.484033  572.490538  340.249427   \n",
      "    Times3   114.755911  377.974875  187.365536  283.696901  219.997516   \n",
      "    Times4   137.702894  642.282684  304.920481  606.957699  383.062639   \n",
      "    Times5   143.691875  391.237176  231.970473  808.927392  230.053075   \n",
      "...                 ...         ...         ...         ...         ...   \n",
      "F23 Times16   -2.421668   -5.175202   -8.397411   -3.835225   -5.174114   \n",
      "    Times17   -2.806488   -5.174631  -10.523100  -10.535083  -10.531844   \n",
      "    Times18   -2.421145  -10.529622   -2.420227   -1.676365  -10.531004   \n",
      "    Times19   -2.869930  -10.534085   -3.834985   -2.421703   -2.421454   \n",
      "    Times20  -10.481522  -10.528234  -10.373178   -2.426535  -10.531767   \n",
      "\n",
      "                    562         575         573         552         555  \n",
      "F1  Times1    95.597592  383.770454  292.240371  166.659279  170.781516  \n",
      "    Times2   119.423595  518.646435  190.958645  108.672040  140.208018  \n",
      "    Times3   104.456768  648.751779  176.337975  183.847627  132.246578  \n",
      "    Times4    92.115268  399.043333  252.137237   87.029009  191.218116  \n",
      "    Times5   101.857011  327.817734  235.217544  162.172671   69.830820  \n",
      "...                 ...         ...         ...         ...         ...  \n",
      "F23 Times16   -2.427292  -10.536159  -10.533766   -2.871052   -2.870563  \n",
      "    Times17  -10.535616   -5.128416  -10.534421   -3.835066   -2.870962  \n",
      "    Times18   -5.127291   -2.806301  -10.529331   -3.834459  -10.526433  \n",
      "    Times19  -10.526692  -10.529639   -2.870957   -2.806584   -3.834359  \n",
      "    Times20  -10.534133   -3.834497  -10.528025   -2.871121   -1.859104  \n",
      "\n",
      "[380 rows x 20 columns]\n"
     ]
    },
    {
     "data": {
      "text/plain": "           590   593   579   588   589   591   576   587   569   558   592  \\\nFunction                                                                     \nF1          0%    0%    0%    0%    0%    0%    0%    0%    0%    0%    0%   \nF2          0%    0%    0%    0%    0%    0%    0%    0%    0%    0%    0%   \nF3          0%    0%    0%    0%    0%    0%    0%    0%    0%    0%    0%   \nF5          0%    0%    0%    0%    0%    0%    0%    0%    0%    0%    0%   \nF6          0%    0%    0%    0%    0%    0%    0%    0%    0%    0%    0%   \nF7          0%    0%    0%    0%    0%    0%    0%    0%    0%    0%    0%   \nF11         0%    0%    0%    0%    0%    0%    0%    0%    0%    0%    0%   \nF12         0%    0%    0%    0%    0%    0%    0%    0%    0%    0%    0%   \nF13         0%    0%    0%    0%    0%    0%    0%    0%    0%    0%    0%   \nF14       160%  180%  200%  140%  170%  160%  200%  180%  200%  200%  190%   \nF15         0%    0%   10%    0%    0%    0%    0%    0%    0%    0%    0%   \nF16        20%   10%  190%   20%   50%    0%  190%   20%  190%  200%   50%   \nF17        80%   40%  200%   40%   40%   40%  200%   10%  200%  200%   50%   \nF18         0%    0%  100%    0%    0%    0%  100%   10%  120%   70%    0%   \nF19       200%  200%  200%  200%  200%  200%  200%  200%  200%  200%  200%   \nF20        90%   80%   80%   60%  120%   80%   50%  100%  110%   80%  100%   \nF21         0%    0%    0%    0%    0%    0%    0%    0%    0%    0%    0%   \nF22         0%    0%    0%    0%    0%    0%    0%    0%    0%    0%    0%   \nF23         0%    0%   10%    0%    0%    0%    0%    0%    0%    0%    0%   \n\n           572   594   542   570   562   575   573   552   555  \nFunction                                                        \nF1          0%    0%    0%    0%    0%    0%    0%    0%    0%  \nF2          0%    0%    0%    0%    0%    0%    0%    0%    0%  \nF3          0%    0%    0%    0%    0%    0%    0%    0%    0%  \nF5          0%    0%    0%    0%    0%    0%    0%    0%    0%  \nF6          0%    0%    0%    0%    0%    0%    0%    0%    0%  \nF7          0%    0%    0%    0%    0%    0%    0%    0%    0%  \nF11         0%    0%    0%    0%    0%    0%    0%    0%    0%  \nF12         0%    0%    0%    0%    0%    0%    0%    0%    0%  \nF13         0%    0%    0%    0%    0%    0%    0%    0%    0%  \nF14       200%  170%  200%  200%  200%  200%  200%  200%  200%  \nF15         0%    0%    0%    0%    0%    0%    0%    0%    0%  \nF16       200%   10%  200%  190%  200%  200%  200%  200%  200%  \nF17       200%   40%  200%  200%  200%  200%  200%  200%  200%  \nF18        80%    0%   80%  140%  110%   90%  110%   90%   90%  \nF19       200%  200%  200%  200%  200%  200%  200%  200%  200%  \nF20        60%   80%  110%  100%  120%   40%   70%  110%   80%  \nF21         0%    0%    0%    0%    0%    0%    0%    0%    0%  \nF22         0%    0%   10%    0%    0%    0%    0%    0%    0%  \nF23         0%    0%    0%   10%    0%    0%    0%    0%    0%  ",
      "text/html": "<div>\n<style scoped>\n    .dataframe tbody tr th:only-of-type {\n        vertical-align: middle;\n    }\n\n    .dataframe tbody tr th {\n        vertical-align: top;\n    }\n\n    .dataframe thead th {\n        text-align: right;\n    }\n</style>\n<table border=\"1\" class=\"dataframe\">\n  <thead>\n    <tr style=\"text-align: right;\">\n      <th></th>\n      <th>590</th>\n      <th>593</th>\n      <th>579</th>\n      <th>588</th>\n      <th>589</th>\n      <th>591</th>\n      <th>576</th>\n      <th>587</th>\n      <th>569</th>\n      <th>558</th>\n      <th>592</th>\n      <th>572</th>\n      <th>594</th>\n      <th>542</th>\n      <th>570</th>\n      <th>562</th>\n      <th>575</th>\n      <th>573</th>\n      <th>552</th>\n      <th>555</th>\n    </tr>\n    <tr>\n      <th>Function</th>\n      <th></th>\n      <th></th>\n      <th></th>\n      <th></th>\n      <th></th>\n      <th></th>\n      <th></th>\n      <th></th>\n      <th></th>\n      <th></th>\n      <th></th>\n      <th></th>\n      <th></th>\n      <th></th>\n      <th></th>\n      <th></th>\n      <th></th>\n      <th></th>\n      <th></th>\n      <th></th>\n    </tr>\n  </thead>\n  <tbody>\n    <tr>\n      <th>F1</th>\n      <td>0%</td>\n      <td>0%</td>\n      <td>0%</td>\n      <td>0%</td>\n      <td>0%</td>\n      <td>0%</td>\n      <td>0%</td>\n      <td>0%</td>\n      <td>0%</td>\n      <td>0%</td>\n      <td>0%</td>\n      <td>0%</td>\n      <td>0%</td>\n      <td>0%</td>\n      <td>0%</td>\n      <td>0%</td>\n      <td>0%</td>\n      <td>0%</td>\n      <td>0%</td>\n      <td>0%</td>\n    </tr>\n    <tr>\n      <th>F2</th>\n      <td>0%</td>\n      <td>0%</td>\n      <td>0%</td>\n      <td>0%</td>\n      <td>0%</td>\n      <td>0%</td>\n      <td>0%</td>\n      <td>0%</td>\n      <td>0%</td>\n      <td>0%</td>\n      <td>0%</td>\n      <td>0%</td>\n      <td>0%</td>\n      <td>0%</td>\n      <td>0%</td>\n      <td>0%</td>\n      <td>0%</td>\n      <td>0%</td>\n      <td>0%</td>\n      <td>0%</td>\n    </tr>\n    <tr>\n      <th>F3</th>\n      <td>0%</td>\n      <td>0%</td>\n      <td>0%</td>\n      <td>0%</td>\n      <td>0%</td>\n      <td>0%</td>\n      <td>0%</td>\n      <td>0%</td>\n      <td>0%</td>\n      <td>0%</td>\n      <td>0%</td>\n      <td>0%</td>\n      <td>0%</td>\n      <td>0%</td>\n      <td>0%</td>\n      <td>0%</td>\n      <td>0%</td>\n      <td>0%</td>\n      <td>0%</td>\n      <td>0%</td>\n    </tr>\n    <tr>\n      <th>F5</th>\n      <td>0%</td>\n      <td>0%</td>\n      <td>0%</td>\n      <td>0%</td>\n      <td>0%</td>\n      <td>0%</td>\n      <td>0%</td>\n      <td>0%</td>\n      <td>0%</td>\n      <td>0%</td>\n      <td>0%</td>\n      <td>0%</td>\n      <td>0%</td>\n      <td>0%</td>\n      <td>0%</td>\n      <td>0%</td>\n      <td>0%</td>\n      <td>0%</td>\n      <td>0%</td>\n      <td>0%</td>\n    </tr>\n    <tr>\n      <th>F6</th>\n      <td>0%</td>\n      <td>0%</td>\n      <td>0%</td>\n      <td>0%</td>\n      <td>0%</td>\n      <td>0%</td>\n      <td>0%</td>\n      <td>0%</td>\n      <td>0%</td>\n      <td>0%</td>\n      <td>0%</td>\n      <td>0%</td>\n      <td>0%</td>\n      <td>0%</td>\n      <td>0%</td>\n      <td>0%</td>\n      <td>0%</td>\n      <td>0%</td>\n      <td>0%</td>\n      <td>0%</td>\n    </tr>\n    <tr>\n      <th>F7</th>\n      <td>0%</td>\n      <td>0%</td>\n      <td>0%</td>\n      <td>0%</td>\n      <td>0%</td>\n      <td>0%</td>\n      <td>0%</td>\n      <td>0%</td>\n      <td>0%</td>\n      <td>0%</td>\n      <td>0%</td>\n      <td>0%</td>\n      <td>0%</td>\n      <td>0%</td>\n      <td>0%</td>\n      <td>0%</td>\n      <td>0%</td>\n      <td>0%</td>\n      <td>0%</td>\n      <td>0%</td>\n    </tr>\n    <tr>\n      <th>F11</th>\n      <td>0%</td>\n      <td>0%</td>\n      <td>0%</td>\n      <td>0%</td>\n      <td>0%</td>\n      <td>0%</td>\n      <td>0%</td>\n      <td>0%</td>\n      <td>0%</td>\n      <td>0%</td>\n      <td>0%</td>\n      <td>0%</td>\n      <td>0%</td>\n      <td>0%</td>\n      <td>0%</td>\n      <td>0%</td>\n      <td>0%</td>\n      <td>0%</td>\n      <td>0%</td>\n      <td>0%</td>\n    </tr>\n    <tr>\n      <th>F12</th>\n      <td>0%</td>\n      <td>0%</td>\n      <td>0%</td>\n      <td>0%</td>\n      <td>0%</td>\n      <td>0%</td>\n      <td>0%</td>\n      <td>0%</td>\n      <td>0%</td>\n      <td>0%</td>\n      <td>0%</td>\n      <td>0%</td>\n      <td>0%</td>\n      <td>0%</td>\n      <td>0%</td>\n      <td>0%</td>\n      <td>0%</td>\n      <td>0%</td>\n      <td>0%</td>\n      <td>0%</td>\n    </tr>\n    <tr>\n      <th>F13</th>\n      <td>0%</td>\n      <td>0%</td>\n      <td>0%</td>\n      <td>0%</td>\n      <td>0%</td>\n      <td>0%</td>\n      <td>0%</td>\n      <td>0%</td>\n      <td>0%</td>\n      <td>0%</td>\n      <td>0%</td>\n      <td>0%</td>\n      <td>0%</td>\n      <td>0%</td>\n      <td>0%</td>\n      <td>0%</td>\n      <td>0%</td>\n      <td>0%</td>\n      <td>0%</td>\n      <td>0%</td>\n    </tr>\n    <tr>\n      <th>F14</th>\n      <td>160%</td>\n      <td>180%</td>\n      <td>200%</td>\n      <td>140%</td>\n      <td>170%</td>\n      <td>160%</td>\n      <td>200%</td>\n      <td>180%</td>\n      <td>200%</td>\n      <td>200%</td>\n      <td>190%</td>\n      <td>200%</td>\n      <td>170%</td>\n      <td>200%</td>\n      <td>200%</td>\n      <td>200%</td>\n      <td>200%</td>\n      <td>200%</td>\n      <td>200%</td>\n      <td>200%</td>\n    </tr>\n    <tr>\n      <th>F15</th>\n      <td>0%</td>\n      <td>0%</td>\n      <td>10%</td>\n      <td>0%</td>\n      <td>0%</td>\n      <td>0%</td>\n      <td>0%</td>\n      <td>0%</td>\n      <td>0%</td>\n      <td>0%</td>\n      <td>0%</td>\n      <td>0%</td>\n      <td>0%</td>\n      <td>0%</td>\n      <td>0%</td>\n      <td>0%</td>\n      <td>0%</td>\n      <td>0%</td>\n      <td>0%</td>\n      <td>0%</td>\n    </tr>\n    <tr>\n      <th>F16</th>\n      <td>20%</td>\n      <td>10%</td>\n      <td>190%</td>\n      <td>20%</td>\n      <td>50%</td>\n      <td>0%</td>\n      <td>190%</td>\n      <td>20%</td>\n      <td>190%</td>\n      <td>200%</td>\n      <td>50%</td>\n      <td>200%</td>\n      <td>10%</td>\n      <td>200%</td>\n      <td>190%</td>\n      <td>200%</td>\n      <td>200%</td>\n      <td>200%</td>\n      <td>200%</td>\n      <td>200%</td>\n    </tr>\n    <tr>\n      <th>F17</th>\n      <td>80%</td>\n      <td>40%</td>\n      <td>200%</td>\n      <td>40%</td>\n      <td>40%</td>\n      <td>40%</td>\n      <td>200%</td>\n      <td>10%</td>\n      <td>200%</td>\n      <td>200%</td>\n      <td>50%</td>\n      <td>200%</td>\n      <td>40%</td>\n      <td>200%</td>\n      <td>200%</td>\n      <td>200%</td>\n      <td>200%</td>\n      <td>200%</td>\n      <td>200%</td>\n      <td>200%</td>\n    </tr>\n    <tr>\n      <th>F18</th>\n      <td>0%</td>\n      <td>0%</td>\n      <td>100%</td>\n      <td>0%</td>\n      <td>0%</td>\n      <td>0%</td>\n      <td>100%</td>\n      <td>10%</td>\n      <td>120%</td>\n      <td>70%</td>\n      <td>0%</td>\n      <td>80%</td>\n      <td>0%</td>\n      <td>80%</td>\n      <td>140%</td>\n      <td>110%</td>\n      <td>90%</td>\n      <td>110%</td>\n      <td>90%</td>\n      <td>90%</td>\n    </tr>\n    <tr>\n      <th>F19</th>\n      <td>200%</td>\n      <td>200%</td>\n      <td>200%</td>\n      <td>200%</td>\n      <td>200%</td>\n      <td>200%</td>\n      <td>200%</td>\n      <td>200%</td>\n      <td>200%</td>\n      <td>200%</td>\n      <td>200%</td>\n      <td>200%</td>\n      <td>200%</td>\n      <td>200%</td>\n      <td>200%</td>\n      <td>200%</td>\n      <td>200%</td>\n      <td>200%</td>\n      <td>200%</td>\n      <td>200%</td>\n    </tr>\n    <tr>\n      <th>F20</th>\n      <td>90%</td>\n      <td>80%</td>\n      <td>80%</td>\n      <td>60%</td>\n      <td>120%</td>\n      <td>80%</td>\n      <td>50%</td>\n      <td>100%</td>\n      <td>110%</td>\n      <td>80%</td>\n      <td>100%</td>\n      <td>60%</td>\n      <td>80%</td>\n      <td>110%</td>\n      <td>100%</td>\n      <td>120%</td>\n      <td>40%</td>\n      <td>70%</td>\n      <td>110%</td>\n      <td>80%</td>\n    </tr>\n    <tr>\n      <th>F21</th>\n      <td>0%</td>\n      <td>0%</td>\n      <td>0%</td>\n      <td>0%</td>\n      <td>0%</td>\n      <td>0%</td>\n      <td>0%</td>\n      <td>0%</td>\n      <td>0%</td>\n      <td>0%</td>\n      <td>0%</td>\n      <td>0%</td>\n      <td>0%</td>\n      <td>0%</td>\n      <td>0%</td>\n      <td>0%</td>\n      <td>0%</td>\n      <td>0%</td>\n      <td>0%</td>\n      <td>0%</td>\n    </tr>\n    <tr>\n      <th>F22</th>\n      <td>0%</td>\n      <td>0%</td>\n      <td>0%</td>\n      <td>0%</td>\n      <td>0%</td>\n      <td>0%</td>\n      <td>0%</td>\n      <td>0%</td>\n      <td>0%</td>\n      <td>0%</td>\n      <td>0%</td>\n      <td>0%</td>\n      <td>0%</td>\n      <td>10%</td>\n      <td>0%</td>\n      <td>0%</td>\n      <td>0%</td>\n      <td>0%</td>\n      <td>0%</td>\n      <td>0%</td>\n    </tr>\n    <tr>\n      <th>F23</th>\n      <td>0%</td>\n      <td>0%</td>\n      <td>10%</td>\n      <td>0%</td>\n      <td>0%</td>\n      <td>0%</td>\n      <td>0%</td>\n      <td>0%</td>\n      <td>0%</td>\n      <td>0%</td>\n      <td>0%</td>\n      <td>0%</td>\n      <td>0%</td>\n      <td>0%</td>\n      <td>10%</td>\n      <td>0%</td>\n      <td>0%</td>\n      <td>0%</td>\n      <td>0%</td>\n      <td>0%</td>\n    </tr>\n  </tbody>\n</table>\n</div>"
     },
     "metadata": {},
     "output_type": "display_data"
    }
   ],
   "source": [
    "data_pm = pd.read_csv(\"./best_20com_9pm.csv\", header=0, index_col=[0])\n",
    "index = data_pm.index.tolist()\n",
    "print(index)\n",
    "def read_csv(path):\n",
    "    return pd.read_csv(path,index_col=[0,1],header=0)\n",
    "path_percent_list=[\"./combination\"+str(i)+\".csv\" for i in index]\n",
    "df = [read_csv(name) for name in path_percent_list]\n",
    "df = pd.concat(df,axis=1)\n",
    "df.columns = index\n",
    "print(df.columns)\n",
    "print(df)\n",
    "df.to_csv(\"./Lamarck_rawdata.csv\",header=True,index=True)\n",
    "\n",
    "def percent(Function, optimal):\n",
    "    dataframe = df.loc[(Function, slice(None)), :]\n",
    "    dataframe = pd.DataFrame(data=dataframe.values,\n",
    "                             columns=dataframe.columns)\n",
    "    percent_dataframe = dataframe.applymap(lambda x: True if ((x-optimal)<=threshold or x<=optimal) else False)\n",
    "    percent_dataframe[\"Function\"] = Function\n",
    "    return percent_dataframe\n",
    "\n",
    "threshold =0.0001\n",
    "opt = [0.0, 0.0, 0.0, 0.0, 0.0, 0.0, 0.0, -418.98 * 50, 0.0, 0.0, 0.0, 0.0, 0.0, 1.0, 0.0003, -1.0316, 0.398, 3.0,\n",
    "       -3.86, -3.32, -10.1532,-10.4028, -10.5363]\n",
    "function_list = [1,2,3,5,6,7,11,12,13,14,15,16,17,18,19,20,21,22,23]\n",
    "percent_df = [percent(Function=\"F\" + str(i), optimal=opt[i - 1]) for i in function_list]\n",
    "percent_df = pd.concat(percent_df, axis=0)\n",
    "percent_df = percent_df.groupby([\"Function\"]).sum().applymap(lambda x: str(x * 10) + \"%\")\n",
    "index = [\"F\" + str(i) for i in function_list]\n",
    "percent_df = percent_df.loc[index]\n",
    "display(percent_df)\n",
    "percent_df.to_csv(\"./Lamarck_percent.csv\")"
   ],
   "metadata": {
    "collapsed": false,
    "pycharm": {
     "name": "#%%\n"
    }
   }
  },
  {
   "cell_type": "code",
   "execution_count": 15,
   "outputs": [
    {
     "name": "stderr",
     "output_type": "stream",
     "text": [
      "/var/folders/vb/bhfltf7s0n5dmrcb5r9s80mw0000gn/T/ipykernel_1270/939628730.py:19: FutureWarning: \n",
      "\n",
      "The `ci` parameter is deprecated. Use `errorbar=('ci', 95)` for the same effect.\n",
      "\n",
      "  ax=sns.barplot(data=dataframe,y=\"Percent\",x=\"Function\",ci=95)\n"
     ]
    },
    {
     "data": {
      "text/plain": "<Figure size 1440x504 with 1 Axes>",
      "image/png": "[encoded data removed]"
     },
     "metadata": {},
     "output_type": "display_data"
    }
   ],
   "source": [
    "from matplotlib import pyplot as plt\n",
    "dataframe = percent_df.copy()\n",
    "dataframe = dataframe.applymap(lambda x:x if not '%' in str(x) else x.replace('%',''))\n",
    "# display(dataframe)\n",
    "import seaborn as sns\n",
    "dataframe = dataframe.stack()\n",
    "# display(dataframe)\n",
    "dataframe = dataframe.rename_axis(index=[\"Function\",\"Combinations\"])\n",
    "dataframe = dataframe.reset_index(level=[0, 1], name=\"Percent\")\n",
    "dataframe[\"Percent\"] = pd.to_numeric(dataframe[\"Percent\"])\n",
    "dataframe = dataframe.reset_index(drop=False)\n",
    "# display(dataframe)\n",
    "function_list = [\"F\" + str(i) for i in range(1, 24, 1)]\n",
    "def show_graph(dataframe):\n",
    "    sns.set_theme(style=\"whitegrid\", palette=\"pastel\",font_scale=1.5)\n",
    "    sns.set_style(\"ticks\",{'axes.grid' : True})\n",
    "    plt.figure(figsize=(20,7))\n",
    "    plt.subplot(1,1,1)\n",
    "    ax=sns.barplot(data=dataframe,y=\"Percent\",x=\"Function\",ci=95)\n",
    "    ax.bar_label(ax.containers[0],label_type='edge')\n",
    "    plt.xlabel(\"Lamarck\")\n",
    "    # sns.move_legend(ax, \"upper left\", bbox_to_anchor=(0, 1))\n",
    "    plt.savefig(\"./Lamarck_percent.png\", dpi=1200, bbox_inches='tight')\n",
    "    plt.show()\n",
    "show_graph(dataframe=dataframe)"
   ],
   "metadata": {
    "collapsed": false,
    "pycharm": {
     "name": "#%%\n"
    }
   }
  },
  {
   "cell_type": "code",
   "execution_count": 16,
   "outputs": [],
   "source": [
    "# from matplotlib import pyplot as plt\n",
    "# dataframe = df.copy()\n",
    "# dataframe = dataframe.stack()\n",
    "# # display(dataframe)\n",
    "# dataframe = dataframe.rename_axis(index=[\"Function\",\"Times\",\"Combinations\"])\n",
    "# dataframe = dataframe.reset_index(level=[0, 1], name=\"Solutions\")\n",
    "# dataframe[\"Solutions\"] = pd.to_numeric(dataframe[\"Solutions\"])\n",
    "# dataframe = dataframe.reset_index(drop=False)\n",
    "# # display(dataframe)\n",
    "# opt = [0, 0, 0, 0, 0, 0, 0, -20949, 0, 0, 0, 0, 0, 1, 0.0003, -1.0316, 0.398, 3, -3.86, -3.32,-10.1532, -10.4028, -10.5363]\n",
    "# def show_graph(dataframe):\n",
    "#     sns.set_theme(style=\"whitegrid\", palette=\"pastel\",font_scale=1.5)\n",
    "#     dist_cols = 3\n",
    "#     dist_rows = 8\n",
    "#     plt.figure(figsize=(7 * dist_cols, 4 * dist_rows))\n",
    "#     i = 1\n",
    "#     for function in function_list:\n",
    "#         dataf = dataframe[dataframe[\"Function\"] == function]\n",
    "#         plt.subplot(dist_rows, dist_cols, i)\n",
    "#         ax=sns.boxplot(data=dataf, y=\"Solutions\",palette=\"viridis\",x=\"Function\",hue=\"Function\",width=0.2)\n",
    "#         sns.move_legend(ax, \"upper left\", bbox_to_anchor=(0, 1),frameon=False)\n",
    "#         plt.axhline(y=opt[i-1],color=\"red\")\n",
    "#         plt.xlabel(\"\")\n",
    "#         plt.ylabel(\"Solutions\")\n",
    "#         i = i + 1\n",
    "#     plt.savefig(\"./boxplot_Lamarck.png\", dpi=1200, bbox_inches='tight')\n",
    "#     plt.show()\n",
    "# show_graph(dataframe=dataframe)"
   ],
   "metadata": {
    "collapsed": false,
    "pycharm": {
     "name": "#%%\n"
    }
   }
  },
  {
   "cell_type": "code",
   "execution_count": 16,
   "outputs": [],
   "source": [],
   "metadata": {
    "collapsed": false,
    "pycharm": {
     "name": "#%%\n"
    }
   }
  }
 ],
 "metadata": {
  "kernelspec": {
   "display_name": "Python 3",
   "language": "python",
   "name": "python3"
  },
  "language_info": {
   "codemirror_mode": {
    "name": "ipython",
    "version": 2
   },
   "file_extension": ".py",
   "mimetype": "text/x-python",
   "name": "python",
   "nbconvert_exporter": "python",
   "pygments_lexer": "ipython2",
   "version": "2.7.6"
  }
 },
 "nbformat": 4,
 "nbformat_minor": 0
}