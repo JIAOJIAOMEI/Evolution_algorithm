{
 "cells": [
  {
   "cell_type": "code",
   "execution_count": 1,
   "metadata": {
    "collapsed": true,
    "pycharm": {
     "name": "#%%\n"
    }
   },
   "outputs": [],
   "source": [
    "import numpy as np\n",
    "import pandas as pd"
   ]
  },
  {
   "cell_type": "code",
   "execution_count": 2,
   "outputs": [
    {
     "name": "stdout",
     "output_type": "stream",
     "text": [
      "[590, 593, 579, 588, 589, 591, 576, 587, 569, 558, 592, 572, 594, 542, 570, 562, 575, 573, 552, 555]\n",
      "Int64Index([590, 593, 579, 588, 589, 591, 576, 587, 569, 558, 592, 572, 594,\n",
      "            542, 570, 562, 575, 573, 552, 555],\n",
      "           dtype='int64')\n",
      "                 590      593      579      588      589      591      576  \\\n",
      "F1  Times1   10099.0  10099.0  10199.0  10099.0  10099.0  10099.0  10199.0   \n",
      "    Times2   10099.0  10099.0  10199.0  10099.0  10099.0  10099.0  10199.0   \n",
      "    Times3   10099.0  10099.0  10199.0  10099.0  10099.0  10099.0  10199.0   \n",
      "    Times4   10099.0  10099.0  10199.0  10099.0  10099.0  10099.0  10199.0   \n",
      "    Times5   10099.0  10099.0  10199.0  10099.0  10099.0  10099.0  10199.0   \n",
      "...              ...      ...      ...      ...      ...      ...      ...   \n",
      "F23 Times16  10099.0  10099.0  10199.0  10099.0  10099.0  10099.0  10199.0   \n",
      "    Times17  10099.0  10099.0  10199.0  10099.0  10099.0  10099.0  10199.0   \n",
      "    Times18  10099.0  10099.0  10199.0  10099.0  10099.0  10099.0  10199.0   \n",
      "    Times19  10099.0  10099.0  10199.0  10099.0  10099.0  10099.0  10199.0   \n",
      "    Times20  10099.0  10099.0  10199.0  10099.0  10099.0  10099.0   8949.0   \n",
      "\n",
      "                 587      569      558      592      572      594      542  \\\n",
      "F1  Times1   10099.0  10199.0  10099.0  10099.0  10199.0  10099.0  10199.0   \n",
      "    Times2   10099.0  10199.0  10099.0  10099.0  10199.0  10099.0  10199.0   \n",
      "    Times3   10099.0  10199.0  10099.0  10099.0  10199.0  10099.0  10199.0   \n",
      "    Times4   10099.0  10199.0  10099.0  10099.0  10199.0  10099.0  10199.0   \n",
      "    Times5   10099.0  10199.0  10099.0  10099.0  10199.0  10099.0  10199.0   \n",
      "...              ...      ...      ...      ...      ...      ...      ...   \n",
      "F23 Times16  10099.0  10199.0  10099.0  10099.0  10199.0  10099.0  10199.0   \n",
      "    Times17  10099.0  10199.0  10099.0  10099.0  10199.0  10099.0   4797.0   \n",
      "    Times18  10099.0  10199.0  10099.0  10099.0  10199.0  10099.0  10199.0   \n",
      "    Times19  10099.0  10199.0  10099.0  10099.0  10199.0  10099.0  10199.0   \n",
      "    Times20  10099.0  10199.0  10099.0  10099.0  10199.0  10099.0  10199.0   \n",
      "\n",
      "                 570      562      575      573      552      555  \n",
      "F1  Times1   10199.0  10099.0  10199.0  10199.0  10099.0  10099.0  \n",
      "    Times2   10199.0  10099.0  10199.0  10199.0  10099.0  10099.0  \n",
      "    Times3   10199.0  10099.0  10199.0  10199.0  10099.0  10099.0  \n",
      "    Times4   10199.0  10099.0  10199.0  10199.0  10099.0  10099.0  \n",
      "    Times5   10199.0  10099.0  10199.0  10199.0  10099.0  10099.0  \n",
      "...              ...      ...      ...      ...      ...      ...  \n",
      "F23 Times16  10199.0  10099.0  10199.0  10199.0  10099.0  10099.0  \n",
      "    Times17  10199.0  10099.0  10199.0   9339.0  10099.0  10099.0  \n",
      "    Times18  10199.0  10099.0  10199.0  10199.0  10099.0  10099.0  \n",
      "    Times19  10199.0  10099.0  10199.0  10199.0  10099.0  10099.0  \n",
      "    Times20  10199.0  10099.0  10199.0  10199.0  10099.0  10099.0  \n",
      "\n",
      "[380 rows x 20 columns]\n"
     ]
    }
   ],
   "source": [
    "data_pm = pd.read_csv(\"./best_20com_9pm.csv\", header=0, index_col=[0])\n",
    "index = data_pm.index.tolist()\n",
    "print(index)\n",
    "def read_csv(path):\n",
    "    return pd.read_csv(path,index_col=[0,1],header=0)\n",
    "path_budget_list=[\"./budget\"+str(i)+\".csv\" for i in index]\n",
    "df = [read_csv(name) for name in path_budget_list]\n",
    "df = pd.concat(df,axis=1)\n",
    "df.columns = index\n",
    "print(df.columns)\n",
    "print(df)\n",
    "df.to_csv(\"./SSGA_budget.csv\",header=True,index=True)"
   ],
   "metadata": {
    "collapsed": false,
    "pycharm": {
     "name": "#%%\n"
    }
   }
  },
  {
   "cell_type": "code",
   "execution_count": 3,
   "outputs": [
    {
     "name": "stdout",
     "output_type": "stream",
     "text": [
      "[590, 593, 579, 588, 589, 591, 576, 587, 569, 558, 592, 572, 594, 542, 570, 562, 575, 573, 552, 555]\n",
      "Int64Index([590, 593, 579, 588, 589, 591, 576, 587, 569, 558, 592, 572, 594,\n",
      "            542, 570, 562, 575, 573, 552, 555],\n",
      "           dtype='int64')\n",
      "                   590        593        579        588        589        591  \\\n",
      "F1  Times1   65.452792  77.176220  65.242866  45.188359  37.904985  47.859525   \n",
      "    Times2   78.219570  64.580757  41.999949  49.913117  29.708938  47.642190   \n",
      "    Times3   61.705430  84.727998  57.702995  41.971498  26.813663  41.816083   \n",
      "    Times4   58.715259  68.301655  58.277611  36.898642  17.317747  41.263693   \n",
      "    Times5   73.241766  63.294696  34.850075  71.487768  39.910058  44.898601   \n",
      "...                ...        ...        ...        ...        ...        ...   \n",
      "F23 Times16  -2.427197  -1.859438 -10.533926 -10.533711 -10.508211  -2.871102   \n",
      "    Times17  -3.835291  -2.421545 -10.535665  -2.421621 -10.533412  -3.834993   \n",
      "    Times18  -2.421662  -2.427263  -3.835178 -10.532710  -2.421720  -2.427155   \n",
      "    Times19  -2.426799  -2.421724  -2.421660 -10.533991  -2.806537  -1.676353   \n",
      "    Times20  -2.421532  -2.806622  -2.421719 -10.534597  -2.427180  -5.175344   \n",
      "\n",
      "                   576        587        569        558        592        572  \\\n",
      "F1  Times1   52.170827  51.736558  73.997018  35.716795  24.732718  79.092126   \n",
      "    Times2   37.873631  63.637582  68.210766  24.409810  71.363771  87.370137   \n",
      "    Times3   47.524235  77.641093  52.523826  25.007809  43.166546  98.167483   \n",
      "    Times4   56.461790  92.329534  63.007399  18.392785  19.882238  66.017158   \n",
      "    Times5   42.456903  95.199013  97.510785  20.892496  25.178682  72.126360   \n",
      "...                ...        ...        ...        ...        ...        ...   \n",
      "F23 Times16  -2.421585  -2.426833  -3.686505  -3.835273 -10.534579 -10.532431   \n",
      "    Times17  -2.421684  -5.126957  -2.427196  -5.175141  -1.676524  -1.859468   \n",
      "    Times18 -10.535465  -2.870894 -10.535391  -2.427312 -10.532503  -2.427149   \n",
      "    Times19 -10.536179  -2.870829  -2.806428  -5.175178 -10.532788 -10.535136   \n",
      "    Times20 -10.536255 -10.533057 -10.535173  -1.859475  -2.870955 -10.534008   \n",
      "\n",
      "                   594         542        570        562        575  \\\n",
      "F1  Times1   44.709373  132.874087  37.321974  32.838233  72.187745   \n",
      "    Times2   44.488021   86.426505  39.348997  19.924665  58.921567   \n",
      "    Times3   57.246604   70.460698  47.986407  20.096896  63.623937   \n",
      "    Times4   48.535533   55.071824  51.775273  16.029881  69.650816   \n",
      "    Times5   57.332854   91.003556  39.270724  11.646883  57.473109   \n",
      "...                ...         ...        ...        ...        ...   \n",
      "F23 Times16  -2.427277   -2.871113 -10.533980 -10.533309  -2.427301   \n",
      "    Times17  -2.806595  -10.536343  -2.871130  -2.421723  -2.421620   \n",
      "    Times18  -2.870863   -3.835338  -3.835333  -3.835379 -10.535376   \n",
      "    Times19  -2.421550  -10.535635  -5.127561  -5.174864  -2.427278   \n",
      "    Times20 -10.535666  -10.531073  -2.427252 -10.535410  -2.871047   \n",
      "\n",
      "                   573        552        555  \n",
      "F1  Times1   51.479560  17.480969  25.338580  \n",
      "    Times2   47.596200  25.262101  25.091944  \n",
      "    Times3   36.175147  35.863356  21.146038  \n",
      "    Times4   48.686688  18.568917  23.398835  \n",
      "    Times5   36.154594  18.057819  26.514880  \n",
      "...                ...        ...        ...  \n",
      "F23 Times16  -2.871012  -3.834894 -10.533415  \n",
      "    Times17 -10.536389  -2.421677  -5.175597  \n",
      "    Times18  -3.835272  -2.421553 -10.534245  \n",
      "    Times19  -3.835285 -10.534938  -3.835286  \n",
      "    Times20  -2.421615 -10.535552  -5.175498  \n",
      "\n",
      "[380 rows x 20 columns]\n"
     ]
    },
    {
     "data": {
      "text/plain": "           590   593   579   588   589   591   576   587   569   558   592  \\\nFunction                                                                     \nF1          0%    0%    0%    0%    0%    0%    0%    0%    0%    0%    0%   \nF2          0%    0%    0%    0%    0%    0%    0%    0%    0%    0%    0%   \nF3          0%    0%    0%    0%    0%    0%    0%    0%    0%    0%    0%   \nF5          0%    0%    0%    0%    0%    0%    0%    0%    0%    0%    0%   \nF6          0%    0%    0%    0%    0%    0%    0%    0%    0%    0%    0%   \nF7          0%   10%   60%   60%  140%   50%   70%    0%    0%  170%  120%   \nF11         0%    0%    0%    0%    0%    0%    0%    0%    0%    0%    0%   \nF12         0%    0%    0%    0%    0%    0%    0%    0%    0%    0%    0%   \nF13         0%    0%    0%    0%    0%    0%    0%    0%    0%    0%    0%   \nF14       200%  160%  200%  200%  200%  200%  200%  190%  200%  200%  170%   \nF15         0%    0%    0%    0%    0%    0%    0%    0%    0%    0%    0%   \nF16         0%   30%  200%   20%   40%   10%  200%   30%  200%  200%   50%   \nF17        70%  110%  200%  100%   60%  110%  200%   40%  200%  200%   70%   \nF18         0%    0%  170%    0%    0%    0%  160%    0%  150%  150%    0%   \nF19       200%  200%  200%  200%  200%  200%  200%  200%  200%  200%  200%   \nF20       110%   70%  120%   80%  110%  110%  100%   80%   90%   80%  110%   \nF21         0%    0%    0%   10%    0%    0%    0%    0%    0%   10%    0%   \nF22         0%    0%   10%    0%    0%    0%    0%    0%    0%   10%    0%   \nF23         0%    0%    0%    0%    0%    0%   10%    0%   10%    0%    0%   \n\n           572   594   542   570   562   575   573   552   555  \nFunction                                                        \nF1          0%    0%    0%    0%    0%    0%    0%    0%    0%  \nF2          0%    0%    0%    0%    0%    0%    0%    0%    0%  \nF3          0%    0%    0%    0%    0%    0%    0%    0%    0%  \nF5          0%    0%    0%    0%    0%    0%    0%    0%    0%  \nF6          0%    0%    0%    0%    0%    0%    0%    0%    0%  \nF7          0%   40%    0%  100%  200%   10%   50%  190%  190%  \nF11         0%    0%    0%    0%    0%    0%    0%    0%    0%  \nF12         0%    0%    0%    0%    0%    0%    0%    0%    0%  \nF13         0%    0%    0%    0%    0%    0%    0%    0%    0%  \nF14       200%  200%  200%  200%  200%  200%  200%  200%  200%  \nF15         0%    0%    0%    0%    0%    0%    0%    0%    0%  \nF16       200%   20%  200%  200%  200%  200%  200%  200%  200%  \nF17       200%   90%  200%  200%  200%  200%  200%  200%  200%  \nF18       140%    0%  130%  170%  120%  180%  180%  180%  180%  \nF19       200%  200%  200%  200%  200%  200%  200%  200%  200%  \nF20       100%  120%  100%   80%   80%  100%  110%  110%   80%  \nF21         0%    0%   10%   20%    0%    0%   10%    0%    0%  \nF22        10%    0%   10%   30%    0%   10%    0%   10%   20%  \nF23        10%    0%   10%    0%   10%    0%   10%    0%    0%  ",
      "text/html": "<div>\n<style scoped>\n    .dataframe tbody tr th:only-of-type {\n        vertical-align: middle;\n    }\n\n    .dataframe tbody tr th {\n        vertical-align: top;\n    }\n\n    .dataframe thead th {\n        text-align: right;\n    }\n</style>\n<table border=\"1\" class=\"dataframe\">\n  <thead>\n    <tr style=\"text-align: right;\">\n      <th></th>\n      <th>590</th>\n      <th>593</th>\n      <th>579</th>\n      <th>588</th>\n      <th>589</th>\n      <th>591</th>\n      <th>576</th>\n      <th>587</th>\n      <th>569</th>\n      <th>558</th>\n      <th>592</th>\n      <th>572</th>\n      <th>594</th>\n      <th>542</th>\n      <th>570</th>\n      <th>562</th>\n      <th>575</th>\n      <th>573</th>\n      <th>552</th>\n      <th>555</th>\n    </tr>\n    <tr>\n      <th>Function</th>\n      <th></th>\n      <th></th>\n      <th></th>\n      <th></th>\n      <th></th>\n      <th></th>\n      <th></th>\n      <th></th>\n      <th></th>\n      <th></th>\n      <th></th>\n      <th></th>\n      <th></th>\n      <th></th>\n      <th></th>\n      <th></th>\n      <th></th>\n      <th></th>\n      <th></th>\n      <th></th>\n    </tr>\n  </thead>\n  <tbody>\n    <tr>\n      <th>F1</th>\n      <td>0%</td>\n      <td>0%</td>\n      <td>0%</td>\n      <td>0%</td>\n      <td>0%</td>\n      <td>0%</td>\n      <td>0%</td>\n      <td>0%</td>\n      <td>0%</td>\n      <td>0%</td>\n      <td>0%</td>\n      <td>0%</td>\n      <td>0%</td>\n      <td>0%</td>\n      <td>0%</td>\n      <td>0%</td>\n      <td>0%</td>\n      <td>0%</td>\n      <td>0%</td>\n      <td>0%</td>\n    </tr>\n    <tr>\n      <th>F2</th>\n      <td>0%</td>\n      <td>0%</td>\n      <td>0%</td>\n      <td>0%</td>\n      <td>0%</td>\n      <td>0%</td>\n      <td>0%</td>\n      <td>0%</td>\n      <td>0%</td>\n      <td>0%</td>\n      <td>0%</td>\n      <td>0%</td>\n      <td>0%</td>\n      <td>0%</td>\n      <td>0%</td>\n      <td>0%</td>\n      <td>0%</td>\n      <td>0%</td>\n      <td>0%</td>\n      <td>0%</td>\n    </tr>\n    <tr>\n      <th>F3</th>\n      <td>0%</td>\n      <td>0%</td>\n      <td>0%</td>\n      <td>0%</td>\n      <td>0%</td>\n      <td>0%</td>\n      <td>0%</td>\n      <td>0%</td>\n      <td>0%</td>\n      <td>0%</td>\n      <td>0%</td>\n      <td>0%</td>\n      <td>0%</td>\n      <td>0%</td>\n      <td>0%</td>\n      <td>0%</td>\n      <td>0%</td>\n      <td>0%</td>\n      <td>0%</td>\n      <td>0%</td>\n    </tr>\n    <tr>\n      <th>F5</th>\n      <td>0%</td>\n      <td>0%</td>\n      <td>0%</td>\n      <td>0%</td>\n      <td>0%</td>\n      <td>0%</td>\n      <td>0%</td>\n      <td>0%</td>\n      <td>0%</td>\n      <td>0%</td>\n      <td>0%</td>\n      <td>0%</td>\n      <td>0%</td>\n      <td>0%</td>\n      <td>0%</td>\n      <td>0%</td>\n      <td>0%</td>\n      <td>0%</td>\n      <td>0%</td>\n      <td>0%</td>\n    </tr>\n    <tr>\n      <th>F6</th>\n      <td>0%</td>\n      <td>0%</td>\n      <td>0%</td>\n      <td>0%</td>\n      <td>0%</td>\n      <td>0%</td>\n      <td>0%</td>\n      <td>0%</td>\n      <td>0%</td>\n      <td>0%</td>\n      <td>0%</td>\n      <td>0%</td>\n      <td>0%</td>\n      <td>0%</td>\n      <td>0%</td>\n      <td>0%</td>\n      <td>0%</td>\n      <td>0%</td>\n      <td>0%</td>\n      <td>0%</td>\n    </tr>\n    <tr>\n      <th>F7</th>\n      <td>0%</td>\n      <td>10%</td>\n      <td>60%</td>\n      <td>60%</td>\n      <td>140%</td>\n      <td>50%</td>\n      <td>70%</td>\n      <td>0%</td>\n      <td>0%</td>\n      <td>170%</td>\n      <td>120%</td>\n      <td>0%</td>\n      <td>40%</td>\n      <td>0%</td>\n      <td>100%</td>\n      <td>200%</td>\n      <td>10%</td>\n      <td>50%</td>\n      <td>190%</td>\n      <td>190%</td>\n    </tr>\n    <tr>\n      <th>F11</th>\n      <td>0%</td>\n      <td>0%</td>\n      <td>0%</td>\n      <td>0%</td>\n      <td>0%</td>\n      <td>0%</td>\n      <td>0%</td>\n      <td>0%</td>\n      <td>0%</td>\n      <td>0%</td>\n      <td>0%</td>\n      <td>0%</td>\n      <td>0%</td>\n      <td>0%</td>\n      <td>0%</td>\n      <td>0%</td>\n      <td>0%</td>\n      <td>0%</td>\n      <td>0%</td>\n      <td>0%</td>\n    </tr>\n    <tr>\n      <th>F12</th>\n      <td>0%</td>\n      <td>0%</td>\n      <td>0%</td>\n      <td>0%</td>\n      <td>0%</td>\n      <td>0%</td>\n      <td>0%</td>\n      <td>0%</td>\n      <td>0%</td>\n      <td>0%</td>\n      <td>0%</td>\n      <td>0%</td>\n      <td>0%</td>\n      <td>0%</td>\n      <td>0%</td>\n      <td>0%</td>\n      <td>0%</td>\n      <td>0%</td>\n      <td>0%</td>\n      <td>0%</td>\n    </tr>\n    <tr>\n      <th>F13</th>\n      <td>0%</td>\n      <td>0%</td>\n      <td>0%</td>\n      <td>0%</td>\n      <td>0%</td>\n      <td>0%</td>\n      <td>0%</td>\n      <td>0%</td>\n      <td>0%</td>\n      <td>0%</td>\n      <td>0%</td>\n      <td>0%</td>\n      <td>0%</td>\n      <td>0%</td>\n      <td>0%</td>\n      <td>0%</td>\n      <td>0%</td>\n      <td>0%</td>\n      <td>0%</td>\n      <td>0%</td>\n    </tr>\n    <tr>\n      <th>F14</th>\n      <td>200%</td>\n      <td>160%</td>\n      <td>200%</td>\n      <td>200%</td>\n      <td>200%</td>\n      <td>200%</td>\n      <td>200%</td>\n      <td>190%</td>\n      <td>200%</td>\n      <td>200%</td>\n      <td>170%</td>\n      <td>200%</td>\n      <td>200%</td>\n      <td>200%</td>\n      <td>200%</td>\n      <td>200%</td>\n      <td>200%</td>\n      <td>200%</td>\n      <td>200%</td>\n      <td>200%</td>\n    </tr>\n    <tr>\n      <th>F15</th>\n      <td>0%</td>\n      <td>0%</td>\n      <td>0%</td>\n      <td>0%</td>\n      <td>0%</td>\n      <td>0%</td>\n      <td>0%</td>\n      <td>0%</td>\n      <td>0%</td>\n      <td>0%</td>\n      <td>0%</td>\n      <td>0%</td>\n      <td>0%</td>\n      <td>0%</td>\n      <td>0%</td>\n      <td>0%</td>\n      <td>0%</td>\n      <td>0%</td>\n      <td>0%</td>\n      <td>0%</td>\n    </tr>\n    <tr>\n      <th>F16</th>\n      <td>0%</td>\n      <td>30%</td>\n      <td>200%</td>\n      <td>20%</td>\n      <td>40%</td>\n      <td>10%</td>\n      <td>200%</td>\n      <td>30%</td>\n      <td>200%</td>\n      <td>200%</td>\n      <td>50%</td>\n      <td>200%</td>\n      <td>20%</td>\n      <td>200%</td>\n      <td>200%</td>\n      <td>200%</td>\n      <td>200%</td>\n      <td>200%</td>\n      <td>200%</td>\n      <td>200%</td>\n    </tr>\n    <tr>\n      <th>F17</th>\n      <td>70%</td>\n      <td>110%</td>\n      <td>200%</td>\n      <td>100%</td>\n      <td>60%</td>\n      <td>110%</td>\n      <td>200%</td>\n      <td>40%</td>\n      <td>200%</td>\n      <td>200%</td>\n      <td>70%</td>\n      <td>200%</td>\n      <td>90%</td>\n      <td>200%</td>\n      <td>200%</td>\n      <td>200%</td>\n      <td>200%</td>\n      <td>200%</td>\n      <td>200%</td>\n      <td>200%</td>\n    </tr>\n    <tr>\n      <th>F18</th>\n      <td>0%</td>\n      <td>0%</td>\n      <td>170%</td>\n      <td>0%</td>\n      <td>0%</td>\n      <td>0%</td>\n      <td>160%</td>\n      <td>0%</td>\n      <td>150%</td>\n      <td>150%</td>\n      <td>0%</td>\n      <td>140%</td>\n      <td>0%</td>\n      <td>130%</td>\n      <td>170%</td>\n      <td>120%</td>\n      <td>180%</td>\n      <td>180%</td>\n      <td>180%</td>\n      <td>180%</td>\n    </tr>\n    <tr>\n      <th>F19</th>\n      <td>200%</td>\n      <td>200%</td>\n      <td>200%</td>\n      <td>200%</td>\n      <td>200%</td>\n      <td>200%</td>\n      <td>200%</td>\n      <td>200%</td>\n      <td>200%</td>\n      <td>200%</td>\n      <td>200%</td>\n      <td>200%</td>\n      <td>200%</td>\n      <td>200%</td>\n      <td>200%</td>\n      <td>200%</td>\n      <td>200%</td>\n      <td>200%</td>\n      <td>200%</td>\n      <td>200%</td>\n    </tr>\n    <tr>\n      <th>F20</th>\n      <td>110%</td>\n      <td>70%</td>\n      <td>120%</td>\n      <td>80%</td>\n      <td>110%</td>\n      <td>110%</td>\n      <td>100%</td>\n      <td>80%</td>\n      <td>90%</td>\n      <td>80%</td>\n      <td>110%</td>\n      <td>100%</td>\n      <td>120%</td>\n      <td>100%</td>\n      <td>80%</td>\n      <td>80%</td>\n      <td>100%</td>\n      <td>110%</td>\n      <td>110%</td>\n      <td>80%</td>\n    </tr>\n    <tr>\n      <th>F21</th>\n      <td>0%</td>\n      <td>0%</td>\n      <td>0%</td>\n      <td>10%</td>\n      <td>0%</td>\n      <td>0%</td>\n      <td>0%</td>\n      <td>0%</td>\n      <td>0%</td>\n      <td>10%</td>\n      <td>0%</td>\n      <td>0%</td>\n      <td>0%</td>\n      <td>10%</td>\n      <td>20%</td>\n      <td>0%</td>\n      <td>0%</td>\n      <td>10%</td>\n      <td>0%</td>\n      <td>0%</td>\n    </tr>\n    <tr>\n      <th>F22</th>\n      <td>0%</td>\n      <td>0%</td>\n      <td>10%</td>\n      <td>0%</td>\n      <td>0%</td>\n      <td>0%</td>\n      <td>0%</td>\n      <td>0%</td>\n      <td>0%</td>\n      <td>10%</td>\n      <td>0%</td>\n      <td>10%</td>\n      <td>0%</td>\n      <td>10%</td>\n      <td>30%</td>\n      <td>0%</td>\n      <td>10%</td>\n      <td>0%</td>\n      <td>10%</td>\n      <td>20%</td>\n    </tr>\n    <tr>\n      <th>F23</th>\n      <td>0%</td>\n      <td>0%</td>\n      <td>0%</td>\n      <td>0%</td>\n      <td>0%</td>\n      <td>0%</td>\n      <td>10%</td>\n      <td>0%</td>\n      <td>10%</td>\n      <td>0%</td>\n      <td>0%</td>\n      <td>10%</td>\n      <td>0%</td>\n      <td>10%</td>\n      <td>0%</td>\n      <td>10%</td>\n      <td>0%</td>\n      <td>10%</td>\n      <td>0%</td>\n      <td>0%</td>\n    </tr>\n  </tbody>\n</table>\n</div>"
     },
     "metadata": {},
     "output_type": "display_data"
    }
   ],
   "source": [
    "data_pm = pd.read_csv(\"./best_20com_9pm.csv\", header=0, index_col=[0])\n",
    "index = data_pm.index.tolist()\n",
    "print(index)\n",
    "def read_csv(path):\n",
    "    return pd.read_csv(path,index_col=[0,1],header=0)\n",
    "path_percent_list=[\"./combination\"+str(i)+\".csv\" for i in index]\n",
    "df = [read_csv(name) for name in path_percent_list]\n",
    "df = pd.concat(df,axis=1)\n",
    "df.columns = index\n",
    "print(df.columns)\n",
    "print(df)\n",
    "df.to_csv(\"./SSGA_rawdata.csv\",header=True,index=True)\n",
    "\n",
    "def percent(Function, optimal):\n",
    "    dataframe = df.loc[(Function, slice(None)), :]\n",
    "    dataframe = pd.DataFrame(data=dataframe.values,\n",
    "                             columns=dataframe.columns)\n",
    "    percent_dataframe = dataframe.applymap(lambda x: True if ((x-optimal)<=threshold or x<=optimal) else False)\n",
    "    percent_dataframe[\"Function\"] = Function\n",
    "    return percent_dataframe\n",
    "\n",
    "threshold =0.0001\n",
    "opt = [0.0, 0.0, 0.0, 0.0, 0.0, 0.0, 0.0, -418.98 * 50, 0.0, 0.0, 0.0, 0.0, 0.0, 1.0, 0.0003, -1.0316, 0.398, 3.0,\n",
    "       -3.86, -3.32, -10.1532,-10.4028, -10.5363]\n",
    "function_list = [1,2,3,5,6,7,11,12,13,14,15,16,17,18,19,20,21,22,23]\n",
    "percent_df = [percent(Function=\"F\" + str(i), optimal=opt[i - 1]) for i in function_list]\n",
    "percent_df = pd.concat(percent_df, axis=0)\n",
    "percent_df = percent_df.groupby([\"Function\"]).sum().applymap(lambda x: str(x * 10) + \"%\")\n",
    "index = [\"F\" + str(i) for i in function_list]\n",
    "percent_df = percent_df.loc[index]\n",
    "display(percent_df)\n",
    "percent_df.to_csv(\"./SSGA_percent.csv\")"
   ],
   "metadata": {
    "collapsed": false,
    "pycharm": {
     "name": "#%%\n"
    }
   }
  },
  {
   "cell_type": "code",
   "execution_count": 4,
   "outputs": [
    {
     "name": "stderr",
     "output_type": "stream",
     "text": [
      "/var/folders/vb/bhfltf7s0n5dmrcb5r9s80mw0000gn/T/ipykernel_1517/2336809088.py:19: FutureWarning: \n",
      "\n",
      "The `ci` parameter is deprecated. Use `errorbar=('ci', 95)` for the same effect.\n",
      "\n",
      "  ax=sns.barplot(data=dataframe,y=\"Percent\",x=\"Function\",ci=95)\n"
     ]
    },
    {
     "data": {
      "text/plain": "<Figure size 1440x504 with 1 Axes>",
      "image/png": "[encoded data removed]"
     },
     "metadata": {},
     "output_type": "display_data"
    }
   ],
   "source": [
    "from matplotlib import pyplot as plt\n",
    "dataframe = percent_df.copy()\n",
    "dataframe = dataframe.applymap(lambda x:x if not '%' in str(x) else x.replace('%',''))\n",
    "# display(dataframe)\n",
    "import seaborn as sns\n",
    "dataframe = dataframe.stack()\n",
    "# display(dataframe)\n",
    "dataframe = dataframe.rename_axis(index=[\"Function\",\"Combinations\"])\n",
    "dataframe = dataframe.reset_index(level=[0, 1], name=\"Percent\")\n",
    "dataframe[\"Percent\"] = pd.to_numeric(dataframe[\"Percent\"])\n",
    "dataframe = dataframe.reset_index(drop=False)\n",
    "# display(dataframe)\n",
    "function_list = [\"F\" + str(i) for i in range(1, 24, 1)]\n",
    "def show_graph(dataframe):\n",
    "    sns.set_theme(style=\"whitegrid\", palette=\"pastel\",font_scale=1.5)\n",
    "    sns.set_style(\"ticks\",{'axes.grid' : True})\n",
    "    plt.figure(figsize=(20,7))\n",
    "    plt.subplot(1,1,1)\n",
    "    ax=sns.barplot(data=dataframe,y=\"Percent\",x=\"Function\",ci=95)\n",
    "    ax.bar_label(ax.containers[0],label_type='edge')\n",
    "    plt.xlabel(\"SSGA\")\n",
    "    # sns.move_legend(ax, \"upper left\", bbox_to_anchor=(0, 1))\n",
    "    plt.savefig(\"./SSGA_percent.png\", dpi=1200, bbox_inches='tight')\n",
    "    plt.show()\n",
    "show_graph(dataframe=dataframe)"
   ],
   "metadata": {
    "collapsed": false,
    "pycharm": {
     "name": "#%%\n"
    }
   }
  },
  {
   "cell_type": "code",
   "execution_count": 5,
   "outputs": [],
   "source": [
    "# from matplotlib import pyplot as plt\n",
    "# dataframe = df.copy()\n",
    "# dataframe = dataframe.stack()\n",
    "# # display(dataframe)\n",
    "# dataframe = dataframe.rename_axis(index=[\"Function\",\"Times\",\"Combinations\"])\n",
    "# dataframe = dataframe.reset_index(level=[0, 1], name=\"Solutions\")\n",
    "# dataframe[\"Solutions\"] = pd.to_numeric(dataframe[\"Solutions\"])\n",
    "# dataframe = dataframe.reset_index(drop=False)\n",
    "# # display(dataframe)\n",
    "# opt = [0, 0, 0, 0, 0, 0, 0, -20949, 0, 0, 0, 0, 0, 1, 0.0003, -1.0316, 0.398, 3, -3.86, -3.32,-10.1532, -10.4028, -10.5363]\n",
    "# def show_graph(dataframe):\n",
    "#     sns.set_theme(style=\"whitegrid\", palette=\"pastel\",font_scale=1.5)\n",
    "#     dist_cols = 3\n",
    "#     dist_rows = 8\n",
    "#     plt.figure(figsize=(7 * dist_cols, 4 * dist_rows))\n",
    "#     i = 1\n",
    "#     for function in function_list:\n",
    "#         dataf = dataframe[dataframe[\"Function\"] == function]\n",
    "#         plt.subplot(dist_rows, dist_cols, i)\n",
    "#         ax=sns.boxplot(data=dataf, y=\"Solutions\",palette=\"viridis\",x=\"Function\",hue=\"Function\",width=0.2)\n",
    "#         sns.move_legend(ax, \"upper left\", bbox_to_anchor=(0, 1),frameon=False)\n",
    "#         plt.axhline(y=opt[i-1],color=\"red\")\n",
    "#         plt.xlabel(\"\")\n",
    "#         plt.ylabel(\"Solutions\")\n",
    "#         i = i + 1\n",
    "#     plt.savefig(\"./boxplot_SSGA.png\", dpi=1200, bbox_inches='tight')\n",
    "#     plt.show()\n",
    "# show_graph(dataframe=dataframe)"
   ],
   "metadata": {
    "collapsed": false,
    "pycharm": {
     "name": "#%%\n"
    }
   }
  },
  {
   "cell_type": "code",
   "execution_count": 5,
   "outputs": [],
   "source": [],
   "metadata": {
    "collapsed": false,
    "pycharm": {
     "name": "#%%\n"
    }
   }
  }
 ],
 "metadata": {
  "kernelspec": {
   "display_name": "Python 3",
   "language": "python",
   "name": "python3"
  },
  "language_info": {
   "codemirror_mode": {
    "name": "ipython",
    "version": 2
   },
   "file_extension": ".py",
   "mimetype": "text/x-python",
   "name": "python",
   "nbconvert_exporter": "python",
   "pygments_lexer": "ipython2",
   "version": "2.7.6"
  }
 },
 "nbformat": 4,
 "nbformat_minor": 0
}