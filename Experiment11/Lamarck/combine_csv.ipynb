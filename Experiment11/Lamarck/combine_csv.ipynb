{
 "cells": [
  {
   "cell_type": "code",
   "execution_count": 1,
   "metadata": {
    "collapsed": true,
    "pycharm": {
     "name": "#%%\n"
    }
   },
   "outputs": [],
   "source": [
    "import numpy as np\n",
    "import pandas as pd"
   ]
  },
  {
   "cell_type": "code",
   "execution_count": 2,
   "outputs": [
    {
     "name": "stdout",
     "output_type": "stream",
     "text": [
      "[590, 579, 588, 589, 569, 558, 542, 562]\n",
      "Int64Index([590, 579, 588, 589, 569, 558, 542, 562], dtype='int64')\n",
      "             590  579  588  589  569  558  542  562\n",
      "F1  Times1   0.0  0.0  0.0  0.0  0.0  0.0  0.0  0.0\n",
      "    Times2   0.0  0.0  0.0  0.0  0.0  0.0  0.0  0.0\n",
      "    Times3   0.0  0.0  0.0  0.0  0.0  0.0  0.0  0.0\n",
      "    Times4   0.0  0.0  0.0  0.0  0.0  0.0  0.0  0.0\n",
      "    Times5   0.0  0.0  0.0  0.0  0.0  0.0  0.0  0.0\n",
      "...          ...  ...  ...  ...  ...  ...  ...  ...\n",
      "F13 Times16  0.0  0.0  0.0  0.0  0.0  0.0  0.0  0.0\n",
      "    Times17  0.0  0.0  0.0  0.0  0.0  0.0  0.0  0.0\n",
      "    Times18  0.0  0.0  0.0  0.0  0.0  0.0  0.0  0.0\n",
      "    Times19  0.0  0.0  0.0  0.0  0.0  0.0  0.0  0.0\n",
      "    Times20  0.0  0.0  0.0  0.0  0.0  0.0  0.0  0.0\n",
      "\n",
      "[260 rows x 8 columns]\n"
     ]
    }
   ],
   "source": [
    "data_pm = pd.read_csv(\"./best_20com_9pm_inuse.csv\", header=0, index_col=[0])\n",
    "index = data_pm.index.tolist()\n",
    "print(index)\n",
    "def read_csv(path):\n",
    "    return pd.read_csv(path,index_col=[0,1],header=0)\n",
    "path_budget_list=[\"./budget\"+str(i)+\".csv\" for i in index]\n",
    "df = [read_csv(name) for name in path_budget_list]\n",
    "df = pd.concat(df,axis=1)\n",
    "df.columns = index\n",
    "print(df.columns)\n",
    "print(df)\n",
    "# df.to_csv(\"./Lamarck_budget.csv\",header=True,index=True)"
   ],
   "metadata": {
    "collapsed": false,
    "pycharm": {
     "name": "#%%\n"
    }
   }
  },
  {
   "cell_type": "code",
   "execution_count": 3,
   "outputs": [
    {
     "name": "stdout",
     "output_type": "stream",
     "text": [
      "[590, 579, 588, 589, 569, 558, 542, 562]\n",
      "Int64Index([590, 579, 588, 589, 569, 558, 542, 562], dtype='int64')\n",
      "                      590           579            588            589  \\\n",
      "F1  Times1   1.969667e+03  4.366153e+03     472.259063     118.946991   \n",
      "    Times2   2.089774e+03  4.213202e+03     615.173722     106.192495   \n",
      "    Times3   1.702839e+03  4.165967e+03     733.488461      88.908887   \n",
      "    Times4   2.210982e+03  4.490744e+03     679.475200      90.796460   \n",
      "    Times5   1.770653e+03  4.173390e+03     427.028138     110.512826   \n",
      "...                   ...           ...            ...            ...   \n",
      "F13 Times16  1.575145e+06  3.344090e+06  557567.390919  135415.569067   \n",
      "    Times17  2.878678e+06  3.559382e+06  454484.240585   32609.039701   \n",
      "    Times18  1.713619e+06  6.912815e+06  516002.740452   88581.422095   \n",
      "    Times19  1.350619e+06  5.109595e+06  446153.232237  158276.377960   \n",
      "    Times20  2.089561e+06  3.903078e+06  400856.523417   65945.243954   \n",
      "\n",
      "                      569           558           542            562  \n",
      "F1  Times1   7.158246e+03  1.548394e+03  7.670310e+03     525.728453  \n",
      "    Times2   7.504995e+03  1.155097e+03  6.555963e+03     392.246976  \n",
      "    Times3   6.957787e+03  1.353285e+03  7.364897e+03     459.470474  \n",
      "    Times4   6.754464e+03  1.270710e+03  6.781561e+03     405.489918  \n",
      "    Times5   6.833790e+03  1.356079e+03  6.910256e+03     326.078272  \n",
      "...                   ...           ...           ...            ...  \n",
      "F13 Times16  5.923187e+06  8.806599e+05  7.950911e+06  520723.716504  \n",
      "    Times17  6.586379e+06  1.137811e+06  1.299016e+07  290444.652048  \n",
      "    Times18  8.216348e+06  9.296442e+05  6.773666e+06  269825.629588  \n",
      "    Times19  8.190060e+06  8.364056e+05  8.961981e+06  534253.956382  \n",
      "    Times20  7.399712e+06  9.928539e+05  9.023322e+06  402961.996468  \n",
      "\n",
      "[260 rows x 8 columns]\n"
     ]
    },
    {
     "data": {
      "text/plain": "         590 579 588 589 569 558 542 562\nFunction                                \nF1        0%  0%  0%  0%  0%  0%  0%  0%\nF2        0%  0%  0%  0%  0%  0%  0%  0%\nF3        0%  0%  0%  0%  0%  0%  0%  0%\nF4        0%  0%  0%  0%  0%  0%  0%  0%\nF5        0%  0%  0%  0%  0%  0%  0%  0%\nF6        0%  0%  0%  0%  0%  0%  0%  0%\nF7        0%  0%  0%  0%  0%  0%  0%  0%\nF8        0%  0%  0%  0%  0%  0%  0%  0%\nF9        0%  0%  0%  0%  0%  0%  0%  0%\nF10       0%  0%  0%  0%  0%  0%  0%  0%\nF11       0%  0%  0%  0%  0%  0%  0%  0%\nF12       0%  0%  0%  0%  0%  0%  0%  0%\nF13       0%  0%  0%  0%  0%  0%  0%  0%",
      "text/html": "<div>\n<style scoped>\n    .dataframe tbody tr th:only-of-type {\n        vertical-align: middle;\n    }\n\n    .dataframe tbody tr th {\n        vertical-align: top;\n    }\n\n    .dataframe thead th {\n        text-align: right;\n    }\n</style>\n<table border=\"1\" class=\"dataframe\">\n  <thead>\n    <tr style=\"text-align: right;\">\n      <th></th>\n      <th>590</th>\n      <th>579</th>\n      <th>588</th>\n      <th>589</th>\n      <th>569</th>\n      <th>558</th>\n      <th>542</th>\n      <th>562</th>\n    </tr>\n    <tr>\n      <th>Function</th>\n      <th></th>\n      <th></th>\n      <th></th>\n      <th></th>\n      <th></th>\n      <th></th>\n      <th></th>\n      <th></th>\n    </tr>\n  </thead>\n  <tbody>\n    <tr>\n      <th>F1</th>\n      <td>0%</td>\n      <td>0%</td>\n      <td>0%</td>\n      <td>0%</td>\n      <td>0%</td>\n      <td>0%</td>\n      <td>0%</td>\n      <td>0%</td>\n    </tr>\n    <tr>\n      <th>F2</th>\n      <td>0%</td>\n      <td>0%</td>\n      <td>0%</td>\n      <td>0%</td>\n      <td>0%</td>\n      <td>0%</td>\n      <td>0%</td>\n      <td>0%</td>\n    </tr>\n    <tr>\n      <th>F3</th>\n      <td>0%</td>\n      <td>0%</td>\n      <td>0%</td>\n      <td>0%</td>\n      <td>0%</td>\n      <td>0%</td>\n      <td>0%</td>\n      <td>0%</td>\n    </tr>\n    <tr>\n      <th>F4</th>\n      <td>0%</td>\n      <td>0%</td>\n      <td>0%</td>\n      <td>0%</td>\n      <td>0%</td>\n      <td>0%</td>\n      <td>0%</td>\n      <td>0%</td>\n    </tr>\n    <tr>\n      <th>F5</th>\n      <td>0%</td>\n      <td>0%</td>\n      <td>0%</td>\n      <td>0%</td>\n      <td>0%</td>\n      <td>0%</td>\n      <td>0%</td>\n      <td>0%</td>\n    </tr>\n    <tr>\n      <th>F6</th>\n      <td>0%</td>\n      <td>0%</td>\n      <td>0%</td>\n      <td>0%</td>\n      <td>0%</td>\n      <td>0%</td>\n      <td>0%</td>\n      <td>0%</td>\n    </tr>\n    <tr>\n      <th>F7</th>\n      <td>0%</td>\n      <td>0%</td>\n      <td>0%</td>\n      <td>0%</td>\n      <td>0%</td>\n      <td>0%</td>\n      <td>0%</td>\n      <td>0%</td>\n    </tr>\n    <tr>\n      <th>F8</th>\n      <td>0%</td>\n      <td>0%</td>\n      <td>0%</td>\n      <td>0%</td>\n      <td>0%</td>\n      <td>0%</td>\n      <td>0%</td>\n      <td>0%</td>\n    </tr>\n    <tr>\n      <th>F9</th>\n      <td>0%</td>\n      <td>0%</td>\n      <td>0%</td>\n      <td>0%</td>\n      <td>0%</td>\n      <td>0%</td>\n      <td>0%</td>\n      <td>0%</td>\n    </tr>\n    <tr>\n      <th>F10</th>\n      <td>0%</td>\n      <td>0%</td>\n      <td>0%</td>\n      <td>0%</td>\n      <td>0%</td>\n      <td>0%</td>\n      <td>0%</td>\n      <td>0%</td>\n    </tr>\n    <tr>\n      <th>F11</th>\n      <td>0%</td>\n      <td>0%</td>\n      <td>0%</td>\n      <td>0%</td>\n      <td>0%</td>\n      <td>0%</td>\n      <td>0%</td>\n      <td>0%</td>\n    </tr>\n    <tr>\n      <th>F12</th>\n      <td>0%</td>\n      <td>0%</td>\n      <td>0%</td>\n      <td>0%</td>\n      <td>0%</td>\n      <td>0%</td>\n      <td>0%</td>\n      <td>0%</td>\n    </tr>\n    <tr>\n      <th>F13</th>\n      <td>0%</td>\n      <td>0%</td>\n      <td>0%</td>\n      <td>0%</td>\n      <td>0%</td>\n      <td>0%</td>\n      <td>0%</td>\n      <td>0%</td>\n    </tr>\n  </tbody>\n</table>\n</div>"
     },
     "metadata": {},
     "output_type": "display_data"
    }
   ],
   "source": [
    "data_pm = pd.read_csv(\"./best_20com_9pm_inuse.csv\", header=0, index_col=[0])\n",
    "index = data_pm.index.tolist()\n",
    "print(index)\n",
    "def read_csv(path):\n",
    "    return pd.read_csv(path,index_col=[0,1],header=0)\n",
    "path_percent_list=[\"./combination\"+str(i)+\".csv\" for i in index]\n",
    "df = [read_csv(name) for name in path_percent_list]\n",
    "df = pd.concat(df,axis=1)\n",
    "df.columns = index\n",
    "print(df.columns)\n",
    "print(df)\n",
    "df.to_csv(\"./Lamarck_rawdata.csv\",header=True,index=True)\n",
    "\n",
    "def percent(Function, optimal):\n",
    "    dataframe = df.loc[(Function, slice(None)), :]\n",
    "    dataframe = pd.DataFrame(data=dataframe.values,\n",
    "                             columns=dataframe.columns)\n",
    "    percent_dataframe = dataframe.applymap(lambda x: True if ((x-optimal)<=threshold or x<=optimal) else False)\n",
    "    percent_dataframe[\"Function\"] = Function\n",
    "    return percent_dataframe\n",
    "\n",
    "threshold =0.0001\n",
    "opt = [0.0, 0.0, 0.0, 0.0, 0.0, 0.0, 0.0, -418.98 * 400, 0.0, 0.0, 0.0, 0.0, 0.0, 1.0, 0.0003, -1.0316, 0.398, 3.0,\n",
    "       -3.86, -3.32, -10.1532,-10.4028, -10.5363]\n",
    "function_list = [1,2,3,4,5,6,7,8,9,10,11,12,13]\n",
    "percent_df = [percent(Function=\"F\" + str(i), optimal=opt[i - 1]) for i in function_list]\n",
    "percent_df = pd.concat(percent_df, axis=0)\n",
    "percent_df = percent_df.groupby([\"Function\"]).sum().applymap(lambda x: str(x * 5) + \"%\")\n",
    "index = [\"F\" + str(i) for i in function_list]\n",
    "percent_df = percent_df.loc[index]\n",
    "display(percent_df)\n",
    "# percent_df.to_csv(\"./Lamarck_percent.csv\")"
   ],
   "metadata": {
    "collapsed": false,
    "pycharm": {
     "name": "#%%\n"
    }
   }
  },
  {
   "cell_type": "code",
   "execution_count": 4,
   "outputs": [
    {
     "data": {
      "text/plain": "<Figure size 1440x504 with 1 Axes>",
      "image/png": "[encoded data removed]"
     },
     "metadata": {},
     "output_type": "display_data"
    }
   ],
   "source": [
    "from matplotlib import pyplot as plt\n",
    "dataframe = percent_df.copy()\n",
    "dataframe = dataframe.applymap(lambda x:x if not '%' in str(x) else x.replace('%',''))\n",
    "# display(dataframe)\n",
    "import seaborn as sns\n",
    "dataframe = dataframe.stack()\n",
    "# display(dataframe)\n",
    "dataframe = dataframe.rename_axis(index=[\"Function\",\"Combinations\"])\n",
    "dataframe = dataframe.reset_index(level=[0, 1], name=\"Percent\")\n",
    "dataframe[\"Percent\"] = pd.to_numeric(dataframe[\"Percent\"])\n",
    "dataframe = dataframe.reset_index(drop=False)\n",
    "# display(dataframe)\n",
    "function_list = [\"F\" + str(i) for i in range(1, 24, 1)]\n",
    "def show_graph(dataframe):\n",
    "    sns.set_theme(style=\"whitegrid\", palette=\"pastel\",font_scale=1.5)\n",
    "    sns.set_style(\"ticks\",{'axes.grid' : True})\n",
    "    plt.figure(figsize=(20,7))\n",
    "    plt.subplot(1,1,1)\n",
    "    ax=sns.barplot(data=dataframe,y=\"Percent\",x=\"Function\",errorbar=None)\n",
    "    ax.bar_label(ax.containers[0],label_type='edge')\n",
    "    plt.xlabel(\"Lamarck\")\n",
    "    # sns.move_legend(ax, \"upper left\", bbox_to_anchor=(0, 1))\n",
    "    # plt.savefig(\"./Lamarck_percent.png\", dpi=1200, bbox_inches='tight')\n",
    "    plt.show()\n",
    "show_graph(dataframe=dataframe)"
   ],
   "metadata": {
    "collapsed": false,
    "pycharm": {
     "name": "#%%\n"
    }
   }
  },
  {
   "cell_type": "code",
   "execution_count": 4,
   "outputs": [],
   "source": [],
   "metadata": {
    "collapsed": false,
    "pycharm": {
     "name": "#%%\n"
    }
   }
  }
 ],
 "metadata": {
  "kernelspec": {
   "display_name": "Python 3",
   "language": "python",
   "name": "python3"
  },
  "language_info": {
   "codemirror_mode": {
    "name": "ipython",
    "version": 2
   },
   "file_extension": ".py",
   "mimetype": "text/x-python",
   "name": "python",
   "nbconvert_exporter": "python",
   "pygments_lexer": "ipython2",
   "version": "2.7.6"
  }
 },
 "nbformat": 4,
 "nbformat_minor": 0
}