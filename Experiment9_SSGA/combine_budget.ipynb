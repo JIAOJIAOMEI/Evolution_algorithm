{
 "cells": [
  {
   "cell_type": "code",
   "execution_count": 16,
   "metadata": {
    "collapsed": true,
    "pycharm": {
     "name": "#%%\n"
    }
   },
   "outputs": [],
   "source": [
    "import numpy as np\n",
    "import pandas as pd"
   ]
  },
  {
   "cell_type": "code",
   "execution_count": 17,
   "outputs": [
    {
     "name": "stdout",
     "output_type": "stream",
     "text": [
      "[590, 593, 579, 588, 589]\n",
      "Int64Index([590, 593, 579, 588, 589], dtype='int64')\n",
      "                   590        593        579        588        589\n",
      "F1  Times1     15035.0    20042.0    18140.0    15979.0    12405.0\n",
      "    Times2     17349.0    17553.0    16763.0    14706.0    11053.0\n",
      "    Times3     19588.0    19818.0    17536.0    13995.0    13187.0\n",
      "    Times4     17727.0    16810.0    19179.0    15963.0    11961.0\n",
      "    Times5     18097.0    18754.0    19334.0    13621.0    12701.0\n",
      "...                ...        ...        ...        ...        ...\n",
      "F23 Times6      5826.0  1000099.0  1000199.0     6037.0  1000099.0\n",
      "    Times7   1000099.0  1000099.0  1000199.0     1844.0  1000099.0\n",
      "    Times8   1000099.0     6976.0  1000199.0  1000099.0  1000099.0\n",
      "    Times9   1000099.0  1000099.0  1000199.0  1000099.0  1000099.0\n",
      "    Times10  1000099.0     7664.0  1000199.0     7704.0  1000099.0\n",
      "\n",
      "[230 rows x 5 columns]\n"
     ]
    }
   ],
   "source": [
    "data_pm = pd.read_csv(\"./best_20com_9pm.csv\", header=0, index_col=[0])\n",
    "index = data_pm.index.tolist()[:5]\n",
    "print(index)\n",
    "def read_csv(path):\n",
    "    return pd.read_csv(path,index_col=[0,1],header=0)\n",
    "path_list=[\"./budget590.csv\",\"./budget593.csv\",\"./budget579.csv\",\"./budget588.csv\",\"./budget589.csv\"]\n",
    "df = [read_csv(name) for name in path_list]\n",
    "df = pd.concat(df,axis=1)\n",
    "df.columns = index\n",
    "print(df.columns)\n",
    "print(df)"
   ],
   "metadata": {
    "collapsed": false,
    "pycharm": {
     "name": "#%%\n"
    }
   }
  },
  {
   "cell_type": "code",
   "execution_count": 18,
   "outputs": [],
   "source": [
    "df.to_csv(\"./first_5_budget.csv\",header=True,index=True)"
   ],
   "metadata": {
    "collapsed": false,
    "pycharm": {
     "name": "#%%\n"
    }
   }
  },
  {
   "cell_type": "code",
   "execution_count": 19,
   "outputs": [
    {
     "name": "stdout",
     "output_type": "stream",
     "text": [
      "             590  593  579  588  589\n",
      "F1  Times1     1    1    1    1    1\n",
      "    Times2     1    1    1    1    1\n",
      "    Times3     1    1    1    1    1\n",
      "    Times4     1    1    1    1    1\n",
      "    Times5     1    1    1    1    1\n",
      "...          ...  ...  ...  ...  ...\n",
      "F23 Times6     1    0    0    1    0\n",
      "    Times7     0    0    0    1    0\n",
      "    Times8     0    1    0    0    0\n",
      "    Times9     0    0    0    0    0\n",
      "    Times10    0    1    0    1    0\n",
      "\n",
      "[230 rows x 5 columns]\n"
     ]
    }
   ],
   "source": [
    "df = df.applymap(func=lambda x:1 if x <1000000 else 0)\n",
    "print(df)\n",
    "df.to_csv(\"./first_5_budget_bool.csv\",header=True,index=True)"
   ],
   "metadata": {
    "collapsed": false,
    "pycharm": {
     "name": "#%%\n"
    }
   }
  },
  {
   "cell_type": "code",
   "execution_count": 19,
   "outputs": [],
   "source": [],
   "metadata": {
    "collapsed": false,
    "pycharm": {
     "name": "#%%\n"
    }
   }
  }
 ],
 "metadata": {
  "kernelspec": {
   "display_name": "Python 3",
   "language": "python",
   "name": "python3"
  },
  "language_info": {
   "codemirror_mode": {
    "name": "ipython",
    "version": 2
   },
   "file_extension": ".py",
   "mimetype": "text/x-python",
   "name": "python",
   "nbconvert_exporter": "python",
   "pygments_lexer": "ipython2",
   "version": "2.7.6"
  }
 },
 "nbformat": 4,
 "nbformat_minor": 0
}