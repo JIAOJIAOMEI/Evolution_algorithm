{
 "cells": [
  {
   "cell_type": "code",
   "execution_count": 20,
   "metadata": {
    "collapsed": true,
    "pycharm": {
     "name": "#%%\n"
    }
   },
   "outputs": [],
   "source": [
    "import numpy as np\n",
    "import pandas as pd"
   ]
  },
  {
   "cell_type": "code",
   "execution_count": 23,
   "outputs": [
    {
     "name": "stdout",
     "output_type": "stream",
     "text": [
      "[590, 593, 579, 588, 589, 591, 576, 587, 569, 558, 592, 572, 594, 542, 570, 562, 575, 573, 552, 555]\n",
      "Int64Index([590, 593, 579, 588, 589, 591, 576, 587, 569, 558, 592, 572, 594,\n",
      "            542, 570, 562, 575, 573, 552, 555],\n",
      "           dtype='int64')\n",
      "                   590        593        579        588        589        591  \\\n",
      "F1  Times1     15035.0    20042.0    18140.0    15979.0    12405.0    15241.0   \n",
      "    Times2     17349.0    17553.0    16763.0    14706.0    11053.0    12800.0   \n",
      "    Times3     19588.0    19818.0    17536.0    13995.0    13187.0    15520.0   \n",
      "    Times4     17727.0    16810.0    19179.0    15963.0    11961.0    14496.0   \n",
      "    Times5     18097.0    18754.0    19334.0    13621.0    12701.0    14408.0   \n",
      "...                ...        ...        ...        ...        ...        ...   \n",
      "F23 Times6      5826.0  1000099.0  1000199.0     6037.0  1000099.0     1869.0   \n",
      "    Times7   1000099.0  1000099.0  1000199.0     1844.0  1000099.0     4467.0   \n",
      "    Times8   1000099.0     6976.0  1000199.0  1000099.0  1000099.0  1000099.0   \n",
      "    Times9   1000099.0  1000099.0  1000199.0  1000099.0  1000099.0  1000099.0   \n",
      "    Times10  1000099.0     7664.0  1000199.0     7704.0  1000099.0  1000099.0   \n",
      "\n",
      "                   576        587        569        558        592        572  \\\n",
      "F1  Times1     18018.0    17624.0    21841.0    13868.0    12961.0    22516.0   \n",
      "    Times2     20064.0    20157.0    19849.0    15690.0    14456.0    20943.0   \n",
      "    Times3     17578.0    19378.0    22410.0    14144.0    15721.0    24606.0   \n",
      "    Times4     20138.0    17067.0    20637.0    13878.0    12262.0    23317.0   \n",
      "    Times5     17835.0    19274.0    22895.0    14678.0    13276.0    22086.0   \n",
      "...                ...        ...        ...        ...        ...        ...   \n",
      "F23 Times6   1000199.0  1000099.0  1000199.0  1000099.0  1000099.0  1000199.0   \n",
      "    Times7   1000199.0  1000099.0     3203.0     3184.0  1000099.0     3275.0   \n",
      "    Times8   1000199.0  1000099.0     5623.0  1000099.0  1000099.0  1000199.0   \n",
      "    Times9   1000199.0  1000099.0  1000199.0     2014.0  1000099.0  1000199.0   \n",
      "    Times10  1000199.0  1000099.0  1000199.0  1000099.0  1000099.0     2841.0   \n",
      "\n",
      "                   594        542        570        562        575        573  \\\n",
      "F1  Times1     15561.0    24245.0    16444.0    11674.0    19782.0    18156.0   \n",
      "    Times2     14594.0    26138.0    17263.0    12868.0    22784.0    18120.0   \n",
      "    Times3     14119.0    25307.0    17802.0    12608.0    20430.0    19003.0   \n",
      "    Times4     14296.0    24881.0    19138.0    12068.0    20757.0    16888.0   \n",
      "    Times5     16193.0    26568.0    16917.0    12286.0    23151.0    17988.0   \n",
      "...                ...        ...        ...        ...        ...        ...   \n",
      "F23 Times6   1000099.0     3977.0     2849.0  1000099.0  1000199.0  1000199.0   \n",
      "    Times7      7150.0  1000199.0     3898.0  1000099.0  1000199.0  1000199.0   \n",
      "    Times8   1000099.0  1000199.0     2086.0     3186.0  1000199.0  1000199.0   \n",
      "    Times9   1000099.0  1000199.0  1000199.0  1000099.0  1000199.0  1000199.0   \n",
      "    Times10     2694.0  1000199.0  1000199.0  1000099.0  1000199.0  1000199.0   \n",
      "\n",
      "                   552        555  \n",
      "F1  Times1     15171.0    15720.0  \n",
      "    Times2     13507.0    14472.0  \n",
      "    Times3     13668.0    14102.0  \n",
      "    Times4     14256.0    13186.0  \n",
      "    Times5     14144.0    14387.0  \n",
      "...                ...        ...  \n",
      "F23 Times6   1000099.0  1000099.0  \n",
      "    Times7   1000099.0  1000099.0  \n",
      "    Times8   1000099.0  1000099.0  \n",
      "    Times9   1000099.0     3170.0  \n",
      "    Times10  1000099.0  1000099.0  \n",
      "\n",
      "[230 rows x 20 columns]\n"
     ]
    }
   ],
   "source": [
    "data_pm = pd.read_csv(\"./best_20com_9pm.csv\", header=0, index_col=[0])\n",
    "index = data_pm.index.tolist()\n",
    "print(index)\n",
    "def read_csv(path):\n",
    "    return pd.read_csv(path,index_col=[0,1],header=0)\n",
    "path_budget_list=[\"./budget\"+str(i)+\".csv\" for i in index]\n",
    "df = [read_csv(name) for name in path_budget_list]\n",
    "df = pd.concat(df,axis=1)\n",
    "df.columns = index\n",
    "print(df.columns)\n",
    "print(df)\n",
    "df.to_csv(\"./SSGA_budget.csv\",header=True,index=True)"
   ],
   "metadata": {
    "collapsed": false,
    "pycharm": {
     "name": "#%%\n"
    }
   }
  },
  {
   "cell_type": "code",
   "execution_count": 18,
   "outputs": [],
   "source": [],
   "metadata": {
    "collapsed": false,
    "pycharm": {
     "name": "#%%\n"
    }
   }
  },
  {
   "cell_type": "code",
   "execution_count": 19,
   "outputs": [
    {
     "name": "stdout",
     "output_type": "stream",
     "text": [
      "             590  593  579  588  589\n",
      "F1  Times1     1    1    1    1    1\n",
      "    Times2     1    1    1    1    1\n",
      "    Times3     1    1    1    1    1\n",
      "    Times4     1    1    1    1    1\n",
      "    Times5     1    1    1    1    1\n",
      "...          ...  ...  ...  ...  ...\n",
      "F23 Times6     1    0    0    1    0\n",
      "    Times7     0    0    0    1    0\n",
      "    Times8     0    1    0    0    0\n",
      "    Times9     0    0    0    0    0\n",
      "    Times10    0    1    0    1    0\n",
      "\n",
      "[230 rows x 5 columns]\n"
     ]
    }
   ],
   "source": [
    "# df = df.applymap(func=lambda x:1 if x <1000000 else 0)\n",
    "# print(df)\n",
    "# df.to_csv(\"./first_5_budget_bool.csv\",header=True,index=True)"
   ],
   "metadata": {
    "collapsed": false,
    "pycharm": {
     "name": "#%%\n"
    }
   }
  },
  {
   "cell_type": "code",
   "execution_count": 19,
   "outputs": [],
   "source": [],
   "metadata": {
    "collapsed": false,
    "pycharm": {
     "name": "#%%\n"
    }
   }
  }
 ],
 "metadata": {
  "kernelspec": {
   "display_name": "Python 3",
   "language": "python",
   "name": "python3"
  },
  "language_info": {
   "codemirror_mode": {
    "name": "ipython",
    "version": 2
   },
   "file_extension": ".py",
   "mimetype": "text/x-python",
   "name": "python",
   "nbconvert_exporter": "python",
   "pygments_lexer": "ipython2",
   "version": "2.7.6"
  }
 },
 "nbformat": 4,
 "nbformat_minor": 0
}