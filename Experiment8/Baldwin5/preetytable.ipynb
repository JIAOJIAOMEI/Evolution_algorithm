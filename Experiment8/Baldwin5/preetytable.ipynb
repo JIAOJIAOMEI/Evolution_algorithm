{
 "cells": [
  {
   "cell_type": "code",
   "execution_count": 1,
   "metadata": {
    "collapsed": true,
    "pycharm": {
     "name": "#%%\n"
    }
   },
   "outputs": [
    {
     "name": "stdout",
     "output_type": "stream",
     "text": [
      "[590, 593, 579, 588, 589, 591, 576, 587, 569, 558, 592, 572, 594, 542, 570, 562, 575, 573, 552, 555]\n",
      "Int64Index([590, 593, 579, 588, 589, 591, 576, 587, 569, 558, 592, 572, 594,\n",
      "            542, 570, 562, 575, 573, 552, 555],\n",
      "           dtype='int64')\n",
      "                        590        593        579        588        589  \\\n",
      "Function Times                                                            \n",
      "F1       Times1    0.000062   0.000295   0.001297   0.000050   0.000049   \n",
      "         Times2    0.000090   0.000195   0.001574   0.000043   0.000049   \n",
      "         Times3    0.000049   0.000351   0.000841   0.000046   0.000050   \n",
      "         Times4    0.000049   0.000268   0.001696   0.000049   0.000047   \n",
      "         Times5    0.000052   0.000224   0.000902   0.000046   0.000050   \n",
      "...                     ...        ...        ...        ...        ...   \n",
      "F23      Times6  -10.536369 -10.536307  -3.835425 -10.536253 -10.536251   \n",
      "         Times7  -10.536315 -10.536252  -2.871142 -10.536289 -10.536253   \n",
      "         Times8   -5.128481 -10.536262 -10.536326 -10.536312 -10.536378   \n",
      "         Times9  -10.536271 -10.536294 -10.536268 -10.536339 -10.536253   \n",
      "         Times10 -10.536317 -10.536275 -10.536258 -10.536314 -10.536269   \n",
      "\n",
      "                        591        576        587        569        558  \\\n",
      "Function Times                                                            \n",
      "F1       Times1    0.000045   0.000275   0.000045   0.000050   0.000332   \n",
      "         Times2    0.000060   0.000267   0.000050   0.000050   0.000083   \n",
      "         Times3    0.000068   0.000171   0.000048   0.000046   0.000133   \n",
      "         Times4    0.000048   0.000207   0.000048   0.000043   0.000129   \n",
      "         Times5    0.000086   0.000253   0.000048   0.000047   0.000119   \n",
      "...                     ...        ...        ...        ...        ...   \n",
      "F23      Times6  -10.536253 -10.536393 -10.536314  -5.128481  -5.128479   \n",
      "         Times7  -10.536269 -10.535362 -10.536275  -5.128481 -10.536261   \n",
      "         Times8  -10.536290  -5.128480 -10.536318 -10.536256 -10.536387   \n",
      "         Times9  -10.536373  -5.128481 -10.536275 -10.536260 -10.536308   \n",
      "         Times10  -5.128481 -10.536304 -10.536360 -10.536288 -10.536356   \n",
      "\n",
      "                        592        572        594        542        570  \\\n",
      "Function Times                                                            \n",
      "F1       Times1    0.000071   0.000050   0.000249   0.002185   0.000050   \n",
      "         Times2    0.000152   0.000050   0.000244   0.000991   0.000050   \n",
      "         Times3    0.000082   0.000073   0.000126   0.000590   0.000050   \n",
      "         Times4    0.000071   0.000048   0.000168   0.001580   0.000048   \n",
      "         Times5    0.000050   0.000050   0.000195   0.001317   0.000049   \n",
      "...                     ...        ...        ...        ...        ...   \n",
      "F23      Times6  -10.536267 -10.536333 -10.536328  -2.871141 -10.536296   \n",
      "         Times7  -10.536394 -10.536373 -10.536271  -2.871141 -10.536262   \n",
      "         Times8  -10.536331  -5.128481  -5.128479  -5.128475 -10.536268   \n",
      "         Times9  -10.536259 -10.536294 -10.536299  -2.871142 -10.536264   \n",
      "         Times10 -10.536263 -10.536250 -10.536257 -10.536284 -10.536304   \n",
      "\n",
      "                        562        575        573        552        555  \n",
      "Function Times                                                           \n",
      "F1       Times1    0.000905   0.000075   0.000049   0.000049   0.000049  \n",
      "         Times2    0.001113   0.000158   0.000064   0.000049   0.000048  \n",
      "         Times3    0.001483   0.000151   0.000049   0.000049   0.000050  \n",
      "         Times4    0.001210   0.000152   0.000047   0.000048   0.000050  \n",
      "         Times5    0.001522   0.000090   0.000043   0.000050   0.000048  \n",
      "...                     ...        ...        ...        ...        ...  \n",
      "F23      Times6   -3.470537 -10.536316 -10.536311 -10.536277 -10.536269  \n",
      "         Times7   -3.835425 -10.536287 -10.536266 -10.536275 -10.536339  \n",
      "         Times8  -10.536285 -10.536303 -10.536313  -5.128481 -10.536263  \n",
      "         Times9   -3.471398 -10.536380 -10.536274  -5.128481 -10.536266  \n",
      "         Times10 -10.536289 -10.536344  -5.128481 -10.536344 -10.536335  \n",
      "\n",
      "[230 rows x 20 columns]\n"
     ]
    }
   ],
   "source": [
    "import pandas as pd\n",
    "from parameter_combination import read_file\n",
    "com_df = pd.read_csv(\"./best_20_pm.csv\",\n",
    "                         index_col=[0],\n",
    "                         header=0)\n",
    "com_df[\"num_phenotypes\"] = 5\n",
    "index = com_df.index.tolist()\n",
    "sheet_name = [i for i in index]\n",
    "print(index)\n",
    "def read_csv(path):\n",
    "    return pd.read_csv(path,index_col=[0,1],header=0)\n",
    "path_list=[\"./Baldwin01.csv\",\"./Baldwin23.csv\",\"./Baldwin45.csv\",\"./Baldwin67.csv\",\"./Baldwin89.csv\",\n",
    "           \"./Baldwin1011.csv\",\"./Baldwin1213.csv\",\"./Baldwin1415.csv\",\"./Baldwin1617.csv\",\"./Baldwin1819.csv\"]\n",
    "df = [read_csv(name) for name in path_list]\n",
    "df = pd.concat(df,axis=1)\n",
    "df.columns = index\n",
    "print(df.columns)\n",
    "print(df)\n",
    "df.to_csv(\"./Baldwin_multi1_rawdata.csv\",header=True,index=True)"
   ]
  },
  {
   "cell_type": "code",
   "execution_count": 2,
   "outputs": [],
   "source": [
    "def percent(Function, optimal):\n",
    "    dataframe = df.loc[(Function, slice(None)), :]\n",
    "    if Function in [\"F1\", \"F2\", \"F3\", \"F4\", \"F5\", \"F6\", \"F7\", \"F9\", \"F10\", \"F11\", \"F12\", \"F13\", \"F14\", \"F18\"]:\n",
    "        dataframe = dataframe.round(1)\n",
    "    elif Function in [\"F17\"]:\n",
    "        dataframe = dataframe.round(3)\n",
    "    elif Function in [\"F19\", \"F20\"]:\n",
    "        dataframe = dataframe.round(2)\n",
    "    elif Function in [\"F8\", \"F15\", \"F16\", \"F21\", \"F22\", \"F23\"]:\n",
    "        dataframe = dataframe.round(4)\n",
    "\n",
    "    dataframe = pd.DataFrame(data=dataframe.values,\n",
    "                             columns=dataframe.columns)\n",
    "    percent_dataframe = dataframe.applymap(lambda x: True if x == optimal else False)\n",
    "    percent_dataframe[\"Function\"] = Function\n",
    "    return percent_dataframe"
   ],
   "metadata": {
    "collapsed": false,
    "pycharm": {
     "name": "#%%\n"
    }
   }
  },
  {
   "cell_type": "code",
   "execution_count": 3,
   "outputs": [
    {
     "data": {
      "text/plain": "           590   593   579   588   589   591   576   587   569   558   592  \\\nFunction                                                                     \nF1        100%  100%  100%  100%  100%  100%  100%  100%  100%  100%  100%   \nF2        100%    0%    0%  100%  100%  100%    0%  100%  100%   10%   90%   \nF3        100%  100%   10%  100%  100%  100%  100%  100%  100%  100%  100%   \nF4          0%    0%    0%    0%    0%    0%    0%   10%    0%    0%    0%   \nF5          0%    0%    0%    0%    0%    0%    0%    0%    0%    0%    0%   \nF6        100%  100%  100%  100%  100%  100%  100%  100%  100%  100%  100%   \nF7          0%    0%    0%    0%    0%    0%    0%    0%    0%    0%    0%   \nF8          0%    0%    0%    0%    0%    0%    0%    0%    0%    0%    0%   \nF9        100%   40%    0%  100%  100%  100%   50%  100%  100%  100%  100%   \nF10       100%  100%  100%  100%  100%  100%  100%  100%  100%  100%  100%   \nF11       100%  100%  100%  100%  100%  100%  100%  100%  100%  100%  100%   \nF12       100%  100%  100%  100%  100%  100%  100%  100%  100%  100%  100%   \nF13       100%  100%  100%  100%  100%  100%  100%  100%  100%  100%  100%   \nF14        90%  100%  100%   30%   50%   60%  100%   50%   70%  100%   50%   \nF15        30%    0%    0%   40%   80%   20%    0%   90%   70%   10%   20%   \nF16       100%   70%  100%  100%  100%  100%  100%  100%  100%  100%  100%   \nF17       100%  100%  100%  100%  100%  100%  100%  100%  100%  100%  100%   \nF18       100%  100%  100%  100%  100%  100%  100%  100%  100%  100%  100%   \nF19         0%    0%    0%    0%    0%    0%    0%    0%    0%    0%    0%   \nF20        10%   10%   10%   20%   20%   30%   30%   10%   20%   20%   10%   \nF21        80%   50%   50%   50%   80%   90%   80%   80%   80%   60%   70%   \nF22        60%   70%   10%   50%   70%   60%   70%   50%   80%   60%   70%   \nF23        70%   90%   40%  100%   50%   70%   50%   70%   80%   60%   80%   \n\n           572   594   542   570   562   575   573   552   555  \nFunction                                                        \nF1        100%  100%  100%  100%  100%  100%  100%  100%  100%  \nF2        100%    0%    0%  100%    0%   10%  100%  100%  100%  \nF3        100%  100%   10%  100%   20%  100%  100%  100%  100%  \nF4          0%    0%    0%    0%    0%    0%    0%    0%    0%  \nF5          0%    0%    0%    0%    0%    0%    0%    0%    0%  \nF6        100%  100%  100%  100%  100%  100%  100%  100%  100%  \nF7          0%    0%    0%    0%    0%    0%    0%    0%    0%  \nF8          0%    0%    0%    0%    0%    0%    0%    0%    0%  \nF9        100%   50%    0%  100%    0%   80%  100%  100%  100%  \nF10       100%  100%  100%  100%  100%  100%  100%  100%  100%  \nF11       100%  100%  100%  100%  100%  100%  100%  100%  100%  \nF12       100%  100%  100%  100%  100%  100%  100%  100%  100%  \nF13       100%  100%  100%  100%  100%  100%  100%  100%  100%  \nF14        90%  100%  100%   70%  100%  100%   80%   60%   50%  \nF15        10%   10%    0%   40%    0%    0%   10%   40%   30%  \nF16       100%   70%  100%  100%  100%  100%  100%  100%  100%  \nF17       100%  100%  100%  100%  100%  100%  100%  100%  100%  \nF18       100%  100%  100%  100%  100%  100%  100%  100%  100%  \nF19         0%    0%    0%    0%    0%    0%    0%    0%    0%  \nF20         0%   30%   30%   30%   40%   20%   30%   20%   20%  \nF21        50%   60%   40%   80%   20%   30%   80%   50%   70%  \nF22        70%   60%   30%   70%   30%   30%   70%   70%   60%  \nF23        60%   70%   30%   90%   40%   90%   60%   60%   90%  ",
      "text/html": "<div>\n<style scoped>\n    .dataframe tbody tr th:only-of-type {\n        vertical-align: middle;\n    }\n\n    .dataframe tbody tr th {\n        vertical-align: top;\n    }\n\n    .dataframe thead th {\n        text-align: right;\n    }\n</style>\n<table border=\"1\" class=\"dataframe\">\n  <thead>\n    <tr style=\"text-align: right;\">\n      <th></th>\n      <th>590</th>\n      <th>593</th>\n      <th>579</th>\n      <th>588</th>\n      <th>589</th>\n      <th>591</th>\n      <th>576</th>\n      <th>587</th>\n      <th>569</th>\n      <th>558</th>\n      <th>592</th>\n      <th>572</th>\n      <th>594</th>\n      <th>542</th>\n      <th>570</th>\n      <th>562</th>\n      <th>575</th>\n      <th>573</th>\n      <th>552</th>\n      <th>555</th>\n    </tr>\n    <tr>\n      <th>Function</th>\n      <th></th>\n      <th></th>\n      <th></th>\n      <th></th>\n      <th></th>\n      <th></th>\n      <th></th>\n      <th></th>\n      <th></th>\n      <th></th>\n      <th></th>\n      <th></th>\n      <th></th>\n      <th></th>\n      <th></th>\n      <th></th>\n      <th></th>\n      <th></th>\n      <th></th>\n      <th></th>\n    </tr>\n  </thead>\n  <tbody>\n    <tr>\n      <th>F1</th>\n      <td>100%</td>\n      <td>100%</td>\n      <td>100%</td>\n      <td>100%</td>\n      <td>100%</td>\n      <td>100%</td>\n      <td>100%</td>\n      <td>100%</td>\n      <td>100%</td>\n      <td>100%</td>\n      <td>100%</td>\n      <td>100%</td>\n      <td>100%</td>\n      <td>100%</td>\n      <td>100%</td>\n      <td>100%</td>\n      <td>100%</td>\n      <td>100%</td>\n      <td>100%</td>\n      <td>100%</td>\n    </tr>\n    <tr>\n      <th>F2</th>\n      <td>100%</td>\n      <td>0%</td>\n      <td>0%</td>\n      <td>100%</td>\n      <td>100%</td>\n      <td>100%</td>\n      <td>0%</td>\n      <td>100%</td>\n      <td>100%</td>\n      <td>10%</td>\n      <td>90%</td>\n      <td>100%</td>\n      <td>0%</td>\n      <td>0%</td>\n      <td>100%</td>\n      <td>0%</td>\n      <td>10%</td>\n      <td>100%</td>\n      <td>100%</td>\n      <td>100%</td>\n    </tr>\n    <tr>\n      <th>F3</th>\n      <td>100%</td>\n      <td>100%</td>\n      <td>10%</td>\n      <td>100%</td>\n      <td>100%</td>\n      <td>100%</td>\n      <td>100%</td>\n      <td>100%</td>\n      <td>100%</td>\n      <td>100%</td>\n      <td>100%</td>\n      <td>100%</td>\n      <td>100%</td>\n      <td>10%</td>\n      <td>100%</td>\n      <td>20%</td>\n      <td>100%</td>\n      <td>100%</td>\n      <td>100%</td>\n      <td>100%</td>\n    </tr>\n    <tr>\n      <th>F4</th>\n      <td>0%</td>\n      <td>0%</td>\n      <td>0%</td>\n      <td>0%</td>\n      <td>0%</td>\n      <td>0%</td>\n      <td>0%</td>\n      <td>10%</td>\n      <td>0%</td>\n      <td>0%</td>\n      <td>0%</td>\n      <td>0%</td>\n      <td>0%</td>\n      <td>0%</td>\n      <td>0%</td>\n      <td>0%</td>\n      <td>0%</td>\n      <td>0%</td>\n      <td>0%</td>\n      <td>0%</td>\n    </tr>\n    <tr>\n      <th>F5</th>\n      <td>0%</td>\n      <td>0%</td>\n      <td>0%</td>\n      <td>0%</td>\n      <td>0%</td>\n      <td>0%</td>\n      <td>0%</td>\n      <td>0%</td>\n      <td>0%</td>\n      <td>0%</td>\n      <td>0%</td>\n      <td>0%</td>\n      <td>0%</td>\n      <td>0%</td>\n      <td>0%</td>\n      <td>0%</td>\n      <td>0%</td>\n      <td>0%</td>\n      <td>0%</td>\n      <td>0%</td>\n    </tr>\n    <tr>\n      <th>F6</th>\n      <td>100%</td>\n      <td>100%</td>\n      <td>100%</td>\n      <td>100%</td>\n      <td>100%</td>\n      <td>100%</td>\n      <td>100%</td>\n      <td>100%</td>\n      <td>100%</td>\n      <td>100%</td>\n      <td>100%</td>\n      <td>100%</td>\n      <td>100%</td>\n      <td>100%</td>\n      <td>100%</td>\n      <td>100%</td>\n      <td>100%</td>\n      <td>100%</td>\n      <td>100%</td>\n      <td>100%</td>\n    </tr>\n    <tr>\n      <th>F7</th>\n      <td>0%</td>\n      <td>0%</td>\n      <td>0%</td>\n      <td>0%</td>\n      <td>0%</td>\n      <td>0%</td>\n      <td>0%</td>\n      <td>0%</td>\n      <td>0%</td>\n      <td>0%</td>\n      <td>0%</td>\n      <td>0%</td>\n      <td>0%</td>\n      <td>0%</td>\n      <td>0%</td>\n      <td>0%</td>\n      <td>0%</td>\n      <td>0%</td>\n      <td>0%</td>\n      <td>0%</td>\n    </tr>\n    <tr>\n      <th>F8</th>\n      <td>0%</td>\n      <td>0%</td>\n      <td>0%</td>\n      <td>0%</td>\n      <td>0%</td>\n      <td>0%</td>\n      <td>0%</td>\n      <td>0%</td>\n      <td>0%</td>\n      <td>0%</td>\n      <td>0%</td>\n      <td>0%</td>\n      <td>0%</td>\n      <td>0%</td>\n      <td>0%</td>\n      <td>0%</td>\n      <td>0%</td>\n      <td>0%</td>\n      <td>0%</td>\n      <td>0%</td>\n    </tr>\n    <tr>\n      <th>F9</th>\n      <td>100%</td>\n      <td>40%</td>\n      <td>0%</td>\n      <td>100%</td>\n      <td>100%</td>\n      <td>100%</td>\n      <td>50%</td>\n      <td>100%</td>\n      <td>100%</td>\n      <td>100%</td>\n      <td>100%</td>\n      <td>100%</td>\n      <td>50%</td>\n      <td>0%</td>\n      <td>100%</td>\n      <td>0%</td>\n      <td>80%</td>\n      <td>100%</td>\n      <td>100%</td>\n      <td>100%</td>\n    </tr>\n    <tr>\n      <th>F10</th>\n      <td>100%</td>\n      <td>100%</td>\n      <td>100%</td>\n      <td>100%</td>\n      <td>100%</td>\n      <td>100%</td>\n      <td>100%</td>\n      <td>100%</td>\n      <td>100%</td>\n      <td>100%</td>\n      <td>100%</td>\n      <td>100%</td>\n      <td>100%</td>\n      <td>100%</td>\n      <td>100%</td>\n      <td>100%</td>\n      <td>100%</td>\n      <td>100%</td>\n      <td>100%</td>\n      <td>100%</td>\n    </tr>\n    <tr>\n      <th>F11</th>\n      <td>100%</td>\n      <td>100%</td>\n      <td>100%</td>\n      <td>100%</td>\n      <td>100%</td>\n      <td>100%</td>\n      <td>100%</td>\n      <td>100%</td>\n      <td>100%</td>\n      <td>100%</td>\n      <td>100%</td>\n      <td>100%</td>\n      <td>100%</td>\n      <td>100%</td>\n      <td>100%</td>\n      <td>100%</td>\n      <td>100%</td>\n      <td>100%</td>\n      <td>100%</td>\n      <td>100%</td>\n    </tr>\n    <tr>\n      <th>F12</th>\n      <td>100%</td>\n      <td>100%</td>\n      <td>100%</td>\n      <td>100%</td>\n      <td>100%</td>\n      <td>100%</td>\n      <td>100%</td>\n      <td>100%</td>\n      <td>100%</td>\n      <td>100%</td>\n      <td>100%</td>\n      <td>100%</td>\n      <td>100%</td>\n      <td>100%</td>\n      <td>100%</td>\n      <td>100%</td>\n      <td>100%</td>\n      <td>100%</td>\n      <td>100%</td>\n      <td>100%</td>\n    </tr>\n    <tr>\n      <th>F13</th>\n      <td>100%</td>\n      <td>100%</td>\n      <td>100%</td>\n      <td>100%</td>\n      <td>100%</td>\n      <td>100%</td>\n      <td>100%</td>\n      <td>100%</td>\n      <td>100%</td>\n      <td>100%</td>\n      <td>100%</td>\n      <td>100%</td>\n      <td>100%</td>\n      <td>100%</td>\n      <td>100%</td>\n      <td>100%</td>\n      <td>100%</td>\n      <td>100%</td>\n      <td>100%</td>\n      <td>100%</td>\n    </tr>\n    <tr>\n      <th>F14</th>\n      <td>90%</td>\n      <td>100%</td>\n      <td>100%</td>\n      <td>30%</td>\n      <td>50%</td>\n      <td>60%</td>\n      <td>100%</td>\n      <td>50%</td>\n      <td>70%</td>\n      <td>100%</td>\n      <td>50%</td>\n      <td>90%</td>\n      <td>100%</td>\n      <td>100%</td>\n      <td>70%</td>\n      <td>100%</td>\n      <td>100%</td>\n      <td>80%</td>\n      <td>60%</td>\n      <td>50%</td>\n    </tr>\n    <tr>\n      <th>F15</th>\n      <td>30%</td>\n      <td>0%</td>\n      <td>0%</td>\n      <td>40%</td>\n      <td>80%</td>\n      <td>20%</td>\n      <td>0%</td>\n      <td>90%</td>\n      <td>70%</td>\n      <td>10%</td>\n      <td>20%</td>\n      <td>10%</td>\n      <td>10%</td>\n      <td>0%</td>\n      <td>40%</td>\n      <td>0%</td>\n      <td>0%</td>\n      <td>10%</td>\n      <td>40%</td>\n      <td>30%</td>\n    </tr>\n    <tr>\n      <th>F16</th>\n      <td>100%</td>\n      <td>70%</td>\n      <td>100%</td>\n      <td>100%</td>\n      <td>100%</td>\n      <td>100%</td>\n      <td>100%</td>\n      <td>100%</td>\n      <td>100%</td>\n      <td>100%</td>\n      <td>100%</td>\n      <td>100%</td>\n      <td>70%</td>\n      <td>100%</td>\n      <td>100%</td>\n      <td>100%</td>\n      <td>100%</td>\n      <td>100%</td>\n      <td>100%</td>\n      <td>100%</td>\n    </tr>\n    <tr>\n      <th>F17</th>\n      <td>100%</td>\n      <td>100%</td>\n      <td>100%</td>\n      <td>100%</td>\n      <td>100%</td>\n      <td>100%</td>\n      <td>100%</td>\n      <td>100%</td>\n      <td>100%</td>\n      <td>100%</td>\n      <td>100%</td>\n      <td>100%</td>\n      <td>100%</td>\n      <td>100%</td>\n      <td>100%</td>\n      <td>100%</td>\n      <td>100%</td>\n      <td>100%</td>\n      <td>100%</td>\n      <td>100%</td>\n    </tr>\n    <tr>\n      <th>F18</th>\n      <td>100%</td>\n      <td>100%</td>\n      <td>100%</td>\n      <td>100%</td>\n      <td>100%</td>\n      <td>100%</td>\n      <td>100%</td>\n      <td>100%</td>\n      <td>100%</td>\n      <td>100%</td>\n      <td>100%</td>\n      <td>100%</td>\n      <td>100%</td>\n      <td>100%</td>\n      <td>100%</td>\n      <td>100%</td>\n      <td>100%</td>\n      <td>100%</td>\n      <td>100%</td>\n      <td>100%</td>\n    </tr>\n    <tr>\n      <th>F19</th>\n      <td>0%</td>\n      <td>0%</td>\n      <td>0%</td>\n      <td>0%</td>\n      <td>0%</td>\n      <td>0%</td>\n      <td>0%</td>\n      <td>0%</td>\n      <td>0%</td>\n      <td>0%</td>\n      <td>0%</td>\n      <td>0%</td>\n      <td>0%</td>\n      <td>0%</td>\n      <td>0%</td>\n      <td>0%</td>\n      <td>0%</td>\n      <td>0%</td>\n      <td>0%</td>\n      <td>0%</td>\n    </tr>\n    <tr>\n      <th>F20</th>\n      <td>10%</td>\n      <td>10%</td>\n      <td>10%</td>\n      <td>20%</td>\n      <td>20%</td>\n      <td>30%</td>\n      <td>30%</td>\n      <td>10%</td>\n      <td>20%</td>\n      <td>20%</td>\n      <td>10%</td>\n      <td>0%</td>\n      <td>30%</td>\n      <td>30%</td>\n      <td>30%</td>\n      <td>40%</td>\n      <td>20%</td>\n      <td>30%</td>\n      <td>20%</td>\n      <td>20%</td>\n    </tr>\n    <tr>\n      <th>F21</th>\n      <td>80%</td>\n      <td>50%</td>\n      <td>50%</td>\n      <td>50%</td>\n      <td>80%</td>\n      <td>90%</td>\n      <td>80%</td>\n      <td>80%</td>\n      <td>80%</td>\n      <td>60%</td>\n      <td>70%</td>\n      <td>50%</td>\n      <td>60%</td>\n      <td>40%</td>\n      <td>80%</td>\n      <td>20%</td>\n      <td>30%</td>\n      <td>80%</td>\n      <td>50%</td>\n      <td>70%</td>\n    </tr>\n    <tr>\n      <th>F22</th>\n      <td>60%</td>\n      <td>70%</td>\n      <td>10%</td>\n      <td>50%</td>\n      <td>70%</td>\n      <td>60%</td>\n      <td>70%</td>\n      <td>50%</td>\n      <td>80%</td>\n      <td>60%</td>\n      <td>70%</td>\n      <td>70%</td>\n      <td>60%</td>\n      <td>30%</td>\n      <td>70%</td>\n      <td>30%</td>\n      <td>30%</td>\n      <td>70%</td>\n      <td>70%</td>\n      <td>60%</td>\n    </tr>\n    <tr>\n      <th>F23</th>\n      <td>70%</td>\n      <td>90%</td>\n      <td>40%</td>\n      <td>100%</td>\n      <td>50%</td>\n      <td>70%</td>\n      <td>50%</td>\n      <td>70%</td>\n      <td>80%</td>\n      <td>60%</td>\n      <td>80%</td>\n      <td>60%</td>\n      <td>70%</td>\n      <td>30%</td>\n      <td>90%</td>\n      <td>40%</td>\n      <td>90%</td>\n      <td>60%</td>\n      <td>60%</td>\n      <td>90%</td>\n    </tr>\n  </tbody>\n</table>\n</div>"
     },
     "metadata": {},
     "output_type": "display_data"
    }
   ],
   "source": [
    "import numpy as np\n",
    "opt = [0.0, 0.0, 0.0, 0.0, 0.0, 0.0, 0.0, -418.98 * 50, 0.0, 0.0, 0.0, 0.0, 0.0, 1.0, 0.00030, -1.0316, 0.398, 3.0,\n",
    "       -3.86, -3.32, -10.1532,\n",
    "       -10.4028, -10.5363]\n",
    "function_list = np.arange(1, 24, 1)\n",
    "# function_list = [2, 4, 5, 7, 8, 9, 10, 11, 13, 14, 15, 21, 22]\n",
    "percent_df = [percent(Function=\"F\" + str(i), optimal=opt[i - 1]) for i in function_list]\n",
    "percent_df = pd.concat(percent_df, axis=0)\n",
    "percent_df = percent_df.groupby([\"Function\"]).sum().applymap(lambda x: str(x * 10) + \"%\")\n",
    "index = [\"F\" + str(i) for i in function_list]\n",
    "percent_df = percent_df.loc[index]\n",
    "display(percent_df)\n",
    "percent_df.to_csv(\"./Baldwin_multi1_percent_f1_f23_1000000_50d.csv\")"
   ],
   "metadata": {
    "collapsed": false,
    "pycharm": {
     "name": "#%%\n"
    }
   }
  },
  {
   "cell_type": "code",
   "execution_count": 3,
   "outputs": [],
   "source": [],
   "metadata": {
    "collapsed": false,
    "pycharm": {
     "name": "#%%\n"
    }
   }
  }
 ],
 "metadata": {
  "kernelspec": {
   "display_name": "Python 3",
   "language": "python",
   "name": "python3"
  },
  "language_info": {
   "codemirror_mode": {
    "name": "ipython",
    "version": 2
   },
   "file_extension": ".py",
   "mimetype": "text/x-python",
   "name": "python",
   "nbconvert_exporter": "python",
   "pygments_lexer": "ipython2",
   "version": "2.7.6"
  }
 },
 "nbformat": 4,
 "nbformat_minor": 0
}